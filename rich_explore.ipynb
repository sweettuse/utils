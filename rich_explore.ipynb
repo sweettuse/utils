{
 "cells": [
  {
   "cell_type": "code",
   "execution_count": 2,
   "id": "f7edc5b8",
   "metadata": {},
   "outputs": [],
   "source": [
    "from rich import print, box, inspect\n",
    "from rich.console import Console, ConsoleOptions, Group, RenderableType, RenderResult\n",
    "from rich.style import Style\n",
    "from functools import partial\n",
    "\n",
    "help_orig = help\n",
    "help = partial(inspect, methods=True, help=True)\n",
    "from utils.core import *"
   ]
  },
  {
   "cell_type": "markdown",
   "id": "15971be1",
   "metadata": {},
   "source": [
    "---\n",
    "### [Console](https://rich.readthedocs.io/en/stable/console.html)\n",
    "---"
   ]
  },
  {
   "cell_type": "code",
   "execution_count": null,
   "id": "b7e7b16c",
   "metadata": {},
   "outputs": [],
   "source": []
  },
  {
   "cell_type": "code",
   "execution_count": 3,
   "id": "7a82cf20",
   "metadata": {},
   "outputs": [],
   "source": [
    "c = Console()"
   ]
  },
  {
   "cell_type": "code",
   "execution_count": 4,
   "id": "f336e974",
   "metadata": {},
   "outputs": [
    {
     "data": {
      "text/html": [
       "<pre style=\"white-space:pre;overflow-x:auto;line-height:normal;font-family:Menlo,'DejaVu Sans Mono',consolas,'Courier New',monospace\"><span style=\"color: #c0c0c0; text-decoration-color: #c0c0c0; background-color: #000080\">hello world</span>\n",
       "</pre>\n"
      ],
      "text/plain": [
       "\u001b[37;44mhello world\u001b[0m\n"
      ]
     },
     "metadata": {},
     "output_type": "display_data"
    }
   ],
   "source": [
    "c.print('[white on blue]hello world')"
   ]
  },
  {
   "cell_type": "code",
   "execution_count": 5,
   "id": "60e0c81e",
   "metadata": {},
   "outputs": [
    {
     "data": {
      "text/html": [
       "<pre style=\"white-space:pre;overflow-x:auto;line-height:normal;font-family:Menlo,'DejaVu Sans Mono',consolas,'Courier New',monospace\"><span style=\"color: #7fbfbf; text-decoration-color: #7fbfbf\">[22:11:31] </span>log time                                                           <a href=\"file:///var/folders/wf/cc_l12j97vl5mhxy8wxn69p40000gn/T/ipykernel_60786/3351358752.py\"><span style=\"color: #7f7f7f; text-decoration-color: #7f7f7f\">3351358752.py</span></a><span style=\"color: #7f7f7f; text-decoration-color: #7f7f7f\">:</span><a href=\"file:///var/folders/wf/cc_l12j97vl5mhxy8wxn69p40000gn/T/ipykernel_60786/3351358752.py#1\"><span style=\"color: #7f7f7f; text-decoration-color: #7f7f7f\">1</span></a>\n",
       "</pre>\n"
      ],
      "text/plain": [
       "\u001b[2;36m[22:11:31]\u001b[0m\u001b[2;36m \u001b[0mlog time                                                           \u001b]8;id=258796;file:///var/folders/wf/cc_l12j97vl5mhxy8wxn69p40000gn/T/ipykernel_60786/3351358752.py\u001b\\\u001b[2m3351358752.py\u001b[0m\u001b]8;;\u001b\\\u001b[2m:\u001b[0m\u001b]8;id=534637;file:///var/folders/wf/cc_l12j97vl5mhxy8wxn69p40000gn/T/ipykernel_60786/3351358752.py#1\u001b\\\u001b[2m1\u001b[0m\u001b]8;;\u001b\\\n"
      ]
     },
     "metadata": {},
     "output_type": "display_data"
    }
   ],
   "source": [
    "c.log('log time')"
   ]
  },
  {
   "cell_type": "code",
   "execution_count": 6,
   "id": "987d59c5",
   "metadata": {},
   "outputs": [
    {
     "data": {
      "text/html": [
       "<pre style=\"white-space:pre;overflow-x:auto;line-height:normal;font-family:Menlo,'DejaVu Sans Mono',consolas,'Courier New',monospace\"><span style=\"font-weight: bold\">{</span>\n",
       "  <span style=\"color: #000080; text-decoration-color: #000080; font-weight: bold\">\"a\"</span>: <span style=\"color: #008000; text-decoration-color: #008000\">\"blue\"</span>\n",
       "<span style=\"font-weight: bold\">}</span>\n",
       "</pre>\n"
      ],
      "text/plain": [
       "\u001b[1m{\u001b[0m\n",
       "  \u001b[1;34m\"a\"\u001b[0m: \u001b[32m\"blue\"\u001b[0m\n",
       "\u001b[1m}\u001b[0m\n"
      ]
     },
     "metadata": {},
     "output_type": "display_data"
    }
   ],
   "source": [
    "c.print_json('{\"a\": \"blue\"}')"
   ]
  },
  {
   "cell_type": "code",
   "execution_count": 7,
   "id": "f2684e35",
   "metadata": {},
   "outputs": [
    {
     "data": {
      "text/html": [
       "<pre style=\"white-space:pre;overflow-x:auto;line-height:normal;font-family:Menlo,'DejaVu Sans Mono',consolas,'Courier New',monospace\"><span style=\"font-weight: bold\">{</span><span style=\"color: #008000; text-decoration-color: #008000\">'a'</span>: <span style=\"color: #008000; text-decoration-color: #008000\">'blue'</span><span style=\"font-weight: bold\">}</span>\n",
       "</pre>\n"
      ],
      "text/plain": [
       "\u001b[1m{\u001b[0m\u001b[32m'a'\u001b[0m: \u001b[32m'blue'\u001b[0m\u001b[1m}\u001b[0m\n"
      ]
     },
     "metadata": {},
     "output_type": "display_data"
    }
   ],
   "source": [
    "c.print(dict(a='blue'))"
   ]
  },
  {
   "cell_type": "code",
   "execution_count": 8,
   "id": "d3f1f479",
   "metadata": {},
   "outputs": [
    {
     "data": {
      "text/html": [
       "<pre style=\"white-space:pre;overflow-x:auto;line-height:normal;font-family:Menlo,'DejaVu Sans Mono',consolas,'Courier New',monospace\"><span style=\"color: #00ff00; text-decoration-color: #00ff00\">───────────────────────────────────── </span><span style=\"color: #af00ff; text-decoration-color: #af00ff\">new section time</span><span style=\"color: #00ff00; text-decoration-color: #00ff00\"> ──────────────────────────────────────</span>\n",
       "</pre>\n"
      ],
      "text/plain": [
       "\u001b[92m───────────────────────────────────── \u001b[0m\u001b[38;5;129mnew section time\u001b[0m\u001b[92m ──────────────────────────────────────\u001b[0m\n"
      ]
     },
     "metadata": {},
     "output_type": "display_data"
    }
   ],
   "source": [
    "c.rule('[purple]new section time')"
   ]
  },
  {
   "cell_type": "code",
   "execution_count": 9,
   "id": "634ffef7",
   "metadata": {},
   "outputs": [
    {
     "data": {
      "text/html": [
       "<pre style=\"white-space:pre;overflow-x:auto;line-height:normal;font-family:Menlo,'DejaVu Sans Mono',consolas,'Courier New',monospace\"><span style=\"color: #800000; text-decoration-color: #800000; background-color: #808000\">─────────────────────────────────────── </span><span style=\"color: #808000; text-decoration-color: #808000; background-color: #800000\">i'm lovin' it</span><span style=\"color: #800000; text-decoration-color: #800000; background-color: #808000\"> ───────────────────────────────────────</span>\n",
       "</pre>\n"
      ],
      "text/plain": [
       "\u001b[31;43m─────────────────────────────────────── \u001b[0m\u001b[33;41mi'm lovin' it\u001b[0m\u001b[31;43m ───────────────────────────────────────\u001b[0m\n"
      ]
     },
     "metadata": {},
     "output_type": "display_data"
    }
   ],
   "source": [
    "c.rule(\"[yellow on red]i'm lovin' it\", style=Style(color='red', bgcolor='yellow'))"
   ]
  },
  {
   "cell_type": "code",
   "execution_count": 10,
   "id": "a1c4b162",
   "metadata": {},
   "outputs": [],
   "source": [
    "from rich.spinner import SPINNERS"
   ]
  },
  {
   "cell_type": "code",
   "execution_count": null,
   "id": "996f124b",
   "metadata": {},
   "outputs": [],
   "source": []
  },
  {
   "cell_type": "markdown",
   "id": "c268614e",
   "metadata": {},
   "source": [
    "---\n",
    "### Spinners\n",
    "---"
   ]
  },
  {
   "cell_type": "code",
   "execution_count": 11,
   "id": "f7896511",
   "metadata": {},
   "outputs": [],
   "source": [
    "from rich.spinner import SPINNERS"
   ]
  },
  {
   "cell_type": "code",
   "execution_count": null,
   "id": "1a027d4a",
   "metadata": {},
   "outputs": [],
   "source": []
  },
  {
   "cell_type": "code",
   "execution_count": 12,
   "id": "08e421ba",
   "metadata": {},
   "outputs": [],
   "source": [
    "from rich.spinner import SPINNERS"
   ]
  },
  {
   "cell_type": "code",
   "execution_count": 13,
   "id": "1cb3e023",
   "metadata": {},
   "outputs": [
    {
     "data": {
      "application/vnd.jupyter.widget-view+json": {
       "model_id": "",
       "version_major": 2,
       "version_minor": 0
      },
      "text/plain": [
       "Output()"
      ]
     },
     "metadata": {},
     "output_type": "display_data"
    },
    {
     "data": {
      "text/html": [
       "<pre style=\"white-space:pre;overflow-x:auto;line-height:normal;font-family:Menlo,'DejaVu Sans Mono',consolas,'Courier New',monospace\"></pre>\n"
      ],
      "text/plain": []
     },
     "metadata": {},
     "output_type": "display_data"
    },
    {
     "data": {
      "text/html": [
       "<pre style=\"white-space:pre;overflow-x:auto;line-height:normal;font-family:Menlo,'DejaVu Sans Mono',consolas,'Courier New',monospace\"><span style=\"color: #800000; text-decoration-color: #800000\">╭──────────────────────────── </span><span style=\"color: #800000; text-decoration-color: #800000; font-weight: bold\">Traceback </span><span style=\"color: #bf7f7f; text-decoration-color: #bf7f7f; font-weight: bold\">(most recent call last)</span><span style=\"color: #800000; text-decoration-color: #800000\"> ────────────────────────────╮</span>\n",
       "<span style=\"color: #800000; text-decoration-color: #800000\">│</span>                                                                                           <span style=\"color: #800000; text-decoration-color: #800000\">│</span>\n",
       "<span style=\"color: #800000; text-decoration-color: #800000\">│</span> <span style=\"color: #bfbf7f; text-decoration-color: #bfbf7f\">/var/folders/wf/cc_l12j97vl5mhxy8wxn69p40000gn/T/ipykernel_60786/</span><span style=\"color: #808000; text-decoration-color: #808000; font-weight: bold\">664243838.py</span>:<span style=\"color: #0000ff; text-decoration-color: #0000ff\">6</span> in        <span style=\"color: #800000; text-decoration-color: #800000\">│</span>\n",
       "<span style=\"color: #800000; text-decoration-color: #800000\">│</span> <span style=\"color: #00ff00; text-decoration-color: #00ff00\">&lt;module&gt;</span>                                                                                  <span style=\"color: #800000; text-decoration-color: #800000\">│</span>\n",
       "<span style=\"color: #800000; text-decoration-color: #800000\">│</span>                                                                                           <span style=\"color: #800000; text-decoration-color: #800000\">│</span>\n",
       "<span style=\"color: #800000; text-decoration-color: #800000\">│</span> <span style=\"color: #800000; text-decoration-color: #800000; font-style: italic\">[Errno 2] No such file or directory: </span>                                                     <span style=\"color: #800000; text-decoration-color: #800000\">│</span>\n",
       "<span style=\"color: #800000; text-decoration-color: #800000\">│</span> <span style=\"color: #800000; text-decoration-color: #800000; font-style: italic\">'/var/folders/wf/cc_l12j97vl5mhxy8wxn69p40000gn/T/ipykernel_60786/664243838.py'</span>           <span style=\"color: #800000; text-decoration-color: #800000\">│</span>\n",
       "<span style=\"color: #800000; text-decoration-color: #800000\">╰───────────────────────────────────────────────────────────────────────────────────────────╯</span>\n",
       "<span style=\"color: #ff0000; text-decoration-color: #ff0000; font-weight: bold\">KeyboardInterrupt</span>\n",
       "</pre>\n"
      ],
      "text/plain": [
       "\u001b[31m╭─\u001b[0m\u001b[31m─────────────────────────── \u001b[0m\u001b[1;31mTraceback \u001b[0m\u001b[1;2;31m(most recent call last)\u001b[0m\u001b[31m ───────────────────────────\u001b[0m\u001b[31m─╮\u001b[0m\n",
       "\u001b[31m│\u001b[0m                                                                                           \u001b[31m│\u001b[0m\n",
       "\u001b[31m│\u001b[0m \u001b[2;33m/var/folders/wf/cc_l12j97vl5mhxy8wxn69p40000gn/T/ipykernel_60786/\u001b[0m\u001b[1;33m664243838.py\u001b[0m:\u001b[94m6\u001b[0m in        \u001b[31m│\u001b[0m\n",
       "\u001b[31m│\u001b[0m \u001b[92m<module>\u001b[0m                                                                                  \u001b[31m│\u001b[0m\n",
       "\u001b[31m│\u001b[0m                                                                                           \u001b[31m│\u001b[0m\n",
       "\u001b[31m│\u001b[0m \u001b[3;31m[Errno 2] No such file or directory: \u001b[0m                                                     \u001b[31m│\u001b[0m\n",
       "\u001b[31m│\u001b[0m \u001b[3;31m'/var/folders/wf/cc_l12j97vl5mhxy8wxn69p40000gn/T/ipykernel_60786/664243838.py'\u001b[0m           \u001b[31m│\u001b[0m\n",
       "\u001b[31m╰───────────────────────────────────────────────────────────────────────────────────────────╯\u001b[0m\n",
       "\u001b[1;91mKeyboardInterrupt\u001b[0m\n"
      ]
     },
     "metadata": {},
     "output_type": "display_data"
    }
   ],
   "source": [
    "import time\n",
    "from random import sample\n",
    "with c.status(\"jebbin' about\", spinner='dots8Bit') as status:\n",
    "    for spinner in sample(list(SPINNERS), 6):\n",
    "        status.update(spinner, spinner=spinner)\n",
    "        time.sleep(2)\n",
    "    "
   ]
  },
  {
   "cell_type": "code",
   "execution_count": 14,
   "id": "86e1d6c4",
   "metadata": {},
   "outputs": [
    {
     "data": {
      "application/vnd.jupyter.widget-view+json": {
       "model_id": "60693ab67bf346b19b3c51947cfe7134",
       "version_major": 2,
       "version_minor": 0
      },
      "text/plain": [
       "Output()"
      ]
     },
     "metadata": {},
     "output_type": "display_data"
    },
    {
     "data": {
      "text/html": [
       "<pre style=\"white-space:pre;overflow-x:auto;line-height:normal;font-family:Menlo,'DejaVu Sans Mono',consolas,'Courier New',monospace\"></pre>\n"
      ],
      "text/plain": []
     },
     "metadata": {},
     "output_type": "display_data"
    },
    {
     "data": {
      "text/html": [
       "<pre style=\"white-space:pre;overflow-x:auto;line-height:normal;font-family:Menlo,'DejaVu Sans Mono',consolas,'Courier New',monospace\"><span style=\"color: #800000; text-decoration-color: #800000\">╭──────────────────────────── </span><span style=\"color: #800000; text-decoration-color: #800000; font-weight: bold\">Traceback </span><span style=\"color: #bf7f7f; text-decoration-color: #bf7f7f; font-weight: bold\">(most recent call last)</span><span style=\"color: #800000; text-decoration-color: #800000\"> ────────────────────────────╮</span>\n",
       "<span style=\"color: #800000; text-decoration-color: #800000\">│</span>                                                                                           <span style=\"color: #800000; text-decoration-color: #800000\">│</span>\n",
       "<span style=\"color: #800000; text-decoration-color: #800000\">│</span> <span style=\"color: #bfbf7f; text-decoration-color: #bfbf7f\">/var/folders/wf/cc_l12j97vl5mhxy8wxn69p40000gn/T/ipykernel_60786/</span><span style=\"color: #808000; text-decoration-color: #808000; font-weight: bold\">1622418841.py</span>:<span style=\"color: #0000ff; text-decoration-color: #0000ff\">13</span> in      <span style=\"color: #800000; text-decoration-color: #800000\">│</span>\n",
       "<span style=\"color: #800000; text-decoration-color: #800000\">│</span> <span style=\"color: #00ff00; text-decoration-color: #00ff00\">&lt;module&gt;</span>                                                                                  <span style=\"color: #800000; text-decoration-color: #800000\">│</span>\n",
       "<span style=\"color: #800000; text-decoration-color: #800000\">│</span>                                                                                           <span style=\"color: #800000; text-decoration-color: #800000\">│</span>\n",
       "<span style=\"color: #800000; text-decoration-color: #800000\">│</span> <span style=\"color: #800000; text-decoration-color: #800000; font-style: italic\">[Errno 2] No such file or directory: </span>                                                     <span style=\"color: #800000; text-decoration-color: #800000\">│</span>\n",
       "<span style=\"color: #800000; text-decoration-color: #800000\">│</span> <span style=\"color: #800000; text-decoration-color: #800000; font-style: italic\">'/var/folders/wf/cc_l12j97vl5mhxy8wxn69p40000gn/T/ipykernel_60786/1622418841.py'</span>          <span style=\"color: #800000; text-decoration-color: #800000\">│</span>\n",
       "<span style=\"color: #800000; text-decoration-color: #800000\">╰───────────────────────────────────────────────────────────────────────────────────────────╯</span>\n",
       "<span style=\"color: #ff0000; text-decoration-color: #ff0000; font-weight: bold\">KeyboardInterrupt</span>\n",
       "</pre>\n"
      ],
      "text/plain": [
       "\u001b[31m╭─\u001b[0m\u001b[31m─────────────────────────── \u001b[0m\u001b[1;31mTraceback \u001b[0m\u001b[1;2;31m(most recent call last)\u001b[0m\u001b[31m ───────────────────────────\u001b[0m\u001b[31m─╮\u001b[0m\n",
       "\u001b[31m│\u001b[0m                                                                                           \u001b[31m│\u001b[0m\n",
       "\u001b[31m│\u001b[0m \u001b[2;33m/var/folders/wf/cc_l12j97vl5mhxy8wxn69p40000gn/T/ipykernel_60786/\u001b[0m\u001b[1;33m1622418841.py\u001b[0m:\u001b[94m13\u001b[0m in      \u001b[31m│\u001b[0m\n",
       "\u001b[31m│\u001b[0m \u001b[92m<module>\u001b[0m                                                                                  \u001b[31m│\u001b[0m\n",
       "\u001b[31m│\u001b[0m                                                                                           \u001b[31m│\u001b[0m\n",
       "\u001b[31m│\u001b[0m \u001b[3;31m[Errno 2] No such file or directory: \u001b[0m                                                     \u001b[31m│\u001b[0m\n",
       "\u001b[31m│\u001b[0m \u001b[3;31m'/var/folders/wf/cc_l12j97vl5mhxy8wxn69p40000gn/T/ipykernel_60786/1622418841.py'\u001b[0m          \u001b[31m│\u001b[0m\n",
       "\u001b[31m╰───────────────────────────────────────────────────────────────────────────────────────────╯\u001b[0m\n",
       "\u001b[1;91mKeyboardInterrupt\u001b[0m\n"
      ]
     },
     "metadata": {},
     "output_type": "display_data"
    }
   ],
   "source": [
    "from time import sleep\n",
    "from rich.spinner import Spinner\n",
    "from rich.columns import Columns\n",
    "from rich.panel import Panel\n",
    "from rich.live import Live\n",
    "from rich.text import Text\n",
    "\n",
    "spinners = [Spinner(spinner_name, text=Text(repr(spinner_name), style=\"green\")) for spinner_name in sorted(SPINNERS)]\n",
    "columns = Columns(spinners, column_first=True, expand=True)\n",
    "\n",
    "with Live(Panel(columns, title=\"Spinners\", border_style=\"blue\"), refresh_per_second=20) as live:\n",
    "    while True:\n",
    "        sleep(0.1)\n"
   ]
  },
  {
   "cell_type": "code",
   "execution_count": 15,
   "id": "9b2278c1",
   "metadata": {},
   "outputs": [],
   "source": [
    "# console to std err\n",
    "error_c = Console(stderr=True, style='bold red on yellow')"
   ]
  },
  {
   "cell_type": "code",
   "execution_count": 16,
   "id": "8c3c8163",
   "metadata": {},
   "outputs": [
    {
     "data": {
      "text/html": [
       "<pre style=\"white-space:pre;overflow-x:auto;line-height:normal;font-family:Menlo,'DejaVu Sans Mono',consolas,'Courier New',monospace\"><span style=\"color: #800000; text-decoration-color: #800000; background-color: #808000; font-weight: bold\">WARNING</span>\n",
       "</pre>\n"
      ],
      "text/plain": [
       "\u001b[1;31;43mWARNING\u001b[0m\n"
      ]
     },
     "metadata": {},
     "output_type": "display_data"
    }
   ],
   "source": [
    "error_c.print('WARNING')"
   ]
  },
  {
   "cell_type": "code",
   "execution_count": null,
   "id": "76f31540",
   "metadata": {},
   "outputs": [],
   "source": []
  },
  {
   "cell_type": "markdown",
   "id": "5bc2ef85",
   "metadata": {},
   "source": [
    "---\n",
    "### [Style](https://rich.readthedocs.io/en/stable/style.html)\n",
    "---"
   ]
  },
  {
   "cell_type": "code",
   "execution_count": null,
   "id": "f8d04cea",
   "metadata": {},
   "outputs": [],
   "source": []
  },
  {
   "cell_type": "code",
   "execution_count": 17,
   "id": "30b86d52",
   "metadata": {},
   "outputs": [
    {
     "data": {
      "text/html": [
       "<pre style=\"white-space:pre;overflow-x:auto;line-height:normal;font-family:Menlo,'DejaVu Sans Mono',consolas,'Courier New',monospace\"><span style=\"background-color: #000000\">  </span><span style=\"background-color: #800000\">  </span><span style=\"background-color: #008000\">  </span><span style=\"background-color: #808000\">  </span><span style=\"background-color: #000080\">  </span><span style=\"background-color: #800080\">  </span><span style=\"background-color: #008080\">  </span><span style=\"background-color: #c0c0c0\">  </span><span style=\"background-color: #808080\">  </span><span style=\"background-color: #ff0000\">  </span><span style=\"background-color: #00ff00\">  </span><span style=\"background-color: #ffff00\">  </span><span style=\"background-color: #0000ff\">  </span><span style=\"background-color: #ff00ff\">  </span><span style=\"background-color: #00ffff\">  </span><span style=\"background-color: #ffffff\">  </span><span style=\"background-color: #000000\">  </span><span style=\"background-color: #00005f\">  </span><span style=\"background-color: #000087\">  </span><span style=\"background-color: #0000af\">  </span><span style=\"background-color: #0000d7\">  </span><span style=\"background-color: #0000ff\">  </span><span style=\"background-color: #005f00\">  </span><span style=\"background-color: #005f5f\">  </span><span style=\"background-color: #005f87\">  </span><span style=\"background-color: #005faf\">  </span><span style=\"background-color: #005fd7\">  </span><span style=\"background-color: #005fff\">  </span><span style=\"background-color: #008700\">  </span><span style=\"background-color: #00875f\">  </span><span style=\"background-color: #008787\">  </span><span style=\"background-color: #0087af\">  </span>\n",
       "<span style=\"background-color: #0087d7\">  </span><span style=\"background-color: #0087ff\">  </span><span style=\"background-color: #00af00\">  </span><span style=\"background-color: #00af5f\">  </span><span style=\"background-color: #00af87\">  </span><span style=\"background-color: #00afaf\">  </span><span style=\"background-color: #00afd7\">  </span><span style=\"background-color: #00afff\">  </span><span style=\"background-color: #00d700\">  </span><span style=\"background-color: #00d75f\">  </span><span style=\"background-color: #00d787\">  </span><span style=\"background-color: #00d7af\">  </span><span style=\"background-color: #00d7d7\">  </span><span style=\"background-color: #00d7ff\">  </span><span style=\"background-color: #00ff00\">  </span><span style=\"background-color: #00ff5f\">  </span><span style=\"background-color: #00ff87\">  </span><span style=\"background-color: #00ffaf\">  </span><span style=\"background-color: #00ffd7\">  </span><span style=\"background-color: #00ffff\">  </span><span style=\"background-color: #5f0000\">  </span><span style=\"background-color: #5f005f\">  </span><span style=\"background-color: #5f0087\">  </span><span style=\"background-color: #5f00af\">  </span><span style=\"background-color: #5f00d7\">  </span><span style=\"background-color: #5f00ff\">  </span><span style=\"background-color: #5f5f00\">  </span><span style=\"background-color: #5f5f5f\">  </span><span style=\"background-color: #5f5f87\">  </span><span style=\"background-color: #5f5faf\">  </span><span style=\"background-color: #5f5fd7\">  </span><span style=\"background-color: #5f5fff\">  </span>\n",
       "<span style=\"background-color: #5f8700\">  </span><span style=\"background-color: #5f875f\">  </span><span style=\"background-color: #5f8787\">  </span><span style=\"background-color: #5f87af\">  </span><span style=\"background-color: #5f87d7\">  </span><span style=\"background-color: #5f87ff\">  </span><span style=\"background-color: #5faf00\">  </span><span style=\"background-color: #5faf5f\">  </span><span style=\"background-color: #5faf87\">  </span><span style=\"background-color: #5fafaf\">  </span><span style=\"background-color: #5fafd7\">  </span><span style=\"background-color: #5fafff\">  </span><span style=\"background-color: #5fd700\">  </span><span style=\"background-color: #5fd75f\">  </span><span style=\"background-color: #5fd787\">  </span><span style=\"background-color: #5fd7af\">  </span><span style=\"background-color: #5fd7d7\">  </span><span style=\"background-color: #5fd7ff\">  </span><span style=\"background-color: #5fff00\">  </span><span style=\"background-color: #5fff5f\">  </span><span style=\"background-color: #5fff87\">  </span><span style=\"background-color: #5fffaf\">  </span><span style=\"background-color: #5fffd7\">  </span><span style=\"background-color: #5fffff\">  </span><span style=\"background-color: #870000\">  </span><span style=\"background-color: #87005f\">  </span><span style=\"background-color: #870087\">  </span><span style=\"background-color: #8700af\">  </span><span style=\"background-color: #8700d7\">  </span><span style=\"background-color: #8700ff\">  </span><span style=\"background-color: #875f00\">  </span><span style=\"background-color: #875f5f\">  </span>\n",
       "<span style=\"background-color: #875f87\">  </span><span style=\"background-color: #875faf\">  </span><span style=\"background-color: #875fd7\">  </span><span style=\"background-color: #875fff\">  </span><span style=\"background-color: #878700\">  </span><span style=\"background-color: #87875f\">  </span><span style=\"background-color: #878787\">  </span><span style=\"background-color: #8787af\">  </span><span style=\"background-color: #8787d7\">  </span><span style=\"background-color: #8787ff\">  </span><span style=\"background-color: #87af00\">  </span><span style=\"background-color: #87af5f\">  </span><span style=\"background-color: #87af87\">  </span><span style=\"background-color: #87afaf\">  </span><span style=\"background-color: #87afd7\">  </span><span style=\"background-color: #87afff\">  </span><span style=\"background-color: #87d700\">  </span><span style=\"background-color: #87d75f\">  </span><span style=\"background-color: #87d787\">  </span><span style=\"background-color: #87d7af\">  </span><span style=\"background-color: #87d7d7\">  </span><span style=\"background-color: #87d7ff\">  </span><span style=\"background-color: #87ff00\">  </span><span style=\"background-color: #87ff5f\">  </span><span style=\"background-color: #87ff87\">  </span><span style=\"background-color: #87ffaf\">  </span><span style=\"background-color: #87ffd7\">  </span><span style=\"background-color: #87ffff\">  </span><span style=\"background-color: #af0000\">  </span><span style=\"background-color: #af005f\">  </span><span style=\"background-color: #af0087\">  </span><span style=\"background-color: #af00af\">  </span>\n",
       "<span style=\"background-color: #af00d7\">  </span><span style=\"background-color: #af00ff\">  </span><span style=\"background-color: #af5f00\">  </span><span style=\"background-color: #af5f5f\">  </span><span style=\"background-color: #af5f87\">  </span><span style=\"background-color: #af5faf\">  </span><span style=\"background-color: #af5fd7\">  </span><span style=\"background-color: #af5fff\">  </span><span style=\"background-color: #af8700\">  </span><span style=\"background-color: #af875f\">  </span><span style=\"background-color: #af8787\">  </span><span style=\"background-color: #af87af\">  </span><span style=\"background-color: #af87d7\">  </span><span style=\"background-color: #af87ff\">  </span><span style=\"background-color: #afaf00\">  </span><span style=\"background-color: #afaf5f\">  </span><span style=\"background-color: #afaf87\">  </span><span style=\"background-color: #afafaf\">  </span><span style=\"background-color: #afafd7\">  </span><span style=\"background-color: #afafff\">  </span><span style=\"background-color: #afd700\">  </span><span style=\"background-color: #afd75f\">  </span><span style=\"background-color: #afd787\">  </span><span style=\"background-color: #afd7af\">  </span><span style=\"background-color: #afd7d7\">  </span><span style=\"background-color: #afd7ff\">  </span><span style=\"background-color: #afff00\">  </span><span style=\"background-color: #afff5f\">  </span><span style=\"background-color: #afff87\">  </span><span style=\"background-color: #afffaf\">  </span><span style=\"background-color: #afffd7\">  </span><span style=\"background-color: #afffff\">  </span>\n",
       "<span style=\"background-color: #d70000\">  </span><span style=\"background-color: #d7005f\">  </span><span style=\"background-color: #d70087\">  </span><span style=\"background-color: #d700af\">  </span><span style=\"background-color: #d700d7\">  </span><span style=\"background-color: #d700ff\">  </span><span style=\"background-color: #d75f00\">  </span><span style=\"background-color: #d75f5f\">  </span><span style=\"background-color: #d75f87\">  </span><span style=\"background-color: #d75faf\">  </span><span style=\"background-color: #d75fd7\">  </span><span style=\"background-color: #d75fff\">  </span><span style=\"background-color: #d78700\">  </span><span style=\"background-color: #d7875f\">  </span><span style=\"background-color: #d78787\">  </span><span style=\"background-color: #d787af\">  </span><span style=\"background-color: #d787d7\">  </span><span style=\"background-color: #d787ff\">  </span><span style=\"background-color: #d7af00\">  </span><span style=\"background-color: #d7af5f\">  </span><span style=\"background-color: #d7af87\">  </span><span style=\"background-color: #d7afaf\">  </span><span style=\"background-color: #d7afd7\">  </span><span style=\"background-color: #d7afff\">  </span><span style=\"background-color: #d7d700\">  </span><span style=\"background-color: #d7d75f\">  </span><span style=\"background-color: #d7d787\">  </span><span style=\"background-color: #d7d7af\">  </span><span style=\"background-color: #d7d7d7\">  </span><span style=\"background-color: #d7d7ff\">  </span><span style=\"background-color: #d7ff00\">  </span><span style=\"background-color: #d7ff5f\">  </span>\n",
       "<span style=\"background-color: #d7ff87\">  </span><span style=\"background-color: #d7ffaf\">  </span><span style=\"background-color: #d7ffd7\">  </span><span style=\"background-color: #d7ffff\">  </span><span style=\"background-color: #ff0000\">  </span><span style=\"background-color: #ff005f\">  </span><span style=\"background-color: #ff0087\">  </span><span style=\"background-color: #ff00af\">  </span><span style=\"background-color: #ff00d7\">  </span><span style=\"background-color: #ff00ff\">  </span><span style=\"background-color: #ff5f00\">  </span><span style=\"background-color: #ff5f5f\">  </span><span style=\"background-color: #ff5f87\">  </span><span style=\"background-color: #ff5faf\">  </span><span style=\"background-color: #ff5fd7\">  </span><span style=\"background-color: #ff5fff\">  </span><span style=\"background-color: #ff8700\">  </span><span style=\"background-color: #ff875f\">  </span><span style=\"background-color: #ff8787\">  </span><span style=\"background-color: #ff87af\">  </span><span style=\"background-color: #ff87d7\">  </span><span style=\"background-color: #ff87ff\">  </span><span style=\"background-color: #ffaf00\">  </span><span style=\"background-color: #ffaf5f\">  </span><span style=\"background-color: #ffaf87\">  </span><span style=\"background-color: #ffafaf\">  </span><span style=\"background-color: #ffafd7\">  </span><span style=\"background-color: #ffafff\">  </span><span style=\"background-color: #ffd700\">  </span><span style=\"background-color: #ffd75f\">  </span><span style=\"background-color: #ffd787\">  </span><span style=\"background-color: #ffd7af\">  </span>\n",
       "<span style=\"background-color: #ffd7d7\">  </span><span style=\"background-color: #ffd7ff\">  </span><span style=\"background-color: #ffff00\">  </span><span style=\"background-color: #ffff5f\">  </span><span style=\"background-color: #ffff87\">  </span><span style=\"background-color: #ffffaf\">  </span><span style=\"background-color: #ffffd7\">  </span><span style=\"background-color: #ffffff\">  </span><span style=\"background-color: #080808\">  </span><span style=\"background-color: #121212\">  </span><span style=\"background-color: #1c1c1c\">  </span><span style=\"background-color: #262626\">  </span><span style=\"background-color: #303030\">  </span><span style=\"background-color: #3a3a3a\">  </span><span style=\"background-color: #444444\">  </span><span style=\"background-color: #4e4e4e\">  </span><span style=\"background-color: #585858\">  </span><span style=\"background-color: #626262\">  </span><span style=\"background-color: #6c6c6c\">  </span><span style=\"background-color: #767676\">  </span><span style=\"background-color: #808080\">  </span><span style=\"background-color: #8a8a8a\">  </span><span style=\"background-color: #949494\">  </span><span style=\"background-color: #9e9e9e\">  </span><span style=\"background-color: #a8a8a8\">  </span><span style=\"background-color: #b2b2b2\">  </span><span style=\"background-color: #bcbcbc\">  </span><span style=\"background-color: #c6c6c6\">  </span><span style=\"background-color: #d0d0d0\">  </span><span style=\"background-color: #dadada\">  </span><span style=\"background-color: #e4e4e4\">  </span><span style=\"background-color: #eeeeee\">  </span>\n",
       "</pre>\n"
      ],
      "text/plain": [
       "\u001b[40m  \u001b[0m\u001b[41m  \u001b[0m\u001b[42m  \u001b[0m\u001b[43m  \u001b[0m\u001b[44m  \u001b[0m\u001b[45m  \u001b[0m\u001b[46m  \u001b[0m\u001b[47m  \u001b[0m\u001b[100m  \u001b[0m\u001b[101m  \u001b[0m\u001b[102m  \u001b[0m\u001b[103m  \u001b[0m\u001b[104m  \u001b[0m\u001b[105m  \u001b[0m\u001b[106m  \u001b[0m\u001b[107m  \u001b[0m\u001b[48;5;16m  \u001b[0m\u001b[48;5;17m  \u001b[0m\u001b[48;5;18m  \u001b[0m\u001b[48;5;19m  \u001b[0m\u001b[48;5;20m  \u001b[0m\u001b[48;5;21m  \u001b[0m\u001b[48;5;22m  \u001b[0m\u001b[48;5;23m  \u001b[0m\u001b[48;5;24m  \u001b[0m\u001b[48;5;25m  \u001b[0m\u001b[48;5;26m  \u001b[0m\u001b[48;5;27m  \u001b[0m\u001b[48;5;28m  \u001b[0m\u001b[48;5;29m  \u001b[0m\u001b[48;5;30m  \u001b[0m\u001b[48;5;31m  \u001b[0m\n",
       "\u001b[48;5;32m  \u001b[0m\u001b[48;5;33m  \u001b[0m\u001b[48;5;34m  \u001b[0m\u001b[48;5;35m  \u001b[0m\u001b[48;5;36m  \u001b[0m\u001b[48;5;37m  \u001b[0m\u001b[48;5;38m  \u001b[0m\u001b[48;5;39m  \u001b[0m\u001b[48;5;40m  \u001b[0m\u001b[48;5;41m  \u001b[0m\u001b[48;5;42m  \u001b[0m\u001b[48;5;43m  \u001b[0m\u001b[48;5;44m  \u001b[0m\u001b[48;5;45m  \u001b[0m\u001b[48;5;46m  \u001b[0m\u001b[48;5;47m  \u001b[0m\u001b[48;5;48m  \u001b[0m\u001b[48;5;49m  \u001b[0m\u001b[48;5;50m  \u001b[0m\u001b[48;5;51m  \u001b[0m\u001b[48;5;52m  \u001b[0m\u001b[48;5;53m  \u001b[0m\u001b[48;5;54m  \u001b[0m\u001b[48;5;55m  \u001b[0m\u001b[48;5;56m  \u001b[0m\u001b[48;5;57m  \u001b[0m\u001b[48;5;58m  \u001b[0m\u001b[48;5;59m  \u001b[0m\u001b[48;5;60m  \u001b[0m\u001b[48;5;61m  \u001b[0m\u001b[48;5;62m  \u001b[0m\u001b[48;5;63m  \u001b[0m\n",
       "\u001b[48;5;64m  \u001b[0m\u001b[48;5;65m  \u001b[0m\u001b[48;5;66m  \u001b[0m\u001b[48;5;67m  \u001b[0m\u001b[48;5;68m  \u001b[0m\u001b[48;5;69m  \u001b[0m\u001b[48;5;70m  \u001b[0m\u001b[48;5;71m  \u001b[0m\u001b[48;5;72m  \u001b[0m\u001b[48;5;73m  \u001b[0m\u001b[48;5;74m  \u001b[0m\u001b[48;5;75m  \u001b[0m\u001b[48;5;76m  \u001b[0m\u001b[48;5;77m  \u001b[0m\u001b[48;5;78m  \u001b[0m\u001b[48;5;79m  \u001b[0m\u001b[48;5;80m  \u001b[0m\u001b[48;5;81m  \u001b[0m\u001b[48;5;82m  \u001b[0m\u001b[48;5;83m  \u001b[0m\u001b[48;5;84m  \u001b[0m\u001b[48;5;85m  \u001b[0m\u001b[48;5;86m  \u001b[0m\u001b[48;5;87m  \u001b[0m\u001b[48;5;88m  \u001b[0m\u001b[48;5;89m  \u001b[0m\u001b[48;5;90m  \u001b[0m\u001b[48;5;91m  \u001b[0m\u001b[48;5;92m  \u001b[0m\u001b[48;5;93m  \u001b[0m\u001b[48;5;94m  \u001b[0m\u001b[48;5;95m  \u001b[0m\n",
       "\u001b[48;5;96m  \u001b[0m\u001b[48;5;97m  \u001b[0m\u001b[48;5;98m  \u001b[0m\u001b[48;5;99m  \u001b[0m\u001b[48;5;100m  \u001b[0m\u001b[48;5;101m  \u001b[0m\u001b[48;5;102m  \u001b[0m\u001b[48;5;103m  \u001b[0m\u001b[48;5;104m  \u001b[0m\u001b[48;5;105m  \u001b[0m\u001b[48;5;106m  \u001b[0m\u001b[48;5;107m  \u001b[0m\u001b[48;5;108m  \u001b[0m\u001b[48;5;109m  \u001b[0m\u001b[48;5;110m  \u001b[0m\u001b[48;5;111m  \u001b[0m\u001b[48;5;112m  \u001b[0m\u001b[48;5;113m  \u001b[0m\u001b[48;5;114m  \u001b[0m\u001b[48;5;115m  \u001b[0m\u001b[48;5;116m  \u001b[0m\u001b[48;5;117m  \u001b[0m\u001b[48;5;118m  \u001b[0m\u001b[48;5;119m  \u001b[0m\u001b[48;5;120m  \u001b[0m\u001b[48;5;121m  \u001b[0m\u001b[48;5;122m  \u001b[0m\u001b[48;5;123m  \u001b[0m\u001b[48;5;124m  \u001b[0m\u001b[48;5;125m  \u001b[0m\u001b[48;5;126m  \u001b[0m\u001b[48;5;127m  \u001b[0m\n",
       "\u001b[48;5;128m  \u001b[0m\u001b[48;5;129m  \u001b[0m\u001b[48;5;130m  \u001b[0m\u001b[48;5;131m  \u001b[0m\u001b[48;5;132m  \u001b[0m\u001b[48;5;133m  \u001b[0m\u001b[48;5;134m  \u001b[0m\u001b[48;5;135m  \u001b[0m\u001b[48;5;136m  \u001b[0m\u001b[48;5;137m  \u001b[0m\u001b[48;5;138m  \u001b[0m\u001b[48;5;139m  \u001b[0m\u001b[48;5;140m  \u001b[0m\u001b[48;5;141m  \u001b[0m\u001b[48;5;142m  \u001b[0m\u001b[48;5;143m  \u001b[0m\u001b[48;5;144m  \u001b[0m\u001b[48;5;145m  \u001b[0m\u001b[48;5;146m  \u001b[0m\u001b[48;5;147m  \u001b[0m\u001b[48;5;148m  \u001b[0m\u001b[48;5;149m  \u001b[0m\u001b[48;5;150m  \u001b[0m\u001b[48;5;151m  \u001b[0m\u001b[48;5;152m  \u001b[0m\u001b[48;5;153m  \u001b[0m\u001b[48;5;154m  \u001b[0m\u001b[48;5;155m  \u001b[0m\u001b[48;5;156m  \u001b[0m\u001b[48;5;157m  \u001b[0m\u001b[48;5;158m  \u001b[0m\u001b[48;5;159m  \u001b[0m\n",
       "\u001b[48;5;160m  \u001b[0m\u001b[48;5;161m  \u001b[0m\u001b[48;5;162m  \u001b[0m\u001b[48;5;163m  \u001b[0m\u001b[48;5;164m  \u001b[0m\u001b[48;5;165m  \u001b[0m\u001b[48;5;166m  \u001b[0m\u001b[48;5;167m  \u001b[0m\u001b[48;5;168m  \u001b[0m\u001b[48;5;169m  \u001b[0m\u001b[48;5;170m  \u001b[0m\u001b[48;5;171m  \u001b[0m\u001b[48;5;172m  \u001b[0m\u001b[48;5;173m  \u001b[0m\u001b[48;5;174m  \u001b[0m\u001b[48;5;175m  \u001b[0m\u001b[48;5;176m  \u001b[0m\u001b[48;5;177m  \u001b[0m\u001b[48;5;178m  \u001b[0m\u001b[48;5;179m  \u001b[0m\u001b[48;5;180m  \u001b[0m\u001b[48;5;181m  \u001b[0m\u001b[48;5;182m  \u001b[0m\u001b[48;5;183m  \u001b[0m\u001b[48;5;184m  \u001b[0m\u001b[48;5;185m  \u001b[0m\u001b[48;5;186m  \u001b[0m\u001b[48;5;187m  \u001b[0m\u001b[48;5;188m  \u001b[0m\u001b[48;5;189m  \u001b[0m\u001b[48;5;190m  \u001b[0m\u001b[48;5;191m  \u001b[0m\n",
       "\u001b[48;5;192m  \u001b[0m\u001b[48;5;193m  \u001b[0m\u001b[48;5;194m  \u001b[0m\u001b[48;5;195m  \u001b[0m\u001b[48;5;196m  \u001b[0m\u001b[48;5;197m  \u001b[0m\u001b[48;5;198m  \u001b[0m\u001b[48;5;199m  \u001b[0m\u001b[48;5;200m  \u001b[0m\u001b[48;5;201m  \u001b[0m\u001b[48;5;202m  \u001b[0m\u001b[48;5;203m  \u001b[0m\u001b[48;5;204m  \u001b[0m\u001b[48;5;205m  \u001b[0m\u001b[48;5;206m  \u001b[0m\u001b[48;5;207m  \u001b[0m\u001b[48;5;208m  \u001b[0m\u001b[48;5;209m  \u001b[0m\u001b[48;5;210m  \u001b[0m\u001b[48;5;211m  \u001b[0m\u001b[48;5;212m  \u001b[0m\u001b[48;5;213m  \u001b[0m\u001b[48;5;214m  \u001b[0m\u001b[48;5;215m  \u001b[0m\u001b[48;5;216m  \u001b[0m\u001b[48;5;217m  \u001b[0m\u001b[48;5;218m  \u001b[0m\u001b[48;5;219m  \u001b[0m\u001b[48;5;220m  \u001b[0m\u001b[48;5;221m  \u001b[0m\u001b[48;5;222m  \u001b[0m\u001b[48;5;223m  \u001b[0m\n",
       "\u001b[48;5;224m  \u001b[0m\u001b[48;5;225m  \u001b[0m\u001b[48;5;226m  \u001b[0m\u001b[48;5;227m  \u001b[0m\u001b[48;5;228m  \u001b[0m\u001b[48;5;229m  \u001b[0m\u001b[48;5;230m  \u001b[0m\u001b[48;5;231m  \u001b[0m\u001b[48;5;232m  \u001b[0m\u001b[48;5;233m  \u001b[0m\u001b[48;5;234m  \u001b[0m\u001b[48;5;235m  \u001b[0m\u001b[48;5;236m  \u001b[0m\u001b[48;5;237m  \u001b[0m\u001b[48;5;238m  \u001b[0m\u001b[48;5;239m  \u001b[0m\u001b[48;5;240m  \u001b[0m\u001b[48;5;241m  \u001b[0m\u001b[48;5;242m  \u001b[0m\u001b[48;5;243m  \u001b[0m\u001b[48;5;244m  \u001b[0m\u001b[48;5;245m  \u001b[0m\u001b[48;5;246m  \u001b[0m\u001b[48;5;247m  \u001b[0m\u001b[48;5;248m  \u001b[0m\u001b[48;5;249m  \u001b[0m\u001b[48;5;250m  \u001b[0m\u001b[48;5;251m  \u001b[0m\u001b[48;5;252m  \u001b[0m\u001b[48;5;253m  \u001b[0m\u001b[48;5;254m  \u001b[0m\u001b[48;5;255m  \u001b[0m\n"
      ]
     },
     "metadata": {},
     "output_type": "display_data"
    }
   ],
   "source": [
    "t = Table(show_header=False)\n",
    "colors = [f'[on color({i})]  ' for i in range(256)]\n",
    "s = '\\n'.join(''.join(g) for g in chunk(colors, 32))\n",
    "print(s)"
   ]
  },
  {
   "cell_type": "code",
   "execution_count": 18,
   "id": "ef89c6fd",
   "metadata": {},
   "outputs": [
    {
     "data": {
      "text/html": [
       "<pre style=\"white-space:pre;overflow-x:auto;line-height:normal;font-family:Menlo,'DejaVu Sans Mono',consolas,'Courier New',monospace\"><span style=\"font-weight: bold\">bold</span>\n",
       "blink\n",
       "blink2\n",
       "conceal\n",
       "<span style=\"font-style: italic\">italic</span>\n",
       "reverse\n",
       "<span style=\"text-decoration: line-through\">strike</span>\n",
       "<span style=\"text-decoration: underline\">underline</span>\n",
       "underline2\n",
       "frame\n",
       "encircle\n",
       "<span style=\"text-decoration: overline\">overline</span>\n",
       "</pre>\n"
      ],
      "text/plain": [
       "\u001b[1mbold\u001b[0m\n",
       "\u001b[5mblink\u001b[0m\n",
       "\u001b[6mblink2\u001b[0m\n",
       "\u001b[8mconceal\u001b[0m\n",
       "\u001b[3mitalic\u001b[0m\n",
       "\u001b[7mreverse\u001b[0m\n",
       "\u001b[9mstrike\u001b[0m\n",
       "\u001b[4munderline\u001b[0m\n",
       "\u001b[21munderline2\u001b[0m\n",
       "\u001b[51mframe\u001b[0m\n",
       "\u001b[52mencircle\u001b[0m\n",
       "\u001b[53moverline\u001b[0m\n"
      ]
     },
     "metadata": {},
     "output_type": "display_data"
    }
   ],
   "source": [
    "options = (\"bold\", \"blink\", \"blink2\", \"conceal\", \"italic\",\n",
    "           \"reverse\", \"strike\", \"underline\", \"underline2\",\n",
    "           \"frame\", \"encircle\", \"overline\")\n",
    "print('\\n'.join(f'[{opt}]{opt}[/]' for opt in options))\n"
   ]
  },
  {
   "cell_type": "code",
   "execution_count": 19,
   "id": "5f0d3fbc",
   "metadata": {},
   "outputs": [
    {
     "data": {
      "text/html": [
       "<pre style=\"white-space:pre;overflow-x:auto;line-height:normal;font-family:Menlo,'DejaVu Sans Mono',consolas,'Courier New',monospace\"><a href=\"https://github.com/sweettuse\">sweettuse github!</a>\n",
       "</pre>\n"
      ],
      "text/plain": [
       "\u001b]8;id=448907;https://github.com/sweettuse\u001b\\sweettuse github!\u001b]8;;\u001b\\\n"
      ]
     },
     "metadata": {},
     "output_type": "display_data"
    }
   ],
   "source": [
    "c.print('sweettuse github!', style='link https://github.com/sweettuse')"
   ]
  },
  {
   "cell_type": "code",
   "execution_count": 20,
   "id": "045ae019",
   "metadata": {},
   "outputs": [],
   "source": [
    "danger = Style(color='yellow', bgcolor='red', blink=True, bold=True)"
   ]
  },
  {
   "cell_type": "code",
   "execution_count": 21,
   "id": "375af7f0",
   "metadata": {},
   "outputs": [
    {
     "data": {
      "text/html": [
       "<pre style=\"white-space:pre;overflow-x:auto;line-height:normal;font-family:Menlo,'DejaVu Sans Mono',consolas,'Courier New',monospace\"><span style=\"color: #808000; text-decoration-color: #808000; background-color: #800000; font-weight: bold; text-decoration: underline; text-decoration: line-through\">WARNING</span>\n",
       "</pre>\n"
      ],
      "text/plain": [
       "\u001b[1;4;5;9;33;41mWARNING\u001b[0m\n"
      ]
     },
     "metadata": {},
     "output_type": "display_data"
    }
   ],
   "source": [
    "c.print('WARNING', style=danger + Style(underline=True) + Style(strike=True))"
   ]
  },
  {
   "cell_type": "code",
   "execution_count": 22,
   "id": "abe48d70",
   "metadata": {},
   "outputs": [
    {
     "data": {
      "text/html": [
       "<pre style=\"white-space:pre;overflow-x:auto;line-height:normal;font-family:Menlo,'DejaVu Sans Mono',consolas,'Courier New',monospace\"><span style=\"color: #7fbfbf; text-decoration-color: #7fbfbf\">This is information</span>\n",
       "</pre>\n"
      ],
      "text/plain": [
       "\u001b[2;36mThis is information\u001b[0m\n"
      ]
     },
     "metadata": {},
     "output_type": "display_data"
    },
    {
     "data": {
      "text/html": [
       "<pre style=\"white-space:pre;overflow-x:auto;line-height:normal;font-family:Menlo,'DejaVu Sans Mono',consolas,'Courier New',monospace\"><span style=\"color: #800080; text-decoration-color: #800080\">The pod bay doors are locked</span>\n",
       "</pre>\n"
      ],
      "text/plain": [
       "\u001b[35mThe pod bay doors are locked\u001b[0m\n"
      ]
     },
     "metadata": {},
     "output_type": "display_data"
    },
    {
     "data": {
      "text/html": [
       "<pre style=\"white-space:pre;overflow-x:auto;line-height:normal;font-family:Menlo,'DejaVu Sans Mono',consolas,'Courier New',monospace\"><span style=\"color: #800000; text-decoration-color: #800000; font-weight: bold\">Something terrible happened!</span>\n",
       "</pre>\n"
      ],
      "text/plain": [
       "\u001b[1;31mSomething terrible happened!\u001b[0m\n"
      ]
     },
     "metadata": {},
     "output_type": "display_data"
    }
   ],
   "source": [
    "from rich.theme import Theme\n",
    "my_theme = Theme({\n",
    "    \"info\": \"dim cyan\",\n",
    "    \"warning\": \"magenta\",\n",
    "    \"danger\": \"bold red\"\n",
    "})\n",
    "c = Console(theme=my_theme)\n",
    "\n",
    "c.print(\"This is information\", style=\"info\")\n",
    "c.print(\"[warning]The pod bay doors are locked[/warning]\")\n",
    "c.print(\"Something terrible happened!\", style=\"danger\")\n"
   ]
  },
  {
   "cell_type": "markdown",
   "id": "e51dcc4c",
   "metadata": {},
   "source": [
    "##### can load themes from files"
   ]
  },
  {
   "cell_type": "code",
   "execution_count": 23,
   "id": "14c2e92c",
   "metadata": {},
   "outputs": [],
   "source": [
    "from random import randrange\n",
    "theme_file_text = \"\"\"\n",
    "[styles]\n",
    "info = purple\n",
    "warning = color({})\n",
    "danger = bold red on white\n",
    "\"\"\".format(randrange(256))\n",
    "with open('/tmp/theme', 'w') as f:\n",
    "    f.write(theme_file_text)\n",
    "\n",
    "my_theme_from_file = Theme.read('/tmp/theme')"
   ]
  },
  {
   "cell_type": "code",
   "execution_count": 24,
   "id": "3e61af61",
   "metadata": {},
   "outputs": [
    {
     "data": {
      "text/html": [
       "<pre style=\"white-space:pre;overflow-x:auto;line-height:normal;font-family:Menlo,'DejaVu Sans Mono',consolas,'Courier New',monospace\"><span style=\"color: #af00ff; text-decoration-color: #af00ff\">This is information</span>\n",
       "</pre>\n"
      ],
      "text/plain": [
       "\u001b[38;5;129mThis is information\u001b[0m\n"
      ]
     },
     "metadata": {},
     "output_type": "display_data"
    },
    {
     "data": {
      "text/html": [
       "<pre style=\"white-space:pre;overflow-x:auto;line-height:normal;font-family:Menlo,'DejaVu Sans Mono',consolas,'Courier New',monospace\"><span style=\"color: #d75fd7; text-decoration-color: #d75fd7\">The pod bay doors are locked</span>\n",
       "</pre>\n"
      ],
      "text/plain": [
       "\u001b[38;5;170mThe pod bay doors are locked\u001b[0m\n"
      ]
     },
     "metadata": {},
     "output_type": "display_data"
    },
    {
     "data": {
      "text/html": [
       "<pre style=\"white-space:pre;overflow-x:auto;line-height:normal;font-family:Menlo,'DejaVu Sans Mono',consolas,'Courier New',monospace\"><span style=\"color: #800000; text-decoration-color: #800000; background-color: #c0c0c0; font-weight: bold\">Something terrible happened!</span>\n",
       "</pre>\n"
      ],
      "text/plain": [
       "\u001b[1;31;47mSomething terrible happened!\u001b[0m\n"
      ]
     },
     "metadata": {},
     "output_type": "display_data"
    }
   ],
   "source": [
    "c = Console(theme=my_theme_from_file)\n",
    "\n",
    "c.print(\"This is information\", style=\"info\")\n",
    "c.print(\"[warning]The pod bay doors are locked[/warning]\")\n",
    "c.print(\"Something terrible happened!\", style=\"danger\")"
   ]
  },
  {
   "cell_type": "code",
   "execution_count": 25,
   "id": "8e197204",
   "metadata": {},
   "outputs": [
    {
     "data": {
      "text/html": [
       "<pre style=\"white-space:pre;overflow-x:auto;line-height:normal;font-family:Menlo,'DejaVu Sans Mono',consolas,'Courier New',monospace\">┏━━━━━━━━━━━━━━━━━━━━━━━━━━━━━━━━━━━━━━━━━━━━━━━━━━━━━━━━━━━━━┳━━━━━━━━━━━━━━━━━━━━━━━━━━━━━┓\n",
       "┃<span style=\"font-weight: bold\"> Markup                                                      </span>┃<span style=\"font-weight: bold\"> Result                      </span>┃\n",
       "┡━━━━━━━━━━━━━━━━━━━━━━━━━━━━━━━━━━━━━━━━━━━━━━━━━━━━━━━━━━━━━╇━━━━━━━━━━━━━━━━━━━━━━━━━━━━━┩\n",
       "│ [red]Hello World[/red]                                      │ <span style=\"color: #800000; text-decoration-color: #800000\">Hello World</span>                 │\n",
       "│ [magenta]Hello [b]World[/b]                                 │ <span style=\"color: #800080; text-decoration-color: #800080\">Hello </span><span style=\"color: #800080; text-decoration-color: #800080; font-weight: bold\">World</span>                 │\n",
       "│ [bold]Bold[italic] bold and italic [/bold]italic[/italic]   │ <span style=\"font-weight: bold\">Bold</span><span style=\"font-weight: bold; font-style: italic\"> bold and italic </span><span style=\"font-style: italic\">italic</span> │\n",
       "│ Click [link=https://www.willmcgugan.com]here[/link] to      │ Click <a href=\"https://www.willmcgugan.com\">here</a> to visit my Blog │\n",
       "│ visit my Blog                                               │                             │\n",
       "│ :warning-emoji: [bold red blink] DANGER![/]                 │ ⚠️ <span style=\"color: #800000; text-decoration-color: #800000; font-weight: bold\"> DANGER!</span>                  │\n",
       "└─────────────────────────────────────────────────────────────┴─────────────────────────────┘\n",
       "</pre>\n"
      ],
      "text/plain": [
       "┏━━━━━━━━━━━━━━━━━━━━━━━━━━━━━━━━━━━━━━━━━━━━━━━━━━━━━━━━━━━━━┳━━━━━━━━━━━━━━━━━━━━━━━━━━━━━┓\n",
       "┃\u001b[1m \u001b[0m\u001b[1mMarkup                                                     \u001b[0m\u001b[1m \u001b[0m┃\u001b[1m \u001b[0m\u001b[1mResult                     \u001b[0m\u001b[1m \u001b[0m┃\n",
       "┡━━━━━━━━━━━━━━━━━━━━━━━━━━━━━━━━━━━━━━━━━━━━━━━━━━━━━━━━━━━━━╇━━━━━━━━━━━━━━━━━━━━━━━━━━━━━┩\n",
       "│ [red]Hello World[/red]                                      │ \u001b[31mHello World\u001b[0m                 │\n",
       "│ [magenta]Hello [b]World[/b]                                 │ \u001b[35mHello \u001b[0m\u001b[1;35mWorld\u001b[0m                 │\n",
       "│ [bold]Bold[italic] bold and italic [/bold]italic[/italic]   │ \u001b[1mBold\u001b[0m\u001b[1;3m bold and italic \u001b[0m\u001b[3mitalic\u001b[0m │\n",
       "│ Click [link=https://www.willmcgugan.com]here[/link] to      │ Click \u001b]8;id=686436;https://www.willmcgugan.com\u001b\\here\u001b]8;;\u001b\\ to visit my Blog │\n",
       "│ visit my Blog                                               │                             │\n",
       "│ :warning-emoji: [bold red blink] DANGER![/]                 │ ⚠️ \u001b[1;5;31m DANGER!\u001b[0m                  │\n",
       "└─────────────────────────────────────────────────────────────┴─────────────────────────────┘\n"
      ]
     },
     "metadata": {},
     "output_type": "display_data"
    }
   ],
   "source": [
    "MARKUP = [\n",
    "    \"[red]Hello World[/red]\",\n",
    "    \"[magenta]Hello [b]World[/b]\",\n",
    "    \"[bold]Bold[italic] bold and italic [/bold]italic[/italic]\",\n",
    "    \"Click [link=https://www.willmcgugan.com]here[/link] to visit my Blog\",\n",
    "    \":warning-emoji: [bold red blink] DANGER![/]\",\n",
    "]\n",
    "\n",
    "from rich.table import Table\n",
    "from rich import print\n",
    "\n",
    "grid = Table(\"Markup\", \"Result\", padding=(0, 1))\n",
    "\n",
    "for markup in MARKUP:\n",
    "    grid.add_row(Text(markup), markup)\n",
    "\n",
    "print(grid)\n"
   ]
  },
  {
   "cell_type": "code",
   "execution_count": null,
   "id": "6abc0550",
   "metadata": {},
   "outputs": [],
   "source": []
  },
  {
   "cell_type": "markdown",
   "id": "f9e57707",
   "metadata": {},
   "source": [
    "---\n",
    "### [Text](https://rich.readthedocs.io/en/stable/text.html)\n",
    "---"
   ]
  },
  {
   "cell_type": "code",
   "execution_count": null,
   "id": "49599263",
   "metadata": {},
   "outputs": [],
   "source": []
  },
  {
   "cell_type": "code",
   "execution_count": 26,
   "id": "64ed6308",
   "metadata": {},
   "outputs": [
    {
     "data": {
      "text/html": [
       "<pre style=\"white-space:pre;overflow-x:auto;line-height:normal;font-family:Menlo,'DejaVu Sans Mono',consolas,'Courier New',monospace\">typing.Literal<span style=\"font-weight: bold\">[</span><span style=\"color: #008000; text-decoration-color: #008000\">'default'</span>, <span style=\"color: #008000; text-decoration-color: #008000\">'left'</span>, <span style=\"color: #008000; text-decoration-color: #008000\">'center'</span>, <span style=\"color: #008000; text-decoration-color: #008000\">'right'</span>, <span style=\"color: #008000; text-decoration-color: #008000\">'full'</span><span style=\"font-weight: bold\">]</span>\n",
       "</pre>\n"
      ],
      "text/plain": [
       "typing.Literal\u001b[1m[\u001b[0m\u001b[32m'default'\u001b[0m, \u001b[32m'left'\u001b[0m, \u001b[32m'center'\u001b[0m, \u001b[32m'right'\u001b[0m, \u001b[32m'full'\u001b[0m\u001b[1m]\u001b[0m\n"
      ]
     },
     "metadata": {},
     "output_type": "display_data"
    }
   ],
   "source": [
    "from rich.text import Text\n",
    "from rich.console import JustifyMethod\n",
    "JustifyMethod"
   ]
  },
  {
   "cell_type": "code",
   "execution_count": 27,
   "id": "deeb3096",
   "metadata": {},
   "outputs": [
    {
     "data": {
      "text/html": [
       "<pre style=\"white-space:pre;overflow-x:auto;line-height:normal;font-family:Menlo,'DejaVu Sans Mono',consolas,'Courier New',monospace\">starting <span style=\"background-color: #af00ff; font-weight: bold; text-decoration: underline\">point</span> for <span style=\"background-color: #af00ff; font-weight: bold; text-decoration: underline\">this</span> thing\n",
       "</pre>\n"
      ],
      "text/plain": [
       "starting \u001b[1;4;48;5;129mpoint\u001b[0m for \u001b[1;4;48;5;129mthis\u001b[0m thing\n"
      ]
     },
     "execution_count": 27,
     "metadata": {},
     "output_type": "execute_result"
    }
   ],
   "source": [
    "t = Text('starting point for this thing')\n",
    "t.highlight_words(['point', 'this'], style='bold underline on purple')\n",
    "t"
   ]
  },
  {
   "cell_type": "code",
   "execution_count": 28,
   "id": "e054a28d",
   "metadata": {},
   "outputs": [
    {
     "data": {
      "text/html": [
       "<pre style=\"white-space:pre;overflow-x:auto;line-height:normal;font-family:Menlo,'DejaVu Sans Mono',consolas,'Courier New',monospace\"><span style=\"background-color: #000080\">jebbify the universe</span>\n",
       "</pre>\n"
      ],
      "text/plain": [
       "\u001b[44mjebbify\u001b[0m\u001b[44m the universe\u001b[0m\n"
      ]
     },
     "execution_count": 28,
     "metadata": {},
     "output_type": "execute_result"
    }
   ],
   "source": [
    "t = Text('jebbify', justify='full', style='on blue')\n",
    "t += Text(' the universe')\n",
    "t\n",
    "# why is the ' the universe' stylized?"
   ]
  },
  {
   "cell_type": "code",
   "execution_count": 29,
   "id": "d6bfb4e8",
   "metadata": {},
   "outputs": [
    {
     "data": {
      "text/html": [
       "<pre style=\"white-space:pre;overflow-x:auto;line-height:normal;font-family:Menlo,'DejaVu Sans Mono',consolas,'Courier New',monospace\"><span style=\"background-color: #000080\">jebbify the universe</span>\n",
       "</pre>\n"
      ],
      "text/plain": [
       "\u001b[44mjebbify\u001b[0m\u001b[44m the universe\u001b[0m\n"
      ]
     },
     "metadata": {},
     "output_type": "display_data"
    }
   ],
   "source": [
    "print(t)"
   ]
  },
  {
   "cell_type": "code",
   "execution_count": 30,
   "id": "bb9c685e",
   "metadata": {},
   "outputs": [
    {
     "data": {
      "text/html": [
       "<pre style=\"white-space:pre;overflow-x:auto;line-height:normal;font-family:Menlo,'DejaVu Sans Mono',consolas,'Courier New',monospace\">                                         <span style=\"color: #008000; text-decoration-color: #008000; background-color: #c0c0c0\">hello</span> world                                         \n",
       "</pre>\n"
      ],
      "text/plain": [
       "                                         \u001b[32;47mhello\u001b[0m world                                         \n"
      ]
     },
     "execution_count": 30,
     "metadata": {},
     "output_type": "execute_result"
    }
   ],
   "source": [
    "t = Text(justify='center')\n",
    "t.append('hello', 'green on white')\n",
    "t.append(' world')\n",
    "t\n"
   ]
  },
  {
   "cell_type": "code",
   "execution_count": 31,
   "id": "616eeae1",
   "metadata": {},
   "outputs": [
    {
     "data": {
      "text/html": [
       "<pre style=\"white-space:pre;overflow-x:auto;line-height:normal;font-family:Menlo,'DejaVu Sans Mono',consolas,'Courier New',monospace\">╭───────────────────────────────────────────────────────────────────────────────────────────╮\n",
       "│ <span style=\"background-color: #808000; text-decoration: underline\">                                          hello                                          </span> │\n",
       "╰───────────────────────────────────────────────────────────────────────────────────────────╯\n",
       "</pre>\n"
      ],
      "text/plain": [
       "╭───────────────────────────────────────────────────────────────────────────────────────────╮\n",
       "│ \u001b[4;43m                                          hello                                          \u001b[0m │\n",
       "╰───────────────────────────────────────────────────────────────────────────────────────────╯\n"
      ]
     },
     "execution_count": 31,
     "metadata": {},
     "output_type": "execute_result"
    }
   ],
   "source": [
    "Panel(Text('hello', justify='center', style='underline on yellow'))"
   ]
  },
  {
   "cell_type": "code",
   "execution_count": null,
   "id": "91fa8805",
   "metadata": {},
   "outputs": [],
   "source": []
  },
  {
   "cell_type": "markdown",
   "id": "5123302d",
   "metadata": {},
   "source": [
    "---\n",
    "### [Highlighting](https://rich.readthedocs.io/en/stable/highlighting.html)\n",
    "---"
   ]
  },
  {
   "cell_type": "code",
   "execution_count": null,
   "id": "792e8e43",
   "metadata": {},
   "outputs": [],
   "source": []
  },
  {
   "cell_type": "code",
   "execution_count": 32,
   "id": "a3dc5e50",
   "metadata": {},
   "outputs": [
    {
     "data": {
      "text/html": [
       "<pre style=\"white-space:pre;overflow-x:auto;line-height:normal;font-family:Menlo,'DejaVu Sans Mono',consolas,'Courier New',monospace\"><span style=\"color: #af0087; text-decoration-color: #af0087\">I</span><span style=\"color: #a8a8a8; text-decoration-color: #a8a8a8\"> </span><span style=\"color: #875f5f; text-decoration-color: #875f5f\">m</span><span style=\"color: #00ffff; text-decoration-color: #00ffff\">u</span><span style=\"color: #444444; text-decoration-color: #444444\">s</span><span style=\"color: #ffaf00; text-decoration-color: #ffaf00\">t</span><span style=\"color: #ff87d7; text-decoration-color: #ff87d7\"> </span><span style=\"color: #af875f; text-decoration-color: #af875f\">n</span><span style=\"color: #ffff00; text-decoration-color: #ffff00\">o</span><span style=\"color: #875fd7; text-decoration-color: #875fd7\">t</span><span style=\"color: #afff00; text-decoration-color: #afff00\"> </span><span style=\"color: #afffaf; text-decoration-color: #afffaf\">f</span><span style=\"color: #ffd7d7; text-decoration-color: #ffd7d7\">e</span><span style=\"color: #d70087; text-decoration-color: #d70087\">a</span><span style=\"color: #af00af; text-decoration-color: #af00af\">r</span><span style=\"color: #008700; text-decoration-color: #008700\">.</span><span style=\"color: #005f87; text-decoration-color: #005f87\"> </span><span style=\"color: #ffd7af; text-decoration-color: #ffd7af\">F</span><span style=\"color: #ffff00; text-decoration-color: #ffff00\">e</span><span style=\"color: #d75f00; text-decoration-color: #d75f00\">a</span><span style=\"color: #5f5f87; text-decoration-color: #5f5f87\">r</span><span style=\"color: #ff5f5f; text-decoration-color: #ff5f5f\"> </span><span style=\"color: #d75f00; text-decoration-color: #d75f00\">i</span><span style=\"color: #5fffd7; text-decoration-color: #5fffd7\">s</span><span style=\"color: #dadada; text-decoration-color: #dadada\"> </span><span style=\"color: #d78787; text-decoration-color: #d78787\">t</span><span style=\"color: #af8700; text-decoration-color: #af8700\">h</span><span style=\"color: #5f0000; text-decoration-color: #5f0000\">e</span><span style=\"color: #008700; text-decoration-color: #008700\"> </span><span style=\"color: #d75fff; text-decoration-color: #d75fff\">m</span><span style=\"color: #5fd7d7; text-decoration-color: #5fd7d7\">i</span><span style=\"color: #afd700; text-decoration-color: #afd700\">n</span><span style=\"color: #005f87; text-decoration-color: #005f87\">d</span><span style=\"color: #afd75f; text-decoration-color: #afd75f\">-</span><span style=\"color: #5fd787; text-decoration-color: #5fd787\">k</span><span style=\"color: #5f8700; text-decoration-color: #5f8700\">i</span><span style=\"color: #af87ff; text-decoration-color: #af87ff\">l</span><span style=\"color: #005f87; text-decoration-color: #005f87\">l</span><span style=\"color: #008700; text-decoration-color: #008700\">e</span><span style=\"color: #875fd7; text-decoration-color: #875fd7\">r</span><span style=\"color: #ffffd7; text-decoration-color: #ffffd7\">.</span>\n",
       "</pre>\n"
      ],
      "text/plain": [
       "\u001b[38;5;126mI\u001b[0m\u001b[38;5;248m \u001b[0m\u001b[38;5;95mm\u001b[0m\u001b[38;5;51mu\u001b[0m\u001b[38;5;238ms\u001b[0m\u001b[38;5;214mt\u001b[0m\u001b[38;5;212m \u001b[0m\u001b[38;5;137mn\u001b[0m\u001b[38;5;226mo\u001b[0m\u001b[38;5;98mt\u001b[0m\u001b[38;5;154m \u001b[0m\u001b[38;5;157mf\u001b[0m\u001b[38;5;224me\u001b[0m\u001b[38;5;162ma\u001b[0m\u001b[38;5;127mr\u001b[0m\u001b[38;5;28m.\u001b[0m\u001b[38;5;24m \u001b[0m\u001b[38;5;223mF\u001b[0m\u001b[38;5;226me\u001b[0m\u001b[38;5;166ma\u001b[0m\u001b[38;5;60mr\u001b[0m\u001b[38;5;203m \u001b[0m\u001b[38;5;166mi\u001b[0m\u001b[38;5;86ms\u001b[0m\u001b[38;5;253m \u001b[0m\u001b[38;5;174mt\u001b[0m\u001b[38;5;136mh\u001b[0m\u001b[38;5;52me\u001b[0m\u001b[38;5;28m \u001b[0m\u001b[38;5;171mm\u001b[0m\u001b[38;5;80mi\u001b[0m\u001b[38;5;148mn\u001b[0m\u001b[38;5;24md\u001b[0m\u001b[38;5;149m-\u001b[0m\u001b[38;5;78mk\u001b[0m\u001b[38;5;64mi\u001b[0m\u001b[38;5;141ml\u001b[0m\u001b[38;5;24ml\u001b[0m\u001b[38;5;28me\u001b[0m\u001b[38;5;98mr\u001b[0m\u001b[38;5;230m.\u001b[0m\n"
      ]
     },
     "metadata": {},
     "output_type": "display_data"
    }
   ],
   "source": [
    "from random import randint\n",
    "\n",
    "from rich import print\n",
    "from rich.highlighter import Highlighter\n",
    "\n",
    "\n",
    "class RainbowHighlighter(Highlighter):\n",
    "    def highlight(self, text):\n",
    "        for index in range(len(text)):\n",
    "            text.stylize(f\"color({randint(16, 255)})\", index, index + 1)\n",
    "\n",
    "\n",
    "rainbow = RainbowHighlighter()\n",
    "print(rainbow(\"I must not fear. Fear is the mind-killer.\"))"
   ]
  },
  {
   "cell_type": "code",
   "execution_count": null,
   "id": "c26df8b8",
   "metadata": {},
   "outputs": [],
   "source": []
  },
  {
   "cell_type": "markdown",
   "id": "d933b005",
   "metadata": {},
   "source": [
    "---\n",
    "### [Pretty](https://rich.readthedocs.io/en/stable/pretty.html)\n",
    "---"
   ]
  },
  {
   "cell_type": "code",
   "execution_count": null,
   "id": "9b536db1",
   "metadata": {},
   "outputs": [],
   "source": []
  },
  {
   "cell_type": "code",
   "execution_count": 33,
   "id": "93978945",
   "metadata": {},
   "outputs": [],
   "source": [
    "from rich.pretty import pprint\n"
   ]
  },
  {
   "cell_type": "code",
   "execution_count": 34,
   "id": "c60436dd",
   "metadata": {},
   "outputs": [
    {
     "data": {
      "text/html": [
       "<pre style=\"white-space:pre;overflow-x:auto;line-height:normal;font-family:Menlo,'DejaVu Sans Mono',consolas,'Courier New',monospace\"><span style=\"font-weight: bold\">[</span>\n",
       "<span style=\"color: #7fbf7f; text-decoration-color: #7fbf7f\">│   </span><span style=\"color: #008000; text-decoration-color: #008000\">'eggs'</span>,\n",
       "<span style=\"color: #7fbf7f; text-decoration-color: #7fbf7f\">│   </span><span style=\"color: #008000; text-decoration-color: #008000\">'ham'</span>\n",
       "<span style=\"font-weight: bold\">]</span>\n",
       "</pre>\n"
      ],
      "text/plain": [
       "\u001b[1m[\u001b[0m\n",
       "\u001b[2;32m│   \u001b[0m\u001b[32m'eggs'\u001b[0m,\n",
       "\u001b[2;32m│   \u001b[0m\u001b[32m'ham'\u001b[0m\n",
       "\u001b[1m]\u001b[0m\n"
      ]
     },
     "metadata": {},
     "output_type": "display_data"
    }
   ],
   "source": [
    "pprint([\"eggs\", \"ham\"], expand_all=True)"
   ]
  },
  {
   "cell_type": "code",
   "execution_count": 35,
   "id": "d896551c",
   "metadata": {},
   "outputs": [
    {
     "data": {
      "text/html": [
       "<pre style=\"white-space:pre;overflow-x:auto;line-height:normal;font-family:Menlo,'DejaVu Sans Mono',consolas,'Courier New',monospace\"><span style=\"font-weight: bold\">{</span>\n",
       "<span style=\"color: #7fbf7f; text-decoration-color: #7fbf7f\">│   </span><span style=\"color: #008000; text-decoration-color: #008000\">'__name__'</span>: <span style=\"color: #008000; text-decoration-color: #008000\">'__main__'</span>,\n",
       "<span style=\"color: #7fbf7f; text-decoration-color: #7fbf7f\">│   </span><span style=\"color: #008000; text-decoration-color: #008000\">'__doc__'</span>: <span style=\"color: #008000; text-decoration-color: #008000\">'Automatically created module for IPython interactive environment'</span>,\n",
       "<span style=\"color: #7fbf7f; text-decoration-color: #7fbf7f\">│   </span><span style=\"color: #008000; text-decoration-color: #008000\">'__package__'</span>: <span style=\"color: #800080; text-decoration-color: #800080; font-style: italic\">None</span>,\n",
       "<span style=\"color: #7fbf7f; text-decoration-color: #7fbf7f\">│   </span><span style=\"color: #008000; text-decoration-color: #008000\">'__loader__'</span>: <span style=\"color: #800080; text-decoration-color: #800080; font-style: italic\">None</span>,\n",
       "<span style=\"color: #7fbf7f; text-decoration-color: #7fbf7f\">│   </span><span style=\"color: #808000; text-decoration-color: #808000\">...</span> +<span style=\"color: #008080; text-decoration-color: #008080; font-weight: bold\">161</span>\n",
       "<span style=\"font-weight: bold\">}</span>\n",
       "</pre>\n"
      ],
      "text/plain": [
       "\u001b[1m{\u001b[0m\n",
       "\u001b[2;32m│   \u001b[0m\u001b[32m'__name__'\u001b[0m: \u001b[32m'__main__'\u001b[0m,\n",
       "\u001b[2;32m│   \u001b[0m\u001b[32m'__doc__'\u001b[0m: \u001b[32m'Automatically created module for IPython interactive environment'\u001b[0m,\n",
       "\u001b[2;32m│   \u001b[0m\u001b[32m'__package__'\u001b[0m: \u001b[3;35mNone\u001b[0m,\n",
       "\u001b[2;32m│   \u001b[0m\u001b[32m'__loader__'\u001b[0m: \u001b[3;35mNone\u001b[0m,\n",
       "\u001b[2;32m│   \u001b[0m\u001b[33m...\u001b[0m +\u001b[1;36m161\u001b[0m\n",
       "\u001b[1m}\u001b[0m\n"
      ]
     },
     "metadata": {},
     "output_type": "display_data"
    }
   ],
   "source": [
    "pprint(locals(), max_length=4)"
   ]
  },
  {
   "cell_type": "code",
   "execution_count": 36,
   "id": "6f2941c0",
   "metadata": {},
   "outputs": [],
   "source": [
    "from rich.pretty import Pretty\n",
    "t = Table('name', 'value')\n",
    "t.add_row('locals', Pretty(locals(), max_length=4))"
   ]
  },
  {
   "cell_type": "code",
   "execution_count": 37,
   "id": "68c11bf7",
   "metadata": {},
   "outputs": [
    {
     "data": {
      "text/html": [
       "<pre style=\"white-space:pre;overflow-x:auto;line-height:normal;font-family:Menlo,'DejaVu Sans Mono',consolas,'Courier New',monospace\">┏━━━━━━━━┳━━━━━━━━━━━━━━━━━━━━━━━━━━━━━━━━━━━━━━━━━━━━━━━━━━━━━━━━━━━━━━━━━━━━━━━━━━━━━━━━━━┓\n",
       "┃<span style=\"font-weight: bold\"> name   </span>┃<span style=\"font-weight: bold\"> value                                                                            </span>┃\n",
       "┡━━━━━━━━╇━━━━━━━━━━━━━━━━━━━━━━━━━━━━━━━━━━━━━━━━━━━━━━━━━━━━━━━━━━━━━━━━━━━━━━━━━━━━━━━━━━┩\n",
       "│ locals │ <span style=\"font-weight: bold\">{</span>                                                                                │\n",
       "│        │     <span style=\"color: #008000; text-decoration-color: #008000\">'__name__'</span>: <span style=\"color: #008000; text-decoration-color: #008000\">'__main__'</span>,                                                      │\n",
       "│        │     <span style=\"color: #008000; text-decoration-color: #008000\">'__doc__'</span>: <span style=\"color: #008000; text-decoration-color: #008000\">'Automatically created module for IPython interactive </span>            │\n",
       "│        │ <span style=\"color: #008000; text-decoration-color: #008000\">environment'</span>,                                                                    │\n",
       "│        │     <span style=\"color: #008000; text-decoration-color: #008000\">'__package__'</span>: <span style=\"color: #800080; text-decoration-color: #800080; font-style: italic\">None</span>,                                                         │\n",
       "│        │     <span style=\"color: #008000; text-decoration-color: #008000\">'__loader__'</span>: <span style=\"color: #800080; text-decoration-color: #800080; font-style: italic\">None</span>,                                                          │\n",
       "│        │     <span style=\"color: #808000; text-decoration-color: #808000\">...</span> +<span style=\"color: #008080; text-decoration-color: #008080; font-weight: bold\">164</span>                                                                     │\n",
       "│        │ <span style=\"font-weight: bold\">}</span>                                                                                │\n",
       "└────────┴──────────────────────────────────────────────────────────────────────────────────┘\n",
       "</pre>\n"
      ],
      "text/plain": [
       "┏━━━━━━━━┳━━━━━━━━━━━━━━━━━━━━━━━━━━━━━━━━━━━━━━━━━━━━━━━━━━━━━━━━━━━━━━━━━━━━━━━━━━━━━━━━━━┓\n",
       "┃\u001b[1m \u001b[0m\u001b[1mname  \u001b[0m\u001b[1m \u001b[0m┃\u001b[1m \u001b[0m\u001b[1mvalue                                                                           \u001b[0m\u001b[1m \u001b[0m┃\n",
       "┡━━━━━━━━╇━━━━━━━━━━━━━━━━━━━━━━━━━━━━━━━━━━━━━━━━━━━━━━━━━━━━━━━━━━━━━━━━━━━━━━━━━━━━━━━━━━┩\n",
       "│ locals │ \u001b[1m{\u001b[0m                                                                                │\n",
       "│        │     \u001b[32m'__name__'\u001b[0m: \u001b[32m'__main__'\u001b[0m,                                                      │\n",
       "│        │     \u001b[32m'__doc__'\u001b[0m: \u001b[32m'Automatically created module for IPython interactive \u001b[0m            │\n",
       "│        │ \u001b[32menvironment'\u001b[0m,                                                                    │\n",
       "│        │     \u001b[32m'__package__'\u001b[0m: \u001b[3;35mNone\u001b[0m,                                                         │\n",
       "│        │     \u001b[32m'__loader__'\u001b[0m: \u001b[3;35mNone\u001b[0m,                                                          │\n",
       "│        │     \u001b[33m...\u001b[0m +\u001b[1;36m164\u001b[0m                                                                     │\n",
       "│        │ \u001b[1m}\u001b[0m                                                                                │\n",
       "└────────┴──────────────────────────────────────────────────────────────────────────────────┘\n"
      ]
     },
     "execution_count": 37,
     "metadata": {},
     "output_type": "execute_result"
    }
   ],
   "source": [
    "t"
   ]
  },
  {
   "cell_type": "code",
   "execution_count": 38,
   "id": "96d0458e",
   "metadata": {},
   "outputs": [
    {
     "data": {
      "text/html": [
       "<pre style=\"white-space:pre;overflow-x:auto;line-height:normal;font-family:Menlo,'DejaVu Sans Mono',consolas,'Courier New',monospace\">╭───────────────────────────────────────────────────────────────────────────────────────────╮\n",
       "│ <span style=\"font-weight: bold\">{</span>                                                                                         │\n",
       "│     <span style=\"color: #008000; text-decoration-color: #008000\">'__name__'</span>: <span style=\"color: #008000; text-decoration-color: #008000\">'__main__'</span>,                                                               │\n",
       "│     <span style=\"color: #008000; text-decoration-color: #008000\">'__doc__'</span>: <span style=\"color: #008000; text-decoration-color: #008000\">'Automatically created module for IPython interactive environment'</span>,        │\n",
       "│     <span style=\"color: #008000; text-decoration-color: #008000\">'__package__'</span>: <span style=\"color: #800080; text-decoration-color: #800080; font-style: italic\">None</span>,                                                                  │\n",
       "│     <span style=\"color: #008000; text-decoration-color: #008000\">'__loader__'</span>: <span style=\"color: #800080; text-decoration-color: #800080; font-style: italic\">None</span>,                                                                   │\n",
       "│     <span style=\"color: #808000; text-decoration-color: #808000\">...</span> +<span style=\"color: #008080; text-decoration-color: #008080; font-weight: bold\">166</span>                                                                              │\n",
       "│ <span style=\"font-weight: bold\">}</span>                                                                                         │\n",
       "╰───────────────────────────────────────────────────────────────────────────────────────────╯\n",
       "</pre>\n"
      ],
      "text/plain": [
       "╭───────────────────────────────────────────────────────────────────────────────────────────╮\n",
       "│ \u001b[1m{\u001b[0m                                                                                         │\n",
       "│     \u001b[32m'__name__'\u001b[0m: \u001b[32m'__main__'\u001b[0m,                                                               │\n",
       "│     \u001b[32m'__doc__'\u001b[0m: \u001b[32m'Automatically created module for IPython interactive environment'\u001b[0m,        │\n",
       "│     \u001b[32m'__package__'\u001b[0m: \u001b[3;35mNone\u001b[0m,                                                                  │\n",
       "│     \u001b[32m'__loader__'\u001b[0m: \u001b[3;35mNone\u001b[0m,                                                                   │\n",
       "│     \u001b[33m...\u001b[0m +\u001b[1;36m166\u001b[0m                                                                              │\n",
       "│ \u001b[1m}\u001b[0m                                                                                         │\n",
       "╰───────────────────────────────────────────────────────────────────────────────────────────╯\n"
      ]
     },
     "execution_count": 38,
     "metadata": {},
     "output_type": "execute_result"
    }
   ],
   "source": [
    "Panel(Pretty(locals(), max_length=4))"
   ]
  },
  {
   "cell_type": "markdown",
   "id": "86401c14",
   "metadata": {},
   "source": [
    "---\n",
    "#### `__rich_repr__`\n",
    "---"
   ]
  },
  {
   "cell_type": "code",
   "execution_count": 39,
   "id": "d32bf3ce",
   "metadata": {},
   "outputs": [],
   "source": [
    "t = Table(show_header=False, box=box.HEAVY, show_lines=True)"
   ]
  },
  {
   "cell_type": "code",
   "execution_count": 40,
   "id": "576cb1e9",
   "metadata": {},
   "outputs": [],
   "source": [
    "txt = Text(' ', style='blue on blue')"
   ]
  },
  {
   "cell_type": "code",
   "execution_count": 41,
   "id": "0998e973",
   "metadata": {},
   "outputs": [],
   "source": [
    "t.add_row(*'abc')\n",
    "t.add_row('a', txt, 'c')\n",
    "t.add_row(*'abc')"
   ]
  },
  {
   "cell_type": "code",
   "execution_count": 42,
   "id": "81f7f3ad",
   "metadata": {},
   "outputs": [
    {
     "data": {
      "text/html": [
       "<pre style=\"white-space:pre;overflow-x:auto;line-height:normal;font-family:Menlo,'DejaVu Sans Mono',consolas,'Courier New',monospace\">┏━━━┳━━━┳━━━┓\n",
       "┃ a ┃ b ┃ c ┃\n",
       "┣━━━╋━━━╋━━━┫\n",
       "┃ a ┃ <span style=\"color: #000080; text-decoration-color: #000080; background-color: #000080\"> </span> ┃ c ┃\n",
       "┣━━━╋━━━╋━━━┫\n",
       "┃ a ┃ b ┃ c ┃\n",
       "┗━━━┻━━━┻━━━┛\n",
       "</pre>\n"
      ],
      "text/plain": [
       "┏━━━┳━━━┳━━━┓\n",
       "┃ a ┃ b ┃ c ┃\n",
       "┣━━━╋━━━╋━━━┫\n",
       "┃ a ┃ \u001b[34;44m \u001b[0m ┃ c ┃\n",
       "┣━━━╋━━━╋━━━┫\n",
       "┃ a ┃ b ┃ c ┃\n",
       "┗━━━┻━━━┻━━━┛\n"
      ]
     },
     "execution_count": 42,
     "metadata": {},
     "output_type": "execute_result"
    }
   ],
   "source": [
    "t"
   ]
  },
  {
   "cell_type": "code",
   "execution_count": 43,
   "id": "e5947a98",
   "metadata": {},
   "outputs": [
    {
     "data": {
      "text/html": [
       "<pre style=\"white-space:pre;overflow-x:auto;line-height:normal;font-family:Menlo,'DejaVu Sans Mono',consolas,'Courier New',monospace\"><span style=\"color: #800080; text-decoration-color: #800080; font-weight: bold\">Car</span><span style=\"font-weight: bold\">(</span><span style=\"color: #808000; text-decoration-color: #808000\">make</span>=<span style=\"color: #008000; text-decoration-color: #008000\">'Ford'</span>, <span style=\"color: #808000; text-decoration-color: #808000\">model</span>=<span style=\"color: #008000; text-decoration-color: #008000\">'Fiesta'</span>, <span style=\"color: #808000; text-decoration-color: #808000\">current</span>=<span style=\"color: #ff0000; text-decoration-color: #ff0000; font-style: italic\">False</span><span style=\"font-weight: bold\">)</span>\n",
       "<span style=\"color: #800080; text-decoration-color: #800080; font-weight: bold\">Car</span><span style=\"font-weight: bold\">(</span><span style=\"color: #808000; text-decoration-color: #808000\">make</span>=<span style=\"color: #008000; text-decoration-color: #008000\">'Tesla'</span>, <span style=\"color: #808000; text-decoration-color: #808000\">model</span>=<span style=\"color: #008000; text-decoration-color: #008000\">'Model Y'</span>, <span style=\"color: #808000; text-decoration-color: #808000\">engine</span>=<span style=\"color: #008000; text-decoration-color: #008000\">'electric'</span><span style=\"font-weight: bold\">)</span>\n",
       "</pre>\n"
      ],
      "text/plain": [
       "\u001b[1;35mCar\u001b[0m\u001b[1m(\u001b[0m\u001b[33mmake\u001b[0m=\u001b[32m'Ford'\u001b[0m, \u001b[33mmodel\u001b[0m=\u001b[32m'Fiesta'\u001b[0m, \u001b[33mcurrent\u001b[0m=\u001b[3;91mFalse\u001b[0m\u001b[1m)\u001b[0m\n",
       "\u001b[1;35mCar\u001b[0m\u001b[1m(\u001b[0m\u001b[33mmake\u001b[0m=\u001b[32m'Tesla'\u001b[0m, \u001b[33mmodel\u001b[0m=\u001b[32m'Model Y'\u001b[0m, \u001b[33mengine\u001b[0m=\u001b[32m'electric'\u001b[0m\u001b[1m)\u001b[0m\n"
      ]
     },
     "metadata": {},
     "output_type": "display_data"
    }
   ],
   "source": [
    "from dataclasses import dataclass\n",
    "from typing import Literal\n",
    "@dataclass\n",
    "class Car:\n",
    "    make: str\n",
    "    model: str\n",
    "    engine: Literal['ice', 'electric'] = 'ice'\n",
    "    current: bool = True\n",
    "        \n",
    "    def __rich_repr__(self):\n",
    "        yield 'make', self.make\n",
    "        yield 'model', self.model\n",
    "        yield 'engine', self.engine, 'ice'\n",
    "        yield 'current', self.current, True\n",
    "\n",
    "fiesta = Car('Ford', 'Fiesta', 'ice', False)\n",
    "my = Car('Tesla', 'Model Y', 'electric')\n",
    "print(fiesta, my)"
   ]
  },
  {
   "cell_type": "code",
   "execution_count": 44,
   "id": "3d569225",
   "metadata": {},
   "outputs": [],
   "source": [
    "# with rich repr auto"
   ]
  },
  {
   "cell_type": "code",
   "execution_count": 45,
   "id": "90bb7616",
   "metadata": {},
   "outputs": [],
   "source": [
    "import rich.repr"
   ]
  },
  {
   "cell_type": "code",
   "execution_count": 46,
   "id": "d5db3b15",
   "metadata": {},
   "outputs": [],
   "source": [
    "@rich.repr.auto\n",
    "@dataclass\n",
    "class Car2:\n",
    "    make: str\n",
    "    model: str\n",
    "    engine: Literal['ice', 'electric'] = 'electric'\n",
    "    current: bool = False"
   ]
  },
  {
   "cell_type": "code",
   "execution_count": 47,
   "id": "88263d9b",
   "metadata": {},
   "outputs": [
    {
     "data": {
      "text/html": [
       "<pre style=\"white-space:pre;overflow-x:auto;line-height:normal;font-family:Menlo,'DejaVu Sans Mono',consolas,'Courier New',monospace\"><span style=\"color: #800080; text-decoration-color: #800080; font-weight: bold\">Car2</span><span style=\"font-weight: bold\">(</span><span style=\"color: #008000; text-decoration-color: #008000\">'Ford'</span>, <span style=\"color: #008000; text-decoration-color: #008000\">'Fiesta'</span>, <span style=\"color: #808000; text-decoration-color: #808000\">engine</span>=<span style=\"color: #008000; text-decoration-color: #008000\">'ice'</span><span style=\"font-weight: bold\">)</span>\n",
       "<span style=\"color: #800080; text-decoration-color: #800080; font-weight: bold\">Car2</span><span style=\"font-weight: bold\">(</span><span style=\"color: #008000; text-decoration-color: #008000\">'Tesla'</span>, <span style=\"color: #008000; text-decoration-color: #008000\">'Model Y'</span>, <span style=\"color: #808000; text-decoration-color: #808000\">current</span>=<span style=\"color: #00ff00; text-decoration-color: #00ff00; font-style: italic\">True</span><span style=\"font-weight: bold\">)</span>\n",
       "</pre>\n"
      ],
      "text/plain": [
       "\u001b[1;35mCar2\u001b[0m\u001b[1m(\u001b[0m\u001b[32m'Ford'\u001b[0m, \u001b[32m'Fiesta'\u001b[0m, \u001b[33mengine\u001b[0m=\u001b[32m'ice'\u001b[0m\u001b[1m)\u001b[0m\n",
       "\u001b[1;35mCar2\u001b[0m\u001b[1m(\u001b[0m\u001b[32m'Tesla'\u001b[0m, \u001b[32m'Model Y'\u001b[0m, \u001b[33mcurrent\u001b[0m=\u001b[3;92mTrue\u001b[0m\u001b[1m)\u001b[0m\n"
      ]
     },
     "metadata": {},
     "output_type": "display_data"
    }
   ],
   "source": [
    "fiesta = Car2('Ford', 'Fiesta', 'ice', False)\n",
    "my = Car2('Tesla', 'Model Y', 'electric', True)\n",
    "print(fiesta, my)"
   ]
  },
  {
   "cell_type": "code",
   "execution_count": null,
   "id": "94c1ccda",
   "metadata": {},
   "outputs": [],
   "source": []
  },
  {
   "cell_type": "markdown",
   "id": "6d807a3d",
   "metadata": {},
   "source": [
    "---\n",
    "### [Logging](https://rich.readthedocs.io/en/stable/logging.html)\n",
    "---"
   ]
  },
  {
   "cell_type": "code",
   "execution_count": 48,
   "id": "0fba5318",
   "metadata": {},
   "outputs": [],
   "source": [
    "# don't care much about logging but there's a link ^"
   ]
  },
  {
   "cell_type": "markdown",
   "id": "608dbaea",
   "metadata": {},
   "source": [
    "---\n",
    "### [Traceback](https://rich.readthedocs.io/en/stable/traceback.html)\n",
    "---"
   ]
  },
  {
   "cell_type": "markdown",
   "id": "06a7631c",
   "metadata": {},
   "source": [
    "to have rich tracebacks for an entire venv, do the following:\n",
    "\n",
    "add \n",
    "```python\n",
    "from rich.traceback import install\n",
    "install(show_locals=True)\n",
    "```\n",
    "\n",
    "to\n",
    "\n",
    "`./.venv/lib/python3.9/site-packages/sitecustomize.py`"
   ]
  },
  {
   "cell_type": "code",
   "execution_count": 49,
   "id": "9dd54596",
   "metadata": {},
   "outputs": [
    {
     "data": {
      "text/html": [
       "<pre style=\"white-space:pre;overflow-x:auto;line-height:normal;font-family:Menlo,'DejaVu Sans Mono',consolas,'Courier New',monospace\"><span style=\"font-weight: bold\">&lt;</span><span style=\"color: #ff00ff; text-decoration-color: #ff00ff; font-weight: bold\">bound</span><span style=\"color: #000000; text-decoration-color: #000000\"> method InteractiveShell.excepthook of &lt;ipykernel.zmqshell.ZMQInteractiveShell object at </span><span style=\"color: #008080; text-decoration-color: #008080; font-weight: bold\">0x7ff0b83cd130</span><span style=\"font-weight: bold\">&gt;</span>&gt;\n",
       "</pre>\n"
      ],
      "text/plain": [
       "\u001b[1m<\u001b[0m\u001b[1;95mbound\u001b[0m\u001b[39m method InteractiveShell.excepthook of <ipykernel.zmqshell.ZMQInteractiveShell object at \u001b[0m\u001b[1;36m0x7ff0b83cd130\u001b[0m\u001b[1m>\u001b[0m>\n"
      ]
     },
     "metadata": {},
     "output_type": "display_data"
    }
   ],
   "source": [
    "from rich.traceback import install\n",
    "install(show_locals=False)"
   ]
  },
  {
   "cell_type": "code",
   "execution_count": 50,
   "id": "4bade44d",
   "metadata": {},
   "outputs": [
    {
     "data": {
      "text/html": [
       "<pre style=\"white-space:pre;overflow-x:auto;line-height:normal;font-family:Menlo,'DejaVu Sans Mono',consolas,'Courier New',monospace\"><span style=\"color: #800000; text-decoration-color: #800000\">╭──────────────────────────── </span><span style=\"color: #800000; text-decoration-color: #800000; font-weight: bold\">Traceback </span><span style=\"color: #bf7f7f; text-decoration-color: #bf7f7f; font-weight: bold\">(most recent call last)</span><span style=\"color: #800000; text-decoration-color: #800000\"> ────────────────────────────╮</span>\n",
       "<span style=\"color: #800000; text-decoration-color: #800000\">│</span>                                                                                           <span style=\"color: #800000; text-decoration-color: #800000\">│</span>\n",
       "<span style=\"color: #800000; text-decoration-color: #800000\">│</span> <span style=\"color: #bfbf7f; text-decoration-color: #bfbf7f\">/var/folders/wf/cc_l12j97vl5mhxy8wxn69p40000gn/T/ipykernel_60786/</span><span style=\"color: #808000; text-decoration-color: #808000; font-weight: bold\">4134724724.py</span>:<span style=\"color: #0000ff; text-decoration-color: #0000ff\">1</span> in       <span style=\"color: #800000; text-decoration-color: #800000\">│</span>\n",
       "<span style=\"color: #800000; text-decoration-color: #800000\">│</span> <span style=\"color: #00ff00; text-decoration-color: #00ff00\">&lt;module&gt;</span>                                                                                  <span style=\"color: #800000; text-decoration-color: #800000\">│</span>\n",
       "<span style=\"color: #800000; text-decoration-color: #800000\">│</span>                                                                                           <span style=\"color: #800000; text-decoration-color: #800000\">│</span>\n",
       "<span style=\"color: #800000; text-decoration-color: #800000\">│</span> <span style=\"color: #800000; text-decoration-color: #800000; font-style: italic\">[Errno 2] No such file or directory: </span>                                                     <span style=\"color: #800000; text-decoration-color: #800000\">│</span>\n",
       "<span style=\"color: #800000; text-decoration-color: #800000\">│</span> <span style=\"color: #800000; text-decoration-color: #800000; font-style: italic\">'/var/folders/wf/cc_l12j97vl5mhxy8wxn69p40000gn/T/ipykernel_60786/4134724724.py'</span>          <span style=\"color: #800000; text-decoration-color: #800000\">│</span>\n",
       "<span style=\"color: #800000; text-decoration-color: #800000\">╰───────────────────────────────────────────────────────────────────────────────────────────╯</span>\n",
       "<span style=\"color: #ff0000; text-decoration-color: #ff0000; font-weight: bold\">Exception: </span>hello\n",
       "</pre>\n"
      ],
      "text/plain": [
       "\u001b[31m╭─\u001b[0m\u001b[31m─────────────────────────── \u001b[0m\u001b[1;31mTraceback \u001b[0m\u001b[1;2;31m(most recent call last)\u001b[0m\u001b[31m ───────────────────────────\u001b[0m\u001b[31m─╮\u001b[0m\n",
       "\u001b[31m│\u001b[0m                                                                                           \u001b[31m│\u001b[0m\n",
       "\u001b[31m│\u001b[0m \u001b[2;33m/var/folders/wf/cc_l12j97vl5mhxy8wxn69p40000gn/T/ipykernel_60786/\u001b[0m\u001b[1;33m4134724724.py\u001b[0m:\u001b[94m1\u001b[0m in       \u001b[31m│\u001b[0m\n",
       "\u001b[31m│\u001b[0m \u001b[92m<module>\u001b[0m                                                                                  \u001b[31m│\u001b[0m\n",
       "\u001b[31m│\u001b[0m                                                                                           \u001b[31m│\u001b[0m\n",
       "\u001b[31m│\u001b[0m \u001b[3;31m[Errno 2] No such file or directory: \u001b[0m                                                     \u001b[31m│\u001b[0m\n",
       "\u001b[31m│\u001b[0m \u001b[3;31m'/var/folders/wf/cc_l12j97vl5mhxy8wxn69p40000gn/T/ipykernel_60786/4134724724.py'\u001b[0m          \u001b[31m│\u001b[0m\n",
       "\u001b[31m╰───────────────────────────────────────────────────────────────────────────────────────────╯\u001b[0m\n",
       "\u001b[1;91mException: \u001b[0mhello\n"
      ]
     },
     "metadata": {},
     "output_type": "display_data"
    }
   ],
   "source": [
    "raise Exception('hello')"
   ]
  },
  {
   "cell_type": "code",
   "execution_count": null,
   "id": "138a00f8",
   "metadata": {},
   "outputs": [],
   "source": []
  },
  {
   "cell_type": "code",
   "execution_count": null,
   "id": "a94d90a7",
   "metadata": {},
   "outputs": [],
   "source": []
  },
  {
   "cell_type": "markdown",
   "id": "0fb9bd6b",
   "metadata": {},
   "source": [
    "---\n",
    "### [Prompt](https://rich.readthedocs.io/en/stable/prompt.html)\n",
    "---"
   ]
  },
  {
   "cell_type": "code",
   "execution_count": 51,
   "id": "aed652c7",
   "metadata": {},
   "outputs": [],
   "source": [
    "from rich.prompt import Prompt, IntPrompt, FloatPrompt, Confirm"
   ]
  },
  {
   "cell_type": "code",
   "execution_count": 52,
   "id": "aaafa2d6",
   "metadata": {},
   "outputs": [
    {
     "data": {
      "text/html": [
       "<pre style=\"white-space:pre;overflow-x:auto;line-height:normal;font-family:Menlo,'DejaVu Sans Mono',consolas,'Courier New',monospace\"></pre>\n"
      ],
      "text/plain": []
     },
     "metadata": {},
     "output_type": "display_data"
    },
    {
     "name": "stdout",
     "output_type": "stream",
     "text": [
      "name [jeb/tuse]: aoeu\n"
     ]
    },
    {
     "data": {
      "text/html": [
       "<pre style=\"white-space:pre;overflow-x:auto;line-height:normal;font-family:Menlo,'DejaVu Sans Mono',consolas,'Courier New',monospace\"><span style=\"color: #800000; text-decoration-color: #800000\">Please select one of the available options</span>\n",
       "</pre>\n"
      ],
      "text/plain": [
       "\u001b[31mPlease select one of the available options\u001b[0m\n"
      ]
     },
     "metadata": {},
     "output_type": "display_data"
    },
    {
     "data": {
      "text/html": [
       "<pre style=\"white-space:pre;overflow-x:auto;line-height:normal;font-family:Menlo,'DejaVu Sans Mono',consolas,'Courier New',monospace\"></pre>\n"
      ],
      "text/plain": []
     },
     "metadata": {},
     "output_type": "display_data"
    },
    {
     "name": "stdout",
     "output_type": "stream",
     "text": [
      "name [jeb/tuse]: jeb\n"
     ]
    }
   ],
   "source": [
    "name = Prompt.ask('name', choices='jeb tuse'.split())"
   ]
  },
  {
   "cell_type": "code",
   "execution_count": 53,
   "id": "6f4c76c3",
   "metadata": {},
   "outputs": [
    {
     "data": {
      "text/html": [
       "<pre style=\"white-space:pre;overflow-x:auto;line-height:normal;font-family:Menlo,'DejaVu Sans Mono',consolas,'Courier New',monospace\"><span style=\"color: #00ff00; text-decoration-color: #00ff00\">──────────────────────────────────────── </span>confusing!<span style=\"color: #00ff00; text-decoration-color: #00ff00\"> ─────────────────────────────────────────</span>\n",
       "</pre>\n"
      ],
      "text/plain": [
       "\u001b[92m──────────────────────────────────────── \u001b[0mconfusing!\u001b[92m ─────────────────────────────────────────\u001b[0m\n"
      ]
     },
     "metadata": {},
     "output_type": "display_data"
    },
    {
     "data": {
      "text/html": [
       "<pre style=\"white-space:pre;overflow-x:auto;line-height:normal;font-family:Menlo,'DejaVu Sans Mono',consolas,'Courier New',monospace\"></pre>\n"
      ],
      "text/plain": []
     },
     "metadata": {},
     "output_type": "display_data"
    },
    {
     "name": "stdout",
     "output_type": "stream",
     "text": [
      "do the thing?? [y/n] (y): y\n"
     ]
    },
    {
     "data": {
      "text/html": [
       "<pre style=\"white-space:pre;overflow-x:auto;line-height:normal;font-family:Menlo,'DejaVu Sans Mono',consolas,'Courier New',monospace\"><span style=\"color: #00ff00; text-decoration-color: #00ff00; font-style: italic\">True</span>\n",
       "</pre>\n"
      ],
      "text/plain": [
       "\u001b[3;92mTrue\u001b[0m\n"
      ]
     },
     "metadata": {},
     "output_type": "display_data"
    }
   ],
   "source": [
    "c.rule('confusing!')\n",
    "print(Confirm.ask('[red on yellow]do the thing??', default='n'))"
   ]
  },
  {
   "cell_type": "code",
   "execution_count": null,
   "id": "4c98f570",
   "metadata": {},
   "outputs": [],
   "source": []
  },
  {
   "cell_type": "markdown",
   "id": "dba99316",
   "metadata": {},
   "source": [
    "---\n",
    "### [Columns](https://rich.readthedocs.io/en/stable/columns.html)\n",
    "---"
   ]
  },
  {
   "cell_type": "code",
   "execution_count": 54,
   "id": "f0056738",
   "metadata": {},
   "outputs": [],
   "source": [
    "from rich.columns import Columns"
   ]
  },
  {
   "cell_type": "code",
   "execution_count": 57,
   "id": "365312ce",
   "metadata": {
    "scrolled": true
   },
   "outputs": [
    {
     "data": {
      "text/html": [
       "<pre style=\"white-space:pre;overflow-x:auto;line-height:normal;font-family:Menlo,'DejaVu Sans Mono',consolas,'Courier New',monospace\"><span style=\"color: #00ff00; text-decoration-color: #00ff00\">──────────────────────────────────────────── </span><span style=\"font-weight: bold\">{}</span><span style=\"color: #00ff00; text-decoration-color: #00ff00\"> ─────────────────────────────────────────────</span>\n",
       "</pre>\n"
      ],
      "text/plain": [
       "\u001b[92m──────────────────────────────────────────── \u001b[0m\u001b[1m{\u001b[0m\u001b[1m}\u001b[0m\u001b[92m ─────────────────────────────────────────────\u001b[0m\n"
      ]
     },
     "metadata": {},
     "output_type": "display_data"
    },
    {
     "data": {
      "text/html": [
       "<pre style=\"white-space:pre;overflow-x:auto;line-height:normal;font-family:Menlo,'DejaVu Sans Mono',consolas,'Courier New',monospace\">gif_recorder_40741_html_01973.html gif_recorder_86287_jpg_00640.jpg  \n",
       "gif_recorder_51779_html_01197.html gif_recorder_45397_html_00433.html\n",
       "gif_recorder_40741_html_00661.html gif_recorder_15_html_00101.html   \n",
       "gif_recorder_40741_jpg_04392.jpg   gif_recorder_19587_jpg_00288.jpg  \n",
       "gif_recorder_34947_jpg_00664.jpg   gif_recorder_11949_jpg_00203.jpg  \n",
       "</pre>\n"
      ],
      "text/plain": [
       "gif_recorder_40741_html_01973.html gif_recorder_86287_jpg_00640.jpg  \n",
       "gif_recorder_51779_html_01197.html gif_recorder_45397_html_00433.html\n",
       "gif_recorder_40741_html_00661.html gif_recorder_15_html_00101.html   \n",
       "gif_recorder_40741_jpg_04392.jpg   gif_recorder_19587_jpg_00288.jpg  \n",
       "gif_recorder_34947_jpg_00664.jpg   gif_recorder_11949_jpg_00203.jpg  \n"
      ]
     },
     "metadata": {},
     "output_type": "display_data"
    },
    {
     "data": {
      "text/html": [
       "<pre style=\"white-space:pre;overflow-x:auto;line-height:normal;font-family:Menlo,'DejaVu Sans Mono',consolas,'Courier New',monospace\"><span style=\"color: #00ff00; text-decoration-color: #00ff00\">────────────────────────────────────── </span><span style=\"font-weight: bold\">{</span><span style=\"color: #008000; text-decoration-color: #008000\">'equal'</span>: <span style=\"color: #00ff00; text-decoration-color: #00ff00; font-style: italic\">True</span><span style=\"font-weight: bold\">}</span><span style=\"color: #00ff00; text-decoration-color: #00ff00\"> ──────────────────────────────────────</span>\n",
       "</pre>\n"
      ],
      "text/plain": [
       "\u001b[92m────────────────────────────────────── \u001b[0m\u001b[1m{\u001b[0m\u001b[32m'equal'\u001b[0m: \u001b[3;92mTrue\u001b[0m\u001b[1m}\u001b[0m\u001b[92m ──────────────────────────────────────\u001b[0m\n"
      ]
     },
     "metadata": {},
     "output_type": "display_data"
    },
    {
     "data": {
      "text/html": [
       "<pre style=\"white-space:pre;overflow-x:auto;line-height:normal;font-family:Menlo,'DejaVu Sans Mono',consolas,'Courier New',monospace\">gif_recorder_40741_html_01973.html gif_recorder_86287_jpg_00640.jpg  \n",
       "gif_recorder_51779_html_01197.html gif_recorder_45397_html_00433.html\n",
       "gif_recorder_40741_html_00661.html gif_recorder_15_html_00101.html   \n",
       "gif_recorder_40741_jpg_04392.jpg   gif_recorder_19587_jpg_00288.jpg  \n",
       "gif_recorder_34947_jpg_00664.jpg   gif_recorder_11949_jpg_00203.jpg  \n",
       "</pre>\n"
      ],
      "text/plain": [
       "gif_recorder_40741_html_01973.html gif_recorder_86287_jpg_00640.jpg  \n",
       "gif_recorder_51779_html_01197.html gif_recorder_45397_html_00433.html\n",
       "gif_recorder_40741_html_00661.html gif_recorder_15_html_00101.html   \n",
       "gif_recorder_40741_jpg_04392.jpg   gif_recorder_19587_jpg_00288.jpg  \n",
       "gif_recorder_34947_jpg_00664.jpg   gif_recorder_11949_jpg_00203.jpg  \n"
      ]
     },
     "metadata": {},
     "output_type": "display_data"
    },
    {
     "data": {
      "text/html": [
       "<pre style=\"white-space:pre;overflow-x:auto;line-height:normal;font-family:Menlo,'DejaVu Sans Mono',consolas,'Courier New',monospace\"><span style=\"color: #00ff00; text-decoration-color: #00ff00\">───────────────────────────────────── </span><span style=\"font-weight: bold\">{</span><span style=\"color: #008000; text-decoration-color: #008000\">'expand'</span>: <span style=\"color: #00ff00; text-decoration-color: #00ff00; font-style: italic\">True</span><span style=\"font-weight: bold\">}</span><span style=\"color: #00ff00; text-decoration-color: #00ff00\"> ──────────────────────────────────────</span>\n",
       "</pre>\n"
      ],
      "text/plain": [
       "\u001b[92m───────────────────────────────────── \u001b[0m\u001b[1m{\u001b[0m\u001b[32m'expand'\u001b[0m: \u001b[3;92mTrue\u001b[0m\u001b[1m}\u001b[0m\u001b[92m ──────────────────────────────────────\u001b[0m\n"
      ]
     },
     "metadata": {},
     "output_type": "display_data"
    },
    {
     "data": {
      "text/html": [
       "<pre style=\"white-space:pre;overflow-x:auto;line-height:normal;font-family:Menlo,'DejaVu Sans Mono',consolas,'Courier New',monospace\">gif_recorder_40741_html_01973.html              gif_recorder_86287_jpg_00640.jpg             \n",
       "gif_recorder_51779_html_01197.html              gif_recorder_45397_html_00433.html           \n",
       "gif_recorder_40741_html_00661.html              gif_recorder_15_html_00101.html              \n",
       "gif_recorder_40741_jpg_04392.jpg                gif_recorder_19587_jpg_00288.jpg             \n",
       "gif_recorder_34947_jpg_00664.jpg                gif_recorder_11949_jpg_00203.jpg             \n",
       "</pre>\n"
      ],
      "text/plain": [
       "gif_recorder_40741_html_01973.html              gif_recorder_86287_jpg_00640.jpg             \n",
       "gif_recorder_51779_html_01197.html              gif_recorder_45397_html_00433.html           \n",
       "gif_recorder_40741_html_00661.html              gif_recorder_15_html_00101.html              \n",
       "gif_recorder_40741_jpg_04392.jpg                gif_recorder_19587_jpg_00288.jpg             \n",
       "gif_recorder_34947_jpg_00664.jpg                gif_recorder_11949_jpg_00203.jpg             \n"
      ]
     },
     "metadata": {},
     "output_type": "display_data"
    },
    {
     "data": {
      "text/html": [
       "<pre style=\"white-space:pre;overflow-x:auto;line-height:normal;font-family:Menlo,'DejaVu Sans Mono',consolas,'Courier New',monospace\"><span style=\"color: #00ff00; text-decoration-color: #00ff00\">────────────────────────────── </span><span style=\"font-weight: bold\">{</span><span style=\"color: #008000; text-decoration-color: #008000\">'equal'</span>: <span style=\"color: #00ff00; text-decoration-color: #00ff00; font-style: italic\">True</span>, <span style=\"color: #008000; text-decoration-color: #008000\">'expand'</span>: <span style=\"color: #00ff00; text-decoration-color: #00ff00; font-style: italic\">True</span><span style=\"font-weight: bold\">}</span><span style=\"color: #00ff00; text-decoration-color: #00ff00\"> ──────────────────────────────</span>\n",
       "</pre>\n"
      ],
      "text/plain": [
       "\u001b[92m────────────────────────────── \u001b[0m\u001b[1m{\u001b[0m\u001b[32m'equal'\u001b[0m: \u001b[3;92mTrue\u001b[0m, \u001b[32m'expand'\u001b[0m: \u001b[3;92mTrue\u001b[0m\u001b[1m}\u001b[0m\u001b[92m ──────────────────────────────\u001b[0m\n"
      ]
     },
     "metadata": {},
     "output_type": "display_data"
    },
    {
     "data": {
      "text/html": [
       "<pre style=\"white-space:pre;overflow-x:auto;line-height:normal;font-family:Menlo,'DejaVu Sans Mono',consolas,'Courier New',monospace\">gif_recorder_40741_html_01973.html              gif_recorder_86287_jpg_00640.jpg             \n",
       "gif_recorder_51779_html_01197.html              gif_recorder_45397_html_00433.html           \n",
       "gif_recorder_40741_html_00661.html              gif_recorder_15_html_00101.html              \n",
       "gif_recorder_40741_jpg_04392.jpg                gif_recorder_19587_jpg_00288.jpg             \n",
       "gif_recorder_34947_jpg_00664.jpg                gif_recorder_11949_jpg_00203.jpg             \n",
       "</pre>\n"
      ],
      "text/plain": [
       "gif_recorder_40741_html_01973.html              gif_recorder_86287_jpg_00640.jpg             \n",
       "gif_recorder_51779_html_01197.html              gif_recorder_45397_html_00433.html           \n",
       "gif_recorder_40741_html_00661.html              gif_recorder_15_html_00101.html              \n",
       "gif_recorder_40741_jpg_04392.jpg                gif_recorder_19587_jpg_00288.jpg             \n",
       "gif_recorder_34947_jpg_00664.jpg                gif_recorder_11949_jpg_00203.jpg             \n"
      ]
     },
     "metadata": {},
     "output_type": "display_data"
    },
    {
     "data": {
      "text/html": [
       "<pre style=\"white-space:pre;overflow-x:auto;line-height:normal;font-family:Menlo,'DejaVu Sans Mono',consolas,'Courier New',monospace\"><span style=\"color: #00ff00; text-decoration-color: #00ff00\">────────────────────────────────── </span><span style=\"font-weight: bold\">{</span><span style=\"color: #008000; text-decoration-color: #008000\">'column_first'</span>: <span style=\"color: #00ff00; text-decoration-color: #00ff00; font-style: italic\">True</span><span style=\"font-weight: bold\">}</span><span style=\"color: #00ff00; text-decoration-color: #00ff00\"> ───────────────────────────────────</span>\n",
       "</pre>\n"
      ],
      "text/plain": [
       "\u001b[92m────────────────────────────────── \u001b[0m\u001b[1m{\u001b[0m\u001b[32m'column_first'\u001b[0m: \u001b[3;92mTrue\u001b[0m\u001b[1m}\u001b[0m\u001b[92m ───────────────────────────────────\u001b[0m\n"
      ]
     },
     "metadata": {},
     "output_type": "display_data"
    },
    {
     "data": {
      "text/html": [
       "<pre style=\"white-space:pre;overflow-x:auto;line-height:normal;font-family:Menlo,'DejaVu Sans Mono',consolas,'Courier New',monospace\">gif_recorder_40741_html_01973.html gif_recorder_15_html_00101.html \n",
       "gif_recorder_86287_jpg_00640.jpg   gif_recorder_40741_jpg_04392.jpg\n",
       "gif_recorder_51779_html_01197.html gif_recorder_19587_jpg_00288.jpg\n",
       "gif_recorder_45397_html_00433.html gif_recorder_34947_jpg_00664.jpg\n",
       "gif_recorder_40741_html_00661.html gif_recorder_11949_jpg_00203.jpg\n",
       "</pre>\n"
      ],
      "text/plain": [
       "gif_recorder_40741_html_01973.html gif_recorder_15_html_00101.html \n",
       "gif_recorder_86287_jpg_00640.jpg   gif_recorder_40741_jpg_04392.jpg\n",
       "gif_recorder_51779_html_01197.html gif_recorder_19587_jpg_00288.jpg\n",
       "gif_recorder_45397_html_00433.html gif_recorder_34947_jpg_00664.jpg\n",
       "gif_recorder_40741_html_00661.html gif_recorder_11949_jpg_00203.jpg\n"
      ]
     },
     "metadata": {},
     "output_type": "display_data"
    },
    {
     "data": {
      "text/html": [
       "<pre style=\"white-space:pre;overflow-x:auto;line-height:normal;font-family:Menlo,'DejaVu Sans Mono',consolas,'Courier New',monospace\"><span style=\"color: #00ff00; text-decoration-color: #00ff00\">─────────────────────────────────── </span><span style=\"font-weight: bold\">{</span><span style=\"color: #008000; text-decoration-color: #008000\">'title'</span>: <span style=\"color: #008000; text-decoration-color: #008000\">'i am jeb'</span><span style=\"font-weight: bold\">}</span><span style=\"color: #00ff00; text-decoration-color: #00ff00\"> ───────────────────────────────────</span>\n",
       "</pre>\n"
      ],
      "text/plain": [
       "\u001b[92m─────────────────────────────────── \u001b[0m\u001b[1m{\u001b[0m\u001b[32m'title'\u001b[0m: \u001b[32m'i am jeb'\u001b[0m\u001b[1m}\u001b[0m\u001b[92m ───────────────────────────────────\u001b[0m\n"
      ]
     },
     "metadata": {},
     "output_type": "display_data"
    },
    {
     "data": {
      "text/html": [
       "<pre style=\"white-space:pre;overflow-x:auto;line-height:normal;font-family:Menlo,'DejaVu Sans Mono',consolas,'Courier New',monospace\"><span style=\"font-style: italic\">                              i am jeb                               </span>\n",
       "gif_recorder_40741_html_01973.html gif_recorder_86287_jpg_00640.jpg  \n",
       "gif_recorder_51779_html_01197.html gif_recorder_45397_html_00433.html\n",
       "gif_recorder_40741_html_00661.html gif_recorder_15_html_00101.html   \n",
       "gif_recorder_40741_jpg_04392.jpg   gif_recorder_19587_jpg_00288.jpg  \n",
       "gif_recorder_34947_jpg_00664.jpg   gif_recorder_11949_jpg_00203.jpg  \n",
       "</pre>\n"
      ],
      "text/plain": [
       "\u001b[3m                              i am jeb                               \u001b[0m\n",
       "gif_recorder_40741_html_01973.html gif_recorder_86287_jpg_00640.jpg  \n",
       "gif_recorder_51779_html_01197.html gif_recorder_45397_html_00433.html\n",
       "gif_recorder_40741_html_00661.html gif_recorder_15_html_00101.html   \n",
       "gif_recorder_40741_jpg_04392.jpg   gif_recorder_19587_jpg_00288.jpg  \n",
       "gif_recorder_34947_jpg_00664.jpg   gif_recorder_11949_jpg_00203.jpg  \n"
      ]
     },
     "metadata": {},
     "output_type": "display_data"
    },
    {
     "data": {
      "text/html": [
       "<pre style=\"white-space:pre;overflow-x:auto;line-height:normal;font-family:Menlo,'DejaVu Sans Mono',consolas,'Courier New',monospace\"><span style=\"color: #00ff00; text-decoration-color: #00ff00\">──────────────────────────────────── </span><span style=\"font-weight: bold\">{</span><span style=\"color: #008000; text-decoration-color: #008000\">'align'</span>: <span style=\"color: #008000; text-decoration-color: #008000\">'center'</span><span style=\"font-weight: bold\">}</span><span style=\"color: #00ff00; text-decoration-color: #00ff00\"> ────────────────────────────────────</span>\n",
       "</pre>\n"
      ],
      "text/plain": [
       "\u001b[92m──────────────────────────────────── \u001b[0m\u001b[1m{\u001b[0m\u001b[32m'align'\u001b[0m: \u001b[32m'center'\u001b[0m\u001b[1m}\u001b[0m\u001b[92m ────────────────────────────────────\u001b[0m\n"
      ]
     },
     "metadata": {},
     "output_type": "display_data"
    },
    {
     "data": {
      "text/html": [
       "<pre style=\"white-space:pre;overflow-x:auto;line-height:normal;font-family:Menlo,'DejaVu Sans Mono',consolas,'Courier New',monospace\">gif_recorder_40741_html_01973.html  gif_recorder_86287_jpg_00640.jpg \n",
       "gif_recorder_51779_html_01197.html gif_recorder_45397_html_00433.html\n",
       "gif_recorder_40741_html_00661.html  gif_recorder_15_html_00101.html  \n",
       " gif_recorder_40741_jpg_04392.jpg   gif_recorder_19587_jpg_00288.jpg \n",
       " gif_recorder_34947_jpg_00664.jpg   gif_recorder_11949_jpg_00203.jpg \n",
       "</pre>\n"
      ],
      "text/plain": [
       "gif_recorder_40741_html_01973.html  gif_recorder_86287_jpg_00640.jpg \n",
       "gif_recorder_51779_html_01197.html gif_recorder_45397_html_00433.html\n",
       "gif_recorder_40741_html_00661.html  gif_recorder_15_html_00101.html  \n",
       " gif_recorder_40741_jpg_04392.jpg   gif_recorder_19587_jpg_00288.jpg \n",
       " gif_recorder_34947_jpg_00664.jpg   gif_recorder_11949_jpg_00203.jpg \n"
      ]
     },
     "metadata": {},
     "output_type": "display_data"
    },
    {
     "data": {
      "text/html": [
       "<pre style=\"white-space:pre;overflow-x:auto;line-height:normal;font-family:Menlo,'DejaVu Sans Mono',consolas,'Courier New',monospace\"><span style=\"color: #00ff00; text-decoration-color: #00ff00\">─────────────────────────────────────── </span><span style=\"font-weight: bold\">{</span><span style=\"color: #008000; text-decoration-color: #008000\">'width'</span>: <span style=\"color: #008080; text-decoration-color: #008080; font-weight: bold\">1</span><span style=\"font-weight: bold\">}</span><span style=\"color: #00ff00; text-decoration-color: #00ff00\"> ────────────────────────────────────────</span>\n",
       "</pre>\n"
      ],
      "text/plain": [
       "\u001b[92m─────────────────────────────────────── \u001b[0m\u001b[1m{\u001b[0m\u001b[32m'width'\u001b[0m: \u001b[1;36m1\u001b[0m\u001b[1m}\u001b[0m\u001b[92m ────────────────────────────────────────\u001b[0m\n"
      ]
     },
     "metadata": {},
     "output_type": "display_data"
    },
    {
     "data": {
      "text/html": [
       "<pre style=\"white-space:pre;overflow-x:auto;line-height:normal;font-family:Menlo,'DejaVu Sans Mono',consolas,'Courier New',monospace\">g… … … … … … … … … …                                                                         \n",
       "</pre>\n"
      ],
      "text/plain": [
       "g… … … … … … … … … …                                                                         \n"
      ]
     },
     "metadata": {},
     "output_type": "display_data"
    }
   ],
   "source": [
    "# ls-like util\n",
    "import os\n",
    "dirs = os.listdir('/tmp')[:10]\n",
    "\n",
    "def _display(**kwargs):\n",
    "    c.rule(str(kwargs))\n",
    "    print(Columns(dirs, **kwargs))\n",
    "_display()\n",
    "_display(equal=True)\n",
    "_display(expand=True)\n",
    "_display(equal=True, expand=True)\n",
    "_display(column_first=True)  # go down columns first\n",
    "_display(title='i am jeb')\n",
    "_display(align='center')\n",
    "_display(width=1)\n"
   ]
  },
  {
   "cell_type": "code",
   "execution_count": null,
   "id": "f4f1c1fa",
   "metadata": {},
   "outputs": [],
   "source": []
  },
  {
   "cell_type": "markdown",
   "id": "0bf986c6",
   "metadata": {},
   "source": [
    "---\n",
    "### [Group](https://rich.readthedocs.io/en/stable/group.html)\n",
    "\n",
    "group renderables together\n",
    "\n",
    "---"
   ]
  },
  {
   "cell_type": "code",
   "execution_count": 58,
   "id": "da605a80",
   "metadata": {},
   "outputs": [],
   "source": [
    "from rich.console import Group, group\n",
    "from rich.panel import Panel"
   ]
  },
  {
   "cell_type": "code",
   "execution_count": 59,
   "id": "94ce3497",
   "metadata": {},
   "outputs": [
    {
     "data": {
      "text/html": [
       "<pre style=\"white-space:pre;overflow-x:auto;line-height:normal;font-family:Menlo,'DejaVu Sans Mono',consolas,'Courier New',monospace\">╭───────────────────────────────────────────────────────────────────────────────────────────╮\n",
       "│ ╭───────────────────────────────────────────────────────────────────────────────────────╮ │\n",
       "│ │ <span style=\"background-color: #000080\">my name is</span>                                                                            │ │\n",
       "│ ╰───────────────────────────────────────────────────────────────────────────────────────╯ │\n",
       "│ ╭───────────────────────────────────────────────────────────────────────────────────────╮ │\n",
       "│ │ <span style=\"background-color: #800000\">JEB</span>                                                                                   │ │\n",
       "│ ╰───────────────────────────────────────────────────────────────────────────────────────╯ │\n",
       "╰───────────────────────────────────────────────────────────────────────────────────────────╯\n",
       "</pre>\n"
      ],
      "text/plain": [
       "╭───────────────────────────────────────────────────────────────────────────────────────────╮\n",
       "│ ╭───────────────────────────────────────────────────────────────────────────────────────╮ │\n",
       "│ │ \u001b[44mmy name is\u001b[0m                                                                            │ │\n",
       "│ ╰───────────────────────────────────────────────────────────────────────────────────────╯ │\n",
       "│ ╭───────────────────────────────────────────────────────────────────────────────────────╮ │\n",
       "│ │ \u001b[41mJEB\u001b[0m                                                                                   │ │\n",
       "│ ╰───────────────────────────────────────────────────────────────────────────────────────╯ │\n",
       "╰───────────────────────────────────────────────────────────────────────────────────────────╯\n"
      ]
     },
     "metadata": {},
     "output_type": "display_data"
    }
   ],
   "source": [
    "panel_group = Group(\n",
    "    Panel('[on blue]my name is'),\n",
    "    Panel('[on red]JEB')\n",
    ")\n",
    "print(Panel(panel_group))"
   ]
  },
  {
   "cell_type": "code",
   "execution_count": 60,
   "id": "b10e7f1d",
   "metadata": {},
   "outputs": [
    {
     "data": {
      "text/html": [
       "<pre style=\"white-space:pre;overflow-x:auto;line-height:normal;font-family:Menlo,'DejaVu Sans Mono',consolas,'Courier New',monospace\">┏━━━━━━━━━━━━━━━━━━━━━━━━━━━━━━━┳━━━━━━━━━━━━━━━━┓\n",
       "┃<span style=\"font-weight: bold\"> col a                         </span>┃<span style=\"font-weight: bold\"> col b          </span>┃\n",
       "┡━━━━━━━━━━━━━━━━━━━━━━━━━━━━━━━╇━━━━━━━━━━━━━━━━┩\n",
       "│ ╭───────────────────────────╮ │ sick table bro │\n",
       "│ │ <span style=\"color: #800000; text-decoration-color: #800000; font-weight: bold\">let us see how this works</span> │ │                │\n",
       "│ ╰───────────────────────────╯ │                │\n",
       "│ hmmmmm                        │                │\n",
       "│ ┏━━━┓                         │                │\n",
       "│ ┃<span style=\"font-weight: bold\"> h </span>┃                         │                │\n",
       "│ ┡━━━┩                         │                │\n",
       "│ └───┘                         │                │\n",
       "└───────────────────────────────┴────────────────┘\n",
       "</pre>\n"
      ],
      "text/plain": [
       "┏━━━━━━━━━━━━━━━━━━━━━━━━━━━━━━━┳━━━━━━━━━━━━━━━━┓\n",
       "┃\u001b[1m \u001b[0m\u001b[1mcol a                        \u001b[0m\u001b[1m \u001b[0m┃\u001b[1m \u001b[0m\u001b[1mcol b         \u001b[0m\u001b[1m \u001b[0m┃\n",
       "┡━━━━━━━━━━━━━━━━━━━━━━━━━━━━━━━╇━━━━━━━━━━━━━━━━┩\n",
       "│ ╭───────────────────────────╮ │ sick table bro │\n",
       "│ │ \u001b[1;31mlet us see how this works\u001b[0m │ │                │\n",
       "│ ╰───────────────────────────╯ │                │\n",
       "│ hmmmmm                        │                │\n",
       "│ ┏━━━┓                         │                │\n",
       "│ ┃\u001b[1m \u001b[0m\u001b[1mh\u001b[0m\u001b[1m \u001b[0m┃                         │                │\n",
       "│ ┡━━━┩                         │                │\n",
       "│ └───┘                         │                │\n",
       "└───────────────────────────────┴────────────────┘\n"
      ]
     },
     "metadata": {},
     "output_type": "display_data"
    }
   ],
   "source": [
    "@group()\n",
    "def objs():\n",
    "    yield Panel('[bold red]let us see how this works')\n",
    "    yield Text('hmmmmm')\n",
    "    yield Table('h')\n",
    "t = Table('col a', 'col b', show_header=True)\n",
    "t.add_row(objs(), 'sick table bro')\n",
    "print(t)"
   ]
  },
  {
   "cell_type": "code",
   "execution_count": 61,
   "id": "5c1890b7",
   "metadata": {},
   "outputs": [
    {
     "data": {
      "text/html": [
       "<pre style=\"white-space:pre;overflow-x:auto;line-height:normal;font-family:Menlo,'DejaVu Sans Mono',consolas,'Courier New',monospace\">┏━━━┳━━━━━━━━━━━━━━━━━━━━━━━━━━━━━━━━━━━━━━━━━━━━━━━━━━━━━━━━━━━━┓\n",
       "┃ i ┃ ┏━━━━┳━━━━━━━━━━━━━━━━━━━━━━━━━━━━━━━━━━━━━━━━━━━━━━━━━━━┓ ┃\n",
       "┃   ┃ ┃ am ┃ ┏━━━━━┳━━━━━━━━━━━━━━━━━━━━━━━━━━━━━━━━━━━━━━━━━┓ ┃ ┃\n",
       "┃   ┃ ┃    ┃ ┃ the ┃ ┏━━━━━━┳━━━━━━━━━━━━━━━━━━━━━━━━━━━━━━┓ ┃ ┃ ┃\n",
       "┃   ┃ ┃    ┃ ┃     ┃ ┃ very ┃ ┏━━━━━━━┳━━━━━━━━━━━━━━━━━━┓ ┃ ┃ ┃ ┃\n",
       "┃   ┃ ┃    ┃ ┃     ┃ ┃      ┃ ┃ model ┃ ┏━━━━┳━━━━━━━━━┓ ┃ ┃ ┃ ┃ ┃\n",
       "┃   ┃ ┃    ┃ ┃     ┃ ┃      ┃ ┃       ┃ ┃ of ┃ ┏━━━━━┓ ┃ ┃ ┃ ┃ ┃ ┃\n",
       "┃   ┃ ┃    ┃ ┃     ┃ ┃      ┃ ┃       ┃ ┃    ┃ ┃ the ┃ ┃ ┃ ┃ ┃ ┃ ┃\n",
       "┃   ┃ ┃    ┃ ┃     ┃ ┃      ┃ ┃       ┃ ┃    ┃ └─────┘ ┃ ┃ ┃ ┃ ┃ ┃\n",
       "┃   ┃ ┃    ┃ ┃     ┃ ┃      ┃ ┃       ┃ └────┴─────────┘ ┃ ┃ ┃ ┃ ┃\n",
       "┃   ┃ ┃    ┃ ┃     ┃ ┃      ┃ └───────┴──────────────────┘ ┃ ┃ ┃ ┃\n",
       "┃   ┃ ┃    ┃ ┃     ┃ └──────┴──────────────────────────────┘ ┃ ┃ ┃\n",
       "┃   ┃ ┃    ┃ └─────┴─────────────────────────────────────────┘ ┃ ┃\n",
       "┃   ┃ └────┴───────────────────────────────────────────────────┘ ┃\n",
       "└───┴────────────────────────────────────────────────────────────┘\n",
       "</pre>\n"
      ],
      "text/plain": [
       "┏━━━┳━━━━━━━━━━━━━━━━━━━━━━━━━━━━━━━━━━━━━━━━━━━━━━━━━━━━━━━━━━━━┓\n",
       "┃ i ┃ ┏━━━━┳━━━━━━━━━━━━━━━━━━━━━━━━━━━━━━━━━━━━━━━━━━━━━━━━━━━┓ ┃\n",
       "┃   ┃ ┃ am ┃ ┏━━━━━┳━━━━━━━━━━━━━━━━━━━━━━━━━━━━━━━━━━━━━━━━━┓ ┃ ┃\n",
       "┃   ┃ ┃    ┃ ┃ the ┃ ┏━━━━━━┳━━━━━━━━━━━━━━━━━━━━━━━━━━━━━━┓ ┃ ┃ ┃\n",
       "┃   ┃ ┃    ┃ ┃     ┃ ┃ very ┃ ┏━━━━━━━┳━━━━━━━━━━━━━━━━━━┓ ┃ ┃ ┃ ┃\n",
       "┃   ┃ ┃    ┃ ┃     ┃ ┃      ┃ ┃ model ┃ ┏━━━━┳━━━━━━━━━┓ ┃ ┃ ┃ ┃ ┃\n",
       "┃   ┃ ┃    ┃ ┃     ┃ ┃      ┃ ┃       ┃ ┃ of ┃ ┏━━━━━┓ ┃ ┃ ┃ ┃ ┃ ┃\n",
       "┃   ┃ ┃    ┃ ┃     ┃ ┃      ┃ ┃       ┃ ┃    ┃ ┃ the ┃ ┃ ┃ ┃ ┃ ┃ ┃\n",
       "┃   ┃ ┃    ┃ ┃     ┃ ┃      ┃ ┃       ┃ ┃    ┃ └─────┘ ┃ ┃ ┃ ┃ ┃ ┃\n",
       "┃   ┃ ┃    ┃ ┃     ┃ ┃      ┃ ┃       ┃ └────┴─────────┘ ┃ ┃ ┃ ┃ ┃\n",
       "┃   ┃ ┃    ┃ ┃     ┃ ┃      ┃ └───────┴──────────────────┘ ┃ ┃ ┃ ┃\n",
       "┃   ┃ ┃    ┃ ┃     ┃ └──────┴──────────────────────────────┘ ┃ ┃ ┃\n",
       "┃   ┃ ┃    ┃ └─────┴─────────────────────────────────────────┘ ┃ ┃\n",
       "┃   ┃ └────┴───────────────────────────────────────────────────┘ ┃\n",
       "└───┴────────────────────────────────────────────────────────────┘\n"
      ]
     },
     "metadata": {},
     "output_type": "display_data"
    }
   ],
   "source": [
    "def recursive_table(*texts):\n",
    "    if not texts:\n",
    "        return\n",
    "    first, *rest = texts\n",
    "    \n",
    "    t = Table(show_header=False)\n",
    "    if rem := recursive_table(*rest):\n",
    "        t.add_row(first, rem)\n",
    "    else:\n",
    "        t.add_row(first)\n",
    "    \n",
    "    return t\n",
    "\n",
    "print(recursive_table(*'i am the very model of the'.split()))"
   ]
  },
  {
   "cell_type": "markdown",
   "id": "b39dde1a",
   "metadata": {},
   "source": [
    "---\n",
    "### [Markdown](https://rich.readthedocs.io/en/stable/markdown.html)\n",
    "---"
   ]
  },
  {
   "cell_type": "code",
   "execution_count": 62,
   "id": "b937d6b1",
   "metadata": {},
   "outputs": [],
   "source": [
    "from rich.markdown import Markdown"
   ]
  },
  {
   "cell_type": "code",
   "execution_count": 63,
   "id": "18a085fd",
   "metadata": {},
   "outputs": [
    {
     "data": {
      "text/html": [
       "<pre style=\"white-space:pre;overflow-x:auto;line-height:normal;font-family:Menlo,'DejaVu Sans Mono',consolas,'Courier New',monospace\">╔═══════════════════════════════════════════════════════════════════════════════════════════╗\n",
       "║                                       <span style=\"font-weight: bold\">This is an h1</span>                                       ║\n",
       "╚═══════════════════════════════════════════════════════════════════════════════════════════╝\n",
       "\n",
       "Rich can do a pretty <span style=\"font-style: italic\">decent</span> job of rendering markdown.                                       \n",
       "\n",
       "<span style=\"color: #808000; text-decoration-color: #808000; font-weight: bold\"> 1 </span>This is a list item                                                                       \n",
       "<span style=\"color: #808000; text-decoration-color: #808000; font-weight: bold\"> 2 </span>This is another list item                                                                 \n",
       "\n",
       "<span style=\"color: #808000; text-decoration-color: #808000; font-weight: bold\"> • </span>bullet                                                                                    \n",
       "<span style=\"color: #808000; text-decoration-color: #808000; font-weight: bold\"> • </span>list                                                                                      \n",
       "<span style=\"color: #808000; text-decoration-color: #808000; font-weight: bold\"> • </span>here                                                                                      \n",
       "\n",
       "<span style=\"color: #800080; text-decoration-color: #800080\">▌ quote time who knows what will happen                                                    </span>\n",
       "\n",
       "<span style=\"font-weight: bold\">jeb</span> tuse <span style=\"font-style: italic\">mo</span>                                                                                  \n",
       "</pre>\n"
      ],
      "text/plain": [
       "╔═══════════════════════════════════════════════════════════════════════════════════════════╗\n",
       "║                                       \u001b[1mThis is an h1\u001b[0m                                       ║\n",
       "╚═══════════════════════════════════════════════════════════════════════════════════════════╝\n",
       "\n",
       "Rich can do a pretty \u001b[3mdecent\u001b[0m job of rendering markdown.                                       \n",
       "\n",
       "\u001b[1;33m 1 \u001b[0mThis is a list item                                                                       \n",
       "\u001b[1;33m 2 \u001b[0mThis is another list item                                                                 \n",
       "\n",
       "\u001b[1;33m • \u001b[0mbullet                                                                                    \n",
       "\u001b[1;33m • \u001b[0mlist                                                                                      \n",
       "\u001b[1;33m • \u001b[0mhere                                                                                      \n",
       "\n",
       "\u001b[35m▌ \u001b[0m\u001b[35mquote time\u001b[0m\u001b[35m \u001b[0m\u001b[35mwho knows what will happen\u001b[0m\u001b[35m                                                    \u001b[0m\n",
       "\n",
       "\u001b[1mjeb\u001b[0m tuse \u001b[3mmo\u001b[0m                                                                                  \n"
      ]
     },
     "metadata": {},
     "output_type": "display_data"
    }
   ],
   "source": [
    "md = Markdown(\"\"\"\n",
    "# This is an h1\n",
    "\n",
    "Rich can do a pretty *decent* job of rendering markdown.\n",
    "\n",
    "1. This is a list item\n",
    "1. This is another list item\n",
    "\n",
    "- bullet\n",
    "- list\n",
    "- here\n",
    "\n",
    "> quote time\n",
    "who knows what will happen\n",
    "\n",
    "**jeb** tuse *mo*\n",
    "\"\"\")\n",
    "print(md)"
   ]
  },
  {
   "cell_type": "code",
   "execution_count": null,
   "id": "35107145",
   "metadata": {},
   "outputs": [],
   "source": []
  },
  {
   "cell_type": "markdown",
   "id": "1a9f6d84",
   "metadata": {},
   "source": [
    "---\n",
    "### [Padding](https://rich.readthedocs.io/en/stable/padding.html) and [Panel](https://rich.readthedocs.io/en/stable/panel.html)\n",
    "---"
   ]
  },
  {
   "cell_type": "code",
   "execution_count": 64,
   "id": "57128ba3",
   "metadata": {},
   "outputs": [],
   "source": [
    "from rich.padding import Padding"
   ]
  },
  {
   "cell_type": "code",
   "execution_count": 65,
   "id": "b78afc5d",
   "metadata": {},
   "outputs": [
    {
     "data": {
      "text/html": [
       "<pre style=\"white-space:pre;overflow-x:auto;line-height:normal;font-family:Menlo,'DejaVu Sans Mono',consolas,'Courier New',monospace\"><span style=\"color: #00ff00; text-decoration-color: #00ff00\">─────────────────────────────────── </span><span style=\"font-weight: bold\">{</span><span style=\"color: #008000; text-decoration-color: #008000\">'pad'</span>: <span style=\"font-weight: bold\">(</span><span style=\"color: #008080; text-decoration-color: #008080; font-weight: bold\">1</span>, <span style=\"color: #008080; text-decoration-color: #008080; font-weight: bold\">0</span>, <span style=\"color: #008080; text-decoration-color: #008080; font-weight: bold\">0</span>, <span style=\"color: #008080; text-decoration-color: #008080; font-weight: bold\">0</span><span style=\"font-weight: bold\">)}</span><span style=\"color: #00ff00; text-decoration-color: #00ff00\"> ───────────────────────────────────</span>\n",
       "</pre>\n"
      ],
      "text/plain": [
       "\u001b[92m─────────────────────────────────── \u001b[0m\u001b[1m{\u001b[0m\u001b[32m'pad'\u001b[0m: \u001b[1m(\u001b[0m\u001b[1;36m1\u001b[0m, \u001b[1;36m0\u001b[0m, \u001b[1;36m0\u001b[0m, \u001b[1;36m0\u001b[0m\u001b[1m)\u001b[0m\u001b[1m}\u001b[0m\u001b[92m ───────────────────────────────────\u001b[0m\n"
      ]
     },
     "metadata": {},
     "output_type": "display_data"
    },
    {
     "data": {
      "text/html": [
       "<pre style=\"white-space:pre;overflow-x:auto;line-height:normal;font-family:Menlo,'DejaVu Sans Mono',consolas,'Courier New',monospace\">╭─ oh yeah ─╮\n",
       "│ <span style=\"background-color: #000080\">         </span> │\n",
       "│ <span style=\"color: #af00ff; text-decoration-color: #af00ff; background-color: #000080\">hello</span><span style=\"background-color: #000080\">    </span> │\n",
       "╰─ i am sub─╯\n",
       "</pre>\n"
      ],
      "text/plain": [
       "╭─ oh yeah ─╮\n",
       "│ \u001b[44m         \u001b[0m │\n",
       "│ \u001b[38;5;129;44mhello\u001b[0m\u001b[44m    \u001b[0m │\n",
       "╰─ i am sub─╯\n"
      ]
     },
     "metadata": {},
     "output_type": "display_data"
    },
    {
     "data": {
      "text/html": [
       "<pre style=\"white-space:pre;overflow-x:auto;line-height:normal;font-family:Menlo,'DejaVu Sans Mono',consolas,'Courier New',monospace\"><span style=\"color: #00ff00; text-decoration-color: #00ff00\">────────────────────────────────────── </span><span style=\"font-weight: bold\">{</span><span style=\"color: #008000; text-decoration-color: #008000\">'pad'</span>: <span style=\"font-weight: bold\">(</span><span style=\"color: #008080; text-decoration-color: #008080; font-weight: bold\">2</span>, <span style=\"color: #008080; text-decoration-color: #008080; font-weight: bold\">4</span><span style=\"font-weight: bold\">)}</span><span style=\"color: #00ff00; text-decoration-color: #00ff00\"> ──────────────────────────────────────</span>\n",
       "</pre>\n"
      ],
      "text/plain": [
       "\u001b[92m────────────────────────────────────── \u001b[0m\u001b[1m{\u001b[0m\u001b[32m'pad'\u001b[0m: \u001b[1m(\u001b[0m\u001b[1;36m2\u001b[0m, \u001b[1;36m4\u001b[0m\u001b[1m)\u001b[0m\u001b[1m}\u001b[0m\u001b[92m ──────────────────────────────────────\u001b[0m\n"
      ]
     },
     "metadata": {},
     "output_type": "display_data"
    },
    {
     "data": {
      "text/html": [
       "<pre style=\"white-space:pre;overflow-x:auto;line-height:normal;font-family:Menlo,'DejaVu Sans Mono',consolas,'Courier New',monospace\">╭─── oh yeah ───╮\n",
       "│ <span style=\"background-color: #000080\">             </span> │\n",
       "│ <span style=\"background-color: #000080\">             </span> │\n",
       "│ <span style=\"background-color: #000080\">    </span><span style=\"color: #af00ff; text-decoration-color: #af00ff; background-color: #000080\">hello</span><span style=\"background-color: #000080\">    </span> │\n",
       "│ <span style=\"background-color: #000080\">             </span> │\n",
       "│ <span style=\"background-color: #000080\">             </span> │\n",
       "╰─ i am subtitl─╯\n",
       "</pre>\n"
      ],
      "text/plain": [
       "╭─── oh yeah ───╮\n",
       "│ \u001b[44m             \u001b[0m │\n",
       "│ \u001b[44m             \u001b[0m │\n",
       "│ \u001b[44m    \u001b[0m\u001b[38;5;129;44mhello\u001b[0m\u001b[44m    \u001b[0m │\n",
       "│ \u001b[44m             \u001b[0m │\n",
       "│ \u001b[44m             \u001b[0m │\n",
       "╰─ i am subtitl─╯\n"
      ]
     },
     "metadata": {},
     "output_type": "display_data"
    },
    {
     "data": {
      "text/html": [
       "<pre style=\"white-space:pre;overflow-x:auto;line-height:normal;font-family:Menlo,'DejaVu Sans Mono',consolas,'Courier New',monospace\"><span style=\"color: #00ff00; text-decoration-color: #00ff00\">────────────────────────────────── </span><span style=\"font-weight: bold\">{</span><span style=\"color: #008000; text-decoration-color: #008000\">'pad'</span>: <span style=\"font-weight: bold\">(</span><span style=\"color: #008080; text-decoration-color: #008080; font-weight: bold\">3</span>, <span style=\"color: #008080; text-decoration-color: #008080; font-weight: bold\">6</span>, <span style=\"color: #008080; text-decoration-color: #008080; font-weight: bold\">9</span>, <span style=\"color: #008080; text-decoration-color: #008080; font-weight: bold\">12</span><span style=\"font-weight: bold\">)}</span><span style=\"color: #00ff00; text-decoration-color: #00ff00\"> ───────────────────────────────────</span>\n",
       "</pre>\n"
      ],
      "text/plain": [
       "\u001b[92m────────────────────────────────── \u001b[0m\u001b[1m{\u001b[0m\u001b[32m'pad'\u001b[0m: \u001b[1m(\u001b[0m\u001b[1;36m3\u001b[0m, \u001b[1;36m6\u001b[0m, \u001b[1;36m9\u001b[0m, \u001b[1;36m12\u001b[0m\u001b[1m)\u001b[0m\u001b[1m}\u001b[0m\u001b[92m ───────────────────────────────────\u001b[0m\n"
      ]
     },
     "metadata": {},
     "output_type": "display_data"
    },
    {
     "data": {
      "text/html": [
       "<pre style=\"white-space:pre;overflow-x:auto;line-height:normal;font-family:Menlo,'DejaVu Sans Mono',consolas,'Courier New',monospace\">╭──────── oh yeah ────────╮\n",
       "│ <span style=\"background-color: #000080\">                       </span> │\n",
       "│ <span style=\"background-color: #000080\">                       </span> │\n",
       "│ <span style=\"background-color: #000080\">                       </span> │\n",
       "│ <span style=\"background-color: #000080\">            </span><span style=\"color: #af00ff; text-decoration-color: #af00ff; background-color: #000080\">hello</span><span style=\"background-color: #000080\">      </span> │\n",
       "│ <span style=\"background-color: #000080\">                       </span> │\n",
       "│ <span style=\"background-color: #000080\">                       </span> │\n",
       "│ <span style=\"background-color: #000080\">                       </span> │\n",
       "│ <span style=\"background-color: #000080\">                       </span> │\n",
       "│ <span style=\"background-color: #000080\">                       </span> │\n",
       "│ <span style=\"background-color: #000080\">                       </span> │\n",
       "│ <span style=\"background-color: #000080\">                       </span> │\n",
       "│ <span style=\"background-color: #000080\">                       </span> │\n",
       "│ <span style=\"background-color: #000080\">                       </span> │\n",
       "╰───── i am subtitle ─────╯\n",
       "</pre>\n"
      ],
      "text/plain": [
       "╭──────── oh yeah ────────╮\n",
       "│ \u001b[44m                       \u001b[0m │\n",
       "│ \u001b[44m                       \u001b[0m │\n",
       "│ \u001b[44m                       \u001b[0m │\n",
       "│ \u001b[44m            \u001b[0m\u001b[38;5;129;44mhello\u001b[0m\u001b[44m      \u001b[0m │\n",
       "│ \u001b[44m                       \u001b[0m │\n",
       "│ \u001b[44m                       \u001b[0m │\n",
       "│ \u001b[44m                       \u001b[0m │\n",
       "│ \u001b[44m                       \u001b[0m │\n",
       "│ \u001b[44m                       \u001b[0m │\n",
       "│ \u001b[44m                       \u001b[0m │\n",
       "│ \u001b[44m                       \u001b[0m │\n",
       "│ \u001b[44m                       \u001b[0m │\n",
       "│ \u001b[44m                       \u001b[0m │\n",
       "╰───── i am subtitle ─────╯\n"
      ]
     },
     "metadata": {},
     "output_type": "display_data"
    }
   ],
   "source": [
    "def _display(style='on blue', **kwargs):\n",
    "    c.rule(str(kwargs))\n",
    "    print(Panel(Padding('[purple]hello', **kwargs, style=style), expand=False, subtitle='i am subtitle', title='oh yeah'))\n",
    "_display(pad=(1,0, 0, 0))\n",
    "_display(pad=(2,4))\n",
    "_display(pad=(3,6,9,12))"
   ]
  },
  {
   "cell_type": "code",
   "execution_count": 66,
   "id": "7992b213",
   "metadata": {},
   "outputs": [
    {
     "data": {
      "text/html": [
       "<pre style=\"white-space:pre;overflow-x:auto;line-height:normal;font-family:Menlo,'DejaVu Sans Mono',consolas,'Courier New',monospace\"># equavalent to <span style=\"color: #ffffff; text-decoration-color: #ffffff; background-color: #000000\">expand=False</span>                                                                 \n",
       "</pre>\n"
      ],
      "text/plain": [
       "# equavalent to \u001b[97;40mexpand=False\u001b[0m                                                                 \n"
      ]
     },
     "metadata": {},
     "output_type": "display_data"
    },
    {
     "data": {
      "text/html": [
       "<pre style=\"white-space:pre;overflow-x:auto;line-height:normal;font-family:Menlo,'DejaVu Sans Mono',consolas,'Courier New',monospace\">╭───────────────────────────────╮\n",
       "│ <span style=\"background-color: #808000\">                             </span> │\n",
       "│ <span style=\"background-color: #808000\">                             </span> │\n",
       "│ <span style=\"background-color: #808000\">                             </span> │\n",
       "│ <span style=\"background-color: #808000\">            hello            </span> │\n",
       "│ <span style=\"background-color: #808000\">                             </span> │\n",
       "│ <span style=\"background-color: #808000\">                             </span> │\n",
       "│ <span style=\"background-color: #808000\">                             </span> │\n",
       "╰───────────────────────────────╯\n",
       "</pre>\n"
      ],
      "text/plain": [
       "╭───────────────────────────────╮\n",
       "│ \u001b[43m                             \u001b[0m │\n",
       "│ \u001b[43m                             \u001b[0m │\n",
       "│ \u001b[43m                             \u001b[0m │\n",
       "│ \u001b[43m            \u001b[0m\u001b[43mhello\u001b[0m\u001b[43m            \u001b[0m │\n",
       "│ \u001b[43m                             \u001b[0m │\n",
       "│ \u001b[43m                             \u001b[0m │\n",
       "│ \u001b[43m                             \u001b[0m │\n",
       "╰───────────────────────────────╯\n"
      ]
     },
     "execution_count": 66,
     "metadata": {},
     "output_type": "execute_result"
    }
   ],
   "source": [
    "print(Markdown('\\# equavalent to `expand=False`'))\n",
    "Panel.fit(Padding('hello', (3, 12), style='on yellow')) "
   ]
  },
  {
   "cell_type": "markdown",
   "id": "72faf7bc",
   "metadata": {},
   "source": [
    "---\n",
    "### ColorBox\n",
    "---"
   ]
  },
  {
   "cell_type": "code",
   "execution_count": 67,
   "id": "2521b441",
   "metadata": {},
   "outputs": [
    {
     "data": {
      "text/html": [
       "<pre style=\"white-space:pre;overflow-x:auto;line-height:normal;font-family:Menlo,'DejaVu Sans Mono',consolas,'Courier New',monospace\"><span style=\"color: #560000; text-decoration-color: #560000; background-color: #330000\">▄</span><span style=\"color: #560500; text-decoration-color: #560500; background-color: #330300\">▄</span><span style=\"color: #560b00; text-decoration-color: #560b00; background-color: #330600\">▄</span><span style=\"color: #561000; text-decoration-color: #561000; background-color: #330900\">▄</span><span style=\"color: #561600; text-decoration-color: #561600; background-color: #330d00\">▄</span><span style=\"color: #561b00; text-decoration-color: #561b00; background-color: #331000\">▄</span><span style=\"color: #562100; text-decoration-color: #562100; background-color: #331300\">▄</span><span style=\"color: #562700; text-decoration-color: #562700; background-color: #331700\">▄</span><span style=\"color: #562c00; text-decoration-color: #562c00; background-color: #331a00\">▄</span><span style=\"color: #563200; text-decoration-color: #563200; background-color: #331d00\">▄</span><span style=\"color: #563700; text-decoration-color: #563700; background-color: #332000\">▄</span><span style=\"color: #563d00; text-decoration-color: #563d00; background-color: #332400\">▄</span><span style=\"color: #564300; text-decoration-color: #564300; background-color: #332700\">▄</span><span style=\"color: #564800; text-decoration-color: #564800; background-color: #332a00\">▄</span><span style=\"color: #564e00; text-decoration-color: #564e00; background-color: #332e00\">▄</span><span style=\"color: #565300; text-decoration-color: #565300; background-color: #333100\">▄</span><span style=\"color: #535600; text-decoration-color: #535600; background-color: #313300\">▄</span><span style=\"color: #4e5600; text-decoration-color: #4e5600; background-color: #2e3300\">▄</span><span style=\"color: #485600; text-decoration-color: #485600; background-color: #2a3300\">▄</span><span style=\"color: #435600; text-decoration-color: #435600; background-color: #273300\">▄</span><span style=\"color: #3d5600; text-decoration-color: #3d5600; background-color: #243300\">▄</span><span style=\"color: #375600; text-decoration-color: #375600; background-color: #203300\">▄</span><span style=\"color: #325600; text-decoration-color: #325600; background-color: #1d3300\">▄</span><span style=\"color: #2c5600; text-decoration-color: #2c5600; background-color: #1a3300\">▄</span><span style=\"color: #275600; text-decoration-color: #275600; background-color: #173300\">▄</span><span style=\"color: #215600; text-decoration-color: #215600; background-color: #133300\">▄</span><span style=\"color: #1b5600; text-decoration-color: #1b5600; background-color: #103300\">▄</span><span style=\"color: #165600; text-decoration-color: #165600; background-color: #0d3300\">▄</span><span style=\"color: #105600; text-decoration-color: #105600; background-color: #093300\">▄</span><span style=\"color: #0b5600; text-decoration-color: #0b5600; background-color: #063300\">▄</span><span style=\"color: #055600; text-decoration-color: #055600; background-color: #033300\">▄</span><span style=\"color: #005600; text-decoration-color: #005600; background-color: #003300\">▄</span><span style=\"color: #005605; text-decoration-color: #005605; background-color: #003303\">▄</span><span style=\"color: #00560b; text-decoration-color: #00560b; background-color: #003306\">▄</span><span style=\"color: #005610; text-decoration-color: #005610; background-color: #003309\">▄</span><span style=\"color: #005616; text-decoration-color: #005616; background-color: #00330d\">▄</span><span style=\"color: #00561b; text-decoration-color: #00561b; background-color: #003310\">▄</span><span style=\"color: #005621; text-decoration-color: #005621; background-color: #003313\">▄</span><span style=\"color: #005627; text-decoration-color: #005627; background-color: #003317\">▄</span><span style=\"color: #00562c; text-decoration-color: #00562c; background-color: #00331a\">▄</span><span style=\"color: #005632; text-decoration-color: #005632; background-color: #00331d\">▄</span><span style=\"color: #005637; text-decoration-color: #005637; background-color: #003320\">▄</span><span style=\"color: #00563d; text-decoration-color: #00563d; background-color: #003324\">▄</span><span style=\"color: #005643; text-decoration-color: #005643; background-color: #003327\">▄</span><span style=\"color: #005648; text-decoration-color: #005648; background-color: #00332a\">▄</span><span style=\"color: #00564e; text-decoration-color: #00564e; background-color: #00332e\">▄</span><span style=\"color: #005653; text-decoration-color: #005653; background-color: #003331\">▄</span><span style=\"color: #005356; text-decoration-color: #005356; background-color: #003133\">▄</span><span style=\"color: #004e56; text-decoration-color: #004e56; background-color: #002e33\">▄</span><span style=\"color: #004856; text-decoration-color: #004856; background-color: #002a33\">▄</span><span style=\"color: #004356; text-decoration-color: #004356; background-color: #002733\">▄</span><span style=\"color: #003d56; text-decoration-color: #003d56; background-color: #002433\">▄</span><span style=\"color: #003756; text-decoration-color: #003756; background-color: #002033\">▄</span><span style=\"color: #003256; text-decoration-color: #003256; background-color: #001d33\">▄</span><span style=\"color: #002c56; text-decoration-color: #002c56; background-color: #001a33\">▄</span><span style=\"color: #002756; text-decoration-color: #002756; background-color: #001733\">▄</span><span style=\"color: #002156; text-decoration-color: #002156; background-color: #001333\">▄</span><span style=\"color: #001b56; text-decoration-color: #001b56; background-color: #001033\">▄</span><span style=\"color: #001656; text-decoration-color: #001656; background-color: #000d33\">▄</span><span style=\"color: #001056; text-decoration-color: #001056; background-color: #000933\">▄</span><span style=\"color: #000b56; text-decoration-color: #000b56; background-color: #000633\">▄</span><span style=\"color: #000556; text-decoration-color: #000556; background-color: #000333\">▄</span><span style=\"color: #000056; text-decoration-color: #000056; background-color: #000033\">▄</span><span style=\"color: #050056; text-decoration-color: #050056; background-color: #030033\">▄</span><span style=\"color: #0b0056; text-decoration-color: #0b0056; background-color: #060033\">▄</span><span style=\"color: #100056; text-decoration-color: #100056; background-color: #090033\">▄</span><span style=\"color: #160056; text-decoration-color: #160056; background-color: #0d0033\">▄</span><span style=\"color: #1b0056; text-decoration-color: #1b0056; background-color: #100033\">▄</span><span style=\"color: #210056; text-decoration-color: #210056; background-color: #130033\">▄</span><span style=\"color: #270056; text-decoration-color: #270056; background-color: #170033\">▄</span><span style=\"color: #2c0056; text-decoration-color: #2c0056; background-color: #1a0033\">▄</span><span style=\"color: #320056; text-decoration-color: #320056; background-color: #1d0033\">▄</span><span style=\"color: #370056; text-decoration-color: #370056; background-color: #200033\">▄</span><span style=\"color: #3d0056; text-decoration-color: #3d0056; background-color: #240033\">▄</span><span style=\"color: #430056; text-decoration-color: #430056; background-color: #270033\">▄</span><span style=\"color: #480056; text-decoration-color: #480056; background-color: #2a0033\">▄</span><span style=\"color: #4e0056; text-decoration-color: #4e0056; background-color: #2e0033\">▄</span><span style=\"color: #530056; text-decoration-color: #530056; background-color: #310033\">▄</span><span style=\"color: #560053; text-decoration-color: #560053; background-color: #330031\">▄</span><span style=\"color: #56004e; text-decoration-color: #56004e; background-color: #33002e\">▄</span><span style=\"color: #560048; text-decoration-color: #560048; background-color: #33002a\">▄</span><span style=\"color: #560043; text-decoration-color: #560043; background-color: #330027\">▄</span><span style=\"color: #56003d; text-decoration-color: #56003d; background-color: #330024\">▄</span><span style=\"color: #560037; text-decoration-color: #560037; background-color: #330020\">▄</span><span style=\"color: #560032; text-decoration-color: #560032; background-color: #33001d\">▄</span><span style=\"color: #56002c; text-decoration-color: #56002c; background-color: #33001a\">▄</span><span style=\"color: #560027; text-decoration-color: #560027; background-color: #330017\">▄</span><span style=\"color: #560021; text-decoration-color: #560021; background-color: #330013\">▄</span><span style=\"color: #56001b; text-decoration-color: #56001b; background-color: #330010\">▄</span><span style=\"color: #560016; text-decoration-color: #560016; background-color: #33000d\">▄</span><span style=\"color: #560010; text-decoration-color: #560010; background-color: #330009\">▄</span><span style=\"color: #56000b; text-decoration-color: #56000b; background-color: #330006\">▄</span><span style=\"color: #560005; text-decoration-color: #560005; background-color: #330003\">▄</span>\n",
       "<span style=\"color: #9e0000; text-decoration-color: #9e0000; background-color: #7a0000\">▄</span><span style=\"color: #9e0a00; text-decoration-color: #9e0a00; background-color: #7a0700\">▄</span><span style=\"color: #9e1400; text-decoration-color: #9e1400; background-color: #7a0f00\">▄</span><span style=\"color: #9e1e00; text-decoration-color: #9e1e00; background-color: #7a1700\">▄</span><span style=\"color: #9e2800; text-decoration-color: #9e2800; background-color: #7a1f00\">▄</span><span style=\"color: #9e3300; text-decoration-color: #9e3300; background-color: #7a2700\">▄</span><span style=\"color: #9e3d00; text-decoration-color: #9e3d00; background-color: #7a2f00\">▄</span><span style=\"color: #9e4700; text-decoration-color: #9e4700; background-color: #7a3700\">▄</span><span style=\"color: #9e5100; text-decoration-color: #9e5100; background-color: #7a3f00\">▄</span><span style=\"color: #9e5b00; text-decoration-color: #9e5b00; background-color: #7a4700\">▄</span><span style=\"color: #9e6600; text-decoration-color: #9e6600; background-color: #7a4e00\">▄</span><span style=\"color: #9e7000; text-decoration-color: #9e7000; background-color: #7a5600\">▄</span><span style=\"color: #9e7a00; text-decoration-color: #9e7a00; background-color: #7a5e00\">▄</span><span style=\"color: #9e8400; text-decoration-color: #9e8400; background-color: #7a6600\">▄</span><span style=\"color: #9e8e00; text-decoration-color: #9e8e00; background-color: #7a6e00\">▄</span><span style=\"color: #9e9900; text-decoration-color: #9e9900; background-color: #7a7600\">▄</span><span style=\"color: #989e00; text-decoration-color: #989e00; background-color: #767a00\">▄</span><span style=\"color: #8e9e00; text-decoration-color: #8e9e00; background-color: #6e7a00\">▄</span><span style=\"color: #849e00; text-decoration-color: #849e00; background-color: #667a00\">▄</span><span style=\"color: #7a9e00; text-decoration-color: #7a9e00; background-color: #5e7a00\">▄</span><span style=\"color: #709e00; text-decoration-color: #709e00; background-color: #567a00\">▄</span><span style=\"color: #669e00; text-decoration-color: #669e00; background-color: #4e7a00\">▄</span><span style=\"color: #5b9e00; text-decoration-color: #5b9e00; background-color: #477a00\">▄</span><span style=\"color: #519e00; text-decoration-color: #519e00; background-color: #3f7a00\">▄</span><span style=\"color: #479e00; text-decoration-color: #479e00; background-color: #377a00\">▄</span><span style=\"color: #3d9e00; text-decoration-color: #3d9e00; background-color: #2f7a00\">▄</span><span style=\"color: #339e00; text-decoration-color: #339e00; background-color: #277a00\">▄</span><span style=\"color: #289e00; text-decoration-color: #289e00; background-color: #1f7a00\">▄</span><span style=\"color: #1e9e00; text-decoration-color: #1e9e00; background-color: #177a00\">▄</span><span style=\"color: #149e00; text-decoration-color: #149e00; background-color: #0f7a00\">▄</span><span style=\"color: #0a9e00; text-decoration-color: #0a9e00; background-color: #077a00\">▄</span><span style=\"color: #009e00; text-decoration-color: #009e00; background-color: #007a00\">▄</span><span style=\"color: #009e0a; text-decoration-color: #009e0a; background-color: #007a07\">▄</span><span style=\"color: #009e14; text-decoration-color: #009e14; background-color: #007a0f\">▄</span><span style=\"color: #009e1e; text-decoration-color: #009e1e; background-color: #007a17\">▄</span><span style=\"color: #009e28; text-decoration-color: #009e28; background-color: #007a1f\">▄</span><span style=\"color: #009e33; text-decoration-color: #009e33; background-color: #007a27\">▄</span><span style=\"color: #009e3d; text-decoration-color: #009e3d; background-color: #007a2f\">▄</span><span style=\"color: #009e47; text-decoration-color: #009e47; background-color: #007a37\">▄</span><span style=\"color: #009e51; text-decoration-color: #009e51; background-color: #007a3f\">▄</span><span style=\"color: #009e5b; text-decoration-color: #009e5b; background-color: #007a47\">▄</span><span style=\"color: #009e66; text-decoration-color: #009e66; background-color: #007a4e\">▄</span><span style=\"color: #009e70; text-decoration-color: #009e70; background-color: #007a56\">▄</span><span style=\"color: #009e7a; text-decoration-color: #009e7a; background-color: #007a5e\">▄</span><span style=\"color: #009e84; text-decoration-color: #009e84; background-color: #007a66\">▄</span><span style=\"color: #009e8e; text-decoration-color: #009e8e; background-color: #007a6e\">▄</span><span style=\"color: #009e99; text-decoration-color: #009e99; background-color: #007a76\">▄</span><span style=\"color: #00989e; text-decoration-color: #00989e; background-color: #00767a\">▄</span><span style=\"color: #008e9e; text-decoration-color: #008e9e; background-color: #006e7a\">▄</span><span style=\"color: #00849e; text-decoration-color: #00849e; background-color: #00667a\">▄</span><span style=\"color: #007a9e; text-decoration-color: #007a9e; background-color: #005e7a\">▄</span><span style=\"color: #00709e; text-decoration-color: #00709e; background-color: #00567a\">▄</span><span style=\"color: #00669e; text-decoration-color: #00669e; background-color: #004e7a\">▄</span><span style=\"color: #005b9e; text-decoration-color: #005b9e; background-color: #00477a\">▄</span><span style=\"color: #00519e; text-decoration-color: #00519e; background-color: #003f7a\">▄</span><span style=\"color: #00479e; text-decoration-color: #00479e; background-color: #00377a\">▄</span><span style=\"color: #003d9e; text-decoration-color: #003d9e; background-color: #002f7a\">▄</span><span style=\"color: #00329e; text-decoration-color: #00329e; background-color: #00277a\">▄</span><span style=\"color: #00289e; text-decoration-color: #00289e; background-color: #001f7a\">▄</span><span style=\"color: #001e9e; text-decoration-color: #001e9e; background-color: #00177a\">▄</span><span style=\"color: #00149e; text-decoration-color: #00149e; background-color: #000f7a\">▄</span><span style=\"color: #000a9e; text-decoration-color: #000a9e; background-color: #00077a\">▄</span><span style=\"color: #00009e; text-decoration-color: #00009e; background-color: #00007a\">▄</span><span style=\"color: #0a009e; text-decoration-color: #0a009e; background-color: #07007a\">▄</span><span style=\"color: #14009e; text-decoration-color: #14009e; background-color: #0f007a\">▄</span><span style=\"color: #1e009e; text-decoration-color: #1e009e; background-color: #17007a\">▄</span><span style=\"color: #28009e; text-decoration-color: #28009e; background-color: #1f007a\">▄</span><span style=\"color: #32009e; text-decoration-color: #32009e; background-color: #27007a\">▄</span><span style=\"color: #3d009e; text-decoration-color: #3d009e; background-color: #2f007a\">▄</span><span style=\"color: #47009e; text-decoration-color: #47009e; background-color: #37007a\">▄</span><span style=\"color: #51009e; text-decoration-color: #51009e; background-color: #3f007a\">▄</span><span style=\"color: #5b009e; text-decoration-color: #5b009e; background-color: #47007a\">▄</span><span style=\"color: #65009e; text-decoration-color: #65009e; background-color: #4e007a\">▄</span><span style=\"color: #70009e; text-decoration-color: #70009e; background-color: #56007a\">▄</span><span style=\"color: #7a009e; text-decoration-color: #7a009e; background-color: #5e007a\">▄</span><span style=\"color: #84009e; text-decoration-color: #84009e; background-color: #66007a\">▄</span><span style=\"color: #8e009e; text-decoration-color: #8e009e; background-color: #6e007a\">▄</span><span style=\"color: #99009e; text-decoration-color: #99009e; background-color: #76007a\">▄</span><span style=\"color: #9e0098; text-decoration-color: #9e0098; background-color: #7a0076\">▄</span><span style=\"color: #9e008e; text-decoration-color: #9e008e; background-color: #7a006e\">▄</span><span style=\"color: #9e0084; text-decoration-color: #9e0084; background-color: #7a0066\">▄</span><span style=\"color: #9e007a; text-decoration-color: #9e007a; background-color: #7a005e\">▄</span><span style=\"color: #9e0070; text-decoration-color: #9e0070; background-color: #7a0056\">▄</span><span style=\"color: #9e0066; text-decoration-color: #9e0066; background-color: #7a004e\">▄</span><span style=\"color: #9e005b; text-decoration-color: #9e005b; background-color: #7a0047\">▄</span><span style=\"color: #9e0051; text-decoration-color: #9e0051; background-color: #7a003f\">▄</span><span style=\"color: #9e0047; text-decoration-color: #9e0047; background-color: #7a0037\">▄</span><span style=\"color: #9e003d; text-decoration-color: #9e003d; background-color: #7a002f\">▄</span><span style=\"color: #9e0032; text-decoration-color: #9e0032; background-color: #7a0027\">▄</span><span style=\"color: #9e0028; text-decoration-color: #9e0028; background-color: #7a001f\">▄</span><span style=\"color: #9e001e; text-decoration-color: #9e001e; background-color: #7a0017\">▄</span><span style=\"color: #9e0014; text-decoration-color: #9e0014; background-color: #7a000f\">▄</span><span style=\"color: #9e000a; text-decoration-color: #9e000a; background-color: #7a0007\">▄</span>\n",
       "<span style=\"color: #e50000; text-decoration-color: #e50000; background-color: #c10000\">▄</span><span style=\"color: #e50e00; text-decoration-color: #e50e00; background-color: #c10c00\">▄</span><span style=\"color: #e51d00; text-decoration-color: #e51d00; background-color: #c11900\">▄</span><span style=\"color: #e52c00; text-decoration-color: #e52c00; background-color: #c12500\">▄</span><span style=\"color: #e53b00; text-decoration-color: #e53b00; background-color: #c13200\">▄</span><span style=\"color: #e54a00; text-decoration-color: #e54a00; background-color: #c13e00\">▄</span><span style=\"color: #e55800; text-decoration-color: #e55800; background-color: #c14b00\">▄</span><span style=\"color: #e56700; text-decoration-color: #e56700; background-color: #c15700\">▄</span><span style=\"color: #e57600; text-decoration-color: #e57600; background-color: #c16400\">▄</span><span style=\"color: #e58500; text-decoration-color: #e58500; background-color: #c17000\">▄</span><span style=\"color: #e59400; text-decoration-color: #e59400; background-color: #c17d00\">▄</span><span style=\"color: #e5a200; text-decoration-color: #e5a200; background-color: #c18900\">▄</span><span style=\"color: #e5b100; text-decoration-color: #e5b100; background-color: #c19600\">▄</span><span style=\"color: #e5c000; text-decoration-color: #e5c000; background-color: #c1a200\">▄</span><span style=\"color: #e5cf00; text-decoration-color: #e5cf00; background-color: #c1af00\">▄</span><span style=\"color: #e5de00; text-decoration-color: #e5de00; background-color: #c1bb00\">▄</span><span style=\"color: #dee500; text-decoration-color: #dee500; background-color: #bbc100\">▄</span><span style=\"color: #cfe500; text-decoration-color: #cfe500; background-color: #afc100\">▄</span><span style=\"color: #c0e500; text-decoration-color: #c0e500; background-color: #a2c100\">▄</span><span style=\"color: #b1e500; text-decoration-color: #b1e500; background-color: #96c100\">▄</span><span style=\"color: #a2e500; text-decoration-color: #a2e500; background-color: #89c100\">▄</span><span style=\"color: #94e500; text-decoration-color: #94e500; background-color: #7dc100\">▄</span><span style=\"color: #85e500; text-decoration-color: #85e500; background-color: #70c100\">▄</span><span style=\"color: #76e500; text-decoration-color: #76e500; background-color: #64c100\">▄</span><span style=\"color: #67e500; text-decoration-color: #67e500; background-color: #57c100\">▄</span><span style=\"color: #58e500; text-decoration-color: #58e500; background-color: #4bc100\">▄</span><span style=\"color: #4ae500; text-decoration-color: #4ae500; background-color: #3ec100\">▄</span><span style=\"color: #3be500; text-decoration-color: #3be500; background-color: #32c100\">▄</span><span style=\"color: #2ce500; text-decoration-color: #2ce500; background-color: #25c100\">▄</span><span style=\"color: #1de500; text-decoration-color: #1de500; background-color: #19c100\">▄</span><span style=\"color: #0ee500; text-decoration-color: #0ee500; background-color: #0cc100\">▄</span><span style=\"color: #00e500; text-decoration-color: #00e500; background-color: #00c100\">▄</span><span style=\"color: #00e50e; text-decoration-color: #00e50e; background-color: #00c10c\">▄</span><span style=\"color: #00e51d; text-decoration-color: #00e51d; background-color: #00c119\">▄</span><span style=\"color: #00e52c; text-decoration-color: #00e52c; background-color: #00c125\">▄</span><span style=\"color: #00e53b; text-decoration-color: #00e53b; background-color: #00c132\">▄</span><span style=\"color: #00e54a; text-decoration-color: #00e54a; background-color: #00c13e\">▄</span><span style=\"color: #00e558; text-decoration-color: #00e558; background-color: #00c14b\">▄</span><span style=\"color: #00e567; text-decoration-color: #00e567; background-color: #00c157\">▄</span><span style=\"color: #00e576; text-decoration-color: #00e576; background-color: #00c164\">▄</span><span style=\"color: #00e585; text-decoration-color: #00e585; background-color: #00c170\">▄</span><span style=\"color: #00e594; text-decoration-color: #00e594; background-color: #00c17d\">▄</span><span style=\"color: #00e5a2; text-decoration-color: #00e5a2; background-color: #00c189\">▄</span><span style=\"color: #00e5b1; text-decoration-color: #00e5b1; background-color: #00c196\">▄</span><span style=\"color: #00e5c0; text-decoration-color: #00e5c0; background-color: #00c1a2\">▄</span><span style=\"color: #00e5cf; text-decoration-color: #00e5cf; background-color: #00c1af\">▄</span><span style=\"color: #00e5de; text-decoration-color: #00e5de; background-color: #00c1bb\">▄</span><span style=\"color: #00dee5; text-decoration-color: #00dee5; background-color: #00bbc1\">▄</span><span style=\"color: #00cfe5; text-decoration-color: #00cfe5; background-color: #00afc1\">▄</span><span style=\"color: #00c0e5; text-decoration-color: #00c0e5; background-color: #00a2c1\">▄</span><span style=\"color: #00b1e5; text-decoration-color: #00b1e5; background-color: #0096c1\">▄</span><span style=\"color: #00a2e5; text-decoration-color: #00a2e5; background-color: #0089c1\">▄</span><span style=\"color: #0094e5; text-decoration-color: #0094e5; background-color: #007dc1\">▄</span><span style=\"color: #0085e5; text-decoration-color: #0085e5; background-color: #0070c1\">▄</span><span style=\"color: #0076e5; text-decoration-color: #0076e5; background-color: #0064c1\">▄</span><span style=\"color: #0067e5; text-decoration-color: #0067e5; background-color: #0057c1\">▄</span><span style=\"color: #0058e5; text-decoration-color: #0058e5; background-color: #004bc1\">▄</span><span style=\"color: #004ae5; text-decoration-color: #004ae5; background-color: #003ec1\">▄</span><span style=\"color: #003be5; text-decoration-color: #003be5; background-color: #0032c1\">▄</span><span style=\"color: #002ce5; text-decoration-color: #002ce5; background-color: #0025c1\">▄</span><span style=\"color: #001de5; text-decoration-color: #001de5; background-color: #0019c1\">▄</span><span style=\"color: #000ee5; text-decoration-color: #000ee5; background-color: #000cc1\">▄</span><span style=\"color: #0000e5; text-decoration-color: #0000e5; background-color: #0000c1\">▄</span><span style=\"color: #0e00e5; text-decoration-color: #0e00e5; background-color: #0c00c1\">▄</span><span style=\"color: #1d00e5; text-decoration-color: #1d00e5; background-color: #1900c1\">▄</span><span style=\"color: #2c00e5; text-decoration-color: #2c00e5; background-color: #2500c1\">▄</span><span style=\"color: #3b00e5; text-decoration-color: #3b00e5; background-color: #3200c1\">▄</span><span style=\"color: #4a00e5; text-decoration-color: #4a00e5; background-color: #3e00c1\">▄</span><span style=\"color: #5800e5; text-decoration-color: #5800e5; background-color: #4b00c1\">▄</span><span style=\"color: #6700e5; text-decoration-color: #6700e5; background-color: #5700c1\">▄</span><span style=\"color: #7600e5; text-decoration-color: #7600e5; background-color: #6400c1\">▄</span><span style=\"color: #8500e5; text-decoration-color: #8500e5; background-color: #7000c1\">▄</span><span style=\"color: #9400e5; text-decoration-color: #9400e5; background-color: #7d00c1\">▄</span><span style=\"color: #a200e5; text-decoration-color: #a200e5; background-color: #8900c1\">▄</span><span style=\"color: #b100e5; text-decoration-color: #b100e5; background-color: #9600c1\">▄</span><span style=\"color: #c000e5; text-decoration-color: #c000e5; background-color: #a200c1\">▄</span><span style=\"color: #cf00e5; text-decoration-color: #cf00e5; background-color: #af00c1\">▄</span><span style=\"color: #de00e5; text-decoration-color: #de00e5; background-color: #bb00c1\">▄</span><span style=\"color: #e500de; text-decoration-color: #e500de; background-color: #c100bb\">▄</span><span style=\"color: #e500cf; text-decoration-color: #e500cf; background-color: #c100af\">▄</span><span style=\"color: #e500c0; text-decoration-color: #e500c0; background-color: #c100a2\">▄</span><span style=\"color: #e500b1; text-decoration-color: #e500b1; background-color: #c10096\">▄</span><span style=\"color: #e500a2; text-decoration-color: #e500a2; background-color: #c10089\">▄</span><span style=\"color: #e50094; text-decoration-color: #e50094; background-color: #c1007d\">▄</span><span style=\"color: #e50085; text-decoration-color: #e50085; background-color: #c10070\">▄</span><span style=\"color: #e50076; text-decoration-color: #e50076; background-color: #c10064\">▄</span><span style=\"color: #e50067; text-decoration-color: #e50067; background-color: #c10057\">▄</span><span style=\"color: #e50058; text-decoration-color: #e50058; background-color: #c1004b\">▄</span><span style=\"color: #e5004a; text-decoration-color: #e5004a; background-color: #c1003e\">▄</span><span style=\"color: #e5003b; text-decoration-color: #e5003b; background-color: #c10032\">▄</span><span style=\"color: #e5002c; text-decoration-color: #e5002c; background-color: #c10025\">▄</span><span style=\"color: #e5001d; text-decoration-color: #e5001d; background-color: #c10019\">▄</span><span style=\"color: #e5000e; text-decoration-color: #e5000e; background-color: #c1000c\">▄</span>\n",
       "<span style=\"color: #fe2d2d; text-decoration-color: #fe2d2d; background-color: #ff0a0a\">▄</span><span style=\"color: #fe3b2d; text-decoration-color: #fe3b2d; background-color: #ff190a\">▄</span><span style=\"color: #fe482d; text-decoration-color: #fe482d; background-color: #ff290a\">▄</span><span style=\"color: #fe562d; text-decoration-color: #fe562d; background-color: #ff390a\">▄</span><span style=\"color: #fe632d; text-decoration-color: #fe632d; background-color: #ff490a\">▄</span><span style=\"color: #fe712d; text-decoration-color: #fe712d; background-color: #ff590a\">▄</span><span style=\"color: #fe7e2d; text-decoration-color: #fe7e2d; background-color: #ff680a\">▄</span><span style=\"color: #fe8c2d; text-decoration-color: #fe8c2d; background-color: #ff780a\">▄</span><span style=\"color: #fe992d; text-decoration-color: #fe992d; background-color: #ff880a\">▄</span><span style=\"color: #fea72d; text-decoration-color: #fea72d; background-color: #ff980a\">▄</span><span style=\"color: #feb42d; text-decoration-color: #feb42d; background-color: #ffa80a\">▄</span><span style=\"color: #fec22d; text-decoration-color: #fec22d; background-color: #ffb70a\">▄</span><span style=\"color: #fecf2d; text-decoration-color: #fecf2d; background-color: #ffc70a\">▄</span><span style=\"color: #fedd2d; text-decoration-color: #fedd2d; background-color: #ffd70a\">▄</span><span style=\"color: #feea2d; text-decoration-color: #feea2d; background-color: #ffe70a\">▄</span><span style=\"color: #fef82d; text-decoration-color: #fef82d; background-color: #fff70a\">▄</span><span style=\"color: #f8fe2d; text-decoration-color: #f8fe2d; background-color: #f7ff0a\">▄</span><span style=\"color: #eafe2d; text-decoration-color: #eafe2d; background-color: #e7ff0a\">▄</span><span style=\"color: #ddfe2d; text-decoration-color: #ddfe2d; background-color: #d7ff0a\">▄</span><span style=\"color: #cffe2d; text-decoration-color: #cffe2d; background-color: #c7ff0a\">▄</span><span style=\"color: #c2fe2d; text-decoration-color: #c2fe2d; background-color: #b7ff0a\">▄</span><span style=\"color: #b4fe2d; text-decoration-color: #b4fe2d; background-color: #a8ff0a\">▄</span><span style=\"color: #a7fe2d; text-decoration-color: #a7fe2d; background-color: #98ff0a\">▄</span><span style=\"color: #99fe2d; text-decoration-color: #99fe2d; background-color: #88ff0a\">▄</span><span style=\"color: #8cfe2d; text-decoration-color: #8cfe2d; background-color: #78ff0a\">▄</span><span style=\"color: #7efe2d; text-decoration-color: #7efe2d; background-color: #68ff0a\">▄</span><span style=\"color: #71fe2d; text-decoration-color: #71fe2d; background-color: #59ff0a\">▄</span><span style=\"color: #63fe2d; text-decoration-color: #63fe2d; background-color: #49ff0a\">▄</span><span style=\"color: #56fe2d; text-decoration-color: #56fe2d; background-color: #39ff0a\">▄</span><span style=\"color: #48fe2d; text-decoration-color: #48fe2d; background-color: #29ff0a\">▄</span><span style=\"color: #3bfe2d; text-decoration-color: #3bfe2d; background-color: #19ff0a\">▄</span><span style=\"color: #2dfe2d; text-decoration-color: #2dfe2d; background-color: #0aff0a\">▄</span><span style=\"color: #2dfe3b; text-decoration-color: #2dfe3b; background-color: #0aff19\">▄</span><span style=\"color: #2dfe48; text-decoration-color: #2dfe48; background-color: #0aff29\">▄</span><span style=\"color: #2dfe56; text-decoration-color: #2dfe56; background-color: #0aff39\">▄</span><span style=\"color: #2dfe63; text-decoration-color: #2dfe63; background-color: #0aff49\">▄</span><span style=\"color: #2dfe71; text-decoration-color: #2dfe71; background-color: #0aff59\">▄</span><span style=\"color: #2dfe7e; text-decoration-color: #2dfe7e; background-color: #0aff68\">▄</span><span style=\"color: #2dfe8c; text-decoration-color: #2dfe8c; background-color: #0aff78\">▄</span><span style=\"color: #2dfe99; text-decoration-color: #2dfe99; background-color: #0aff88\">▄</span><span style=\"color: #2dfea7; text-decoration-color: #2dfea7; background-color: #0aff98\">▄</span><span style=\"color: #2dfeb4; text-decoration-color: #2dfeb4; background-color: #0affa8\">▄</span><span style=\"color: #2dfec2; text-decoration-color: #2dfec2; background-color: #0affb7\">▄</span><span style=\"color: #2dfecf; text-decoration-color: #2dfecf; background-color: #0affc7\">▄</span><span style=\"color: #2dfedd; text-decoration-color: #2dfedd; background-color: #0affd7\">▄</span><span style=\"color: #2dfeea; text-decoration-color: #2dfeea; background-color: #0affe7\">▄</span><span style=\"color: #2dfef8; text-decoration-color: #2dfef8; background-color: #0afff7\">▄</span><span style=\"color: #2df8fe; text-decoration-color: #2df8fe; background-color: #0af7ff\">▄</span><span style=\"color: #2deafe; text-decoration-color: #2deafe; background-color: #0ae7ff\">▄</span><span style=\"color: #2dddfe; text-decoration-color: #2dddfe; background-color: #0ad7ff\">▄</span><span style=\"color: #2dcffe; text-decoration-color: #2dcffe; background-color: #0ac7ff\">▄</span><span style=\"color: #2dc2fe; text-decoration-color: #2dc2fe; background-color: #0ab7ff\">▄</span><span style=\"color: #2db4fe; text-decoration-color: #2db4fe; background-color: #0aa8ff\">▄</span><span style=\"color: #2da7fe; text-decoration-color: #2da7fe; background-color: #0a98ff\">▄</span><span style=\"color: #2d99fe; text-decoration-color: #2d99fe; background-color: #0a88ff\">▄</span><span style=\"color: #2d8cfe; text-decoration-color: #2d8cfe; background-color: #0a78ff\">▄</span><span style=\"color: #2d7efe; text-decoration-color: #2d7efe; background-color: #0a68ff\">▄</span><span style=\"color: #2d71fe; text-decoration-color: #2d71fe; background-color: #0a59ff\">▄</span><span style=\"color: #2d63fe; text-decoration-color: #2d63fe; background-color: #0a49ff\">▄</span><span style=\"color: #2d56fe; text-decoration-color: #2d56fe; background-color: #0a39ff\">▄</span><span style=\"color: #2d48fe; text-decoration-color: #2d48fe; background-color: #0a29ff\">▄</span><span style=\"color: #2d3bfe; text-decoration-color: #2d3bfe; background-color: #0a19ff\">▄</span><span style=\"color: #2d2dfe; text-decoration-color: #2d2dfe; background-color: #0a0aff\">▄</span><span style=\"color: #3b2dfe; text-decoration-color: #3b2dfe; background-color: #190aff\">▄</span><span style=\"color: #482dfe; text-decoration-color: #482dfe; background-color: #290aff\">▄</span><span style=\"color: #562dfe; text-decoration-color: #562dfe; background-color: #390aff\">▄</span><span style=\"color: #632dfe; text-decoration-color: #632dfe; background-color: #490aff\">▄</span><span style=\"color: #712dfe; text-decoration-color: #712dfe; background-color: #590aff\">▄</span><span style=\"color: #7e2dfe; text-decoration-color: #7e2dfe; background-color: #680aff\">▄</span><span style=\"color: #8c2dfe; text-decoration-color: #8c2dfe; background-color: #780aff\">▄</span><span style=\"color: #992dfe; text-decoration-color: #992dfe; background-color: #880aff\">▄</span><span style=\"color: #a72dfe; text-decoration-color: #a72dfe; background-color: #980aff\">▄</span><span style=\"color: #b42dfe; text-decoration-color: #b42dfe; background-color: #a80aff\">▄</span><span style=\"color: #c22dfe; text-decoration-color: #c22dfe; background-color: #b70aff\">▄</span><span style=\"color: #cf2dfe; text-decoration-color: #cf2dfe; background-color: #c70aff\">▄</span><span style=\"color: #dd2dfe; text-decoration-color: #dd2dfe; background-color: #d70aff\">▄</span><span style=\"color: #ea2dfe; text-decoration-color: #ea2dfe; background-color: #e70aff\">▄</span><span style=\"color: #f82dfe; text-decoration-color: #f82dfe; background-color: #f70aff\">▄</span><span style=\"color: #fe2df8; text-decoration-color: #fe2df8; background-color: #ff0af7\">▄</span><span style=\"color: #fe2dea; text-decoration-color: #fe2dea; background-color: #ff0ae7\">▄</span><span style=\"color: #fe2ddd; text-decoration-color: #fe2ddd; background-color: #ff0ad7\">▄</span><span style=\"color: #fe2dcf; text-decoration-color: #fe2dcf; background-color: #ff0ac7\">▄</span><span style=\"color: #fe2dc2; text-decoration-color: #fe2dc2; background-color: #ff0ab7\">▄</span><span style=\"color: #fe2db4; text-decoration-color: #fe2db4; background-color: #ff0aa8\">▄</span><span style=\"color: #fe2da7; text-decoration-color: #fe2da7; background-color: #ff0a98\">▄</span><span style=\"color: #fe2d99; text-decoration-color: #fe2d99; background-color: #ff0a88\">▄</span><span style=\"color: #fe2d8c; text-decoration-color: #fe2d8c; background-color: #ff0a78\">▄</span><span style=\"color: #fe2d7e; text-decoration-color: #fe2d7e; background-color: #ff0a68\">▄</span><span style=\"color: #fe2d71; text-decoration-color: #fe2d71; background-color: #ff0a59\">▄</span><span style=\"color: #fe2d63; text-decoration-color: #fe2d63; background-color: #ff0a49\">▄</span><span style=\"color: #fe2d56; text-decoration-color: #fe2d56; background-color: #ff0a39\">▄</span><span style=\"color: #fe2d48; text-decoration-color: #fe2d48; background-color: #ff0a29\">▄</span><span style=\"color: #fe2d3b; text-decoration-color: #fe2d3b; background-color: #ff0a19\">▄</span>\n",
       "<span style=\"color: #ff7575; text-decoration-color: #ff7575; background-color: #ff5151\">▄</span><span style=\"color: #ff7e75; text-decoration-color: #ff7e75; background-color: #ff5c51\">▄</span><span style=\"color: #ff8775; text-decoration-color: #ff8775; background-color: #ff6751\">▄</span><span style=\"color: #ff8f75; text-decoration-color: #ff8f75; background-color: #ff7351\">▄</span><span style=\"color: #ff9875; text-decoration-color: #ff9875; background-color: #ff7e51\">▄</span><span style=\"color: #ffa175; text-decoration-color: #ffa175; background-color: #ff8951\">▄</span><span style=\"color: #ffaa75; text-decoration-color: #ffaa75; background-color: #ff9451\">▄</span><span style=\"color: #ffb375; text-decoration-color: #ffb375; background-color: #ff9f51\">▄</span><span style=\"color: #ffbc75; text-decoration-color: #ffbc75; background-color: #ffab51\">▄</span><span style=\"color: #ffc575; text-decoration-color: #ffc575; background-color: #ffb651\">▄</span><span style=\"color: #ffce75; text-decoration-color: #ffce75; background-color: #ffc151\">▄</span><span style=\"color: #ffd775; text-decoration-color: #ffd775; background-color: #ffcc51\">▄</span><span style=\"color: #ffdf75; text-decoration-color: #ffdf75; background-color: #ffd751\">▄</span><span style=\"color: #ffe875; text-decoration-color: #ffe875; background-color: #ffe351\">▄</span><span style=\"color: #fff175; text-decoration-color: #fff175; background-color: #ffee51\">▄</span><span style=\"color: #fffa75; text-decoration-color: #fffa75; background-color: #fff951\">▄</span><span style=\"color: #faff75; text-decoration-color: #faff75; background-color: #f9ff51\">▄</span><span style=\"color: #f1ff75; text-decoration-color: #f1ff75; background-color: #eeff51\">▄</span><span style=\"color: #e8ff75; text-decoration-color: #e8ff75; background-color: #e3ff51\">▄</span><span style=\"color: #dfff75; text-decoration-color: #dfff75; background-color: #d7ff51\">▄</span><span style=\"color: #d7ff75; text-decoration-color: #d7ff75; background-color: #ccff51\">▄</span><span style=\"color: #ceff75; text-decoration-color: #ceff75; background-color: #c1ff51\">▄</span><span style=\"color: #c5ff75; text-decoration-color: #c5ff75; background-color: #b6ff51\">▄</span><span style=\"color: #bcff75; text-decoration-color: #bcff75; background-color: #abff51\">▄</span><span style=\"color: #b3ff75; text-decoration-color: #b3ff75; background-color: #9fff51\">▄</span><span style=\"color: #aaff75; text-decoration-color: #aaff75; background-color: #94ff51\">▄</span><span style=\"color: #a1ff75; text-decoration-color: #a1ff75; background-color: #89ff51\">▄</span><span style=\"color: #98ff75; text-decoration-color: #98ff75; background-color: #7eff51\">▄</span><span style=\"color: #8fff75; text-decoration-color: #8fff75; background-color: #73ff51\">▄</span><span style=\"color: #87ff75; text-decoration-color: #87ff75; background-color: #67ff51\">▄</span><span style=\"color: #7eff75; text-decoration-color: #7eff75; background-color: #5cff51\">▄</span><span style=\"color: #75ff75; text-decoration-color: #75ff75; background-color: #51ff51\">▄</span><span style=\"color: #75ff7e; text-decoration-color: #75ff7e; background-color: #51ff5c\">▄</span><span style=\"color: #75ff87; text-decoration-color: #75ff87; background-color: #51ff67\">▄</span><span style=\"color: #75ff8f; text-decoration-color: #75ff8f; background-color: #51ff73\">▄</span><span style=\"color: #75ff98; text-decoration-color: #75ff98; background-color: #51ff7e\">▄</span><span style=\"color: #75ffa1; text-decoration-color: #75ffa1; background-color: #51ff89\">▄</span><span style=\"color: #75ffaa; text-decoration-color: #75ffaa; background-color: #51ff94\">▄</span><span style=\"color: #75ffb3; text-decoration-color: #75ffb3; background-color: #51ff9f\">▄</span><span style=\"color: #75ffbc; text-decoration-color: #75ffbc; background-color: #51ffab\">▄</span><span style=\"color: #75ffc5; text-decoration-color: #75ffc5; background-color: #51ffb6\">▄</span><span style=\"color: #75ffce; text-decoration-color: #75ffce; background-color: #51ffc1\">▄</span><span style=\"color: #75ffd7; text-decoration-color: #75ffd7; background-color: #51ffcc\">▄</span><span style=\"color: #75ffdf; text-decoration-color: #75ffdf; background-color: #51ffd7\">▄</span><span style=\"color: #75ffe8; text-decoration-color: #75ffe8; background-color: #51ffe3\">▄</span><span style=\"color: #75fff1; text-decoration-color: #75fff1; background-color: #51ffee\">▄</span><span style=\"color: #75fffa; text-decoration-color: #75fffa; background-color: #51fff9\">▄</span><span style=\"color: #75faff; text-decoration-color: #75faff; background-color: #51f9ff\">▄</span><span style=\"color: #75f1ff; text-decoration-color: #75f1ff; background-color: #51eeff\">▄</span><span style=\"color: #75e8ff; text-decoration-color: #75e8ff; background-color: #51e3ff\">▄</span><span style=\"color: #75dfff; text-decoration-color: #75dfff; background-color: #51d7ff\">▄</span><span style=\"color: #75d7ff; text-decoration-color: #75d7ff; background-color: #51ccff\">▄</span><span style=\"color: #75ceff; text-decoration-color: #75ceff; background-color: #51c1ff\">▄</span><span style=\"color: #75c5ff; text-decoration-color: #75c5ff; background-color: #51b6ff\">▄</span><span style=\"color: #75bcff; text-decoration-color: #75bcff; background-color: #51abff\">▄</span><span style=\"color: #75b3ff; text-decoration-color: #75b3ff; background-color: #519fff\">▄</span><span style=\"color: #75aaff; text-decoration-color: #75aaff; background-color: #5194ff\">▄</span><span style=\"color: #75a1ff; text-decoration-color: #75a1ff; background-color: #5189ff\">▄</span><span style=\"color: #7598ff; text-decoration-color: #7598ff; background-color: #517eff\">▄</span><span style=\"color: #758fff; text-decoration-color: #758fff; background-color: #5173ff\">▄</span><span style=\"color: #7587ff; text-decoration-color: #7587ff; background-color: #5167ff\">▄</span><span style=\"color: #757eff; text-decoration-color: #757eff; background-color: #515cff\">▄</span><span style=\"color: #7575ff; text-decoration-color: #7575ff; background-color: #5151ff\">▄</span><span style=\"color: #7e75ff; text-decoration-color: #7e75ff; background-color: #5c51ff\">▄</span><span style=\"color: #8775ff; text-decoration-color: #8775ff; background-color: #6751ff\">▄</span><span style=\"color: #8f75ff; text-decoration-color: #8f75ff; background-color: #7351ff\">▄</span><span style=\"color: #9875ff; text-decoration-color: #9875ff; background-color: #7e51ff\">▄</span><span style=\"color: #a175ff; text-decoration-color: #a175ff; background-color: #8951ff\">▄</span><span style=\"color: #aa75ff; text-decoration-color: #aa75ff; background-color: #9451ff\">▄</span><span style=\"color: #b375ff; text-decoration-color: #b375ff; background-color: #9f51ff\">▄</span><span style=\"color: #bc75ff; text-decoration-color: #bc75ff; background-color: #ab51ff\">▄</span><span style=\"color: #c575ff; text-decoration-color: #c575ff; background-color: #b651ff\">▄</span><span style=\"color: #ce75ff; text-decoration-color: #ce75ff; background-color: #c151ff\">▄</span><span style=\"color: #d775ff; text-decoration-color: #d775ff; background-color: #cc51ff\">▄</span><span style=\"color: #df75ff; text-decoration-color: #df75ff; background-color: #d751ff\">▄</span><span style=\"color: #e875ff; text-decoration-color: #e875ff; background-color: #e351ff\">▄</span><span style=\"color: #f175ff; text-decoration-color: #f175ff; background-color: #ee51ff\">▄</span><span style=\"color: #fa75ff; text-decoration-color: #fa75ff; background-color: #f951ff\">▄</span><span style=\"color: #ff75fa; text-decoration-color: #ff75fa; background-color: #ff51f9\">▄</span><span style=\"color: #ff75f1; text-decoration-color: #ff75f1; background-color: #ff51ee\">▄</span><span style=\"color: #ff75e8; text-decoration-color: #ff75e8; background-color: #ff51e3\">▄</span><span style=\"color: #ff75df; text-decoration-color: #ff75df; background-color: #ff51d7\">▄</span><span style=\"color: #ff75d7; text-decoration-color: #ff75d7; background-color: #ff51cc\">▄</span><span style=\"color: #ff75ce; text-decoration-color: #ff75ce; background-color: #ff51c1\">▄</span><span style=\"color: #ff75c5; text-decoration-color: #ff75c5; background-color: #ff51b6\">▄</span><span style=\"color: #ff75bc; text-decoration-color: #ff75bc; background-color: #ff51ab\">▄</span><span style=\"color: #ff75b3; text-decoration-color: #ff75b3; background-color: #ff519f\">▄</span><span style=\"color: #ff75aa; text-decoration-color: #ff75aa; background-color: #ff5194\">▄</span><span style=\"color: #ff75a1; text-decoration-color: #ff75a1; background-color: #ff5189\">▄</span><span style=\"color: #ff7598; text-decoration-color: #ff7598; background-color: #ff517e\">▄</span><span style=\"color: #ff758f; text-decoration-color: #ff758f; background-color: #ff5173\">▄</span><span style=\"color: #ff7587; text-decoration-color: #ff7587; background-color: #ff5167\">▄</span><span style=\"color: #ff757e; text-decoration-color: #ff757e; background-color: #ff515c\">▄</span>\n",
       "</pre>\n"
      ],
      "text/plain": [
       "\u001b[38;2;86;0;0;48;2;51;0;0m▄\u001b[0m\u001b[38;2;86;5;0;48;2;51;3;0m▄\u001b[0m\u001b[38;2;86;11;0;48;2;51;6;0m▄\u001b[0m\u001b[38;2;86;16;0;48;2;51;9;0m▄\u001b[0m\u001b[38;2;86;22;0;48;2;51;13;0m▄\u001b[0m\u001b[38;2;86;27;0;48;2;51;16;0m▄\u001b[0m\u001b[38;2;86;33;0;48;2;51;19;0m▄\u001b[0m\u001b[38;2;86;39;0;48;2;51;23;0m▄\u001b[0m\u001b[38;2;86;44;0;48;2;51;26;0m▄\u001b[0m\u001b[38;2;86;50;0;48;2;51;29;0m▄\u001b[0m\u001b[38;2;86;55;0;48;2;51;32;0m▄\u001b[0m\u001b[38;2;86;61;0;48;2;51;36;0m▄\u001b[0m\u001b[38;2;86;67;0;48;2;51;39;0m▄\u001b[0m\u001b[38;2;86;72;0;48;2;51;42;0m▄\u001b[0m\u001b[38;2;86;78;0;48;2;51;46;0m▄\u001b[0m\u001b[38;2;86;83;0;48;2;51;49;0m▄\u001b[0m\u001b[38;2;83;86;0;48;2;49;51;0m▄\u001b[0m\u001b[38;2;78;86;0;48;2;46;51;0m▄\u001b[0m\u001b[38;2;72;86;0;48;2;42;51;0m▄\u001b[0m\u001b[38;2;67;86;0;48;2;39;51;0m▄\u001b[0m\u001b[38;2;61;86;0;48;2;36;51;0m▄\u001b[0m\u001b[38;2;55;86;0;48;2;32;51;0m▄\u001b[0m\u001b[38;2;50;86;0;48;2;29;51;0m▄\u001b[0m\u001b[38;2;44;86;0;48;2;26;51;0m▄\u001b[0m\u001b[38;2;39;86;0;48;2;23;51;0m▄\u001b[0m\u001b[38;2;33;86;0;48;2;19;51;0m▄\u001b[0m\u001b[38;2;27;86;0;48;2;16;51;0m▄\u001b[0m\u001b[38;2;22;86;0;48;2;13;51;0m▄\u001b[0m\u001b[38;2;16;86;0;48;2;9;51;0m▄\u001b[0m\u001b[38;2;11;86;0;48;2;6;51;0m▄\u001b[0m\u001b[38;2;5;86;0;48;2;3;51;0m▄\u001b[0m\u001b[38;2;0;86;0;48;2;0;51;0m▄\u001b[0m\u001b[38;2;0;86;5;48;2;0;51;3m▄\u001b[0m\u001b[38;2;0;86;11;48;2;0;51;6m▄\u001b[0m\u001b[38;2;0;86;16;48;2;0;51;9m▄\u001b[0m\u001b[38;2;0;86;22;48;2;0;51;13m▄\u001b[0m\u001b[38;2;0;86;27;48;2;0;51;16m▄\u001b[0m\u001b[38;2;0;86;33;48;2;0;51;19m▄\u001b[0m\u001b[38;2;0;86;39;48;2;0;51;23m▄\u001b[0m\u001b[38;2;0;86;44;48;2;0;51;26m▄\u001b[0m\u001b[38;2;0;86;50;48;2;0;51;29m▄\u001b[0m\u001b[38;2;0;86;55;48;2;0;51;32m▄\u001b[0m\u001b[38;2;0;86;61;48;2;0;51;36m▄\u001b[0m\u001b[38;2;0;86;67;48;2;0;51;39m▄\u001b[0m\u001b[38;2;0;86;72;48;2;0;51;42m▄\u001b[0m\u001b[38;2;0;86;78;48;2;0;51;46m▄\u001b[0m\u001b[38;2;0;86;83;48;2;0;51;49m▄\u001b[0m\u001b[38;2;0;83;86;48;2;0;49;51m▄\u001b[0m\u001b[38;2;0;78;86;48;2;0;46;51m▄\u001b[0m\u001b[38;2;0;72;86;48;2;0;42;51m▄\u001b[0m\u001b[38;2;0;67;86;48;2;0;39;51m▄\u001b[0m\u001b[38;2;0;61;86;48;2;0;36;51m▄\u001b[0m\u001b[38;2;0;55;86;48;2;0;32;51m▄\u001b[0m\u001b[38;2;0;50;86;48;2;0;29;51m▄\u001b[0m\u001b[38;2;0;44;86;48;2;0;26;51m▄\u001b[0m\u001b[38;2;0;39;86;48;2;0;23;51m▄\u001b[0m\u001b[38;2;0;33;86;48;2;0;19;51m▄\u001b[0m\u001b[38;2;0;27;86;48;2;0;16;51m▄\u001b[0m\u001b[38;2;0;22;86;48;2;0;13;51m▄\u001b[0m\u001b[38;2;0;16;86;48;2;0;9;51m▄\u001b[0m\u001b[38;2;0;11;86;48;2;0;6;51m▄\u001b[0m\u001b[38;2;0;5;86;48;2;0;3;51m▄\u001b[0m\u001b[38;2;0;0;86;48;2;0;0;51m▄\u001b[0m\u001b[38;2;5;0;86;48;2;3;0;51m▄\u001b[0m\u001b[38;2;11;0;86;48;2;6;0;51m▄\u001b[0m\u001b[38;2;16;0;86;48;2;9;0;51m▄\u001b[0m\u001b[38;2;22;0;86;48;2;13;0;51m▄\u001b[0m\u001b[38;2;27;0;86;48;2;16;0;51m▄\u001b[0m\u001b[38;2;33;0;86;48;2;19;0;51m▄\u001b[0m\u001b[38;2;39;0;86;48;2;23;0;51m▄\u001b[0m\u001b[38;2;44;0;86;48;2;26;0;51m▄\u001b[0m\u001b[38;2;50;0;86;48;2;29;0;51m▄\u001b[0m\u001b[38;2;55;0;86;48;2;32;0;51m▄\u001b[0m\u001b[38;2;61;0;86;48;2;36;0;51m▄\u001b[0m\u001b[38;2;67;0;86;48;2;39;0;51m▄\u001b[0m\u001b[38;2;72;0;86;48;2;42;0;51m▄\u001b[0m\u001b[38;2;78;0;86;48;2;46;0;51m▄\u001b[0m\u001b[38;2;83;0;86;48;2;49;0;51m▄\u001b[0m\u001b[38;2;86;0;83;48;2;51;0;49m▄\u001b[0m\u001b[38;2;86;0;78;48;2;51;0;46m▄\u001b[0m\u001b[38;2;86;0;72;48;2;51;0;42m▄\u001b[0m\u001b[38;2;86;0;67;48;2;51;0;39m▄\u001b[0m\u001b[38;2;86;0;61;48;2;51;0;36m▄\u001b[0m\u001b[38;2;86;0;55;48;2;51;0;32m▄\u001b[0m\u001b[38;2;86;0;50;48;2;51;0;29m▄\u001b[0m\u001b[38;2;86;0;44;48;2;51;0;26m▄\u001b[0m\u001b[38;2;86;0;39;48;2;51;0;23m▄\u001b[0m\u001b[38;2;86;0;33;48;2;51;0;19m▄\u001b[0m\u001b[38;2;86;0;27;48;2;51;0;16m▄\u001b[0m\u001b[38;2;86;0;22;48;2;51;0;13m▄\u001b[0m\u001b[38;2;86;0;16;48;2;51;0;9m▄\u001b[0m\u001b[38;2;86;0;11;48;2;51;0;6m▄\u001b[0m\u001b[38;2;86;0;5;48;2;51;0;3m▄\u001b[0m\n",
       "\u001b[38;2;158;0;0;48;2;122;0;0m▄\u001b[0m\u001b[38;2;158;10;0;48;2;122;7;0m▄\u001b[0m\u001b[38;2;158;20;0;48;2;122;15;0m▄\u001b[0m\u001b[38;2;158;30;0;48;2;122;23;0m▄\u001b[0m\u001b[38;2;158;40;0;48;2;122;31;0m▄\u001b[0m\u001b[38;2;158;51;0;48;2;122;39;0m▄\u001b[0m\u001b[38;2;158;61;0;48;2;122;47;0m▄\u001b[0m\u001b[38;2;158;71;0;48;2;122;55;0m▄\u001b[0m\u001b[38;2;158;81;0;48;2;122;63;0m▄\u001b[0m\u001b[38;2;158;91;0;48;2;122;71;0m▄\u001b[0m\u001b[38;2;158;102;0;48;2;122;78;0m▄\u001b[0m\u001b[38;2;158;112;0;48;2;122;86;0m▄\u001b[0m\u001b[38;2;158;122;0;48;2;122;94;0m▄\u001b[0m\u001b[38;2;158;132;0;48;2;122;102;0m▄\u001b[0m\u001b[38;2;158;142;0;48;2;122;110;0m▄\u001b[0m\u001b[38;2;158;153;0;48;2;122;118;0m▄\u001b[0m\u001b[38;2;152;158;0;48;2;118;122;0m▄\u001b[0m\u001b[38;2;142;158;0;48;2;110;122;0m▄\u001b[0m\u001b[38;2;132;158;0;48;2;102;122;0m▄\u001b[0m\u001b[38;2;122;158;0;48;2;94;122;0m▄\u001b[0m\u001b[38;2;112;158;0;48;2;86;122;0m▄\u001b[0m\u001b[38;2;102;158;0;48;2;78;122;0m▄\u001b[0m\u001b[38;2;91;158;0;48;2;71;122;0m▄\u001b[0m\u001b[38;2;81;158;0;48;2;63;122;0m▄\u001b[0m\u001b[38;2;71;158;0;48;2;55;122;0m▄\u001b[0m\u001b[38;2;61;158;0;48;2;47;122;0m▄\u001b[0m\u001b[38;2;51;158;0;48;2;39;122;0m▄\u001b[0m\u001b[38;2;40;158;0;48;2;31;122;0m▄\u001b[0m\u001b[38;2;30;158;0;48;2;23;122;0m▄\u001b[0m\u001b[38;2;20;158;0;48;2;15;122;0m▄\u001b[0m\u001b[38;2;10;158;0;48;2;7;122;0m▄\u001b[0m\u001b[38;2;0;158;0;48;2;0;122;0m▄\u001b[0m\u001b[38;2;0;158;10;48;2;0;122;7m▄\u001b[0m\u001b[38;2;0;158;20;48;2;0;122;15m▄\u001b[0m\u001b[38;2;0;158;30;48;2;0;122;23m▄\u001b[0m\u001b[38;2;0;158;40;48;2;0;122;31m▄\u001b[0m\u001b[38;2;0;158;51;48;2;0;122;39m▄\u001b[0m\u001b[38;2;0;158;61;48;2;0;122;47m▄\u001b[0m\u001b[38;2;0;158;71;48;2;0;122;55m▄\u001b[0m\u001b[38;2;0;158;81;48;2;0;122;63m▄\u001b[0m\u001b[38;2;0;158;91;48;2;0;122;71m▄\u001b[0m\u001b[38;2;0;158;102;48;2;0;122;78m▄\u001b[0m\u001b[38;2;0;158;112;48;2;0;122;86m▄\u001b[0m\u001b[38;2;0;158;122;48;2;0;122;94m▄\u001b[0m\u001b[38;2;0;158;132;48;2;0;122;102m▄\u001b[0m\u001b[38;2;0;158;142;48;2;0;122;110m▄\u001b[0m\u001b[38;2;0;158;153;48;2;0;122;118m▄\u001b[0m\u001b[38;2;0;152;158;48;2;0;118;122m▄\u001b[0m\u001b[38;2;0;142;158;48;2;0;110;122m▄\u001b[0m\u001b[38;2;0;132;158;48;2;0;102;122m▄\u001b[0m\u001b[38;2;0;122;158;48;2;0;94;122m▄\u001b[0m\u001b[38;2;0;112;158;48;2;0;86;122m▄\u001b[0m\u001b[38;2;0;102;158;48;2;0;78;122m▄\u001b[0m\u001b[38;2;0;91;158;48;2;0;71;122m▄\u001b[0m\u001b[38;2;0;81;158;48;2;0;63;122m▄\u001b[0m\u001b[38;2;0;71;158;48;2;0;55;122m▄\u001b[0m\u001b[38;2;0;61;158;48;2;0;47;122m▄\u001b[0m\u001b[38;2;0;50;158;48;2;0;39;122m▄\u001b[0m\u001b[38;2;0;40;158;48;2;0;31;122m▄\u001b[0m\u001b[38;2;0;30;158;48;2;0;23;122m▄\u001b[0m\u001b[38;2;0;20;158;48;2;0;15;122m▄\u001b[0m\u001b[38;2;0;10;158;48;2;0;7;122m▄\u001b[0m\u001b[38;2;0;0;158;48;2;0;0;122m▄\u001b[0m\u001b[38;2;10;0;158;48;2;7;0;122m▄\u001b[0m\u001b[38;2;20;0;158;48;2;15;0;122m▄\u001b[0m\u001b[38;2;30;0;158;48;2;23;0;122m▄\u001b[0m\u001b[38;2;40;0;158;48;2;31;0;122m▄\u001b[0m\u001b[38;2;50;0;158;48;2;39;0;122m▄\u001b[0m\u001b[38;2;61;0;158;48;2;47;0;122m▄\u001b[0m\u001b[38;2;71;0;158;48;2;55;0;122m▄\u001b[0m\u001b[38;2;81;0;158;48;2;63;0;122m▄\u001b[0m\u001b[38;2;91;0;158;48;2;71;0;122m▄\u001b[0m\u001b[38;2;101;0;158;48;2;78;0;122m▄\u001b[0m\u001b[38;2;112;0;158;48;2;86;0;122m▄\u001b[0m\u001b[38;2;122;0;158;48;2;94;0;122m▄\u001b[0m\u001b[38;2;132;0;158;48;2;102;0;122m▄\u001b[0m\u001b[38;2;142;0;158;48;2;110;0;122m▄\u001b[0m\u001b[38;2;153;0;158;48;2;118;0;122m▄\u001b[0m\u001b[38;2;158;0;152;48;2;122;0;118m▄\u001b[0m\u001b[38;2;158;0;142;48;2;122;0;110m▄\u001b[0m\u001b[38;2;158;0;132;48;2;122;0;102m▄\u001b[0m\u001b[38;2;158;0;122;48;2;122;0;94m▄\u001b[0m\u001b[38;2;158;0;112;48;2;122;0;86m▄\u001b[0m\u001b[38;2;158;0;102;48;2;122;0;78m▄\u001b[0m\u001b[38;2;158;0;91;48;2;122;0;71m▄\u001b[0m\u001b[38;2;158;0;81;48;2;122;0;63m▄\u001b[0m\u001b[38;2;158;0;71;48;2;122;0;55m▄\u001b[0m\u001b[38;2;158;0;61;48;2;122;0;47m▄\u001b[0m\u001b[38;2;158;0;50;48;2;122;0;39m▄\u001b[0m\u001b[38;2;158;0;40;48;2;122;0;31m▄\u001b[0m\u001b[38;2;158;0;30;48;2;122;0;23m▄\u001b[0m\u001b[38;2;158;0;20;48;2;122;0;15m▄\u001b[0m\u001b[38;2;158;0;10;48;2;122;0;7m▄\u001b[0m\n",
       "\u001b[38;2;229;0;0;48;2;193;0;0m▄\u001b[0m\u001b[38;2;229;14;0;48;2;193;12;0m▄\u001b[0m\u001b[38;2;229;29;0;48;2;193;25;0m▄\u001b[0m\u001b[38;2;229;44;0;48;2;193;37;0m▄\u001b[0m\u001b[38;2;229;59;0;48;2;193;50;0m▄\u001b[0m\u001b[38;2;229;74;0;48;2;193;62;0m▄\u001b[0m\u001b[38;2;229;88;0;48;2;193;75;0m▄\u001b[0m\u001b[38;2;229;103;0;48;2;193;87;0m▄\u001b[0m\u001b[38;2;229;118;0;48;2;193;100;0m▄\u001b[0m\u001b[38;2;229;133;0;48;2;193;112;0m▄\u001b[0m\u001b[38;2;229;148;0;48;2;193;125;0m▄\u001b[0m\u001b[38;2;229;162;0;48;2;193;137;0m▄\u001b[0m\u001b[38;2;229;177;0;48;2;193;150;0m▄\u001b[0m\u001b[38;2;229;192;0;48;2;193;162;0m▄\u001b[0m\u001b[38;2;229;207;0;48;2;193;175;0m▄\u001b[0m\u001b[38;2;229;222;0;48;2;193;187;0m▄\u001b[0m\u001b[38;2;222;229;0;48;2;187;193;0m▄\u001b[0m\u001b[38;2;207;229;0;48;2;175;193;0m▄\u001b[0m\u001b[38;2;192;229;0;48;2;162;193;0m▄\u001b[0m\u001b[38;2;177;229;0;48;2;150;193;0m▄\u001b[0m\u001b[38;2;162;229;0;48;2;137;193;0m▄\u001b[0m\u001b[38;2;148;229;0;48;2;125;193;0m▄\u001b[0m\u001b[38;2;133;229;0;48;2;112;193;0m▄\u001b[0m\u001b[38;2;118;229;0;48;2;100;193;0m▄\u001b[0m\u001b[38;2;103;229;0;48;2;87;193;0m▄\u001b[0m\u001b[38;2;88;229;0;48;2;75;193;0m▄\u001b[0m\u001b[38;2;74;229;0;48;2;62;193;0m▄\u001b[0m\u001b[38;2;59;229;0;48;2;50;193;0m▄\u001b[0m\u001b[38;2;44;229;0;48;2;37;193;0m▄\u001b[0m\u001b[38;2;29;229;0;48;2;25;193;0m▄\u001b[0m\u001b[38;2;14;229;0;48;2;12;193;0m▄\u001b[0m\u001b[38;2;0;229;0;48;2;0;193;0m▄\u001b[0m\u001b[38;2;0;229;14;48;2;0;193;12m▄\u001b[0m\u001b[38;2;0;229;29;48;2;0;193;25m▄\u001b[0m\u001b[38;2;0;229;44;48;2;0;193;37m▄\u001b[0m\u001b[38;2;0;229;59;48;2;0;193;50m▄\u001b[0m\u001b[38;2;0;229;74;48;2;0;193;62m▄\u001b[0m\u001b[38;2;0;229;88;48;2;0;193;75m▄\u001b[0m\u001b[38;2;0;229;103;48;2;0;193;87m▄\u001b[0m\u001b[38;2;0;229;118;48;2;0;193;100m▄\u001b[0m\u001b[38;2;0;229;133;48;2;0;193;112m▄\u001b[0m\u001b[38;2;0;229;148;48;2;0;193;125m▄\u001b[0m\u001b[38;2;0;229;162;48;2;0;193;137m▄\u001b[0m\u001b[38;2;0;229;177;48;2;0;193;150m▄\u001b[0m\u001b[38;2;0;229;192;48;2;0;193;162m▄\u001b[0m\u001b[38;2;0;229;207;48;2;0;193;175m▄\u001b[0m\u001b[38;2;0;229;222;48;2;0;193;187m▄\u001b[0m\u001b[38;2;0;222;229;48;2;0;187;193m▄\u001b[0m\u001b[38;2;0;207;229;48;2;0;175;193m▄\u001b[0m\u001b[38;2;0;192;229;48;2;0;162;193m▄\u001b[0m\u001b[38;2;0;177;229;48;2;0;150;193m▄\u001b[0m\u001b[38;2;0;162;229;48;2;0;137;193m▄\u001b[0m\u001b[38;2;0;148;229;48;2;0;125;193m▄\u001b[0m\u001b[38;2;0;133;229;48;2;0;112;193m▄\u001b[0m\u001b[38;2;0;118;229;48;2;0;100;193m▄\u001b[0m\u001b[38;2;0;103;229;48;2;0;87;193m▄\u001b[0m\u001b[38;2;0;88;229;48;2;0;75;193m▄\u001b[0m\u001b[38;2;0;74;229;48;2;0;62;193m▄\u001b[0m\u001b[38;2;0;59;229;48;2;0;50;193m▄\u001b[0m\u001b[38;2;0;44;229;48;2;0;37;193m▄\u001b[0m\u001b[38;2;0;29;229;48;2;0;25;193m▄\u001b[0m\u001b[38;2;0;14;229;48;2;0;12;193m▄\u001b[0m\u001b[38;2;0;0;229;48;2;0;0;193m▄\u001b[0m\u001b[38;2;14;0;229;48;2;12;0;193m▄\u001b[0m\u001b[38;2;29;0;229;48;2;25;0;193m▄\u001b[0m\u001b[38;2;44;0;229;48;2;37;0;193m▄\u001b[0m\u001b[38;2;59;0;229;48;2;50;0;193m▄\u001b[0m\u001b[38;2;74;0;229;48;2;62;0;193m▄\u001b[0m\u001b[38;2;88;0;229;48;2;75;0;193m▄\u001b[0m\u001b[38;2;103;0;229;48;2;87;0;193m▄\u001b[0m\u001b[38;2;118;0;229;48;2;100;0;193m▄\u001b[0m\u001b[38;2;133;0;229;48;2;112;0;193m▄\u001b[0m\u001b[38;2;148;0;229;48;2;125;0;193m▄\u001b[0m\u001b[38;2;162;0;229;48;2;137;0;193m▄\u001b[0m\u001b[38;2;177;0;229;48;2;150;0;193m▄\u001b[0m\u001b[38;2;192;0;229;48;2;162;0;193m▄\u001b[0m\u001b[38;2;207;0;229;48;2;175;0;193m▄\u001b[0m\u001b[38;2;222;0;229;48;2;187;0;193m▄\u001b[0m\u001b[38;2;229;0;222;48;2;193;0;187m▄\u001b[0m\u001b[38;2;229;0;207;48;2;193;0;175m▄\u001b[0m\u001b[38;2;229;0;192;48;2;193;0;162m▄\u001b[0m\u001b[38;2;229;0;177;48;2;193;0;150m▄\u001b[0m\u001b[38;2;229;0;162;48;2;193;0;137m▄\u001b[0m\u001b[38;2;229;0;148;48;2;193;0;125m▄\u001b[0m\u001b[38;2;229;0;133;48;2;193;0;112m▄\u001b[0m\u001b[38;2;229;0;118;48;2;193;0;100m▄\u001b[0m\u001b[38;2;229;0;103;48;2;193;0;87m▄\u001b[0m\u001b[38;2;229;0;88;48;2;193;0;75m▄\u001b[0m\u001b[38;2;229;0;74;48;2;193;0;62m▄\u001b[0m\u001b[38;2;229;0;59;48;2;193;0;50m▄\u001b[0m\u001b[38;2;229;0;44;48;2;193;0;37m▄\u001b[0m\u001b[38;2;229;0;29;48;2;193;0;25m▄\u001b[0m\u001b[38;2;229;0;14;48;2;193;0;12m▄\u001b[0m\n",
       "\u001b[38;2;254;45;45;48;2;255;10;10m▄\u001b[0m\u001b[38;2;254;59;45;48;2;255;25;10m▄\u001b[0m\u001b[38;2;254;72;45;48;2;255;41;10m▄\u001b[0m\u001b[38;2;254;86;45;48;2;255;57;10m▄\u001b[0m\u001b[38;2;254;99;45;48;2;255;73;10m▄\u001b[0m\u001b[38;2;254;113;45;48;2;255;89;10m▄\u001b[0m\u001b[38;2;254;126;45;48;2;255;104;10m▄\u001b[0m\u001b[38;2;254;140;45;48;2;255;120;10m▄\u001b[0m\u001b[38;2;254;153;45;48;2;255;136;10m▄\u001b[0m\u001b[38;2;254;167;45;48;2;255;152;10m▄\u001b[0m\u001b[38;2;254;180;45;48;2;255;168;10m▄\u001b[0m\u001b[38;2;254;194;45;48;2;255;183;10m▄\u001b[0m\u001b[38;2;254;207;45;48;2;255;199;10m▄\u001b[0m\u001b[38;2;254;221;45;48;2;255;215;10m▄\u001b[0m\u001b[38;2;254;234;45;48;2;255;231;10m▄\u001b[0m\u001b[38;2;254;248;45;48;2;255;247;10m▄\u001b[0m\u001b[38;2;248;254;45;48;2;247;255;10m▄\u001b[0m\u001b[38;2;234;254;45;48;2;231;255;10m▄\u001b[0m\u001b[38;2;221;254;45;48;2;215;255;10m▄\u001b[0m\u001b[38;2;207;254;45;48;2;199;255;10m▄\u001b[0m\u001b[38;2;194;254;45;48;2;183;255;10m▄\u001b[0m\u001b[38;2;180;254;45;48;2;168;255;10m▄\u001b[0m\u001b[38;2;167;254;45;48;2;152;255;10m▄\u001b[0m\u001b[38;2;153;254;45;48;2;136;255;10m▄\u001b[0m\u001b[38;2;140;254;45;48;2;120;255;10m▄\u001b[0m\u001b[38;2;126;254;45;48;2;104;255;10m▄\u001b[0m\u001b[38;2;113;254;45;48;2;89;255;10m▄\u001b[0m\u001b[38;2;99;254;45;48;2;73;255;10m▄\u001b[0m\u001b[38;2;86;254;45;48;2;57;255;10m▄\u001b[0m\u001b[38;2;72;254;45;48;2;41;255;10m▄\u001b[0m\u001b[38;2;59;254;45;48;2;25;255;10m▄\u001b[0m\u001b[38;2;45;254;45;48;2;10;255;10m▄\u001b[0m\u001b[38;2;45;254;59;48;2;10;255;25m▄\u001b[0m\u001b[38;2;45;254;72;48;2;10;255;41m▄\u001b[0m\u001b[38;2;45;254;86;48;2;10;255;57m▄\u001b[0m\u001b[38;2;45;254;99;48;2;10;255;73m▄\u001b[0m\u001b[38;2;45;254;113;48;2;10;255;89m▄\u001b[0m\u001b[38;2;45;254;126;48;2;10;255;104m▄\u001b[0m\u001b[38;2;45;254;140;48;2;10;255;120m▄\u001b[0m\u001b[38;2;45;254;153;48;2;10;255;136m▄\u001b[0m\u001b[38;2;45;254;167;48;2;10;255;152m▄\u001b[0m\u001b[38;2;45;254;180;48;2;10;255;168m▄\u001b[0m\u001b[38;2;45;254;194;48;2;10;255;183m▄\u001b[0m\u001b[38;2;45;254;207;48;2;10;255;199m▄\u001b[0m\u001b[38;2;45;254;221;48;2;10;255;215m▄\u001b[0m\u001b[38;2;45;254;234;48;2;10;255;231m▄\u001b[0m\u001b[38;2;45;254;248;48;2;10;255;247m▄\u001b[0m\u001b[38;2;45;248;254;48;2;10;247;255m▄\u001b[0m\u001b[38;2;45;234;254;48;2;10;231;255m▄\u001b[0m\u001b[38;2;45;221;254;48;2;10;215;255m▄\u001b[0m\u001b[38;2;45;207;254;48;2;10;199;255m▄\u001b[0m\u001b[38;2;45;194;254;48;2;10;183;255m▄\u001b[0m\u001b[38;2;45;180;254;48;2;10;168;255m▄\u001b[0m\u001b[38;2;45;167;254;48;2;10;152;255m▄\u001b[0m\u001b[38;2;45;153;254;48;2;10;136;255m▄\u001b[0m\u001b[38;2;45;140;254;48;2;10;120;255m▄\u001b[0m\u001b[38;2;45;126;254;48;2;10;104;255m▄\u001b[0m\u001b[38;2;45;113;254;48;2;10;89;255m▄\u001b[0m\u001b[38;2;45;99;254;48;2;10;73;255m▄\u001b[0m\u001b[38;2;45;86;254;48;2;10;57;255m▄\u001b[0m\u001b[38;2;45;72;254;48;2;10;41;255m▄\u001b[0m\u001b[38;2;45;59;254;48;2;10;25;255m▄\u001b[0m\u001b[38;2;45;45;254;48;2;10;10;255m▄\u001b[0m\u001b[38;2;59;45;254;48;2;25;10;255m▄\u001b[0m\u001b[38;2;72;45;254;48;2;41;10;255m▄\u001b[0m\u001b[38;2;86;45;254;48;2;57;10;255m▄\u001b[0m\u001b[38;2;99;45;254;48;2;73;10;255m▄\u001b[0m\u001b[38;2;113;45;254;48;2;89;10;255m▄\u001b[0m\u001b[38;2;126;45;254;48;2;104;10;255m▄\u001b[0m\u001b[38;2;140;45;254;48;2;120;10;255m▄\u001b[0m\u001b[38;2;153;45;254;48;2;136;10;255m▄\u001b[0m\u001b[38;2;167;45;254;48;2;152;10;255m▄\u001b[0m\u001b[38;2;180;45;254;48;2;168;10;255m▄\u001b[0m\u001b[38;2;194;45;254;48;2;183;10;255m▄\u001b[0m\u001b[38;2;207;45;254;48;2;199;10;255m▄\u001b[0m\u001b[38;2;221;45;254;48;2;215;10;255m▄\u001b[0m\u001b[38;2;234;45;254;48;2;231;10;255m▄\u001b[0m\u001b[38;2;248;45;254;48;2;247;10;255m▄\u001b[0m\u001b[38;2;254;45;248;48;2;255;10;247m▄\u001b[0m\u001b[38;2;254;45;234;48;2;255;10;231m▄\u001b[0m\u001b[38;2;254;45;221;48;2;255;10;215m▄\u001b[0m\u001b[38;2;254;45;207;48;2;255;10;199m▄\u001b[0m\u001b[38;2;254;45;194;48;2;255;10;183m▄\u001b[0m\u001b[38;2;254;45;180;48;2;255;10;168m▄\u001b[0m\u001b[38;2;254;45;167;48;2;255;10;152m▄\u001b[0m\u001b[38;2;254;45;153;48;2;255;10;136m▄\u001b[0m\u001b[38;2;254;45;140;48;2;255;10;120m▄\u001b[0m\u001b[38;2;254;45;126;48;2;255;10;104m▄\u001b[0m\u001b[38;2;254;45;113;48;2;255;10;89m▄\u001b[0m\u001b[38;2;254;45;99;48;2;255;10;73m▄\u001b[0m\u001b[38;2;254;45;86;48;2;255;10;57m▄\u001b[0m\u001b[38;2;254;45;72;48;2;255;10;41m▄\u001b[0m\u001b[38;2;254;45;59;48;2;255;10;25m▄\u001b[0m\n",
       "\u001b[38;2;255;117;117;48;2;255;81;81m▄\u001b[0m\u001b[38;2;255;126;117;48;2;255;92;81m▄\u001b[0m\u001b[38;2;255;135;117;48;2;255;103;81m▄\u001b[0m\u001b[38;2;255;143;117;48;2;255;115;81m▄\u001b[0m\u001b[38;2;255;152;117;48;2;255;126;81m▄\u001b[0m\u001b[38;2;255;161;117;48;2;255;137;81m▄\u001b[0m\u001b[38;2;255;170;117;48;2;255;148;81m▄\u001b[0m\u001b[38;2;255;179;117;48;2;255;159;81m▄\u001b[0m\u001b[38;2;255;188;117;48;2;255;171;81m▄\u001b[0m\u001b[38;2;255;197;117;48;2;255;182;81m▄\u001b[0m\u001b[38;2;255;206;117;48;2;255;193;81m▄\u001b[0m\u001b[38;2;255;215;117;48;2;255;204;81m▄\u001b[0m\u001b[38;2;255;223;117;48;2;255;215;81m▄\u001b[0m\u001b[38;2;255;232;117;48;2;255;227;81m▄\u001b[0m\u001b[38;2;255;241;117;48;2;255;238;81m▄\u001b[0m\u001b[38;2;255;250;117;48;2;255;249;81m▄\u001b[0m\u001b[38;2;250;255;117;48;2;249;255;81m▄\u001b[0m\u001b[38;2;241;255;117;48;2;238;255;81m▄\u001b[0m\u001b[38;2;232;255;117;48;2;227;255;81m▄\u001b[0m\u001b[38;2;223;255;117;48;2;215;255;81m▄\u001b[0m\u001b[38;2;215;255;117;48;2;204;255;81m▄\u001b[0m\u001b[38;2;206;255;117;48;2;193;255;81m▄\u001b[0m\u001b[38;2;197;255;117;48;2;182;255;81m▄\u001b[0m\u001b[38;2;188;255;117;48;2;171;255;81m▄\u001b[0m\u001b[38;2;179;255;117;48;2;159;255;81m▄\u001b[0m\u001b[38;2;170;255;117;48;2;148;255;81m▄\u001b[0m\u001b[38;2;161;255;117;48;2;137;255;81m▄\u001b[0m\u001b[38;2;152;255;117;48;2;126;255;81m▄\u001b[0m\u001b[38;2;143;255;117;48;2;115;255;81m▄\u001b[0m\u001b[38;2;135;255;117;48;2;103;255;81m▄\u001b[0m\u001b[38;2;126;255;117;48;2;92;255;81m▄\u001b[0m\u001b[38;2;117;255;117;48;2;81;255;81m▄\u001b[0m\u001b[38;2;117;255;126;48;2;81;255;92m▄\u001b[0m\u001b[38;2;117;255;135;48;2;81;255;103m▄\u001b[0m\u001b[38;2;117;255;143;48;2;81;255;115m▄\u001b[0m\u001b[38;2;117;255;152;48;2;81;255;126m▄\u001b[0m\u001b[38;2;117;255;161;48;2;81;255;137m▄\u001b[0m\u001b[38;2;117;255;170;48;2;81;255;148m▄\u001b[0m\u001b[38;2;117;255;179;48;2;81;255;159m▄\u001b[0m\u001b[38;2;117;255;188;48;2;81;255;171m▄\u001b[0m\u001b[38;2;117;255;197;48;2;81;255;182m▄\u001b[0m\u001b[38;2;117;255;206;48;2;81;255;193m▄\u001b[0m\u001b[38;2;117;255;215;48;2;81;255;204m▄\u001b[0m\u001b[38;2;117;255;223;48;2;81;255;215m▄\u001b[0m\u001b[38;2;117;255;232;48;2;81;255;227m▄\u001b[0m\u001b[38;2;117;255;241;48;2;81;255;238m▄\u001b[0m\u001b[38;2;117;255;250;48;2;81;255;249m▄\u001b[0m\u001b[38;2;117;250;255;48;2;81;249;255m▄\u001b[0m\u001b[38;2;117;241;255;48;2;81;238;255m▄\u001b[0m\u001b[38;2;117;232;255;48;2;81;227;255m▄\u001b[0m\u001b[38;2;117;223;255;48;2;81;215;255m▄\u001b[0m\u001b[38;2;117;215;255;48;2;81;204;255m▄\u001b[0m\u001b[38;2;117;206;255;48;2;81;193;255m▄\u001b[0m\u001b[38;2;117;197;255;48;2;81;182;255m▄\u001b[0m\u001b[38;2;117;188;255;48;2;81;171;255m▄\u001b[0m\u001b[38;2;117;179;255;48;2;81;159;255m▄\u001b[0m\u001b[38;2;117;170;255;48;2;81;148;255m▄\u001b[0m\u001b[38;2;117;161;255;48;2;81;137;255m▄\u001b[0m\u001b[38;2;117;152;255;48;2;81;126;255m▄\u001b[0m\u001b[38;2;117;143;255;48;2;81;115;255m▄\u001b[0m\u001b[38;2;117;135;255;48;2;81;103;255m▄\u001b[0m\u001b[38;2;117;126;255;48;2;81;92;255m▄\u001b[0m\u001b[38;2;117;117;255;48;2;81;81;255m▄\u001b[0m\u001b[38;2;126;117;255;48;2;92;81;255m▄\u001b[0m\u001b[38;2;135;117;255;48;2;103;81;255m▄\u001b[0m\u001b[38;2;143;117;255;48;2;115;81;255m▄\u001b[0m\u001b[38;2;152;117;255;48;2;126;81;255m▄\u001b[0m\u001b[38;2;161;117;255;48;2;137;81;255m▄\u001b[0m\u001b[38;2;170;117;255;48;2;148;81;255m▄\u001b[0m\u001b[38;2;179;117;255;48;2;159;81;255m▄\u001b[0m\u001b[38;2;188;117;255;48;2;171;81;255m▄\u001b[0m\u001b[38;2;197;117;255;48;2;182;81;255m▄\u001b[0m\u001b[38;2;206;117;255;48;2;193;81;255m▄\u001b[0m\u001b[38;2;215;117;255;48;2;204;81;255m▄\u001b[0m\u001b[38;2;223;117;255;48;2;215;81;255m▄\u001b[0m\u001b[38;2;232;117;255;48;2;227;81;255m▄\u001b[0m\u001b[38;2;241;117;255;48;2;238;81;255m▄\u001b[0m\u001b[38;2;250;117;255;48;2;249;81;255m▄\u001b[0m\u001b[38;2;255;117;250;48;2;255;81;249m▄\u001b[0m\u001b[38;2;255;117;241;48;2;255;81;238m▄\u001b[0m\u001b[38;2;255;117;232;48;2;255;81;227m▄\u001b[0m\u001b[38;2;255;117;223;48;2;255;81;215m▄\u001b[0m\u001b[38;2;255;117;215;48;2;255;81;204m▄\u001b[0m\u001b[38;2;255;117;206;48;2;255;81;193m▄\u001b[0m\u001b[38;2;255;117;197;48;2;255;81;182m▄\u001b[0m\u001b[38;2;255;117;188;48;2;255;81;171m▄\u001b[0m\u001b[38;2;255;117;179;48;2;255;81;159m▄\u001b[0m\u001b[38;2;255;117;170;48;2;255;81;148m▄\u001b[0m\u001b[38;2;255;117;161;48;2;255;81;137m▄\u001b[0m\u001b[38;2;255;117;152;48;2;255;81;126m▄\u001b[0m\u001b[38;2;255;117;143;48;2;255;81;115m▄\u001b[0m\u001b[38;2;255;117;135;48;2;255;81;103m▄\u001b[0m\u001b[38;2;255;117;126;48;2;255;81;92m▄\u001b[0m\n"
      ]
     },
     "metadata": {},
     "output_type": "display_data"
    },
    {
     "data": {
      "text/html": [
       "<pre style=\"white-space:pre;overflow-x:auto;line-height:normal;font-family:Menlo,'DejaVu Sans Mono',consolas,'Courier New',monospace\">\n",
       "</pre>\n"
      ],
      "text/plain": [
       "\n"
      ]
     },
     "metadata": {},
     "output_type": "display_data"
    },
    {
     "data": {
      "text/html": [
       "<pre style=\"white-space:pre;overflow-x:auto;line-height:normal;font-family:Menlo,'DejaVu Sans Mono',consolas,'Courier New',monospace\"><span style=\"font-weight: bold\">&lt;</span><span style=\"color: #ff00ff; text-decoration-color: #ff00ff; font-weight: bold\">class</span><span style=\"color: #000000; text-decoration-color: #000000\"> </span><span style=\"color: #008000; text-decoration-color: #008000\">'rich.table.Table'</span><span style=\"font-weight: bold\">&gt;</span>\n",
       "</pre>\n"
      ],
      "text/plain": [
       "\u001b[1m<\u001b[0m\u001b[1;95mclass\u001b[0m\u001b[39m \u001b[0m\u001b[32m'rich.table.Table'\u001b[0m\u001b[1m>\u001b[0m\n"
      ]
     },
     "metadata": {},
     "output_type": "display_data"
    }
   ],
   "source": [
    "import colorsys\n",
    "import io\n",
    "from time import process_time\n",
    "\n",
    "from rich import box\n",
    "from rich.color import Color\n",
    "from rich.console import Console, ConsoleOptions, Group, RenderableType, RenderResult\n",
    "from rich.markdown import Markdown\n",
    "from rich.measure import Measurement\n",
    "from rich.pretty import Pretty\n",
    "from rich.segment import Segment\n",
    "from rich.style import Style\n",
    "from rich.syntax import Syntax\n",
    "from rich.table import Table\n",
    "from rich.text import Text\n",
    "class ColorBox:\n",
    "    def __rich_console__(\n",
    "        self, console: Console, options: ConsoleOptions\n",
    "    ) -> RenderResult:\n",
    "        for y in range(0, 5):\n",
    "            for x in range(options.max_width):\n",
    "                h = x / options.max_width\n",
    "                l = 0.1 + ((y / 5) * 0.7)\n",
    "                r1, g1, b1 = colorsys.hls_to_rgb(h, l, 1.0)\n",
    "                r2, g2, b2 = colorsys.hls_to_rgb(h, l + 0.7 / 10, 1.0)\n",
    "                bgcolor = Color.from_rgb(r1 * 255, g1 * 255, b1 * 255)\n",
    "                color = Color.from_rgb(r2 * 255, g2 * 255, b2 * 255)\n",
    "                yield Segment(\"▄\", Style(color=color, bgcolor=bgcolor))\n",
    "            yield Segment.line()\n",
    "\n",
    "    def __rich_measure__(\n",
    "        self, console: \"Console\", options: ConsoleOptions\n",
    "    ) -> Measurement:\n",
    "        return Measurement(1, options.max_width)\n",
    "\n",
    "\n",
    "print(ColorBox())\n",
    "\n",
    "Table"
   ]
  },
  {
   "cell_type": "code",
   "execution_count": 68,
   "id": "799885ce",
   "metadata": {},
   "outputs": [
    {
     "data": {
      "text/html": [
       "<pre style=\"white-space:pre;overflow-x:auto;line-height:normal;font-family:Menlo,'DejaVu Sans Mono',consolas,'Courier New',monospace\">┏━━━━━━━━━━━━━━━━━━━━━━━━━━━━━━━━━━━━━━━━━━━━━━━━━━━━━━━━━━━━━━━━━━━━━━━━━━━━━━━━━━━━━━━━━━━┓\n",
       "┃ <span style=\"color: #560000; text-decoration-color: #560000; background-color: #330000\">▄</span><span style=\"color: #560500; text-decoration-color: #560500; background-color: #330300\">▄</span><span style=\"color: #560b00; text-decoration-color: #560b00; background-color: #330600\">▄</span><span style=\"color: #561100; text-decoration-color: #561100; background-color: #330a00\">▄</span><span style=\"color: #561700; text-decoration-color: #561700; background-color: #330d00\">▄</span><span style=\"color: #561d00; text-decoration-color: #561d00; background-color: #331100\">▄</span><span style=\"color: #562300; text-decoration-color: #562300; background-color: #331400\">▄</span><span style=\"color: #562800; text-decoration-color: #562800; background-color: #331800\">▄</span><span style=\"color: #562e00; text-decoration-color: #562e00; background-color: #331b00\">▄</span><span style=\"color: #563400; text-decoration-color: #563400; background-color: #331e00\">▄</span><span style=\"color: #563a00; text-decoration-color: #563a00; background-color: #332200\">▄</span><span style=\"color: #564000; text-decoration-color: #564000; background-color: #332500\">▄</span><span style=\"color: #564600; text-decoration-color: #564600; background-color: #332900\">▄</span><span style=\"color: #564b00; text-decoration-color: #564b00; background-color: #332c00\">▄</span><span style=\"color: #565100; text-decoration-color: #565100; background-color: #333000\">▄</span><span style=\"color: #555600; text-decoration-color: #555600; background-color: #323300\">▄</span><span style=\"color: #4f5600; text-decoration-color: #4f5600; background-color: #2e3300\">▄</span><span style=\"color: #4a5600; text-decoration-color: #4a5600; background-color: #2b3300\">▄</span><span style=\"color: #445600; text-decoration-color: #445600; background-color: #283300\">▄</span><span style=\"color: #3e5600; text-decoration-color: #3e5600; background-color: #243300\">▄</span><span style=\"color: #385600; text-decoration-color: #385600; background-color: #213300\">▄</span><span style=\"color: #325600; text-decoration-color: #325600; background-color: #1d3300\">▄</span><span style=\"color: #2c5600; text-decoration-color: #2c5600; background-color: #1a3300\">▄</span><span style=\"color: #265600; text-decoration-color: #265600; background-color: #163300\">▄</span><span style=\"color: #215600; text-decoration-color: #215600; background-color: #133300\">▄</span><span style=\"color: #1b5600; text-decoration-color: #1b5600; background-color: #103300\">▄</span><span style=\"color: #155600; text-decoration-color: #155600; background-color: #0c3300\">▄</span><span style=\"color: #0f5600; text-decoration-color: #0f5600; background-color: #093300\">▄</span><span style=\"color: #095600; text-decoration-color: #095600; background-color: #053300\">▄</span><span style=\"color: #035600; text-decoration-color: #035600; background-color: #023300\">▄</span><span style=\"color: #005601; text-decoration-color: #005601; background-color: #003301\">▄</span><span style=\"color: #005607; text-decoration-color: #005607; background-color: #003304\">▄</span><span style=\"color: #00560d; text-decoration-color: #00560d; background-color: #003308\">▄</span><span style=\"color: #005613; text-decoration-color: #005613; background-color: #00330b\">▄</span><span style=\"color: #005619; text-decoration-color: #005619; background-color: #00330e\">▄</span><span style=\"color: #00561f; text-decoration-color: #00561f; background-color: #003312\">▄</span><span style=\"color: #005625; text-decoration-color: #005625; background-color: #003315\">▄</span><span style=\"color: #00562a; text-decoration-color: #00562a; background-color: #003319\">▄</span><span style=\"color: #005630; text-decoration-color: #005630; background-color: #00331c\">▄</span><span style=\"color: #005636; text-decoration-color: #005636; background-color: #003320\">▄</span><span style=\"color: #00563c; text-decoration-color: #00563c; background-color: #003323\">▄</span><span style=\"color: #005642; text-decoration-color: #005642; background-color: #003326\">▄</span><span style=\"color: #005648; text-decoration-color: #005648; background-color: #00332a\">▄</span><span style=\"color: #00564d; text-decoration-color: #00564d; background-color: #00332d\">▄</span><span style=\"color: #005653; text-decoration-color: #005653; background-color: #003331\">▄</span><span style=\"color: #005356; text-decoration-color: #005356; background-color: #003133\">▄</span><span style=\"color: #004d56; text-decoration-color: #004d56; background-color: #002d33\">▄</span><span style=\"color: #004856; text-decoration-color: #004856; background-color: #002a33\">▄</span><span style=\"color: #004256; text-decoration-color: #004256; background-color: #002633\">▄</span><span style=\"color: #003c56; text-decoration-color: #003c56; background-color: #002333\">▄</span><span style=\"color: #003656; text-decoration-color: #003656; background-color: #002033\">▄</span><span style=\"color: #003056; text-decoration-color: #003056; background-color: #001c33\">▄</span><span style=\"color: #002a56; text-decoration-color: #002a56; background-color: #001933\">▄</span><span style=\"color: #002556; text-decoration-color: #002556; background-color: #001533\">▄</span><span style=\"color: #001f56; text-decoration-color: #001f56; background-color: #001233\">▄</span><span style=\"color: #001956; text-decoration-color: #001956; background-color: #000e33\">▄</span><span style=\"color: #001356; text-decoration-color: #001356; background-color: #000b33\">▄</span><span style=\"color: #000d56; text-decoration-color: #000d56; background-color: #000833\">▄</span><span style=\"color: #000756; text-decoration-color: #000756; background-color: #000433\">▄</span><span style=\"color: #000156; text-decoration-color: #000156; background-color: #000133\">▄</span><span style=\"color: #030056; text-decoration-color: #030056; background-color: #020033\">▄</span><span style=\"color: #090056; text-decoration-color: #090056; background-color: #050033\">▄</span><span style=\"color: #0f0056; text-decoration-color: #0f0056; background-color: #090033\">▄</span><span style=\"color: #150056; text-decoration-color: #150056; background-color: #0c0033\">▄</span><span style=\"color: #1b0056; text-decoration-color: #1b0056; background-color: #100033\">▄</span><span style=\"color: #210056; text-decoration-color: #210056; background-color: #130033\">▄</span><span style=\"color: #260056; text-decoration-color: #260056; background-color: #160033\">▄</span><span style=\"color: #2c0056; text-decoration-color: #2c0056; background-color: #1a0033\">▄</span><span style=\"color: #320056; text-decoration-color: #320056; background-color: #1d0033\">▄</span><span style=\"color: #380056; text-decoration-color: #380056; background-color: #210033\">▄</span><span style=\"color: #3e0056; text-decoration-color: #3e0056; background-color: #240033\">▄</span><span style=\"color: #440056; text-decoration-color: #440056; background-color: #280033\">▄</span><span style=\"color: #4a0056; text-decoration-color: #4a0056; background-color: #2b0033\">▄</span><span style=\"color: #4f0056; text-decoration-color: #4f0056; background-color: #2e0033\">▄</span><span style=\"color: #550056; text-decoration-color: #550056; background-color: #320033\">▄</span><span style=\"color: #560051; text-decoration-color: #560051; background-color: #330030\">▄</span><span style=\"color: #56004b; text-decoration-color: #56004b; background-color: #33002c\">▄</span><span style=\"color: #560046; text-decoration-color: #560046; background-color: #330029\">▄</span><span style=\"color: #560040; text-decoration-color: #560040; background-color: #330025\">▄</span><span style=\"color: #56003a; text-decoration-color: #56003a; background-color: #330022\">▄</span><span style=\"color: #560034; text-decoration-color: #560034; background-color: #33001e\">▄</span><span style=\"color: #56002e; text-decoration-color: #56002e; background-color: #33001b\">▄</span><span style=\"color: #560028; text-decoration-color: #560028; background-color: #330018\">▄</span><span style=\"color: #560023; text-decoration-color: #560023; background-color: #330014\">▄</span><span style=\"color: #56001d; text-decoration-color: #56001d; background-color: #330011\">▄</span><span style=\"color: #560017; text-decoration-color: #560017; background-color: #33000d\">▄</span><span style=\"color: #560011; text-decoration-color: #560011; background-color: #33000a\">▄</span><span style=\"color: #56000b; text-decoration-color: #56000b; background-color: #330006\">▄</span><span style=\"color: #560005; text-decoration-color: #560005; background-color: #330003\">▄</span> ┃\n",
       "┃ <span style=\"color: #9e0000; text-decoration-color: #9e0000; background-color: #7a0000\">▄</span><span style=\"color: #9e0a00; text-decoration-color: #9e0a00; background-color: #7a0800\">▄</span><span style=\"color: #9e1500; text-decoration-color: #9e1500; background-color: #7a1000\">▄</span><span style=\"color: #9e1f00; text-decoration-color: #9e1f00; background-color: #7a1800\">▄</span><span style=\"color: #9e2a00; text-decoration-color: #9e2a00; background-color: #7a2100\">▄</span><span style=\"color: #9e3500; text-decoration-color: #9e3500; background-color: #7a2900\">▄</span><span style=\"color: #9e3f00; text-decoration-color: #9e3f00; background-color: #7a3100\">▄</span><span style=\"color: #9e4a00; text-decoration-color: #9e4a00; background-color: #7a3900\">▄</span><span style=\"color: #9e5500; text-decoration-color: #9e5500; background-color: #7a4200\">▄</span><span style=\"color: #9e5f00; text-decoration-color: #9e5f00; background-color: #7a4a00\">▄</span><span style=\"color: #9e6a00; text-decoration-color: #9e6a00; background-color: #7a5200\">▄</span><span style=\"color: #9e7500; text-decoration-color: #9e7500; background-color: #7a5a00\">▄</span><span style=\"color: #9e7f00; text-decoration-color: #9e7f00; background-color: #7a6300\">▄</span><span style=\"color: #9e8a00; text-decoration-color: #9e8a00; background-color: #7a6b00\">▄</span><span style=\"color: #9e9500; text-decoration-color: #9e9500; background-color: #7a7300\">▄</span><span style=\"color: #9c9e00; text-decoration-color: #9c9e00; background-color: #797a00\">▄</span><span style=\"color: #919e00; text-decoration-color: #919e00; background-color: #707a00\">▄</span><span style=\"color: #879e00; text-decoration-color: #879e00; background-color: #687a00\">▄</span><span style=\"color: #7c9e00; text-decoration-color: #7c9e00; background-color: #607a00\">▄</span><span style=\"color: #719e00; text-decoration-color: #719e00; background-color: #587a00\">▄</span><span style=\"color: #679e00; text-decoration-color: #679e00; background-color: #4f7a00\">▄</span><span style=\"color: #5c9e00; text-decoration-color: #5c9e00; background-color: #477a00\">▄</span><span style=\"color: #519e00; text-decoration-color: #519e00; background-color: #3f7a00\">▄</span><span style=\"color: #479e00; text-decoration-color: #479e00; background-color: #377a00\">▄</span><span style=\"color: #3c9e00; text-decoration-color: #3c9e00; background-color: #2e7a00\">▄</span><span style=\"color: #319e00; text-decoration-color: #319e00; background-color: #267a00\">▄</span><span style=\"color: #279e00; text-decoration-color: #279e00; background-color: #1e7a00\">▄</span><span style=\"color: #1c9e00; text-decoration-color: #1c9e00; background-color: #167a00\">▄</span><span style=\"color: #119e00; text-decoration-color: #119e00; background-color: #0d7a00\">▄</span><span style=\"color: #079e00; text-decoration-color: #079e00; background-color: #057a00\">▄</span><span style=\"color: #009e03; text-decoration-color: #009e03; background-color: #007a02\">▄</span><span style=\"color: #009e0e; text-decoration-color: #009e0e; background-color: #007a0b\">▄</span><span style=\"color: #009e18; text-decoration-color: #009e18; background-color: #007a13\">▄</span><span style=\"color: #009e23; text-decoration-color: #009e23; background-color: #007a1b\">▄</span><span style=\"color: #009e2e; text-decoration-color: #009e2e; background-color: #007a23\">▄</span><span style=\"color: #009e38; text-decoration-color: #009e38; background-color: #007a2c\">▄</span><span style=\"color: #009e43; text-decoration-color: #009e43; background-color: #007a34\">▄</span><span style=\"color: #009e4e; text-decoration-color: #009e4e; background-color: #007a3c\">▄</span><span style=\"color: #009e58; text-decoration-color: #009e58; background-color: #007a44\">▄</span><span style=\"color: #009e63; text-decoration-color: #009e63; background-color: #007a4d\">▄</span><span style=\"color: #009e6e; text-decoration-color: #009e6e; background-color: #007a55\">▄</span><span style=\"color: #009e78; text-decoration-color: #009e78; background-color: #007a5d\">▄</span><span style=\"color: #009e83; text-decoration-color: #009e83; background-color: #007a65\">▄</span><span style=\"color: #009e8e; text-decoration-color: #009e8e; background-color: #007a6e\">▄</span><span style=\"color: #009e98; text-decoration-color: #009e98; background-color: #007a76\">▄</span><span style=\"color: #00989e; text-decoration-color: #00989e; background-color: #00767a\">▄</span><span style=\"color: #008e9e; text-decoration-color: #008e9e; background-color: #006e7a\">▄</span><span style=\"color: #00839e; text-decoration-color: #00839e; background-color: #00657a\">▄</span><span style=\"color: #00789e; text-decoration-color: #00789e; background-color: #005d7a\">▄</span><span style=\"color: #006e9e; text-decoration-color: #006e9e; background-color: #00557a\">▄</span><span style=\"color: #00639e; text-decoration-color: #00639e; background-color: #004d7a\">▄</span><span style=\"color: #00589e; text-decoration-color: #00589e; background-color: #00447a\">▄</span><span style=\"color: #004e9e; text-decoration-color: #004e9e; background-color: #003c7a\">▄</span><span style=\"color: #00439e; text-decoration-color: #00439e; background-color: #00347a\">▄</span><span style=\"color: #00389e; text-decoration-color: #00389e; background-color: #002c7a\">▄</span><span style=\"color: #002e9e; text-decoration-color: #002e9e; background-color: #00237a\">▄</span><span style=\"color: #00239e; text-decoration-color: #00239e; background-color: #001b7a\">▄</span><span style=\"color: #00189e; text-decoration-color: #00189e; background-color: #00137a\">▄</span><span style=\"color: #000e9e; text-decoration-color: #000e9e; background-color: #000b7a\">▄</span><span style=\"color: #00039e; text-decoration-color: #00039e; background-color: #00027a\">▄</span><span style=\"color: #07009e; text-decoration-color: #07009e; background-color: #05007a\">▄</span><span style=\"color: #11009e; text-decoration-color: #11009e; background-color: #0d007a\">▄</span><span style=\"color: #1c009e; text-decoration-color: #1c009e; background-color: #16007a\">▄</span><span style=\"color: #27009e; text-decoration-color: #27009e; background-color: #1e007a\">▄</span><span style=\"color: #31009e; text-decoration-color: #31009e; background-color: #26007a\">▄</span><span style=\"color: #3c009e; text-decoration-color: #3c009e; background-color: #2e007a\">▄</span><span style=\"color: #47009e; text-decoration-color: #47009e; background-color: #37007a\">▄</span><span style=\"color: #51009e; text-decoration-color: #51009e; background-color: #3f007a\">▄</span><span style=\"color: #5c009e; text-decoration-color: #5c009e; background-color: #47007a\">▄</span><span style=\"color: #67009e; text-decoration-color: #67009e; background-color: #4f007a\">▄</span><span style=\"color: #71009e; text-decoration-color: #71009e; background-color: #58007a\">▄</span><span style=\"color: #7c009e; text-decoration-color: #7c009e; background-color: #60007a\">▄</span><span style=\"color: #87009e; text-decoration-color: #87009e; background-color: #68007a\">▄</span><span style=\"color: #91009e; text-decoration-color: #91009e; background-color: #70007a\">▄</span><span style=\"color: #9c009e; text-decoration-color: #9c009e; background-color: #79007a\">▄</span><span style=\"color: #9e0095; text-decoration-color: #9e0095; background-color: #7a0073\">▄</span><span style=\"color: #9e008a; text-decoration-color: #9e008a; background-color: #7a006b\">▄</span><span style=\"color: #9e007f; text-decoration-color: #9e007f; background-color: #7a0063\">▄</span><span style=\"color: #9e0075; text-decoration-color: #9e0075; background-color: #7a005a\">▄</span><span style=\"color: #9e006a; text-decoration-color: #9e006a; background-color: #7a0052\">▄</span><span style=\"color: #9e005f; text-decoration-color: #9e005f; background-color: #7a004a\">▄</span><span style=\"color: #9e0055; text-decoration-color: #9e0055; background-color: #7a0042\">▄</span><span style=\"color: #9e004a; text-decoration-color: #9e004a; background-color: #7a0039\">▄</span><span style=\"color: #9e003f; text-decoration-color: #9e003f; background-color: #7a0031\">▄</span><span style=\"color: #9e0035; text-decoration-color: #9e0035; background-color: #7a0029\">▄</span><span style=\"color: #9e002a; text-decoration-color: #9e002a; background-color: #7a0021\">▄</span><span style=\"color: #9e001f; text-decoration-color: #9e001f; background-color: #7a0018\">▄</span><span style=\"color: #9e0015; text-decoration-color: #9e0015; background-color: #7a0010\">▄</span><span style=\"color: #9e000a; text-decoration-color: #9e000a; background-color: #7a0008\">▄</span> ┃\n",
       "┃ <span style=\"color: #e50000; text-decoration-color: #e50000; background-color: #c10000\">▄</span><span style=\"color: #e50f00; text-decoration-color: #e50f00; background-color: #c10d00\">▄</span><span style=\"color: #e51e00; text-decoration-color: #e51e00; background-color: #c11a00\">▄</span><span style=\"color: #e52e00; text-decoration-color: #e52e00; background-color: #c12700\">▄</span><span style=\"color: #e53d00; text-decoration-color: #e53d00; background-color: #c13400\">▄</span><span style=\"color: #e54d00; text-decoration-color: #e54d00; background-color: #c14100\">▄</span><span style=\"color: #e55c00; text-decoration-color: #e55c00; background-color: #c14e00\">▄</span><span style=\"color: #e56c00; text-decoration-color: #e56c00; background-color: #c15b00\">▄</span><span style=\"color: #e57b00; text-decoration-color: #e57b00; background-color: #c16800\">▄</span><span style=\"color: #e58b00; text-decoration-color: #e58b00; background-color: #c17500\">▄</span><span style=\"color: #e59a00; text-decoration-color: #e59a00; background-color: #c18200\">▄</span><span style=\"color: #e5aa00; text-decoration-color: #e5aa00; background-color: #c18f00\">▄</span><span style=\"color: #e5b900; text-decoration-color: #e5b900; background-color: #c19c00\">▄</span><span style=\"color: #e5c900; text-decoration-color: #e5c900; background-color: #c1a900\">▄</span><span style=\"color: #e5d800; text-decoration-color: #e5d800; background-color: #c1b600\">▄</span><span style=\"color: #e2e500; text-decoration-color: #e2e500; background-color: #bfc100\">▄</span><span style=\"color: #d3e500; text-decoration-color: #d3e500; background-color: #b2c100\">▄</span><span style=\"color: #c3e500; text-decoration-color: #c3e500; background-color: #a5c100\">▄</span><span style=\"color: #b4e500; text-decoration-color: #b4e500; background-color: #98c100\">▄</span><span style=\"color: #a5e500; text-decoration-color: #a5e500; background-color: #8bc100\">▄</span><span style=\"color: #95e500; text-decoration-color: #95e500; background-color: #7ec100\">▄</span><span style=\"color: #86e500; text-decoration-color: #86e500; background-color: #71c100\">▄</span><span style=\"color: #76e500; text-decoration-color: #76e500; background-color: #64c100\">▄</span><span style=\"color: #67e500; text-decoration-color: #67e500; background-color: #57c100\">▄</span><span style=\"color: #57e500; text-decoration-color: #57e500; background-color: #4ac100\">▄</span><span style=\"color: #48e500; text-decoration-color: #48e500; background-color: #3cc100\">▄</span><span style=\"color: #38e500; text-decoration-color: #38e500; background-color: #2fc100\">▄</span><span style=\"color: #29e500; text-decoration-color: #29e500; background-color: #22c100\">▄</span><span style=\"color: #19e500; text-decoration-color: #19e500; background-color: #15c100\">▄</span><span style=\"color: #0ae500; text-decoration-color: #0ae500; background-color: #08c100\">▄</span><span style=\"color: #00e505; text-decoration-color: #00e505; background-color: #00c104\">▄</span><span style=\"color: #00e514; text-decoration-color: #00e514; background-color: #00c111\">▄</span><span style=\"color: #00e524; text-decoration-color: #00e524; background-color: #00c11e\">▄</span><span style=\"color: #00e533; text-decoration-color: #00e533; background-color: #00c12b\">▄</span><span style=\"color: #00e543; text-decoration-color: #00e543; background-color: #00c138\">▄</span><span style=\"color: #00e552; text-decoration-color: #00e552; background-color: #00c145\">▄</span><span style=\"color: #00e561; text-decoration-color: #00e561; background-color: #00c152\">▄</span><span style=\"color: #00e571; text-decoration-color: #00e571; background-color: #00c15f\">▄</span><span style=\"color: #00e580; text-decoration-color: #00e580; background-color: #00c16c\">▄</span><span style=\"color: #00e590; text-decoration-color: #00e590; background-color: #00c179\">▄</span><span style=\"color: #00e59f; text-decoration-color: #00e59f; background-color: #00c187\">▄</span><span style=\"color: #00e5af; text-decoration-color: #00e5af; background-color: #00c194\">▄</span><span style=\"color: #00e5be; text-decoration-color: #00e5be; background-color: #00c1a1\">▄</span><span style=\"color: #00e5ce; text-decoration-color: #00e5ce; background-color: #00c1ae\">▄</span><span style=\"color: #00e5dd; text-decoration-color: #00e5dd; background-color: #00c1bb\">▄</span><span style=\"color: #00dde5; text-decoration-color: #00dde5; background-color: #00bbc1\">▄</span><span style=\"color: #00cee5; text-decoration-color: #00cee5; background-color: #00aec1\">▄</span><span style=\"color: #00bee5; text-decoration-color: #00bee5; background-color: #00a1c1\">▄</span><span style=\"color: #00afe5; text-decoration-color: #00afe5; background-color: #0094c1\">▄</span><span style=\"color: #009fe5; text-decoration-color: #009fe5; background-color: #0087c1\">▄</span><span style=\"color: #0090e5; text-decoration-color: #0090e5; background-color: #0079c1\">▄</span><span style=\"color: #0080e5; text-decoration-color: #0080e5; background-color: #006cc1\">▄</span><span style=\"color: #0071e5; text-decoration-color: #0071e5; background-color: #005fc1\">▄</span><span style=\"color: #0061e5; text-decoration-color: #0061e5; background-color: #0052c1\">▄</span><span style=\"color: #0052e5; text-decoration-color: #0052e5; background-color: #0045c1\">▄</span><span style=\"color: #0043e5; text-decoration-color: #0043e5; background-color: #0038c1\">▄</span><span style=\"color: #0033e5; text-decoration-color: #0033e5; background-color: #002bc1\">▄</span><span style=\"color: #0024e5; text-decoration-color: #0024e5; background-color: #001ec1\">▄</span><span style=\"color: #0014e5; text-decoration-color: #0014e5; background-color: #0011c1\">▄</span><span style=\"color: #0005e5; text-decoration-color: #0005e5; background-color: #0004c1\">▄</span><span style=\"color: #0a00e5; text-decoration-color: #0a00e5; background-color: #0800c1\">▄</span><span style=\"color: #1900e5; text-decoration-color: #1900e5; background-color: #1500c1\">▄</span><span style=\"color: #2900e5; text-decoration-color: #2900e5; background-color: #2200c1\">▄</span><span style=\"color: #3800e5; text-decoration-color: #3800e5; background-color: #2f00c1\">▄</span><span style=\"color: #4800e5; text-decoration-color: #4800e5; background-color: #3c00c1\">▄</span><span style=\"color: #5700e5; text-decoration-color: #5700e5; background-color: #4a00c1\">▄</span><span style=\"color: #6700e5; text-decoration-color: #6700e5; background-color: #5700c1\">▄</span><span style=\"color: #7600e5; text-decoration-color: #7600e5; background-color: #6400c1\">▄</span><span style=\"color: #8600e5; text-decoration-color: #8600e5; background-color: #7100c1\">▄</span><span style=\"color: #9500e5; text-decoration-color: #9500e5; background-color: #7e00c1\">▄</span><span style=\"color: #a500e5; text-decoration-color: #a500e5; background-color: #8b00c1\">▄</span><span style=\"color: #b400e5; text-decoration-color: #b400e5; background-color: #9800c1\">▄</span><span style=\"color: #c300e5; text-decoration-color: #c300e5; background-color: #a500c1\">▄</span><span style=\"color: #d300e5; text-decoration-color: #d300e5; background-color: #b200c1\">▄</span><span style=\"color: #e200e5; text-decoration-color: #e200e5; background-color: #bf00c1\">▄</span><span style=\"color: #e500d8; text-decoration-color: #e500d8; background-color: #c100b6\">▄</span><span style=\"color: #e500c9; text-decoration-color: #e500c9; background-color: #c100a9\">▄</span><span style=\"color: #e500b9; text-decoration-color: #e500b9; background-color: #c1009c\">▄</span><span style=\"color: #e500aa; text-decoration-color: #e500aa; background-color: #c1008f\">▄</span><span style=\"color: #e5009a; text-decoration-color: #e5009a; background-color: #c10082\">▄</span><span style=\"color: #e5008b; text-decoration-color: #e5008b; background-color: #c10075\">▄</span><span style=\"color: #e5007b; text-decoration-color: #e5007b; background-color: #c10068\">▄</span><span style=\"color: #e5006c; text-decoration-color: #e5006c; background-color: #c1005b\">▄</span><span style=\"color: #e5005c; text-decoration-color: #e5005c; background-color: #c1004e\">▄</span><span style=\"color: #e5004d; text-decoration-color: #e5004d; background-color: #c10041\">▄</span><span style=\"color: #e5003d; text-decoration-color: #e5003d; background-color: #c10034\">▄</span><span style=\"color: #e5002e; text-decoration-color: #e5002e; background-color: #c10027\">▄</span><span style=\"color: #e5001e; text-decoration-color: #e5001e; background-color: #c1001a\">▄</span><span style=\"color: #e5000f; text-decoration-color: #e5000f; background-color: #c1000d\">▄</span> ┃\n",
       "┃ <span style=\"color: #fe2d2d; text-decoration-color: #fe2d2d; background-color: #ff0a0a\">▄</span><span style=\"color: #fe3b2d; text-decoration-color: #fe3b2d; background-color: #ff1a0a\">▄</span><span style=\"color: #fe4a2d; text-decoration-color: #fe4a2d; background-color: #ff2b0a\">▄</span><span style=\"color: #fe582d; text-decoration-color: #fe582d; background-color: #ff3b0a\">▄</span><span style=\"color: #fe662d; text-decoration-color: #fe662d; background-color: #ff4c0a\">▄</span><span style=\"color: #fe742d; text-decoration-color: #fe742d; background-color: #ff5c0a\">▄</span><span style=\"color: #fe822d; text-decoration-color: #fe822d; background-color: #ff6d0a\">▄</span><span style=\"color: #fe902d; text-decoration-color: #fe902d; background-color: #ff7d0a\">▄</span><span style=\"color: #fe9e2d; text-decoration-color: #fe9e2d; background-color: #ff8e0a\">▄</span><span style=\"color: #feac2d; text-decoration-color: #feac2d; background-color: #ff9e0a\">▄</span><span style=\"color: #feba2d; text-decoration-color: #feba2d; background-color: #ffaf0a\">▄</span><span style=\"color: #fec82d; text-decoration-color: #fec82d; background-color: #ffbf0a\">▄</span><span style=\"color: #fed72d; text-decoration-color: #fed72d; background-color: #ffd00a\">▄</span><span style=\"color: #fee52d; text-decoration-color: #fee52d; background-color: #ffe00a\">▄</span><span style=\"color: #fef32d; text-decoration-color: #fef32d; background-color: #fff10a\">▄</span><span style=\"color: #fcfe2d; text-decoration-color: #fcfe2d; background-color: #fcff0a\">▄</span><span style=\"color: #eefe2d; text-decoration-color: #eefe2d; background-color: #ebff0a\">▄</span><span style=\"color: #e0fe2d; text-decoration-color: #e0fe2d; background-color: #dbff0a\">▄</span><span style=\"color: #d2fe2d; text-decoration-color: #d2fe2d; background-color: #caff0a\">▄</span><span style=\"color: #c4fe2d; text-decoration-color: #c4fe2d; background-color: #baff0a\">▄</span><span style=\"color: #b6fe2d; text-decoration-color: #b6fe2d; background-color: #a9ff0a\">▄</span><span style=\"color: #a8fe2d; text-decoration-color: #a8fe2d; background-color: #99ff0a\">▄</span><span style=\"color: #99fe2d; text-decoration-color: #99fe2d; background-color: #88ff0a\">▄</span><span style=\"color: #8bfe2d; text-decoration-color: #8bfe2d; background-color: #78ff0a\">▄</span><span style=\"color: #7dfe2d; text-decoration-color: #7dfe2d; background-color: #67ff0a\">▄</span><span style=\"color: #6ffe2d; text-decoration-color: #6ffe2d; background-color: #57ff0a\">▄</span><span style=\"color: #61fe2d; text-decoration-color: #61fe2d; background-color: #46ff0a\">▄</span><span style=\"color: #53fe2d; text-decoration-color: #53fe2d; background-color: #36ff0a\">▄</span><span style=\"color: #45fe2d; text-decoration-color: #45fe2d; background-color: #25ff0a\">▄</span><span style=\"color: #37fe2d; text-decoration-color: #37fe2d; background-color: #15ff0a\">▄</span><span style=\"color: #2dfe32; text-decoration-color: #2dfe32; background-color: #0aff0f\">▄</span><span style=\"color: #2dfe40; text-decoration-color: #2dfe40; background-color: #0aff20\">▄</span><span style=\"color: #2dfe4e; text-decoration-color: #2dfe4e; background-color: #0aff30\">▄</span><span style=\"color: #2dfe5c; text-decoration-color: #2dfe5c; background-color: #0aff41\">▄</span><span style=\"color: #2dfe6a; text-decoration-color: #2dfe6a; background-color: #0aff51\">▄</span><span style=\"color: #2dfe79; text-decoration-color: #2dfe79; background-color: #0aff62\">▄</span><span style=\"color: #2dfe87; text-decoration-color: #2dfe87; background-color: #0aff72\">▄</span><span style=\"color: #2dfe95; text-decoration-color: #2dfe95; background-color: #0aff83\">▄</span><span style=\"color: #2dfea3; text-decoration-color: #2dfea3; background-color: #0aff93\">▄</span><span style=\"color: #2dfeb1; text-decoration-color: #2dfeb1; background-color: #0affa4\">▄</span><span style=\"color: #2dfebf; text-decoration-color: #2dfebf; background-color: #0affb4\">▄</span><span style=\"color: #2dfecd; text-decoration-color: #2dfecd; background-color: #0affc5\">▄</span><span style=\"color: #2dfedb; text-decoration-color: #2dfedb; background-color: #0affd5\">▄</span><span style=\"color: #2dfee9; text-decoration-color: #2dfee9; background-color: #0affe6\">▄</span><span style=\"color: #2dfef7; text-decoration-color: #2dfef7; background-color: #0afff6\">▄</span><span style=\"color: #2df7fe; text-decoration-color: #2df7fe; background-color: #0af6ff\">▄</span><span style=\"color: #2de9fe; text-decoration-color: #2de9fe; background-color: #0ae6ff\">▄</span><span style=\"color: #2ddbfe; text-decoration-color: #2ddbfe; background-color: #0ad5ff\">▄</span><span style=\"color: #2dcdfe; text-decoration-color: #2dcdfe; background-color: #0ac5ff\">▄</span><span style=\"color: #2dbffe; text-decoration-color: #2dbffe; background-color: #0ab4ff\">▄</span><span style=\"color: #2db1fe; text-decoration-color: #2db1fe; background-color: #0aa4ff\">▄</span><span style=\"color: #2da3fe; text-decoration-color: #2da3fe; background-color: #0a93ff\">▄</span><span style=\"color: #2d95fe; text-decoration-color: #2d95fe; background-color: #0a83ff\">▄</span><span style=\"color: #2d87fe; text-decoration-color: #2d87fe; background-color: #0a72ff\">▄</span><span style=\"color: #2d79fe; text-decoration-color: #2d79fe; background-color: #0a62ff\">▄</span><span style=\"color: #2d6afe; text-decoration-color: #2d6afe; background-color: #0a51ff\">▄</span><span style=\"color: #2d5cfe; text-decoration-color: #2d5cfe; background-color: #0a41ff\">▄</span><span style=\"color: #2d4efe; text-decoration-color: #2d4efe; background-color: #0a30ff\">▄</span><span style=\"color: #2d40fe; text-decoration-color: #2d40fe; background-color: #0a20ff\">▄</span><span style=\"color: #2d32fe; text-decoration-color: #2d32fe; background-color: #0a0fff\">▄</span><span style=\"color: #372dfe; text-decoration-color: #372dfe; background-color: #150aff\">▄</span><span style=\"color: #452dfe; text-decoration-color: #452dfe; background-color: #250aff\">▄</span><span style=\"color: #532dfe; text-decoration-color: #532dfe; background-color: #360aff\">▄</span><span style=\"color: #612dfe; text-decoration-color: #612dfe; background-color: #460aff\">▄</span><span style=\"color: #6f2dfe; text-decoration-color: #6f2dfe; background-color: #570aff\">▄</span><span style=\"color: #7d2dfe; text-decoration-color: #7d2dfe; background-color: #670aff\">▄</span><span style=\"color: #8b2dfe; text-decoration-color: #8b2dfe; background-color: #780aff\">▄</span><span style=\"color: #992dfe; text-decoration-color: #992dfe; background-color: #880aff\">▄</span><span style=\"color: #a82dfe; text-decoration-color: #a82dfe; background-color: #990aff\">▄</span><span style=\"color: #b62dfe; text-decoration-color: #b62dfe; background-color: #a90aff\">▄</span><span style=\"color: #c42dfe; text-decoration-color: #c42dfe; background-color: #ba0aff\">▄</span><span style=\"color: #d22dfe; text-decoration-color: #d22dfe; background-color: #ca0aff\">▄</span><span style=\"color: #e02dfe; text-decoration-color: #e02dfe; background-color: #db0aff\">▄</span><span style=\"color: #ee2dfe; text-decoration-color: #ee2dfe; background-color: #eb0aff\">▄</span><span style=\"color: #fc2dfe; text-decoration-color: #fc2dfe; background-color: #fc0aff\">▄</span><span style=\"color: #fe2df3; text-decoration-color: #fe2df3; background-color: #ff0af1\">▄</span><span style=\"color: #fe2de5; text-decoration-color: #fe2de5; background-color: #ff0ae0\">▄</span><span style=\"color: #fe2dd7; text-decoration-color: #fe2dd7; background-color: #ff0ad0\">▄</span><span style=\"color: #fe2dc8; text-decoration-color: #fe2dc8; background-color: #ff0abf\">▄</span><span style=\"color: #fe2dba; text-decoration-color: #fe2dba; background-color: #ff0aaf\">▄</span><span style=\"color: #fe2dac; text-decoration-color: #fe2dac; background-color: #ff0a9e\">▄</span><span style=\"color: #fe2d9e; text-decoration-color: #fe2d9e; background-color: #ff0a8e\">▄</span><span style=\"color: #fe2d90; text-decoration-color: #fe2d90; background-color: #ff0a7d\">▄</span><span style=\"color: #fe2d82; text-decoration-color: #fe2d82; background-color: #ff0a6d\">▄</span><span style=\"color: #fe2d74; text-decoration-color: #fe2d74; background-color: #ff0a5c\">▄</span><span style=\"color: #fe2d66; text-decoration-color: #fe2d66; background-color: #ff0a4c\">▄</span><span style=\"color: #fe2d58; text-decoration-color: #fe2d58; background-color: #ff0a3b\">▄</span><span style=\"color: #fe2d4a; text-decoration-color: #fe2d4a; background-color: #ff0a2b\">▄</span><span style=\"color: #fe2d3b; text-decoration-color: #fe2d3b; background-color: #ff0a1a\">▄</span> ┃\n",
       "┃ <span style=\"color: #ff7575; text-decoration-color: #ff7575; background-color: #ff5151\">▄</span><span style=\"color: #ff7e75; text-decoration-color: #ff7e75; background-color: #ff5d51\">▄</span><span style=\"color: #ff8775; text-decoration-color: #ff8775; background-color: #ff6851\">▄</span><span style=\"color: #ff9175; text-decoration-color: #ff9175; background-color: #ff7451\">▄</span><span style=\"color: #ff9a75; text-decoration-color: #ff9a75; background-color: #ff8051\">▄</span><span style=\"color: #ffa375; text-decoration-color: #ffa375; background-color: #ff8c51\">▄</span><span style=\"color: #ffac75; text-decoration-color: #ffac75; background-color: #ff9751\">▄</span><span style=\"color: #ffb675; text-decoration-color: #ffb675; background-color: #ffa351\">▄</span><span style=\"color: #ffbf75; text-decoration-color: #ffbf75; background-color: #ffaf51\">▄</span><span style=\"color: #ffc875; text-decoration-color: #ffc875; background-color: #ffba51\">▄</span><span style=\"color: #ffd275; text-decoration-color: #ffd275; background-color: #ffc651\">▄</span><span style=\"color: #ffdb75; text-decoration-color: #ffdb75; background-color: #ffd251\">▄</span><span style=\"color: #ffe475; text-decoration-color: #ffe475; background-color: #ffdd51\">▄</span><span style=\"color: #ffed75; text-decoration-color: #ffed75; background-color: #ffe951\">▄</span><span style=\"color: #fff775; text-decoration-color: #fff775; background-color: #fff551\">▄</span><span style=\"color: #fdff75; text-decoration-color: #fdff75; background-color: #fdff51\">▄</span><span style=\"color: #f4ff75; text-decoration-color: #f4ff75; background-color: #f1ff51\">▄</span><span style=\"color: #eaff75; text-decoration-color: #eaff75; background-color: #e5ff51\">▄</span><span style=\"color: #e1ff75; text-decoration-color: #e1ff75; background-color: #d9ff51\">▄</span><span style=\"color: #d8ff75; text-decoration-color: #d8ff75; background-color: #ceff51\">▄</span><span style=\"color: #cfff75; text-decoration-color: #cfff75; background-color: #c2ff51\">▄</span><span style=\"color: #c5ff75; text-decoration-color: #c5ff75; background-color: #b6ff51\">▄</span><span style=\"color: #bcff75; text-decoration-color: #bcff75; background-color: #abff51\">▄</span><span style=\"color: #b3ff75; text-decoration-color: #b3ff75; background-color: #9fff51\">▄</span><span style=\"color: #a9ff75; text-decoration-color: #a9ff75; background-color: #93ff51\">▄</span><span style=\"color: #a0ff75; text-decoration-color: #a0ff75; background-color: #88ff51\">▄</span><span style=\"color: #97ff75; text-decoration-color: #97ff75; background-color: #7cff51\">▄</span><span style=\"color: #8eff75; text-decoration-color: #8eff75; background-color: #70ff51\">▄</span><span style=\"color: #84ff75; text-decoration-color: #84ff75; background-color: #65ff51\">▄</span><span style=\"color: #7bff75; text-decoration-color: #7bff75; background-color: #59ff51\">▄</span><span style=\"color: #75ff78; text-decoration-color: #75ff78; background-color: #51ff55\">▄</span><span style=\"color: #75ff81; text-decoration-color: #75ff81; background-color: #51ff61\">▄</span><span style=\"color: #75ff8a; text-decoration-color: #75ff8a; background-color: #51ff6c\">▄</span><span style=\"color: #75ff94; text-decoration-color: #75ff94; background-color: #51ff78\">▄</span><span style=\"color: #75ff9d; text-decoration-color: #75ff9d; background-color: #51ff84\">▄</span><span style=\"color: #75ffa6; text-decoration-color: #75ffa6; background-color: #51ff8f\">▄</span><span style=\"color: #75ffb0; text-decoration-color: #75ffb0; background-color: #51ff9b\">▄</span><span style=\"color: #75ffb9; text-decoration-color: #75ffb9; background-color: #51ffa7\">▄</span><span style=\"color: #75ffc2; text-decoration-color: #75ffc2; background-color: #51ffb3\">▄</span><span style=\"color: #75ffcb; text-decoration-color: #75ffcb; background-color: #51ffbe\">▄</span><span style=\"color: #75ffd5; text-decoration-color: #75ffd5; background-color: #51ffca\">▄</span><span style=\"color: #75ffde; text-decoration-color: #75ffde; background-color: #51ffd6\">▄</span><span style=\"color: #75ffe7; text-decoration-color: #75ffe7; background-color: #51ffe1\">▄</span><span style=\"color: #75fff1; text-decoration-color: #75fff1; background-color: #51ffed\">▄</span><span style=\"color: #75fffa; text-decoration-color: #75fffa; background-color: #51fff9\">▄</span><span style=\"color: #75faff; text-decoration-color: #75faff; background-color: #51f9ff\">▄</span><span style=\"color: #75f1ff; text-decoration-color: #75f1ff; background-color: #51edff\">▄</span><span style=\"color: #75e7ff; text-decoration-color: #75e7ff; background-color: #51e1ff\">▄</span><span style=\"color: #75deff; text-decoration-color: #75deff; background-color: #51d6ff\">▄</span><span style=\"color: #75d5ff; text-decoration-color: #75d5ff; background-color: #51caff\">▄</span><span style=\"color: #75cbff; text-decoration-color: #75cbff; background-color: #51beff\">▄</span><span style=\"color: #75c2ff; text-decoration-color: #75c2ff; background-color: #51b3ff\">▄</span><span style=\"color: #75b9ff; text-decoration-color: #75b9ff; background-color: #51a7ff\">▄</span><span style=\"color: #75b0ff; text-decoration-color: #75b0ff; background-color: #519bff\">▄</span><span style=\"color: #75a6ff; text-decoration-color: #75a6ff; background-color: #518fff\">▄</span><span style=\"color: #759dff; text-decoration-color: #759dff; background-color: #5184ff\">▄</span><span style=\"color: #7594ff; text-decoration-color: #7594ff; background-color: #5178ff\">▄</span><span style=\"color: #758aff; text-decoration-color: #758aff; background-color: #516cff\">▄</span><span style=\"color: #7581ff; text-decoration-color: #7581ff; background-color: #5161ff\">▄</span><span style=\"color: #7578ff; text-decoration-color: #7578ff; background-color: #5155ff\">▄</span><span style=\"color: #7b75ff; text-decoration-color: #7b75ff; background-color: #5951ff\">▄</span><span style=\"color: #8475ff; text-decoration-color: #8475ff; background-color: #6551ff\">▄</span><span style=\"color: #8e75ff; text-decoration-color: #8e75ff; background-color: #7051ff\">▄</span><span style=\"color: #9775ff; text-decoration-color: #9775ff; background-color: #7c51ff\">▄</span><span style=\"color: #a075ff; text-decoration-color: #a075ff; background-color: #8851ff\">▄</span><span style=\"color: #a975ff; text-decoration-color: #a975ff; background-color: #9351ff\">▄</span><span style=\"color: #b375ff; text-decoration-color: #b375ff; background-color: #9f51ff\">▄</span><span style=\"color: #bc75ff; text-decoration-color: #bc75ff; background-color: #ab51ff\">▄</span><span style=\"color: #c575ff; text-decoration-color: #c575ff; background-color: #b651ff\">▄</span><span style=\"color: #cf75ff; text-decoration-color: #cf75ff; background-color: #c251ff\">▄</span><span style=\"color: #d875ff; text-decoration-color: #d875ff; background-color: #ce51ff\">▄</span><span style=\"color: #e175ff; text-decoration-color: #e175ff; background-color: #d951ff\">▄</span><span style=\"color: #ea75ff; text-decoration-color: #ea75ff; background-color: #e551ff\">▄</span><span style=\"color: #f475ff; text-decoration-color: #f475ff; background-color: #f151ff\">▄</span><span style=\"color: #fd75ff; text-decoration-color: #fd75ff; background-color: #fd51ff\">▄</span><span style=\"color: #ff75f7; text-decoration-color: #ff75f7; background-color: #ff51f5\">▄</span><span style=\"color: #ff75ed; text-decoration-color: #ff75ed; background-color: #ff51e9\">▄</span><span style=\"color: #ff75e4; text-decoration-color: #ff75e4; background-color: #ff51dd\">▄</span><span style=\"color: #ff75db; text-decoration-color: #ff75db; background-color: #ff51d2\">▄</span><span style=\"color: #ff75d2; text-decoration-color: #ff75d2; background-color: #ff51c6\">▄</span><span style=\"color: #ff75c8; text-decoration-color: #ff75c8; background-color: #ff51ba\">▄</span><span style=\"color: #ff75bf; text-decoration-color: #ff75bf; background-color: #ff51af\">▄</span><span style=\"color: #ff75b6; text-decoration-color: #ff75b6; background-color: #ff51a3\">▄</span><span style=\"color: #ff75ac; text-decoration-color: #ff75ac; background-color: #ff5197\">▄</span><span style=\"color: #ff75a3; text-decoration-color: #ff75a3; background-color: #ff518c\">▄</span><span style=\"color: #ff759a; text-decoration-color: #ff759a; background-color: #ff5180\">▄</span><span style=\"color: #ff7591; text-decoration-color: #ff7591; background-color: #ff5174\">▄</span><span style=\"color: #ff7587; text-decoration-color: #ff7587; background-color: #ff5168\">▄</span><span style=\"color: #ff757e; text-decoration-color: #ff757e; background-color: #ff515d\">▄</span> ┃\n",
       "└───────────────────────────────────────────────────────────────────────────────────────────┘\n",
       "</pre>\n"
      ],
      "text/plain": [
       "┏━━━━━━━━━━━━━━━━━━━━━━━━━━━━━━━━━━━━━━━━━━━━━━━━━━━━━━━━━━━━━━━━━━━━━━━━━━━━━━━━━━━━━━━━━━━┓\n",
       "┃ \u001b[38;2;86;0;0;48;2;51;0;0m▄\u001b[0m\u001b[38;2;86;5;0;48;2;51;3;0m▄\u001b[0m\u001b[38;2;86;11;0;48;2;51;6;0m▄\u001b[0m\u001b[38;2;86;17;0;48;2;51;10;0m▄\u001b[0m\u001b[38;2;86;23;0;48;2;51;13;0m▄\u001b[0m\u001b[38;2;86;29;0;48;2;51;17;0m▄\u001b[0m\u001b[38;2;86;35;0;48;2;51;20;0m▄\u001b[0m\u001b[38;2;86;40;0;48;2;51;24;0m▄\u001b[0m\u001b[38;2;86;46;0;48;2;51;27;0m▄\u001b[0m\u001b[38;2;86;52;0;48;2;51;30;0m▄\u001b[0m\u001b[38;2;86;58;0;48;2;51;34;0m▄\u001b[0m\u001b[38;2;86;64;0;48;2;51;37;0m▄\u001b[0m\u001b[38;2;86;70;0;48;2;51;41;0m▄\u001b[0m\u001b[38;2;86;75;0;48;2;51;44;0m▄\u001b[0m\u001b[38;2;86;81;0;48;2;51;48;0m▄\u001b[0m\u001b[38;2;85;86;0;48;2;50;51;0m▄\u001b[0m\u001b[38;2;79;86;0;48;2;46;51;0m▄\u001b[0m\u001b[38;2;74;86;0;48;2;43;51;0m▄\u001b[0m\u001b[38;2;68;86;0;48;2;40;51;0m▄\u001b[0m\u001b[38;2;62;86;0;48;2;36;51;0m▄\u001b[0m\u001b[38;2;56;86;0;48;2;33;51;0m▄\u001b[0m\u001b[38;2;50;86;0;48;2;29;51;0m▄\u001b[0m\u001b[38;2;44;86;0;48;2;26;51;0m▄\u001b[0m\u001b[38;2;38;86;0;48;2;22;51;0m▄\u001b[0m\u001b[38;2;33;86;0;48;2;19;51;0m▄\u001b[0m\u001b[38;2;27;86;0;48;2;16;51;0m▄\u001b[0m\u001b[38;2;21;86;0;48;2;12;51;0m▄\u001b[0m\u001b[38;2;15;86;0;48;2;9;51;0m▄\u001b[0m\u001b[38;2;9;86;0;48;2;5;51;0m▄\u001b[0m\u001b[38;2;3;86;0;48;2;2;51;0m▄\u001b[0m\u001b[38;2;0;86;1;48;2;0;51;1m▄\u001b[0m\u001b[38;2;0;86;7;48;2;0;51;4m▄\u001b[0m\u001b[38;2;0;86;13;48;2;0;51;8m▄\u001b[0m\u001b[38;2;0;86;19;48;2;0;51;11m▄\u001b[0m\u001b[38;2;0;86;25;48;2;0;51;14m▄\u001b[0m\u001b[38;2;0;86;31;48;2;0;51;18m▄\u001b[0m\u001b[38;2;0;86;37;48;2;0;51;21m▄\u001b[0m\u001b[38;2;0;86;42;48;2;0;51;25m▄\u001b[0m\u001b[38;2;0;86;48;48;2;0;51;28m▄\u001b[0m\u001b[38;2;0;86;54;48;2;0;51;32m▄\u001b[0m\u001b[38;2;0;86;60;48;2;0;51;35m▄\u001b[0m\u001b[38;2;0;86;66;48;2;0;51;38m▄\u001b[0m\u001b[38;2;0;86;72;48;2;0;51;42m▄\u001b[0m\u001b[38;2;0;86;77;48;2;0;51;45m▄\u001b[0m\u001b[38;2;0;86;83;48;2;0;51;49m▄\u001b[0m\u001b[38;2;0;83;86;48;2;0;49;51m▄\u001b[0m\u001b[38;2;0;77;86;48;2;0;45;51m▄\u001b[0m\u001b[38;2;0;72;86;48;2;0;42;51m▄\u001b[0m\u001b[38;2;0;66;86;48;2;0;38;51m▄\u001b[0m\u001b[38;2;0;60;86;48;2;0;35;51m▄\u001b[0m\u001b[38;2;0;54;86;48;2;0;32;51m▄\u001b[0m\u001b[38;2;0;48;86;48;2;0;28;51m▄\u001b[0m\u001b[38;2;0;42;86;48;2;0;25;51m▄\u001b[0m\u001b[38;2;0;37;86;48;2;0;21;51m▄\u001b[0m\u001b[38;2;0;31;86;48;2;0;18;51m▄\u001b[0m\u001b[38;2;0;25;86;48;2;0;14;51m▄\u001b[0m\u001b[38;2;0;19;86;48;2;0;11;51m▄\u001b[0m\u001b[38;2;0;13;86;48;2;0;8;51m▄\u001b[0m\u001b[38;2;0;7;86;48;2;0;4;51m▄\u001b[0m\u001b[38;2;0;1;86;48;2;0;1;51m▄\u001b[0m\u001b[38;2;3;0;86;48;2;2;0;51m▄\u001b[0m\u001b[38;2;9;0;86;48;2;5;0;51m▄\u001b[0m\u001b[38;2;15;0;86;48;2;9;0;51m▄\u001b[0m\u001b[38;2;21;0;86;48;2;12;0;51m▄\u001b[0m\u001b[38;2;27;0;86;48;2;16;0;51m▄\u001b[0m\u001b[38;2;33;0;86;48;2;19;0;51m▄\u001b[0m\u001b[38;2;38;0;86;48;2;22;0;51m▄\u001b[0m\u001b[38;2;44;0;86;48;2;26;0;51m▄\u001b[0m\u001b[38;2;50;0;86;48;2;29;0;51m▄\u001b[0m\u001b[38;2;56;0;86;48;2;33;0;51m▄\u001b[0m\u001b[38;2;62;0;86;48;2;36;0;51m▄\u001b[0m\u001b[38;2;68;0;86;48;2;40;0;51m▄\u001b[0m\u001b[38;2;74;0;86;48;2;43;0;51m▄\u001b[0m\u001b[38;2;79;0;86;48;2;46;0;51m▄\u001b[0m\u001b[38;2;85;0;86;48;2;50;0;51m▄\u001b[0m\u001b[38;2;86;0;81;48;2;51;0;48m▄\u001b[0m\u001b[38;2;86;0;75;48;2;51;0;44m▄\u001b[0m\u001b[38;2;86;0;70;48;2;51;0;41m▄\u001b[0m\u001b[38;2;86;0;64;48;2;51;0;37m▄\u001b[0m\u001b[38;2;86;0;58;48;2;51;0;34m▄\u001b[0m\u001b[38;2;86;0;52;48;2;51;0;30m▄\u001b[0m\u001b[38;2;86;0;46;48;2;51;0;27m▄\u001b[0m\u001b[38;2;86;0;40;48;2;51;0;24m▄\u001b[0m\u001b[38;2;86;0;35;48;2;51;0;20m▄\u001b[0m\u001b[38;2;86;0;29;48;2;51;0;17m▄\u001b[0m\u001b[38;2;86;0;23;48;2;51;0;13m▄\u001b[0m\u001b[38;2;86;0;17;48;2;51;0;10m▄\u001b[0m\u001b[38;2;86;0;11;48;2;51;0;6m▄\u001b[0m\u001b[38;2;86;0;5;48;2;51;0;3m▄\u001b[0m ┃\n",
       "┃ \u001b[38;2;158;0;0;48;2;122;0;0m▄\u001b[0m\u001b[38;2;158;10;0;48;2;122;8;0m▄\u001b[0m\u001b[38;2;158;21;0;48;2;122;16;0m▄\u001b[0m\u001b[38;2;158;31;0;48;2;122;24;0m▄\u001b[0m\u001b[38;2;158;42;0;48;2;122;33;0m▄\u001b[0m\u001b[38;2;158;53;0;48;2;122;41;0m▄\u001b[0m\u001b[38;2;158;63;0;48;2;122;49;0m▄\u001b[0m\u001b[38;2;158;74;0;48;2;122;57;0m▄\u001b[0m\u001b[38;2;158;85;0;48;2;122;66;0m▄\u001b[0m\u001b[38;2;158;95;0;48;2;122;74;0m▄\u001b[0m\u001b[38;2;158;106;0;48;2;122;82;0m▄\u001b[0m\u001b[38;2;158;117;0;48;2;122;90;0m▄\u001b[0m\u001b[38;2;158;127;0;48;2;122;99;0m▄\u001b[0m\u001b[38;2;158;138;0;48;2;122;107;0m▄\u001b[0m\u001b[38;2;158;149;0;48;2;122;115;0m▄\u001b[0m\u001b[38;2;156;158;0;48;2;121;122;0m▄\u001b[0m\u001b[38;2;145;158;0;48;2;112;122;0m▄\u001b[0m\u001b[38;2;135;158;0;48;2;104;122;0m▄\u001b[0m\u001b[38;2;124;158;0;48;2;96;122;0m▄\u001b[0m\u001b[38;2;113;158;0;48;2;88;122;0m▄\u001b[0m\u001b[38;2;103;158;0;48;2;79;122;0m▄\u001b[0m\u001b[38;2;92;158;0;48;2;71;122;0m▄\u001b[0m\u001b[38;2;81;158;0;48;2;63;122;0m▄\u001b[0m\u001b[38;2;71;158;0;48;2;55;122;0m▄\u001b[0m\u001b[38;2;60;158;0;48;2;46;122;0m▄\u001b[0m\u001b[38;2;49;158;0;48;2;38;122;0m▄\u001b[0m\u001b[38;2;39;158;0;48;2;30;122;0m▄\u001b[0m\u001b[38;2;28;158;0;48;2;22;122;0m▄\u001b[0m\u001b[38;2;17;158;0;48;2;13;122;0m▄\u001b[0m\u001b[38;2;7;158;0;48;2;5;122;0m▄\u001b[0m\u001b[38;2;0;158;3;48;2;0;122;2m▄\u001b[0m\u001b[38;2;0;158;14;48;2;0;122;11m▄\u001b[0m\u001b[38;2;0;158;24;48;2;0;122;19m▄\u001b[0m\u001b[38;2;0;158;35;48;2;0;122;27m▄\u001b[0m\u001b[38;2;0;158;46;48;2;0;122;35m▄\u001b[0m\u001b[38;2;0;158;56;48;2;0;122;44m▄\u001b[0m\u001b[38;2;0;158;67;48;2;0;122;52m▄\u001b[0m\u001b[38;2;0;158;78;48;2;0;122;60m▄\u001b[0m\u001b[38;2;0;158;88;48;2;0;122;68m▄\u001b[0m\u001b[38;2;0;158;99;48;2;0;122;77m▄\u001b[0m\u001b[38;2;0;158;110;48;2;0;122;85m▄\u001b[0m\u001b[38;2;0;158;120;48;2;0;122;93m▄\u001b[0m\u001b[38;2;0;158;131;48;2;0;122;101m▄\u001b[0m\u001b[38;2;0;158;142;48;2;0;122;110m▄\u001b[0m\u001b[38;2;0;158;152;48;2;0;122;118m▄\u001b[0m\u001b[38;2;0;152;158;48;2;0;118;122m▄\u001b[0m\u001b[38;2;0;142;158;48;2;0;110;122m▄\u001b[0m\u001b[38;2;0;131;158;48;2;0;101;122m▄\u001b[0m\u001b[38;2;0;120;158;48;2;0;93;122m▄\u001b[0m\u001b[38;2;0;110;158;48;2;0;85;122m▄\u001b[0m\u001b[38;2;0;99;158;48;2;0;77;122m▄\u001b[0m\u001b[38;2;0;88;158;48;2;0;68;122m▄\u001b[0m\u001b[38;2;0;78;158;48;2;0;60;122m▄\u001b[0m\u001b[38;2;0;67;158;48;2;0;52;122m▄\u001b[0m\u001b[38;2;0;56;158;48;2;0;44;122m▄\u001b[0m\u001b[38;2;0;46;158;48;2;0;35;122m▄\u001b[0m\u001b[38;2;0;35;158;48;2;0;27;122m▄\u001b[0m\u001b[38;2;0;24;158;48;2;0;19;122m▄\u001b[0m\u001b[38;2;0;14;158;48;2;0;11;122m▄\u001b[0m\u001b[38;2;0;3;158;48;2;0;2;122m▄\u001b[0m\u001b[38;2;7;0;158;48;2;5;0;122m▄\u001b[0m\u001b[38;2;17;0;158;48;2;13;0;122m▄\u001b[0m\u001b[38;2;28;0;158;48;2;22;0;122m▄\u001b[0m\u001b[38;2;39;0;158;48;2;30;0;122m▄\u001b[0m\u001b[38;2;49;0;158;48;2;38;0;122m▄\u001b[0m\u001b[38;2;60;0;158;48;2;46;0;122m▄\u001b[0m\u001b[38;2;71;0;158;48;2;55;0;122m▄\u001b[0m\u001b[38;2;81;0;158;48;2;63;0;122m▄\u001b[0m\u001b[38;2;92;0;158;48;2;71;0;122m▄\u001b[0m\u001b[38;2;103;0;158;48;2;79;0;122m▄\u001b[0m\u001b[38;2;113;0;158;48;2;88;0;122m▄\u001b[0m\u001b[38;2;124;0;158;48;2;96;0;122m▄\u001b[0m\u001b[38;2;135;0;158;48;2;104;0;122m▄\u001b[0m\u001b[38;2;145;0;158;48;2;112;0;122m▄\u001b[0m\u001b[38;2;156;0;158;48;2;121;0;122m▄\u001b[0m\u001b[38;2;158;0;149;48;2;122;0;115m▄\u001b[0m\u001b[38;2;158;0;138;48;2;122;0;107m▄\u001b[0m\u001b[38;2;158;0;127;48;2;122;0;99m▄\u001b[0m\u001b[38;2;158;0;117;48;2;122;0;90m▄\u001b[0m\u001b[38;2;158;0;106;48;2;122;0;82m▄\u001b[0m\u001b[38;2;158;0;95;48;2;122;0;74m▄\u001b[0m\u001b[38;2;158;0;85;48;2;122;0;66m▄\u001b[0m\u001b[38;2;158;0;74;48;2;122;0;57m▄\u001b[0m\u001b[38;2;158;0;63;48;2;122;0;49m▄\u001b[0m\u001b[38;2;158;0;53;48;2;122;0;41m▄\u001b[0m\u001b[38;2;158;0;42;48;2;122;0;33m▄\u001b[0m\u001b[38;2;158;0;31;48;2;122;0;24m▄\u001b[0m\u001b[38;2;158;0;21;48;2;122;0;16m▄\u001b[0m\u001b[38;2;158;0;10;48;2;122;0;8m▄\u001b[0m ┃\n",
       "┃ \u001b[38;2;229;0;0;48;2;193;0;0m▄\u001b[0m\u001b[38;2;229;15;0;48;2;193;13;0m▄\u001b[0m\u001b[38;2;229;30;0;48;2;193;26;0m▄\u001b[0m\u001b[38;2;229;46;0;48;2;193;39;0m▄\u001b[0m\u001b[38;2;229;61;0;48;2;193;52;0m▄\u001b[0m\u001b[38;2;229;77;0;48;2;193;65;0m▄\u001b[0m\u001b[38;2;229;92;0;48;2;193;78;0m▄\u001b[0m\u001b[38;2;229;108;0;48;2;193;91;0m▄\u001b[0m\u001b[38;2;229;123;0;48;2;193;104;0m▄\u001b[0m\u001b[38;2;229;139;0;48;2;193;117;0m▄\u001b[0m\u001b[38;2;229;154;0;48;2;193;130;0m▄\u001b[0m\u001b[38;2;229;170;0;48;2;193;143;0m▄\u001b[0m\u001b[38;2;229;185;0;48;2;193;156;0m▄\u001b[0m\u001b[38;2;229;201;0;48;2;193;169;0m▄\u001b[0m\u001b[38;2;229;216;0;48;2;193;182;0m▄\u001b[0m\u001b[38;2;226;229;0;48;2;191;193;0m▄\u001b[0m\u001b[38;2;211;229;0;48;2;178;193;0m▄\u001b[0m\u001b[38;2;195;229;0;48;2;165;193;0m▄\u001b[0m\u001b[38;2;180;229;0;48;2;152;193;0m▄\u001b[0m\u001b[38;2;165;229;0;48;2;139;193;0m▄\u001b[0m\u001b[38;2;149;229;0;48;2;126;193;0m▄\u001b[0m\u001b[38;2;134;229;0;48;2;113;193;0m▄\u001b[0m\u001b[38;2;118;229;0;48;2;100;193;0m▄\u001b[0m\u001b[38;2;103;229;0;48;2;87;193;0m▄\u001b[0m\u001b[38;2;87;229;0;48;2;74;193;0m▄\u001b[0m\u001b[38;2;72;229;0;48;2;60;193;0m▄\u001b[0m\u001b[38;2;56;229;0;48;2;47;193;0m▄\u001b[0m\u001b[38;2;41;229;0;48;2;34;193;0m▄\u001b[0m\u001b[38;2;25;229;0;48;2;21;193;0m▄\u001b[0m\u001b[38;2;10;229;0;48;2;8;193;0m▄\u001b[0m\u001b[38;2;0;229;5;48;2;0;193;4m▄\u001b[0m\u001b[38;2;0;229;20;48;2;0;193;17m▄\u001b[0m\u001b[38;2;0;229;36;48;2;0;193;30m▄\u001b[0m\u001b[38;2;0;229;51;48;2;0;193;43m▄\u001b[0m\u001b[38;2;0;229;67;48;2;0;193;56m▄\u001b[0m\u001b[38;2;0;229;82;48;2;0;193;69m▄\u001b[0m\u001b[38;2;0;229;97;48;2;0;193;82m▄\u001b[0m\u001b[38;2;0;229;113;48;2;0;193;95m▄\u001b[0m\u001b[38;2;0;229;128;48;2;0;193;108m▄\u001b[0m\u001b[38;2;0;229;144;48;2;0;193;121m▄\u001b[0m\u001b[38;2;0;229;159;48;2;0;193;135m▄\u001b[0m\u001b[38;2;0;229;175;48;2;0;193;148m▄\u001b[0m\u001b[38;2;0;229;190;48;2;0;193;161m▄\u001b[0m\u001b[38;2;0;229;206;48;2;0;193;174m▄\u001b[0m\u001b[38;2;0;229;221;48;2;0;193;187m▄\u001b[0m\u001b[38;2;0;221;229;48;2;0;187;193m▄\u001b[0m\u001b[38;2;0;206;229;48;2;0;174;193m▄\u001b[0m\u001b[38;2;0;190;229;48;2;0;161;193m▄\u001b[0m\u001b[38;2;0;175;229;48;2;0;148;193m▄\u001b[0m\u001b[38;2;0;159;229;48;2;0;135;193m▄\u001b[0m\u001b[38;2;0;144;229;48;2;0;121;193m▄\u001b[0m\u001b[38;2;0;128;229;48;2;0;108;193m▄\u001b[0m\u001b[38;2;0;113;229;48;2;0;95;193m▄\u001b[0m\u001b[38;2;0;97;229;48;2;0;82;193m▄\u001b[0m\u001b[38;2;0;82;229;48;2;0;69;193m▄\u001b[0m\u001b[38;2;0;67;229;48;2;0;56;193m▄\u001b[0m\u001b[38;2;0;51;229;48;2;0;43;193m▄\u001b[0m\u001b[38;2;0;36;229;48;2;0;30;193m▄\u001b[0m\u001b[38;2;0;20;229;48;2;0;17;193m▄\u001b[0m\u001b[38;2;0;5;229;48;2;0;4;193m▄\u001b[0m\u001b[38;2;10;0;229;48;2;8;0;193m▄\u001b[0m\u001b[38;2;25;0;229;48;2;21;0;193m▄\u001b[0m\u001b[38;2;41;0;229;48;2;34;0;193m▄\u001b[0m\u001b[38;2;56;0;229;48;2;47;0;193m▄\u001b[0m\u001b[38;2;72;0;229;48;2;60;0;193m▄\u001b[0m\u001b[38;2;87;0;229;48;2;74;0;193m▄\u001b[0m\u001b[38;2;103;0;229;48;2;87;0;193m▄\u001b[0m\u001b[38;2;118;0;229;48;2;100;0;193m▄\u001b[0m\u001b[38;2;134;0;229;48;2;113;0;193m▄\u001b[0m\u001b[38;2;149;0;229;48;2;126;0;193m▄\u001b[0m\u001b[38;2;165;0;229;48;2;139;0;193m▄\u001b[0m\u001b[38;2;180;0;229;48;2;152;0;193m▄\u001b[0m\u001b[38;2;195;0;229;48;2;165;0;193m▄\u001b[0m\u001b[38;2;211;0;229;48;2;178;0;193m▄\u001b[0m\u001b[38;2;226;0;229;48;2;191;0;193m▄\u001b[0m\u001b[38;2;229;0;216;48;2;193;0;182m▄\u001b[0m\u001b[38;2;229;0;201;48;2;193;0;169m▄\u001b[0m\u001b[38;2;229;0;185;48;2;193;0;156m▄\u001b[0m\u001b[38;2;229;0;170;48;2;193;0;143m▄\u001b[0m\u001b[38;2;229;0;154;48;2;193;0;130m▄\u001b[0m\u001b[38;2;229;0;139;48;2;193;0;117m▄\u001b[0m\u001b[38;2;229;0;123;48;2;193;0;104m▄\u001b[0m\u001b[38;2;229;0;108;48;2;193;0;91m▄\u001b[0m\u001b[38;2;229;0;92;48;2;193;0;78m▄\u001b[0m\u001b[38;2;229;0;77;48;2;193;0;65m▄\u001b[0m\u001b[38;2;229;0;61;48;2;193;0;52m▄\u001b[0m\u001b[38;2;229;0;46;48;2;193;0;39m▄\u001b[0m\u001b[38;2;229;0;30;48;2;193;0;26m▄\u001b[0m\u001b[38;2;229;0;15;48;2;193;0;13m▄\u001b[0m ┃\n",
       "┃ \u001b[38;2;254;45;45;48;2;255;10;10m▄\u001b[0m\u001b[38;2;254;59;45;48;2;255;26;10m▄\u001b[0m\u001b[38;2;254;74;45;48;2;255;43;10m▄\u001b[0m\u001b[38;2;254;88;45;48;2;255;59;10m▄\u001b[0m\u001b[38;2;254;102;45;48;2;255;76;10m▄\u001b[0m\u001b[38;2;254;116;45;48;2;255;92;10m▄\u001b[0m\u001b[38;2;254;130;45;48;2;255;109;10m▄\u001b[0m\u001b[38;2;254;144;45;48;2;255;125;10m▄\u001b[0m\u001b[38;2;254;158;45;48;2;255;142;10m▄\u001b[0m\u001b[38;2;254;172;45;48;2;255;158;10m▄\u001b[0m\u001b[38;2;254;186;45;48;2;255;175;10m▄\u001b[0m\u001b[38;2;254;200;45;48;2;255;191;10m▄\u001b[0m\u001b[38;2;254;215;45;48;2;255;208;10m▄\u001b[0m\u001b[38;2;254;229;45;48;2;255;224;10m▄\u001b[0m\u001b[38;2;254;243;45;48;2;255;241;10m▄\u001b[0m\u001b[38;2;252;254;45;48;2;252;255;10m▄\u001b[0m\u001b[38;2;238;254;45;48;2;235;255;10m▄\u001b[0m\u001b[38;2;224;254;45;48;2;219;255;10m▄\u001b[0m\u001b[38;2;210;254;45;48;2;202;255;10m▄\u001b[0m\u001b[38;2;196;254;45;48;2;186;255;10m▄\u001b[0m\u001b[38;2;182;254;45;48;2;169;255;10m▄\u001b[0m\u001b[38;2;168;254;45;48;2;153;255;10m▄\u001b[0m\u001b[38;2;153;254;45;48;2;136;255;10m▄\u001b[0m\u001b[38;2;139;254;45;48;2;120;255;10m▄\u001b[0m\u001b[38;2;125;254;45;48;2;103;255;10m▄\u001b[0m\u001b[38;2;111;254;45;48;2;87;255;10m▄\u001b[0m\u001b[38;2;97;254;45;48;2;70;255;10m▄\u001b[0m\u001b[38;2;83;254;45;48;2;54;255;10m▄\u001b[0m\u001b[38;2;69;254;45;48;2;37;255;10m▄\u001b[0m\u001b[38;2;55;254;45;48;2;21;255;10m▄\u001b[0m\u001b[38;2;45;254;50;48;2;10;255;15m▄\u001b[0m\u001b[38;2;45;254;64;48;2;10;255;32m▄\u001b[0m\u001b[38;2;45;254;78;48;2;10;255;48m▄\u001b[0m\u001b[38;2;45;254;92;48;2;10;255;65m▄\u001b[0m\u001b[38;2;45;254;106;48;2;10;255;81m▄\u001b[0m\u001b[38;2;45;254;121;48;2;10;255;98m▄\u001b[0m\u001b[38;2;45;254;135;48;2;10;255;114m▄\u001b[0m\u001b[38;2;45;254;149;48;2;10;255;131m▄\u001b[0m\u001b[38;2;45;254;163;48;2;10;255;147m▄\u001b[0m\u001b[38;2;45;254;177;48;2;10;255;164m▄\u001b[0m\u001b[38;2;45;254;191;48;2;10;255;180m▄\u001b[0m\u001b[38;2;45;254;205;48;2;10;255;197m▄\u001b[0m\u001b[38;2;45;254;219;48;2;10;255;213m▄\u001b[0m\u001b[38;2;45;254;233;48;2;10;255;230m▄\u001b[0m\u001b[38;2;45;254;247;48;2;10;255;246m▄\u001b[0m\u001b[38;2;45;247;254;48;2;10;246;255m▄\u001b[0m\u001b[38;2;45;233;254;48;2;10;230;255m▄\u001b[0m\u001b[38;2;45;219;254;48;2;10;213;255m▄\u001b[0m\u001b[38;2;45;205;254;48;2;10;197;255m▄\u001b[0m\u001b[38;2;45;191;254;48;2;10;180;255m▄\u001b[0m\u001b[38;2;45;177;254;48;2;10;164;255m▄\u001b[0m\u001b[38;2;45;163;254;48;2;10;147;255m▄\u001b[0m\u001b[38;2;45;149;254;48;2;10;131;255m▄\u001b[0m\u001b[38;2;45;135;254;48;2;10;114;255m▄\u001b[0m\u001b[38;2;45;121;254;48;2;10;98;255m▄\u001b[0m\u001b[38;2;45;106;254;48;2;10;81;255m▄\u001b[0m\u001b[38;2;45;92;254;48;2;10;65;255m▄\u001b[0m\u001b[38;2;45;78;254;48;2;10;48;255m▄\u001b[0m\u001b[38;2;45;64;254;48;2;10;32;255m▄\u001b[0m\u001b[38;2;45;50;254;48;2;10;15;255m▄\u001b[0m\u001b[38;2;55;45;254;48;2;21;10;255m▄\u001b[0m\u001b[38;2;69;45;254;48;2;37;10;255m▄\u001b[0m\u001b[38;2;83;45;254;48;2;54;10;255m▄\u001b[0m\u001b[38;2;97;45;254;48;2;70;10;255m▄\u001b[0m\u001b[38;2;111;45;254;48;2;87;10;255m▄\u001b[0m\u001b[38;2;125;45;254;48;2;103;10;255m▄\u001b[0m\u001b[38;2;139;45;254;48;2;120;10;255m▄\u001b[0m\u001b[38;2;153;45;254;48;2;136;10;255m▄\u001b[0m\u001b[38;2;168;45;254;48;2;153;10;255m▄\u001b[0m\u001b[38;2;182;45;254;48;2;169;10;255m▄\u001b[0m\u001b[38;2;196;45;254;48;2;186;10;255m▄\u001b[0m\u001b[38;2;210;45;254;48;2;202;10;255m▄\u001b[0m\u001b[38;2;224;45;254;48;2;219;10;255m▄\u001b[0m\u001b[38;2;238;45;254;48;2;235;10;255m▄\u001b[0m\u001b[38;2;252;45;254;48;2;252;10;255m▄\u001b[0m\u001b[38;2;254;45;243;48;2;255;10;241m▄\u001b[0m\u001b[38;2;254;45;229;48;2;255;10;224m▄\u001b[0m\u001b[38;2;254;45;215;48;2;255;10;208m▄\u001b[0m\u001b[38;2;254;45;200;48;2;255;10;191m▄\u001b[0m\u001b[38;2;254;45;186;48;2;255;10;175m▄\u001b[0m\u001b[38;2;254;45;172;48;2;255;10;158m▄\u001b[0m\u001b[38;2;254;45;158;48;2;255;10;142m▄\u001b[0m\u001b[38;2;254;45;144;48;2;255;10;125m▄\u001b[0m\u001b[38;2;254;45;130;48;2;255;10;109m▄\u001b[0m\u001b[38;2;254;45;116;48;2;255;10;92m▄\u001b[0m\u001b[38;2;254;45;102;48;2;255;10;76m▄\u001b[0m\u001b[38;2;254;45;88;48;2;255;10;59m▄\u001b[0m\u001b[38;2;254;45;74;48;2;255;10;43m▄\u001b[0m\u001b[38;2;254;45;59;48;2;255;10;26m▄\u001b[0m ┃\n",
       "┃ \u001b[38;2;255;117;117;48;2;255;81;81m▄\u001b[0m\u001b[38;2;255;126;117;48;2;255;93;81m▄\u001b[0m\u001b[38;2;255;135;117;48;2;255;104;81m▄\u001b[0m\u001b[38;2;255;145;117;48;2;255;116;81m▄\u001b[0m\u001b[38;2;255;154;117;48;2;255;128;81m▄\u001b[0m\u001b[38;2;255;163;117;48;2;255;140;81m▄\u001b[0m\u001b[38;2;255;172;117;48;2;255;151;81m▄\u001b[0m\u001b[38;2;255;182;117;48;2;255;163;81m▄\u001b[0m\u001b[38;2;255;191;117;48;2;255;175;81m▄\u001b[0m\u001b[38;2;255;200;117;48;2;255;186;81m▄\u001b[0m\u001b[38;2;255;210;117;48;2;255;198;81m▄\u001b[0m\u001b[38;2;255;219;117;48;2;255;210;81m▄\u001b[0m\u001b[38;2;255;228;117;48;2;255;221;81m▄\u001b[0m\u001b[38;2;255;237;117;48;2;255;233;81m▄\u001b[0m\u001b[38;2;255;247;117;48;2;255;245;81m▄\u001b[0m\u001b[38;2;253;255;117;48;2;253;255;81m▄\u001b[0m\u001b[38;2;244;255;117;48;2;241;255;81m▄\u001b[0m\u001b[38;2;234;255;117;48;2;229;255;81m▄\u001b[0m\u001b[38;2;225;255;117;48;2;217;255;81m▄\u001b[0m\u001b[38;2;216;255;117;48;2;206;255;81m▄\u001b[0m\u001b[38;2;207;255;117;48;2;194;255;81m▄\u001b[0m\u001b[38;2;197;255;117;48;2;182;255;81m▄\u001b[0m\u001b[38;2;188;255;117;48;2;171;255;81m▄\u001b[0m\u001b[38;2;179;255;117;48;2;159;255;81m▄\u001b[0m\u001b[38;2;169;255;117;48;2;147;255;81m▄\u001b[0m\u001b[38;2;160;255;117;48;2;136;255;81m▄\u001b[0m\u001b[38;2;151;255;117;48;2;124;255;81m▄\u001b[0m\u001b[38;2;142;255;117;48;2;112;255;81m▄\u001b[0m\u001b[38;2;132;255;117;48;2;101;255;81m▄\u001b[0m\u001b[38;2;123;255;117;48;2;89;255;81m▄\u001b[0m\u001b[38;2;117;255;120;48;2;81;255;85m▄\u001b[0m\u001b[38;2;117;255;129;48;2;81;255;97m▄\u001b[0m\u001b[38;2;117;255;138;48;2;81;255;108m▄\u001b[0m\u001b[38;2;117;255;148;48;2;81;255;120m▄\u001b[0m\u001b[38;2;117;255;157;48;2;81;255;132m▄\u001b[0m\u001b[38;2;117;255;166;48;2;81;255;143m▄\u001b[0m\u001b[38;2;117;255;176;48;2;81;255;155m▄\u001b[0m\u001b[38;2;117;255;185;48;2;81;255;167m▄\u001b[0m\u001b[38;2;117;255;194;48;2;81;255;179m▄\u001b[0m\u001b[38;2;117;255;203;48;2;81;255;190m▄\u001b[0m\u001b[38;2;117;255;213;48;2;81;255;202m▄\u001b[0m\u001b[38;2;117;255;222;48;2;81;255;214m▄\u001b[0m\u001b[38;2;117;255;231;48;2;81;255;225m▄\u001b[0m\u001b[38;2;117;255;241;48;2;81;255;237m▄\u001b[0m\u001b[38;2;117;255;250;48;2;81;255;249m▄\u001b[0m\u001b[38;2;117;250;255;48;2;81;249;255m▄\u001b[0m\u001b[38;2;117;241;255;48;2;81;237;255m▄\u001b[0m\u001b[38;2;117;231;255;48;2;81;225;255m▄\u001b[0m\u001b[38;2;117;222;255;48;2;81;214;255m▄\u001b[0m\u001b[38;2;117;213;255;48;2;81;202;255m▄\u001b[0m\u001b[38;2;117;203;255;48;2;81;190;255m▄\u001b[0m\u001b[38;2;117;194;255;48;2;81;179;255m▄\u001b[0m\u001b[38;2;117;185;255;48;2;81;167;255m▄\u001b[0m\u001b[38;2;117;176;255;48;2;81;155;255m▄\u001b[0m\u001b[38;2;117;166;255;48;2;81;143;255m▄\u001b[0m\u001b[38;2;117;157;255;48;2;81;132;255m▄\u001b[0m\u001b[38;2;117;148;255;48;2;81;120;255m▄\u001b[0m\u001b[38;2;117;138;255;48;2;81;108;255m▄\u001b[0m\u001b[38;2;117;129;255;48;2;81;97;255m▄\u001b[0m\u001b[38;2;117;120;255;48;2;81;85;255m▄\u001b[0m\u001b[38;2;123;117;255;48;2;89;81;255m▄\u001b[0m\u001b[38;2;132;117;255;48;2;101;81;255m▄\u001b[0m\u001b[38;2;142;117;255;48;2;112;81;255m▄\u001b[0m\u001b[38;2;151;117;255;48;2;124;81;255m▄\u001b[0m\u001b[38;2;160;117;255;48;2;136;81;255m▄\u001b[0m\u001b[38;2;169;117;255;48;2;147;81;255m▄\u001b[0m\u001b[38;2;179;117;255;48;2;159;81;255m▄\u001b[0m\u001b[38;2;188;117;255;48;2;171;81;255m▄\u001b[0m\u001b[38;2;197;117;255;48;2;182;81;255m▄\u001b[0m\u001b[38;2;207;117;255;48;2;194;81;255m▄\u001b[0m\u001b[38;2;216;117;255;48;2;206;81;255m▄\u001b[0m\u001b[38;2;225;117;255;48;2;217;81;255m▄\u001b[0m\u001b[38;2;234;117;255;48;2;229;81;255m▄\u001b[0m\u001b[38;2;244;117;255;48;2;241;81;255m▄\u001b[0m\u001b[38;2;253;117;255;48;2;253;81;255m▄\u001b[0m\u001b[38;2;255;117;247;48;2;255;81;245m▄\u001b[0m\u001b[38;2;255;117;237;48;2;255;81;233m▄\u001b[0m\u001b[38;2;255;117;228;48;2;255;81;221m▄\u001b[0m\u001b[38;2;255;117;219;48;2;255;81;210m▄\u001b[0m\u001b[38;2;255;117;210;48;2;255;81;198m▄\u001b[0m\u001b[38;2;255;117;200;48;2;255;81;186m▄\u001b[0m\u001b[38;2;255;117;191;48;2;255;81;175m▄\u001b[0m\u001b[38;2;255;117;182;48;2;255;81;163m▄\u001b[0m\u001b[38;2;255;117;172;48;2;255;81;151m▄\u001b[0m\u001b[38;2;255;117;163;48;2;255;81;140m▄\u001b[0m\u001b[38;2;255;117;154;48;2;255;81;128m▄\u001b[0m\u001b[38;2;255;117;145;48;2;255;81;116m▄\u001b[0m\u001b[38;2;255;117;135;48;2;255;81;104m▄\u001b[0m\u001b[38;2;255;117;126;48;2;255;81;93m▄\u001b[0m ┃\n",
       "└───────────────────────────────────────────────────────────────────────────────────────────┘\n"
      ]
     },
     "execution_count": 68,
     "metadata": {},
     "output_type": "execute_result"
    }
   ],
   "source": [
    "t = Table(show_header=False)\n",
    "t.add_row(ColorBox())\n",
    "t"
   ]
  },
  {
   "cell_type": "code",
   "execution_count": 70,
   "id": "4a00f1b0",
   "metadata": {},
   "outputs": [
    {
     "data": {
      "text/html": [
       "<pre style=\"white-space:pre;overflow-x:auto;line-height:normal;font-family:Menlo,'DejaVu Sans Mono',consolas,'Courier New',monospace\">╭───────────────────────────────────────────────────────────────────────────────────────────╮\n",
       "│ a                                                                                         │\n",
       "│ b                                                                                         │\n",
       "╰───────────────────────────────────────────────────────────────────────────────────────────╯\n",
       "</pre>\n"
      ],
      "text/plain": [
       "╭───────────────────────────────────────────────────────────────────────────────────────────╮\n",
       "│ a                                                                                         │\n",
       "│ b                                                                                         │\n",
       "╰───────────────────────────────────────────────────────────────────────────────────────────╯\n"
      ]
     },
     "execution_count": 70,
     "metadata": {},
     "output_type": "execute_result"
    }
   ],
   "source": [
    "Panel(Group('a', 'b'))"
   ]
  },
  {
   "cell_type": "code",
   "execution_count": null,
   "id": "e3ff2fae",
   "metadata": {},
   "outputs": [],
   "source": [
    "Panel(Gr)"
   ]
  },
  {
   "cell_type": "code",
   "execution_count": null,
   "id": "ff30ce5f",
   "metadata": {},
   "outputs": [],
   "source": []
  }
 ],
 "metadata": {
  "kernelspec": {
   "display_name": "Python 3 (ipykernel)",
   "language": "python",
   "name": "python3"
  },
  "language_info": {
   "codemirror_mode": {
    "name": "ipython",
    "version": 3
   },
   "file_extension": ".py",
   "mimetype": "text/x-python",
   "name": "python",
   "nbconvert_exporter": "python",
   "pygments_lexer": "ipython3",
   "version": "3.9.10"
  }
 },
 "nbformat": 4,
 "nbformat_minor": 5
}
