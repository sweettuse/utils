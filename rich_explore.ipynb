{
 "cells": [
  {
   "cell_type": "code",
   "execution_count": 78,
   "id": "f7edc5b8",
   "metadata": {},
   "outputs": [],
   "source": [
    "from rich import print, box, inspect\n",
    "from rich.console import Console\n",
    "from rich.style import Style\n",
    "from functools import partial\n",
    "\n",
    "help_orig = help\n",
    "help = partial(inspect, methods=True, help=True)\n",
    "from utils.core import *"
   ]
  },
  {
   "cell_type": "code",
   "execution_count": null,
   "id": "e72eb193",
   "metadata": {},
   "outputs": [],
   "source": []
  },
  {
   "cell_type": "markdown",
   "id": "15971be1",
   "metadata": {},
   "source": [
    "---\n",
    "### [Console](https://rich.readthedocs.io/en/stable/console.html)\n",
    "---"
   ]
  },
  {
   "cell_type": "code",
   "execution_count": null,
   "id": "b7e7b16c",
   "metadata": {},
   "outputs": [],
   "source": []
  },
  {
   "cell_type": "code",
   "execution_count": 3,
   "id": "7a82cf20",
   "metadata": {},
   "outputs": [],
   "source": [
    "c = Console()"
   ]
  },
  {
   "cell_type": "code",
   "execution_count": 4,
   "id": "f336e974",
   "metadata": {},
   "outputs": [
    {
     "data": {
      "text/html": [
       "<pre style=\"white-space:pre;overflow-x:auto;line-height:normal;font-family:Menlo,'DejaVu Sans Mono',consolas,'Courier New',monospace\"><span style=\"color: #c0c0c0; text-decoration-color: #c0c0c0; background-color: #000080\">hello world</span>\n",
       "</pre>\n"
      ],
      "text/plain": [
       "\u001b[37;44mhello world\u001b[0m\n"
      ]
     },
     "metadata": {},
     "output_type": "display_data"
    }
   ],
   "source": [
    "c.print('[white on blue]hello world')"
   ]
  },
  {
   "cell_type": "code",
   "execution_count": 6,
   "id": "60e0c81e",
   "metadata": {},
   "outputs": [
    {
     "data": {
      "text/html": [
       "<pre style=\"white-space:pre;overflow-x:auto;line-height:normal;font-family:Menlo,'DejaVu Sans Mono',consolas,'Courier New',monospace\"><span style=\"color: #7fbfbf; text-decoration-color: #7fbfbf\">[23:49:08] </span>log time                                                           <a href=\"file:///var/folders/wf/cc_l12j97vl5mhxy8wxn69p40000gn/T/ipykernel_45575/3351358752.py\"><span style=\"color: #7f7f7f; text-decoration-color: #7f7f7f\">3351358752.py</span></a><span style=\"color: #7f7f7f; text-decoration-color: #7f7f7f\">:</span><a href=\"file:///var/folders/wf/cc_l12j97vl5mhxy8wxn69p40000gn/T/ipykernel_45575/3351358752.py#1\"><span style=\"color: #7f7f7f; text-decoration-color: #7f7f7f\">1</span></a>\n",
       "</pre>\n"
      ],
      "text/plain": [
       "\u001b[2;36m[23:49:08]\u001b[0m\u001b[2;36m \u001b[0mlog time                                                           \u001b]8;id=984716;file:///var/folders/wf/cc_l12j97vl5mhxy8wxn69p40000gn/T/ipykernel_45575/3351358752.py\u001b\\\u001b[2m3351358752.py\u001b[0m\u001b]8;;\u001b\\\u001b[2m:\u001b[0m\u001b]8;id=488911;file:///var/folders/wf/cc_l12j97vl5mhxy8wxn69p40000gn/T/ipykernel_45575/3351358752.py#1\u001b\\\u001b[2m1\u001b[0m\u001b]8;;\u001b\\\n"
      ]
     },
     "metadata": {},
     "output_type": "display_data"
    }
   ],
   "source": [
    "c.log('log time')"
   ]
  },
  {
   "cell_type": "code",
   "execution_count": 7,
   "id": "987d59c5",
   "metadata": {},
   "outputs": [
    {
     "data": {
      "text/html": [
       "<pre style=\"white-space:pre;overflow-x:auto;line-height:normal;font-family:Menlo,'DejaVu Sans Mono',consolas,'Courier New',monospace\"><span style=\"font-weight: bold\">{</span>\n",
       "  <span style=\"color: #000080; text-decoration-color: #000080; font-weight: bold\">\"a\"</span>: <span style=\"color: #008000; text-decoration-color: #008000\">\"blue\"</span>\n",
       "<span style=\"font-weight: bold\">}</span>\n",
       "</pre>\n"
      ],
      "text/plain": [
       "\u001b[1m{\u001b[0m\n",
       "  \u001b[1;34m\"a\"\u001b[0m: \u001b[32m\"blue\"\u001b[0m\n",
       "\u001b[1m}\u001b[0m\n"
      ]
     },
     "metadata": {},
     "output_type": "display_data"
    }
   ],
   "source": [
    "c.print_json('{\"a\": \"blue\"}')"
   ]
  },
  {
   "cell_type": "code",
   "execution_count": 8,
   "id": "f2684e35",
   "metadata": {},
   "outputs": [
    {
     "data": {
      "text/html": [
       "<pre style=\"white-space:pre;overflow-x:auto;line-height:normal;font-family:Menlo,'DejaVu Sans Mono',consolas,'Courier New',monospace\"><span style=\"font-weight: bold\">{</span><span style=\"color: #008000; text-decoration-color: #008000\">'a'</span>: <span style=\"color: #008000; text-decoration-color: #008000\">'blue'</span><span style=\"font-weight: bold\">}</span>\n",
       "</pre>\n"
      ],
      "text/plain": [
       "\u001b[1m{\u001b[0m\u001b[32m'a'\u001b[0m: \u001b[32m'blue'\u001b[0m\u001b[1m}\u001b[0m\n"
      ]
     },
     "metadata": {},
     "output_type": "display_data"
    }
   ],
   "source": [
    "c.print(dict(a='blue'))"
   ]
  },
  {
   "cell_type": "code",
   "execution_count": 9,
   "id": "d3f1f479",
   "metadata": {},
   "outputs": [
    {
     "data": {
      "text/html": [
       "<pre style=\"white-space:pre;overflow-x:auto;line-height:normal;font-family:Menlo,'DejaVu Sans Mono',consolas,'Courier New',monospace\"><span style=\"color: #00ff00; text-decoration-color: #00ff00\">───────────────────────────────────── </span><span style=\"color: #af00ff; text-decoration-color: #af00ff\">new section time</span><span style=\"color: #00ff00; text-decoration-color: #00ff00\"> ──────────────────────────────────────</span>\n",
       "</pre>\n"
      ],
      "text/plain": [
       "\u001b[92m───────────────────────────────────── \u001b[0m\u001b[38;5;129mnew section time\u001b[0m\u001b[92m ──────────────────────────────────────\u001b[0m\n"
      ]
     },
     "metadata": {},
     "output_type": "display_data"
    }
   ],
   "source": [
    "c.rule('[purple]new section time')"
   ]
  },
  {
   "cell_type": "code",
   "execution_count": 15,
   "id": "634ffef7",
   "metadata": {},
   "outputs": [
    {
     "data": {
      "text/html": [
       "<pre style=\"white-space:pre;overflow-x:auto;line-height:normal;font-family:Menlo,'DejaVu Sans Mono',consolas,'Courier New',monospace\"><span style=\"color: #800000; text-decoration-color: #800000; background-color: #808000\">─────────────────────────────────────── </span><span style=\"color: #808000; text-decoration-color: #808000; background-color: #800000\">i'm lovin' it</span><span style=\"color: #800000; text-decoration-color: #800000; background-color: #808000\"> ───────────────────────────────────────</span>\n",
       "</pre>\n"
      ],
      "text/plain": [
       "\u001b[31;43m─────────────────────────────────────── \u001b[0m\u001b[33;41mi'm lovin' it\u001b[0m\u001b[31;43m ───────────────────────────────────────\u001b[0m\n"
      ]
     },
     "metadata": {},
     "output_type": "display_data"
    }
   ],
   "source": [
    "c.rule(\"[yellow on red]i'm lovin' it\", style=Style(color='red', bgcolor='yellow'))"
   ]
  },
  {
   "cell_type": "code",
   "execution_count": 16,
   "id": "a1c4b162",
   "metadata": {},
   "outputs": [],
   "source": [
    "from rich.spinner import SPINNERS"
   ]
  },
  {
   "cell_type": "code",
   "execution_count": null,
   "id": "996f124b",
   "metadata": {},
   "outputs": [],
   "source": []
  },
  {
   "cell_type": "markdown",
   "id": "c268614e",
   "metadata": {},
   "source": [
    "---\n",
    "### Spinners\n",
    "---"
   ]
  },
  {
   "cell_type": "code",
   "execution_count": 16,
   "id": "f7896511",
   "metadata": {},
   "outputs": [],
   "source": [
    "from rich.spinner import SPINNERS"
   ]
  },
  {
   "cell_type": "code",
   "execution_count": null,
   "id": "1a027d4a",
   "metadata": {},
   "outputs": [],
   "source": []
  },
  {
   "cell_type": "code",
   "execution_count": 16,
   "id": "08e421ba",
   "metadata": {},
   "outputs": [],
   "source": [
    "from rich.spinner import SPINNERS"
   ]
  },
  {
   "cell_type": "code",
   "execution_count": 112,
   "id": "1cb3e023",
   "metadata": {},
   "outputs": [
    {
     "data": {
      "application/vnd.jupyter.widget-view+json": {
       "model_id": "",
       "version_major": 2,
       "version_minor": 0
      },
      "text/plain": [
       "Output()"
      ]
     },
     "metadata": {},
     "output_type": "display_data"
    },
    {
     "data": {
      "text/html": [
       "<pre style=\"white-space:pre;overflow-x:auto;line-height:normal;font-family:Menlo,'DejaVu Sans Mono',consolas,'Courier New',monospace\"></pre>\n"
      ],
      "text/plain": []
     },
     "metadata": {},
     "output_type": "display_data"
    }
   ],
   "source": [
    "import time\n",
    "from random import sample\n",
    "with c.status(\"jebbin' about\", spinner='dots8Bit') as status:\n",
    "    for spinner in sample(list(SPINNERS), 6):\n",
    "        status.update(spinner, spinner=spinner)\n",
    "        time.sleep(2)\n",
    "    "
   ]
  },
  {
   "cell_type": "code",
   "execution_count": 113,
   "id": "86e1d6c4",
   "metadata": {},
   "outputs": [
    {
     "data": {
      "application/vnd.jupyter.widget-view+json": {
       "model_id": "4e93683cd01342c8bb3375528cacfa76",
       "version_major": 2,
       "version_minor": 0
      },
      "text/plain": [
       "Output()"
      ]
     },
     "metadata": {},
     "output_type": "display_data"
    },
    {
     "data": {
      "text/html": [
       "<pre style=\"white-space:pre;overflow-x:auto;line-height:normal;font-family:Menlo,'DejaVu Sans Mono',consolas,'Courier New',monospace\"></pre>\n"
      ],
      "text/plain": []
     },
     "metadata": {},
     "output_type": "display_data"
    },
    {
     "data": {
      "text/html": [
       "<pre style=\"white-space:pre;overflow-x:auto;line-height:normal;font-family:Menlo,'DejaVu Sans Mono',consolas,'Courier New',monospace\"><span style=\"color: #800000; text-decoration-color: #800000\">╭──────────────────────────── </span><span style=\"color: #800000; text-decoration-color: #800000; font-weight: bold\">Traceback </span><span style=\"color: #bf7f7f; text-decoration-color: #bf7f7f; font-weight: bold\">(most recent call last)</span><span style=\"color: #800000; text-decoration-color: #800000\"> ────────────────────────────╮</span>\n",
       "<span style=\"color: #800000; text-decoration-color: #800000\">│</span>                                                                                           <span style=\"color: #800000; text-decoration-color: #800000\">│</span>\n",
       "<span style=\"color: #800000; text-decoration-color: #800000\">│</span> <span style=\"color: #bfbf7f; text-decoration-color: #bfbf7f\">/var/folders/wf/cc_l12j97vl5mhxy8wxn69p40000gn/T/ipykernel_45575/</span><span style=\"color: #808000; text-decoration-color: #808000; font-weight: bold\">1622418841.py</span>:<span style=\"color: #0000ff; text-decoration-color: #0000ff\">13</span> in      <span style=\"color: #800000; text-decoration-color: #800000\">│</span>\n",
       "<span style=\"color: #800000; text-decoration-color: #800000\">│</span> <span style=\"color: #00ff00; text-decoration-color: #00ff00\">&lt;module&gt;</span>                                                                                  <span style=\"color: #800000; text-decoration-color: #800000\">│</span>\n",
       "<span style=\"color: #800000; text-decoration-color: #800000\">│</span>                                                                                           <span style=\"color: #800000; text-decoration-color: #800000\">│</span>\n",
       "<span style=\"color: #800000; text-decoration-color: #800000\">│</span> <span style=\"color: #800000; text-decoration-color: #800000; font-style: italic\">[Errno 2] No such file or directory: </span>                                                     <span style=\"color: #800000; text-decoration-color: #800000\">│</span>\n",
       "<span style=\"color: #800000; text-decoration-color: #800000\">│</span> <span style=\"color: #800000; text-decoration-color: #800000; font-style: italic\">'/var/folders/wf/cc_l12j97vl5mhxy8wxn69p40000gn/T/ipykernel_45575/1622418841.py'</span>          <span style=\"color: #800000; text-decoration-color: #800000\">│</span>\n",
       "<span style=\"color: #800000; text-decoration-color: #800000\">╰───────────────────────────────────────────────────────────────────────────────────────────╯</span>\n",
       "<span style=\"color: #ff0000; text-decoration-color: #ff0000; font-weight: bold\">KeyboardInterrupt</span>\n",
       "</pre>\n"
      ],
      "text/plain": [
       "\u001b[31m╭─\u001b[0m\u001b[31m─────────────────────────── \u001b[0m\u001b[1;31mTraceback \u001b[0m\u001b[1;2;31m(most recent call last)\u001b[0m\u001b[31m ───────────────────────────\u001b[0m\u001b[31m─╮\u001b[0m\n",
       "\u001b[31m│\u001b[0m                                                                                           \u001b[31m│\u001b[0m\n",
       "\u001b[31m│\u001b[0m \u001b[2;33m/var/folders/wf/cc_l12j97vl5mhxy8wxn69p40000gn/T/ipykernel_45575/\u001b[0m\u001b[1;33m1622418841.py\u001b[0m:\u001b[94m13\u001b[0m in      \u001b[31m│\u001b[0m\n",
       "\u001b[31m│\u001b[0m \u001b[92m<module>\u001b[0m                                                                                  \u001b[31m│\u001b[0m\n",
       "\u001b[31m│\u001b[0m                                                                                           \u001b[31m│\u001b[0m\n",
       "\u001b[31m│\u001b[0m \u001b[3;31m[Errno 2] No such file or directory: \u001b[0m                                                     \u001b[31m│\u001b[0m\n",
       "\u001b[31m│\u001b[0m \u001b[3;31m'/var/folders/wf/cc_l12j97vl5mhxy8wxn69p40000gn/T/ipykernel_45575/1622418841.py'\u001b[0m          \u001b[31m│\u001b[0m\n",
       "\u001b[31m╰───────────────────────────────────────────────────────────────────────────────────────────╯\u001b[0m\n",
       "\u001b[1;91mKeyboardInterrupt\u001b[0m\n"
      ]
     },
     "metadata": {},
     "output_type": "display_data"
    }
   ],
   "source": [
    "from time import sleep\n",
    "from rich.spinner import Spinner\n",
    "from rich.columns import Columns\n",
    "from rich.panel import Panel\n",
    "from rich.live import Live\n",
    "from rich.text import Text\n",
    "\n",
    "spinners = [Spinner(spinner_name, text=Text(repr(spinner_name), style=\"green\")) for spinner_name in sorted(SPINNERS)]\n",
    "columns = Columns(spinners, column_first=True, expand=True)\n",
    "\n",
    "with Live(Panel(columns, title=\"Spinners\", border_style=\"blue\"), refresh_per_second=20) as live:\n",
    "    while True:\n",
    "        sleep(0.1)\n"
   ]
  },
  {
   "cell_type": "code",
   "execution_count": 114,
   "id": "9b2278c1",
   "metadata": {},
   "outputs": [],
   "source": [
    "# console to std err\n",
    "error_c = Console(stderr=True, style='bold red on yellow')"
   ]
  },
  {
   "cell_type": "code",
   "execution_count": 115,
   "id": "8c3c8163",
   "metadata": {},
   "outputs": [
    {
     "data": {
      "text/html": [
       "<pre style=\"white-space:pre;overflow-x:auto;line-height:normal;font-family:Menlo,'DejaVu Sans Mono',consolas,'Courier New',monospace\"><span style=\"color: #800000; text-decoration-color: #800000; background-color: #808000; font-weight: bold\">WARNING</span>\n",
       "</pre>\n"
      ],
      "text/plain": [
       "\u001b[1;31;43mWARNING\u001b[0m\n"
      ]
     },
     "metadata": {},
     "output_type": "display_data"
    }
   ],
   "source": [
    "error_c.print('WARNING')"
   ]
  },
  {
   "cell_type": "code",
   "execution_count": null,
   "id": "76f31540",
   "metadata": {},
   "outputs": [],
   "source": []
  },
  {
   "cell_type": "markdown",
   "id": "5bc2ef85",
   "metadata": {},
   "source": [
    "---\n",
    "### [Style](https://rich.readthedocs.io/en/stable/style.html)\n",
    "---"
   ]
  },
  {
   "cell_type": "code",
   "execution_count": null,
   "id": "f8d04cea",
   "metadata": {},
   "outputs": [],
   "source": []
  },
  {
   "cell_type": "code",
   "execution_count": 60,
   "id": "30b86d52",
   "metadata": {},
   "outputs": [
    {
     "data": {
      "text/html": [
       "<pre style=\"white-space:pre;overflow-x:auto;line-height:normal;font-family:Menlo,'DejaVu Sans Mono',consolas,'Courier New',monospace\"><span style=\"background-color: #000000\">  </span><span style=\"background-color: #800000\">  </span><span style=\"background-color: #008000\">  </span><span style=\"background-color: #808000\">  </span><span style=\"background-color: #000080\">  </span><span style=\"background-color: #800080\">  </span><span style=\"background-color: #008080\">  </span><span style=\"background-color: #c0c0c0\">  </span><span style=\"background-color: #808080\">  </span><span style=\"background-color: #ff0000\">  </span><span style=\"background-color: #00ff00\">  </span><span style=\"background-color: #ffff00\">  </span><span style=\"background-color: #0000ff\">  </span><span style=\"background-color: #ff00ff\">  </span><span style=\"background-color: #00ffff\">  </span><span style=\"background-color: #ffffff\">  </span><span style=\"background-color: #000000\">  </span><span style=\"background-color: #00005f\">  </span><span style=\"background-color: #000087\">  </span><span style=\"background-color: #0000af\">  </span><span style=\"background-color: #0000d7\">  </span><span style=\"background-color: #0000ff\">  </span><span style=\"background-color: #005f00\">  </span><span style=\"background-color: #005f5f\">  </span><span style=\"background-color: #005f87\">  </span><span style=\"background-color: #005faf\">  </span><span style=\"background-color: #005fd7\">  </span><span style=\"background-color: #005fff\">  </span><span style=\"background-color: #008700\">  </span><span style=\"background-color: #00875f\">  </span><span style=\"background-color: #008787\">  </span><span style=\"background-color: #0087af\">  </span>\n",
       "<span style=\"background-color: #0087d7\">  </span><span style=\"background-color: #0087ff\">  </span><span style=\"background-color: #00af00\">  </span><span style=\"background-color: #00af5f\">  </span><span style=\"background-color: #00af87\">  </span><span style=\"background-color: #00afaf\">  </span><span style=\"background-color: #00afd7\">  </span><span style=\"background-color: #00afff\">  </span><span style=\"background-color: #00d700\">  </span><span style=\"background-color: #00d75f\">  </span><span style=\"background-color: #00d787\">  </span><span style=\"background-color: #00d7af\">  </span><span style=\"background-color: #00d7d7\">  </span><span style=\"background-color: #00d7ff\">  </span><span style=\"background-color: #00ff00\">  </span><span style=\"background-color: #00ff5f\">  </span><span style=\"background-color: #00ff87\">  </span><span style=\"background-color: #00ffaf\">  </span><span style=\"background-color: #00ffd7\">  </span><span style=\"background-color: #00ffff\">  </span><span style=\"background-color: #5f0000\">  </span><span style=\"background-color: #5f005f\">  </span><span style=\"background-color: #5f0087\">  </span><span style=\"background-color: #5f00af\">  </span><span style=\"background-color: #5f00d7\">  </span><span style=\"background-color: #5f00ff\">  </span><span style=\"background-color: #5f5f00\">  </span><span style=\"background-color: #5f5f5f\">  </span><span style=\"background-color: #5f5f87\">  </span><span style=\"background-color: #5f5faf\">  </span><span style=\"background-color: #5f5fd7\">  </span><span style=\"background-color: #5f5fff\">  </span>\n",
       "<span style=\"background-color: #5f8700\">  </span><span style=\"background-color: #5f875f\">  </span><span style=\"background-color: #5f8787\">  </span><span style=\"background-color: #5f87af\">  </span><span style=\"background-color: #5f87d7\">  </span><span style=\"background-color: #5f87ff\">  </span><span style=\"background-color: #5faf00\">  </span><span style=\"background-color: #5faf5f\">  </span><span style=\"background-color: #5faf87\">  </span><span style=\"background-color: #5fafaf\">  </span><span style=\"background-color: #5fafd7\">  </span><span style=\"background-color: #5fafff\">  </span><span style=\"background-color: #5fd700\">  </span><span style=\"background-color: #5fd75f\">  </span><span style=\"background-color: #5fd787\">  </span><span style=\"background-color: #5fd7af\">  </span><span style=\"background-color: #5fd7d7\">  </span><span style=\"background-color: #5fd7ff\">  </span><span style=\"background-color: #5fff00\">  </span><span style=\"background-color: #5fff5f\">  </span><span style=\"background-color: #5fff87\">  </span><span style=\"background-color: #5fffaf\">  </span><span style=\"background-color: #5fffd7\">  </span><span style=\"background-color: #5fffff\">  </span><span style=\"background-color: #870000\">  </span><span style=\"background-color: #87005f\">  </span><span style=\"background-color: #870087\">  </span><span style=\"background-color: #8700af\">  </span><span style=\"background-color: #8700d7\">  </span><span style=\"background-color: #8700ff\">  </span><span style=\"background-color: #875f00\">  </span><span style=\"background-color: #875f5f\">  </span>\n",
       "<span style=\"background-color: #875f87\">  </span><span style=\"background-color: #875faf\">  </span><span style=\"background-color: #875fd7\">  </span><span style=\"background-color: #875fff\">  </span><span style=\"background-color: #878700\">  </span><span style=\"background-color: #87875f\">  </span><span style=\"background-color: #878787\">  </span><span style=\"background-color: #8787af\">  </span><span style=\"background-color: #8787d7\">  </span><span style=\"background-color: #8787ff\">  </span><span style=\"background-color: #87af00\">  </span><span style=\"background-color: #87af5f\">  </span><span style=\"background-color: #87af87\">  </span><span style=\"background-color: #87afaf\">  </span><span style=\"background-color: #87afd7\">  </span><span style=\"background-color: #87afff\">  </span><span style=\"background-color: #87d700\">  </span><span style=\"background-color: #87d75f\">  </span><span style=\"background-color: #87d787\">  </span><span style=\"background-color: #87d7af\">  </span><span style=\"background-color: #87d7d7\">  </span><span style=\"background-color: #87d7ff\">  </span><span style=\"background-color: #87ff00\">  </span><span style=\"background-color: #87ff5f\">  </span><span style=\"background-color: #87ff87\">  </span><span style=\"background-color: #87ffaf\">  </span><span style=\"background-color: #87ffd7\">  </span><span style=\"background-color: #87ffff\">  </span><span style=\"background-color: #af0000\">  </span><span style=\"background-color: #af005f\">  </span><span style=\"background-color: #af0087\">  </span><span style=\"background-color: #af00af\">  </span>\n",
       "<span style=\"background-color: #af00d7\">  </span><span style=\"background-color: #af00ff\">  </span><span style=\"background-color: #af5f00\">  </span><span style=\"background-color: #af5f5f\">  </span><span style=\"background-color: #af5f87\">  </span><span style=\"background-color: #af5faf\">  </span><span style=\"background-color: #af5fd7\">  </span><span style=\"background-color: #af5fff\">  </span><span style=\"background-color: #af8700\">  </span><span style=\"background-color: #af875f\">  </span><span style=\"background-color: #af8787\">  </span><span style=\"background-color: #af87af\">  </span><span style=\"background-color: #af87d7\">  </span><span style=\"background-color: #af87ff\">  </span><span style=\"background-color: #afaf00\">  </span><span style=\"background-color: #afaf5f\">  </span><span style=\"background-color: #afaf87\">  </span><span style=\"background-color: #afafaf\">  </span><span style=\"background-color: #afafd7\">  </span><span style=\"background-color: #afafff\">  </span><span style=\"background-color: #afd700\">  </span><span style=\"background-color: #afd75f\">  </span><span style=\"background-color: #afd787\">  </span><span style=\"background-color: #afd7af\">  </span><span style=\"background-color: #afd7d7\">  </span><span style=\"background-color: #afd7ff\">  </span><span style=\"background-color: #afff00\">  </span><span style=\"background-color: #afff5f\">  </span><span style=\"background-color: #afff87\">  </span><span style=\"background-color: #afffaf\">  </span><span style=\"background-color: #afffd7\">  </span><span style=\"background-color: #afffff\">  </span>\n",
       "<span style=\"background-color: #d70000\">  </span><span style=\"background-color: #d7005f\">  </span><span style=\"background-color: #d70087\">  </span><span style=\"background-color: #d700af\">  </span><span style=\"background-color: #d700d7\">  </span><span style=\"background-color: #d700ff\">  </span><span style=\"background-color: #d75f00\">  </span><span style=\"background-color: #d75f5f\">  </span><span style=\"background-color: #d75f87\">  </span><span style=\"background-color: #d75faf\">  </span><span style=\"background-color: #d75fd7\">  </span><span style=\"background-color: #d75fff\">  </span><span style=\"background-color: #d78700\">  </span><span style=\"background-color: #d7875f\">  </span><span style=\"background-color: #d78787\">  </span><span style=\"background-color: #d787af\">  </span><span style=\"background-color: #d787d7\">  </span><span style=\"background-color: #d787ff\">  </span><span style=\"background-color: #d7af00\">  </span><span style=\"background-color: #d7af5f\">  </span><span style=\"background-color: #d7af87\">  </span><span style=\"background-color: #d7afaf\">  </span><span style=\"background-color: #d7afd7\">  </span><span style=\"background-color: #d7afff\">  </span><span style=\"background-color: #d7d700\">  </span><span style=\"background-color: #d7d75f\">  </span><span style=\"background-color: #d7d787\">  </span><span style=\"background-color: #d7d7af\">  </span><span style=\"background-color: #d7d7d7\">  </span><span style=\"background-color: #d7d7ff\">  </span><span style=\"background-color: #d7ff00\">  </span><span style=\"background-color: #d7ff5f\">  </span>\n",
       "<span style=\"background-color: #d7ff87\">  </span><span style=\"background-color: #d7ffaf\">  </span><span style=\"background-color: #d7ffd7\">  </span><span style=\"background-color: #d7ffff\">  </span><span style=\"background-color: #ff0000\">  </span><span style=\"background-color: #ff005f\">  </span><span style=\"background-color: #ff0087\">  </span><span style=\"background-color: #ff00af\">  </span><span style=\"background-color: #ff00d7\">  </span><span style=\"background-color: #ff00ff\">  </span><span style=\"background-color: #ff5f00\">  </span><span style=\"background-color: #ff5f5f\">  </span><span style=\"background-color: #ff5f87\">  </span><span style=\"background-color: #ff5faf\">  </span><span style=\"background-color: #ff5fd7\">  </span><span style=\"background-color: #ff5fff\">  </span><span style=\"background-color: #ff8700\">  </span><span style=\"background-color: #ff875f\">  </span><span style=\"background-color: #ff8787\">  </span><span style=\"background-color: #ff87af\">  </span><span style=\"background-color: #ff87d7\">  </span><span style=\"background-color: #ff87ff\">  </span><span style=\"background-color: #ffaf00\">  </span><span style=\"background-color: #ffaf5f\">  </span><span style=\"background-color: #ffaf87\">  </span><span style=\"background-color: #ffafaf\">  </span><span style=\"background-color: #ffafd7\">  </span><span style=\"background-color: #ffafff\">  </span><span style=\"background-color: #ffd700\">  </span><span style=\"background-color: #ffd75f\">  </span><span style=\"background-color: #ffd787\">  </span><span style=\"background-color: #ffd7af\">  </span>\n",
       "<span style=\"background-color: #ffd7d7\">  </span><span style=\"background-color: #ffd7ff\">  </span><span style=\"background-color: #ffff00\">  </span><span style=\"background-color: #ffff5f\">  </span><span style=\"background-color: #ffff87\">  </span><span style=\"background-color: #ffffaf\">  </span><span style=\"background-color: #ffffd7\">  </span><span style=\"background-color: #ffffff\">  </span><span style=\"background-color: #080808\">  </span><span style=\"background-color: #121212\">  </span><span style=\"background-color: #1c1c1c\">  </span><span style=\"background-color: #262626\">  </span><span style=\"background-color: #303030\">  </span><span style=\"background-color: #3a3a3a\">  </span><span style=\"background-color: #444444\">  </span><span style=\"background-color: #4e4e4e\">  </span><span style=\"background-color: #585858\">  </span><span style=\"background-color: #626262\">  </span><span style=\"background-color: #6c6c6c\">  </span><span style=\"background-color: #767676\">  </span><span style=\"background-color: #808080\">  </span><span style=\"background-color: #8a8a8a\">  </span><span style=\"background-color: #949494\">  </span><span style=\"background-color: #9e9e9e\">  </span><span style=\"background-color: #a8a8a8\">  </span><span style=\"background-color: #b2b2b2\">  </span><span style=\"background-color: #bcbcbc\">  </span><span style=\"background-color: #c6c6c6\">  </span><span style=\"background-color: #d0d0d0\">  </span><span style=\"background-color: #dadada\">  </span><span style=\"background-color: #e4e4e4\">  </span><span style=\"background-color: #eeeeee\">  </span>\n",
       "</pre>\n"
      ],
      "text/plain": [
       "\u001b[40m  \u001b[0m\u001b[41m  \u001b[0m\u001b[42m  \u001b[0m\u001b[43m  \u001b[0m\u001b[44m  \u001b[0m\u001b[45m  \u001b[0m\u001b[46m  \u001b[0m\u001b[47m  \u001b[0m\u001b[100m  \u001b[0m\u001b[101m  \u001b[0m\u001b[102m  \u001b[0m\u001b[103m  \u001b[0m\u001b[104m  \u001b[0m\u001b[105m  \u001b[0m\u001b[106m  \u001b[0m\u001b[107m  \u001b[0m\u001b[48;5;16m  \u001b[0m\u001b[48;5;17m  \u001b[0m\u001b[48;5;18m  \u001b[0m\u001b[48;5;19m  \u001b[0m\u001b[48;5;20m  \u001b[0m\u001b[48;5;21m  \u001b[0m\u001b[48;5;22m  \u001b[0m\u001b[48;5;23m  \u001b[0m\u001b[48;5;24m  \u001b[0m\u001b[48;5;25m  \u001b[0m\u001b[48;5;26m  \u001b[0m\u001b[48;5;27m  \u001b[0m\u001b[48;5;28m  \u001b[0m\u001b[48;5;29m  \u001b[0m\u001b[48;5;30m  \u001b[0m\u001b[48;5;31m  \u001b[0m\n",
       "\u001b[48;5;32m  \u001b[0m\u001b[48;5;33m  \u001b[0m\u001b[48;5;34m  \u001b[0m\u001b[48;5;35m  \u001b[0m\u001b[48;5;36m  \u001b[0m\u001b[48;5;37m  \u001b[0m\u001b[48;5;38m  \u001b[0m\u001b[48;5;39m  \u001b[0m\u001b[48;5;40m  \u001b[0m\u001b[48;5;41m  \u001b[0m\u001b[48;5;42m  \u001b[0m\u001b[48;5;43m  \u001b[0m\u001b[48;5;44m  \u001b[0m\u001b[48;5;45m  \u001b[0m\u001b[48;5;46m  \u001b[0m\u001b[48;5;47m  \u001b[0m\u001b[48;5;48m  \u001b[0m\u001b[48;5;49m  \u001b[0m\u001b[48;5;50m  \u001b[0m\u001b[48;5;51m  \u001b[0m\u001b[48;5;52m  \u001b[0m\u001b[48;5;53m  \u001b[0m\u001b[48;5;54m  \u001b[0m\u001b[48;5;55m  \u001b[0m\u001b[48;5;56m  \u001b[0m\u001b[48;5;57m  \u001b[0m\u001b[48;5;58m  \u001b[0m\u001b[48;5;59m  \u001b[0m\u001b[48;5;60m  \u001b[0m\u001b[48;5;61m  \u001b[0m\u001b[48;5;62m  \u001b[0m\u001b[48;5;63m  \u001b[0m\n",
       "\u001b[48;5;64m  \u001b[0m\u001b[48;5;65m  \u001b[0m\u001b[48;5;66m  \u001b[0m\u001b[48;5;67m  \u001b[0m\u001b[48;5;68m  \u001b[0m\u001b[48;5;69m  \u001b[0m\u001b[48;5;70m  \u001b[0m\u001b[48;5;71m  \u001b[0m\u001b[48;5;72m  \u001b[0m\u001b[48;5;73m  \u001b[0m\u001b[48;5;74m  \u001b[0m\u001b[48;5;75m  \u001b[0m\u001b[48;5;76m  \u001b[0m\u001b[48;5;77m  \u001b[0m\u001b[48;5;78m  \u001b[0m\u001b[48;5;79m  \u001b[0m\u001b[48;5;80m  \u001b[0m\u001b[48;5;81m  \u001b[0m\u001b[48;5;82m  \u001b[0m\u001b[48;5;83m  \u001b[0m\u001b[48;5;84m  \u001b[0m\u001b[48;5;85m  \u001b[0m\u001b[48;5;86m  \u001b[0m\u001b[48;5;87m  \u001b[0m\u001b[48;5;88m  \u001b[0m\u001b[48;5;89m  \u001b[0m\u001b[48;5;90m  \u001b[0m\u001b[48;5;91m  \u001b[0m\u001b[48;5;92m  \u001b[0m\u001b[48;5;93m  \u001b[0m\u001b[48;5;94m  \u001b[0m\u001b[48;5;95m  \u001b[0m\n",
       "\u001b[48;5;96m  \u001b[0m\u001b[48;5;97m  \u001b[0m\u001b[48;5;98m  \u001b[0m\u001b[48;5;99m  \u001b[0m\u001b[48;5;100m  \u001b[0m\u001b[48;5;101m  \u001b[0m\u001b[48;5;102m  \u001b[0m\u001b[48;5;103m  \u001b[0m\u001b[48;5;104m  \u001b[0m\u001b[48;5;105m  \u001b[0m\u001b[48;5;106m  \u001b[0m\u001b[48;5;107m  \u001b[0m\u001b[48;5;108m  \u001b[0m\u001b[48;5;109m  \u001b[0m\u001b[48;5;110m  \u001b[0m\u001b[48;5;111m  \u001b[0m\u001b[48;5;112m  \u001b[0m\u001b[48;5;113m  \u001b[0m\u001b[48;5;114m  \u001b[0m\u001b[48;5;115m  \u001b[0m\u001b[48;5;116m  \u001b[0m\u001b[48;5;117m  \u001b[0m\u001b[48;5;118m  \u001b[0m\u001b[48;5;119m  \u001b[0m\u001b[48;5;120m  \u001b[0m\u001b[48;5;121m  \u001b[0m\u001b[48;5;122m  \u001b[0m\u001b[48;5;123m  \u001b[0m\u001b[48;5;124m  \u001b[0m\u001b[48;5;125m  \u001b[0m\u001b[48;5;126m  \u001b[0m\u001b[48;5;127m  \u001b[0m\n",
       "\u001b[48;5;128m  \u001b[0m\u001b[48;5;129m  \u001b[0m\u001b[48;5;130m  \u001b[0m\u001b[48;5;131m  \u001b[0m\u001b[48;5;132m  \u001b[0m\u001b[48;5;133m  \u001b[0m\u001b[48;5;134m  \u001b[0m\u001b[48;5;135m  \u001b[0m\u001b[48;5;136m  \u001b[0m\u001b[48;5;137m  \u001b[0m\u001b[48;5;138m  \u001b[0m\u001b[48;5;139m  \u001b[0m\u001b[48;5;140m  \u001b[0m\u001b[48;5;141m  \u001b[0m\u001b[48;5;142m  \u001b[0m\u001b[48;5;143m  \u001b[0m\u001b[48;5;144m  \u001b[0m\u001b[48;5;145m  \u001b[0m\u001b[48;5;146m  \u001b[0m\u001b[48;5;147m  \u001b[0m\u001b[48;5;148m  \u001b[0m\u001b[48;5;149m  \u001b[0m\u001b[48;5;150m  \u001b[0m\u001b[48;5;151m  \u001b[0m\u001b[48;5;152m  \u001b[0m\u001b[48;5;153m  \u001b[0m\u001b[48;5;154m  \u001b[0m\u001b[48;5;155m  \u001b[0m\u001b[48;5;156m  \u001b[0m\u001b[48;5;157m  \u001b[0m\u001b[48;5;158m  \u001b[0m\u001b[48;5;159m  \u001b[0m\n",
       "\u001b[48;5;160m  \u001b[0m\u001b[48;5;161m  \u001b[0m\u001b[48;5;162m  \u001b[0m\u001b[48;5;163m  \u001b[0m\u001b[48;5;164m  \u001b[0m\u001b[48;5;165m  \u001b[0m\u001b[48;5;166m  \u001b[0m\u001b[48;5;167m  \u001b[0m\u001b[48;5;168m  \u001b[0m\u001b[48;5;169m  \u001b[0m\u001b[48;5;170m  \u001b[0m\u001b[48;5;171m  \u001b[0m\u001b[48;5;172m  \u001b[0m\u001b[48;5;173m  \u001b[0m\u001b[48;5;174m  \u001b[0m\u001b[48;5;175m  \u001b[0m\u001b[48;5;176m  \u001b[0m\u001b[48;5;177m  \u001b[0m\u001b[48;5;178m  \u001b[0m\u001b[48;5;179m  \u001b[0m\u001b[48;5;180m  \u001b[0m\u001b[48;5;181m  \u001b[0m\u001b[48;5;182m  \u001b[0m\u001b[48;5;183m  \u001b[0m\u001b[48;5;184m  \u001b[0m\u001b[48;5;185m  \u001b[0m\u001b[48;5;186m  \u001b[0m\u001b[48;5;187m  \u001b[0m\u001b[48;5;188m  \u001b[0m\u001b[48;5;189m  \u001b[0m\u001b[48;5;190m  \u001b[0m\u001b[48;5;191m  \u001b[0m\n",
       "\u001b[48;5;192m  \u001b[0m\u001b[48;5;193m  \u001b[0m\u001b[48;5;194m  \u001b[0m\u001b[48;5;195m  \u001b[0m\u001b[48;5;196m  \u001b[0m\u001b[48;5;197m  \u001b[0m\u001b[48;5;198m  \u001b[0m\u001b[48;5;199m  \u001b[0m\u001b[48;5;200m  \u001b[0m\u001b[48;5;201m  \u001b[0m\u001b[48;5;202m  \u001b[0m\u001b[48;5;203m  \u001b[0m\u001b[48;5;204m  \u001b[0m\u001b[48;5;205m  \u001b[0m\u001b[48;5;206m  \u001b[0m\u001b[48;5;207m  \u001b[0m\u001b[48;5;208m  \u001b[0m\u001b[48;5;209m  \u001b[0m\u001b[48;5;210m  \u001b[0m\u001b[48;5;211m  \u001b[0m\u001b[48;5;212m  \u001b[0m\u001b[48;5;213m  \u001b[0m\u001b[48;5;214m  \u001b[0m\u001b[48;5;215m  \u001b[0m\u001b[48;5;216m  \u001b[0m\u001b[48;5;217m  \u001b[0m\u001b[48;5;218m  \u001b[0m\u001b[48;5;219m  \u001b[0m\u001b[48;5;220m  \u001b[0m\u001b[48;5;221m  \u001b[0m\u001b[48;5;222m  \u001b[0m\u001b[48;5;223m  \u001b[0m\n",
       "\u001b[48;5;224m  \u001b[0m\u001b[48;5;225m  \u001b[0m\u001b[48;5;226m  \u001b[0m\u001b[48;5;227m  \u001b[0m\u001b[48;5;228m  \u001b[0m\u001b[48;5;229m  \u001b[0m\u001b[48;5;230m  \u001b[0m\u001b[48;5;231m  \u001b[0m\u001b[48;5;232m  \u001b[0m\u001b[48;5;233m  \u001b[0m\u001b[48;5;234m  \u001b[0m\u001b[48;5;235m  \u001b[0m\u001b[48;5;236m  \u001b[0m\u001b[48;5;237m  \u001b[0m\u001b[48;5;238m  \u001b[0m\u001b[48;5;239m  \u001b[0m\u001b[48;5;240m  \u001b[0m\u001b[48;5;241m  \u001b[0m\u001b[48;5;242m  \u001b[0m\u001b[48;5;243m  \u001b[0m\u001b[48;5;244m  \u001b[0m\u001b[48;5;245m  \u001b[0m\u001b[48;5;246m  \u001b[0m\u001b[48;5;247m  \u001b[0m\u001b[48;5;248m  \u001b[0m\u001b[48;5;249m  \u001b[0m\u001b[48;5;250m  \u001b[0m\u001b[48;5;251m  \u001b[0m\u001b[48;5;252m  \u001b[0m\u001b[48;5;253m  \u001b[0m\u001b[48;5;254m  \u001b[0m\u001b[48;5;255m  \u001b[0m\n"
      ]
     },
     "metadata": {},
     "output_type": "display_data"
    }
   ],
   "source": [
    "t = Table(show_header=False)\n",
    "colors = [f'[on color({i})]  ' for i in range(256)]\n",
    "s = '\\n'.join(''.join(g) for g in chunk(colors, 32))\n",
    "print(s)"
   ]
  },
  {
   "cell_type": "code",
   "execution_count": 77,
   "id": "ef89c6fd",
   "metadata": {},
   "outputs": [
    {
     "data": {
      "text/html": [
       "<pre style=\"white-space:pre;overflow-x:auto;line-height:normal;font-family:Menlo,'DejaVu Sans Mono',consolas,'Courier New',monospace\"><span style=\"font-weight: bold\">bold</span>\n",
       "blink\n",
       "blink2\n",
       "conceal\n",
       "<span style=\"font-style: italic\">italic</span>\n",
       "reverse\n",
       "<span style=\"text-decoration: line-through\">strike</span>\n",
       "<span style=\"text-decoration: underline\">underline</span>\n",
       "underline2\n",
       "frame\n",
       "encircle\n",
       "<span style=\"text-decoration: overline\">overline</span>\n",
       "</pre>\n"
      ],
      "text/plain": [
       "\u001b[1mbold\u001b[0m\n",
       "\u001b[5mblink\u001b[0m\n",
       "\u001b[6mblink2\u001b[0m\n",
       "\u001b[8mconceal\u001b[0m\n",
       "\u001b[3mitalic\u001b[0m\n",
       "\u001b[7mreverse\u001b[0m\n",
       "\u001b[9mstrike\u001b[0m\n",
       "\u001b[4munderline\u001b[0m\n",
       "\u001b[21munderline2\u001b[0m\n",
       "\u001b[51mframe\u001b[0m\n",
       "\u001b[52mencircle\u001b[0m\n",
       "\u001b[53moverline\u001b[0m\n"
      ]
     },
     "metadata": {},
     "output_type": "display_data"
    }
   ],
   "source": [
    "options = (\"bold\", \"blink\", \"blink2\", \"conceal\", \"italic\",\n",
    "           \"reverse\", \"strike\", \"underline\", \"underline2\",\n",
    "           \"frame\", \"encircle\", \"overline\")\n",
    "print('\\n'.join(f'[{opt}]{opt}[/]' for opt in options))\n"
   ]
  },
  {
   "cell_type": "code",
   "execution_count": 66,
   "id": "5f0d3fbc",
   "metadata": {},
   "outputs": [
    {
     "data": {
      "text/html": [
       "<pre style=\"white-space:pre;overflow-x:auto;line-height:normal;font-family:Menlo,'DejaVu Sans Mono',consolas,'Courier New',monospace\"><a href=\"https://github.com/sweettuse\">sweettuse github!</a>\n",
       "</pre>\n"
      ],
      "text/plain": [
       "\u001b]8;id=280241;https://github.com/sweettuse\u001b\\sweettuse github!\u001b]8;;\u001b\\\n"
      ]
     },
     "metadata": {},
     "output_type": "display_data"
    }
   ],
   "source": [
    "c.print('sweettuse github!', style='link https://github.com/sweettuse')"
   ]
  },
  {
   "cell_type": "code",
   "execution_count": 69,
   "id": "045ae019",
   "metadata": {},
   "outputs": [],
   "source": [
    "danger = Style(color='yellow', bgcolor='red', blink=True, bold=True)"
   ]
  },
  {
   "cell_type": "code",
   "execution_count": 81,
   "id": "375af7f0",
   "metadata": {},
   "outputs": [
    {
     "data": {
      "text/html": [
       "<pre style=\"white-space:pre;overflow-x:auto;line-height:normal;font-family:Menlo,'DejaVu Sans Mono',consolas,'Courier New',monospace\"><span style=\"color: #808000; text-decoration-color: #808000; background-color: #800000; font-weight: bold; text-decoration: underline; text-decoration: line-through\">WARNING</span>\n",
       "</pre>\n"
      ],
      "text/plain": [
       "\u001b[1;4;5;9;33;41mWARNING\u001b[0m\n"
      ]
     },
     "metadata": {},
     "output_type": "display_data"
    }
   ],
   "source": [
    "c.print('WARNING', style=danger + Style(underline=True) + Style(strike=True))"
   ]
  },
  {
   "cell_type": "code",
   "execution_count": 88,
   "id": "abe48d70",
   "metadata": {},
   "outputs": [
    {
     "data": {
      "text/html": [
       "<pre style=\"white-space:pre;overflow-x:auto;line-height:normal;font-family:Menlo,'DejaVu Sans Mono',consolas,'Courier New',monospace\"><span style=\"color: #7fbfbf; text-decoration-color: #7fbfbf\">This is information</span>\n",
       "</pre>\n"
      ],
      "text/plain": [
       "\u001b[2;36mThis is information\u001b[0m\n"
      ]
     },
     "metadata": {},
     "output_type": "display_data"
    },
    {
     "data": {
      "text/html": [
       "<pre style=\"white-space:pre;overflow-x:auto;line-height:normal;font-family:Menlo,'DejaVu Sans Mono',consolas,'Courier New',monospace\"><span style=\"color: #800080; text-decoration-color: #800080\">The pod bay doors are locked</span>\n",
       "</pre>\n"
      ],
      "text/plain": [
       "\u001b[35mThe pod bay doors are locked\u001b[0m\n"
      ]
     },
     "metadata": {},
     "output_type": "display_data"
    },
    {
     "data": {
      "text/html": [
       "<pre style=\"white-space:pre;overflow-x:auto;line-height:normal;font-family:Menlo,'DejaVu Sans Mono',consolas,'Courier New',monospace\"><span style=\"color: #800000; text-decoration-color: #800000; font-weight: bold\">Something terrible happened!</span>\n",
       "</pre>\n"
      ],
      "text/plain": [
       "\u001b[1;31mSomething terrible happened!\u001b[0m\n"
      ]
     },
     "metadata": {},
     "output_type": "display_data"
    }
   ],
   "source": [
    "from rich.theme import Theme\n",
    "my_theme = Theme({\n",
    "    \"info\": \"dim cyan\",\n",
    "    \"warning\": \"magenta\",\n",
    "    \"danger\": \"bold red\"\n",
    "})\n",
    "c = Console(theme=my_theme)\n",
    "\n",
    "c.print(\"This is information\", style=\"info\")\n",
    "c.print(\"[warning]The pod bay doors are locked[/warning]\")\n",
    "c.print(\"Something terrible happened!\", style=\"danger\")\n"
   ]
  },
  {
   "cell_type": "markdown",
   "id": "e51dcc4c",
   "metadata": {},
   "source": [
    "##### can load themes from files"
   ]
  },
  {
   "cell_type": "code",
   "execution_count": 116,
   "id": "14c2e92c",
   "metadata": {},
   "outputs": [],
   "source": [
    "from random import randrange\n",
    "theme_file_text = \"\"\"\n",
    "[styles]\n",
    "info = purple\n",
    "warning = color({})\n",
    "danger = bold red on white\n",
    "\"\"\".format(randrange(256))\n",
    "with open('/tmp/theme', 'w') as f:\n",
    "    f.write(theme_file_text)\n",
    "\n",
    "my_theme_from_file = Theme.read('/tmp/theme')"
   ]
  },
  {
   "cell_type": "code",
   "execution_count": 117,
   "id": "3e61af61",
   "metadata": {},
   "outputs": [
    {
     "data": {
      "text/html": [
       "<pre style=\"white-space:pre;overflow-x:auto;line-height:normal;font-family:Menlo,'DejaVu Sans Mono',consolas,'Courier New',monospace\"><span style=\"color: #af00ff; text-decoration-color: #af00ff\">This is information</span>\n",
       "</pre>\n"
      ],
      "text/plain": [
       "\u001b[38;5;129mThis is information\u001b[0m\n"
      ]
     },
     "metadata": {},
     "output_type": "display_data"
    },
    {
     "data": {
      "text/html": [
       "<pre style=\"white-space:pre;overflow-x:auto;line-height:normal;font-family:Menlo,'DejaVu Sans Mono',consolas,'Courier New',monospace\"><span style=\"color: #d70087; text-decoration-color: #d70087\">The pod bay doors are locked</span>\n",
       "</pre>\n"
      ],
      "text/plain": [
       "\u001b[38;5;162mThe pod bay doors are locked\u001b[0m\n"
      ]
     },
     "metadata": {},
     "output_type": "display_data"
    },
    {
     "data": {
      "text/html": [
       "<pre style=\"white-space:pre;overflow-x:auto;line-height:normal;font-family:Menlo,'DejaVu Sans Mono',consolas,'Courier New',monospace\"><span style=\"color: #800000; text-decoration-color: #800000; background-color: #c0c0c0; font-weight: bold\">Something terrible happened!</span>\n",
       "</pre>\n"
      ],
      "text/plain": [
       "\u001b[1;31;47mSomething terrible happened!\u001b[0m\n"
      ]
     },
     "metadata": {},
     "output_type": "display_data"
    }
   ],
   "source": [
    "c = Console(theme=my_theme_from_file)\n",
    "\n",
    "c.print(\"This is information\", style=\"info\")\n",
    "c.print(\"[warning]The pod bay doors are locked[/warning]\")\n",
    "c.print(\"Something terrible happened!\", style=\"danger\")"
   ]
  },
  {
   "cell_type": "code",
   "execution_count": 118,
   "id": "8e197204",
   "metadata": {},
   "outputs": [
    {
     "data": {
      "text/html": [
       "<pre style=\"white-space:pre;overflow-x:auto;line-height:normal;font-family:Menlo,'DejaVu Sans Mono',consolas,'Courier New',monospace\">┏━━━━━━━━━━━━━━━━━━━━━━━━━━━━━━━━━━━━━━━━━━━━━━━━━━━━━━━━━━━━━┳━━━━━━━━━━━━━━━━━━━━━━━━━━━━━┓\n",
       "┃<span style=\"font-weight: bold\"> Markup                                                      </span>┃<span style=\"font-weight: bold\"> Result                      </span>┃\n",
       "┡━━━━━━━━━━━━━━━━━━━━━━━━━━━━━━━━━━━━━━━━━━━━━━━━━━━━━━━━━━━━━╇━━━━━━━━━━━━━━━━━━━━━━━━━━━━━┩\n",
       "│ [red]Hello World[/red]                                      │ <span style=\"color: #800000; text-decoration-color: #800000\">Hello World</span>                 │\n",
       "│ [magenta]Hello [b]World[/b]                                 │ <span style=\"color: #800080; text-decoration-color: #800080\">Hello </span><span style=\"color: #800080; text-decoration-color: #800080; font-weight: bold\">World</span>                 │\n",
       "│ [bold]Bold[italic] bold and italic [/bold]italic[/italic]   │ <span style=\"font-weight: bold\">Bold</span><span style=\"font-weight: bold; font-style: italic\"> bold and italic </span><span style=\"font-style: italic\">italic</span> │\n",
       "│ Click [link=https://www.willmcgugan.com]here[/link] to      │ Click <a href=\"https://www.willmcgugan.com\">here</a> to visit my Blog │\n",
       "│ visit my Blog                                               │                             │\n",
       "│ :warning-emoji: [bold red blink] DANGER![/]                 │ ⚠️ <span style=\"color: #800000; text-decoration-color: #800000; font-weight: bold\"> DANGER!</span>                  │\n",
       "└─────────────────────────────────────────────────────────────┴─────────────────────────────┘\n",
       "</pre>\n"
      ],
      "text/plain": [
       "┏━━━━━━━━━━━━━━━━━━━━━━━━━━━━━━━━━━━━━━━━━━━━━━━━━━━━━━━━━━━━━┳━━━━━━━━━━━━━━━━━━━━━━━━━━━━━┓\n",
       "┃\u001b[1m \u001b[0m\u001b[1mMarkup                                                     \u001b[0m\u001b[1m \u001b[0m┃\u001b[1m \u001b[0m\u001b[1mResult                     \u001b[0m\u001b[1m \u001b[0m┃\n",
       "┡━━━━━━━━━━━━━━━━━━━━━━━━━━━━━━━━━━━━━━━━━━━━━━━━━━━━━━━━━━━━━╇━━━━━━━━━━━━━━━━━━━━━━━━━━━━━┩\n",
       "│ [red]Hello World[/red]                                      │ \u001b[31mHello World\u001b[0m                 │\n",
       "│ [magenta]Hello [b]World[/b]                                 │ \u001b[35mHello \u001b[0m\u001b[1;35mWorld\u001b[0m                 │\n",
       "│ [bold]Bold[italic] bold and italic [/bold]italic[/italic]   │ \u001b[1mBold\u001b[0m\u001b[1;3m bold and italic \u001b[0m\u001b[3mitalic\u001b[0m │\n",
       "│ Click [link=https://www.willmcgugan.com]here[/link] to      │ Click \u001b]8;id=684218;https://www.willmcgugan.com\u001b\\here\u001b]8;;\u001b\\ to visit my Blog │\n",
       "│ visit my Blog                                               │                             │\n",
       "│ :warning-emoji: [bold red blink] DANGER![/]                 │ ⚠️ \u001b[1;5;31m DANGER!\u001b[0m                  │\n",
       "└─────────────────────────────────────────────────────────────┴─────────────────────────────┘\n"
      ]
     },
     "metadata": {},
     "output_type": "display_data"
    }
   ],
   "source": [
    "MARKUP = [\n",
    "    \"[red]Hello World[/red]\",\n",
    "    \"[magenta]Hello [b]World[/b]\",\n",
    "    \"[bold]Bold[italic] bold and italic [/bold]italic[/italic]\",\n",
    "    \"Click [link=https://www.willmcgugan.com]here[/link] to visit my Blog\",\n",
    "    \":warning-emoji: [bold red blink] DANGER![/]\",\n",
    "]\n",
    "\n",
    "from rich.table import Table\n",
    "from rich import print\n",
    "\n",
    "grid = Table(\"Markup\", \"Result\", padding=(0, 1))\n",
    "\n",
    "for markup in MARKUP:\n",
    "    grid.add_row(Text(markup), markup)\n",
    "\n",
    "print(grid)\n"
   ]
  },
  {
   "cell_type": "code",
   "execution_count": null,
   "id": "6abc0550",
   "metadata": {},
   "outputs": [],
   "source": []
  },
  {
   "cell_type": "markdown",
   "id": "f9e57707",
   "metadata": {},
   "source": [
    "---\n",
    "### [Text](https://rich.readthedocs.io/en/stable/text.html)\n",
    "---"
   ]
  },
  {
   "cell_type": "code",
   "execution_count": null,
   "id": "49599263",
   "metadata": {},
   "outputs": [],
   "source": []
  },
  {
   "cell_type": "code",
   "execution_count": 159,
   "id": "64ed6308",
   "metadata": {},
   "outputs": [
    {
     "data": {
      "text/html": [
       "<pre style=\"white-space:pre;overflow-x:auto;line-height:normal;font-family:Menlo,'DejaVu Sans Mono',consolas,'Courier New',monospace\">typing.Literal<span style=\"font-weight: bold\">[</span><span style=\"color: #008000; text-decoration-color: #008000\">'default'</span>, <span style=\"color: #008000; text-decoration-color: #008000\">'left'</span>, <span style=\"color: #008000; text-decoration-color: #008000\">'center'</span>, <span style=\"color: #008000; text-decoration-color: #008000\">'right'</span>, <span style=\"color: #008000; text-decoration-color: #008000\">'full'</span><span style=\"font-weight: bold\">]</span>\n",
       "</pre>\n"
      ],
      "text/plain": [
       "typing.Literal\u001b[1m[\u001b[0m\u001b[32m'default'\u001b[0m, \u001b[32m'left'\u001b[0m, \u001b[32m'center'\u001b[0m, \u001b[32m'right'\u001b[0m, \u001b[32m'full'\u001b[0m\u001b[1m]\u001b[0m\n"
      ]
     },
     "metadata": {},
     "output_type": "display_data"
    }
   ],
   "source": [
    "from rich.text import Text\n",
    "from rich.console import JustifyMethod\n",
    "JustifyMethod"
   ]
  },
  {
   "cell_type": "code",
   "execution_count": 154,
   "id": "deeb3096",
   "metadata": {},
   "outputs": [
    {
     "data": {
      "text/html": [
       "<pre style=\"white-space:pre;overflow-x:auto;line-height:normal;font-family:Menlo,'DejaVu Sans Mono',consolas,'Courier New',monospace\">starting <span style=\"background-color: #af00ff; font-weight: bold; text-decoration: underline\">point</span> for <span style=\"background-color: #af00ff; font-weight: bold; text-decoration: underline\">this</span> thing\n",
       "</pre>\n"
      ],
      "text/plain": [
       "starting \u001b[1;4;48;5;129mpoint\u001b[0m for \u001b[1;4;48;5;129mthis\u001b[0m thing\n"
      ]
     },
     "execution_count": 154,
     "metadata": {},
     "output_type": "execute_result"
    }
   ],
   "source": [
    "t = Text('starting point for this thing')\n",
    "t.highlight_words(['point', 'this'], style='bold underline on purple')\n",
    "t"
   ]
  },
  {
   "cell_type": "code",
   "execution_count": 166,
   "id": "e054a28d",
   "metadata": {},
   "outputs": [
    {
     "data": {
      "text/html": [
       "<pre style=\"white-space:pre;overflow-x:auto;line-height:normal;font-family:Menlo,'DejaVu Sans Mono',consolas,'Courier New',monospace\"><span style=\"background-color: #000080\">jebbify the universe</span>\n",
       "</pre>\n"
      ],
      "text/plain": [
       "\u001b[44mjebbify\u001b[0m\u001b[44m the universe\u001b[0m\n"
      ]
     },
     "execution_count": 166,
     "metadata": {},
     "output_type": "execute_result"
    }
   ],
   "source": [
    "t = Text('jebbify', justify='full', style='on blue')\n",
    "t += Text(' the universe')\n",
    "t\n",
    "# why is the ' the universe' stylized?"
   ]
  },
  {
   "cell_type": "code",
   "execution_count": 139,
   "id": "d6bfb4e8",
   "metadata": {},
   "outputs": [
    {
     "data": {
      "text/html": [
       "<pre style=\"white-space:pre;overflow-x:auto;line-height:normal;font-family:Menlo,'DejaVu Sans Mono',consolas,'Courier New',monospace\"><span style=\"background-color: #000080\">jeb</span>\n",
       "</pre>\n"
      ],
      "text/plain": [
       "\u001b[44mjeb\u001b[0m\n"
      ]
     },
     "metadata": {},
     "output_type": "display_data"
    }
   ],
   "source": [
    "print(t)"
   ]
  },
  {
   "cell_type": "code",
   "execution_count": 167,
   "id": "bb9c685e",
   "metadata": {},
   "outputs": [
    {
     "data": {
      "text/html": [
       "<pre style=\"white-space:pre;overflow-x:auto;line-height:normal;font-family:Menlo,'DejaVu Sans Mono',consolas,'Courier New',monospace\">                                         <span style=\"color: #008000; text-decoration-color: #008000; background-color: #c0c0c0\">hello</span> world                                         \n",
       "</pre>\n"
      ],
      "text/plain": [
       "                                         \u001b[32;47mhello\u001b[0m world                                         \n"
      ]
     },
     "execution_count": 167,
     "metadata": {},
     "output_type": "execute_result"
    }
   ],
   "source": [
    "t = Text(justify='center')\n",
    "t.append('hello', 'green on white')\n",
    "t.append(' world')\n",
    "t\n"
   ]
  },
  {
   "cell_type": "code",
   "execution_count": 173,
   "id": "616eeae1",
   "metadata": {},
   "outputs": [
    {
     "data": {
      "text/html": [
       "<pre style=\"white-space:pre;overflow-x:auto;line-height:normal;font-family:Menlo,'DejaVu Sans Mono',consolas,'Courier New',monospace\">╭───────────────────────────────────────────────────────────────────────────────────────────╮\n",
       "│ <span style=\"background-color: #808000; text-decoration: underline\">                                          hello                                          </span> │\n",
       "╰───────────────────────────────────────────────────────────────────────────────────────────╯\n",
       "</pre>\n"
      ],
      "text/plain": [
       "╭───────────────────────────────────────────────────────────────────────────────────────────╮\n",
       "│ \u001b[4;43m                                          hello                                          \u001b[0m │\n",
       "╰───────────────────────────────────────────────────────────────────────────────────────────╯\n"
      ]
     },
     "execution_count": 173,
     "metadata": {},
     "output_type": "execute_result"
    }
   ],
   "source": [
    "Panel(Text('hello', justify='center', style='underline on yellow'))"
   ]
  },
  {
   "cell_type": "code",
   "execution_count": null,
   "id": "91fa8805",
   "metadata": {},
   "outputs": [],
   "source": []
  },
  {
   "cell_type": "markdown",
   "id": "5123302d",
   "metadata": {},
   "source": [
    "---\n",
    "### [Highlighting](https://rich.readthedocs.io/en/stable/highlighting.html)\n",
    "---"
   ]
  },
  {
   "cell_type": "code",
   "execution_count": null,
   "id": "792e8e43",
   "metadata": {},
   "outputs": [],
   "source": []
  },
  {
   "cell_type": "code",
   "execution_count": 174,
   "id": "a3dc5e50",
   "metadata": {},
   "outputs": [
    {
     "data": {
      "text/html": [
       "<pre style=\"white-space:pre;overflow-x:auto;line-height:normal;font-family:Menlo,'DejaVu Sans Mono',consolas,'Courier New',monospace\"><span style=\"color: #3a3a3a; text-decoration-color: #3a3a3a\">I</span><span style=\"color: #ffafd7; text-decoration-color: #ffafd7\"> </span><span style=\"color: #bcbcbc; text-decoration-color: #bcbcbc\">m</span><span style=\"color: #afaf00; text-decoration-color: #afaf00\">u</span><span style=\"color: #8700d7; text-decoration-color: #8700d7\">s</span><span style=\"color: #ff5fd7; text-decoration-color: #ff5fd7\">t</span><span style=\"color: #d7ff00; text-decoration-color: #d7ff00\"> </span><span style=\"color: #ff5faf; text-decoration-color: #ff5faf\">n</span><span style=\"color: #afffd7; text-decoration-color: #afffd7\">o</span><span style=\"color: #8700ff; text-decoration-color: #8700ff\">t</span><span style=\"color: #875f00; text-decoration-color: #875f00\"> </span><span style=\"color: #ff875f; text-decoration-color: #ff875f\">f</span><span style=\"color: #5fafd7; text-decoration-color: #5fafd7\">e</span><span style=\"color: #1c1c1c; text-decoration-color: #1c1c1c\">a</span><span style=\"color: #5f5faf; text-decoration-color: #5f5faf\">r</span><span style=\"color: #afff87; text-decoration-color: #afff87\">.</span><span style=\"color: #5fd75f; text-decoration-color: #5fd75f\"> </span><span style=\"color: #afffd7; text-decoration-color: #afffd7\">F</span><span style=\"color: #5f5f00; text-decoration-color: #5f5f00\">e</span><span style=\"color: #d700ff; text-decoration-color: #d700ff\">a</span><span style=\"color: #ffd7ff; text-decoration-color: #ffd7ff\">r</span><span style=\"color: #878700; text-decoration-color: #878700\"> </span><span style=\"color: #005fff; text-decoration-color: #005fff\">i</span><span style=\"color: #87d7af; text-decoration-color: #87d7af\">s</span><span style=\"color: #949494; text-decoration-color: #949494\"> </span><span style=\"color: #87875f; text-decoration-color: #87875f\">t</span><span style=\"color: #d70087; text-decoration-color: #d70087\">h</span><span style=\"color: #af5faf; text-decoration-color: #af5faf\">e</span><span style=\"color: #767676; text-decoration-color: #767676\"> </span><span style=\"color: #87d7ff; text-decoration-color: #87d7ff\">m</span><span style=\"color: #5f0087; text-decoration-color: #5f0087\">i</span><span style=\"color: #d78787; text-decoration-color: #d78787\">n</span><span style=\"color: #875f00; text-decoration-color: #875f00\">d</span><span style=\"color: #ff00d7; text-decoration-color: #ff00d7\">-</span><span style=\"color: #005fff; text-decoration-color: #005fff\">k</span><span style=\"color: #808080; text-decoration-color: #808080\">i</span><span style=\"color: #ffffaf; text-decoration-color: #ffffaf\">l</span><span style=\"color: #ff00d7; text-decoration-color: #ff00d7\">l</span><span style=\"color: #af875f; text-decoration-color: #af875f\">e</span><span style=\"color: #87ffaf; text-decoration-color: #87ffaf\">r</span><span style=\"color: #af5fff; text-decoration-color: #af5fff\">.</span>\n",
       "</pre>\n"
      ],
      "text/plain": [
       "\u001b[38;5;237mI\u001b[0m\u001b[38;5;218m \u001b[0m\u001b[38;5;250mm\u001b[0m\u001b[38;5;142mu\u001b[0m\u001b[38;5;92ms\u001b[0m\u001b[38;5;206mt\u001b[0m\u001b[38;5;190m \u001b[0m\u001b[38;5;205mn\u001b[0m\u001b[38;5;158mo\u001b[0m\u001b[38;5;93mt\u001b[0m\u001b[38;5;94m \u001b[0m\u001b[38;5;209mf\u001b[0m\u001b[38;5;74me\u001b[0m\u001b[38;5;234ma\u001b[0m\u001b[38;5;61mr\u001b[0m\u001b[38;5;156m.\u001b[0m\u001b[38;5;77m \u001b[0m\u001b[38;5;158mF\u001b[0m\u001b[38;5;58me\u001b[0m\u001b[38;5;165ma\u001b[0m\u001b[38;5;225mr\u001b[0m\u001b[38;5;100m \u001b[0m\u001b[38;5;27mi\u001b[0m\u001b[38;5;115ms\u001b[0m\u001b[38;5;246m \u001b[0m\u001b[38;5;101mt\u001b[0m\u001b[38;5;162mh\u001b[0m\u001b[38;5;133me\u001b[0m\u001b[38;5;243m \u001b[0m\u001b[38;5;117mm\u001b[0m\u001b[38;5;54mi\u001b[0m\u001b[38;5;174mn\u001b[0m\u001b[38;5;94md\u001b[0m\u001b[38;5;200m-\u001b[0m\u001b[38;5;27mk\u001b[0m\u001b[38;5;244mi\u001b[0m\u001b[38;5;229ml\u001b[0m\u001b[38;5;200ml\u001b[0m\u001b[38;5;137me\u001b[0m\u001b[38;5;121mr\u001b[0m\u001b[38;5;135m.\u001b[0m\n"
      ]
     },
     "metadata": {},
     "output_type": "display_data"
    }
   ],
   "source": [
    "from random import randint\n",
    "\n",
    "from rich import print\n",
    "from rich.highlighter import Highlighter\n",
    "\n",
    "\n",
    "class RainbowHighlighter(Highlighter):\n",
    "    def highlight(self, text):\n",
    "        for index in range(len(text)):\n",
    "            text.stylize(f\"color({randint(16, 255)})\", index, index + 1)\n",
    "\n",
    "\n",
    "rainbow = RainbowHighlighter()\n",
    "print(rainbow(\"I must not fear. Fear is the mind-killer.\"))"
   ]
  },
  {
   "cell_type": "code",
   "execution_count": null,
   "id": "c26df8b8",
   "metadata": {},
   "outputs": [],
   "source": []
  },
  {
   "cell_type": "markdown",
   "id": "d933b005",
   "metadata": {},
   "source": [
    "---\n",
    "### [Pretty](https://rich.readthedocs.io/en/stable/pretty.html)\n",
    "---"
   ]
  },
  {
   "cell_type": "code",
   "execution_count": null,
   "id": "9b536db1",
   "metadata": {},
   "outputs": [],
   "source": []
  },
  {
   "cell_type": "code",
   "execution_count": 175,
   "id": "93978945",
   "metadata": {},
   "outputs": [],
   "source": [
    "from rich.pretty import pprint\n"
   ]
  },
  {
   "cell_type": "code",
   "execution_count": 180,
   "id": "c60436dd",
   "metadata": {},
   "outputs": [
    {
     "data": {
      "text/html": [
       "<pre style=\"white-space:pre;overflow-x:auto;line-height:normal;font-family:Menlo,'DejaVu Sans Mono',consolas,'Courier New',monospace\"><span style=\"font-weight: bold\">[</span>\n",
       "<span style=\"color: #7fbf7f; text-decoration-color: #7fbf7f\">│   </span><span style=\"color: #008000; text-decoration-color: #008000\">'eggs'</span>,\n",
       "<span style=\"color: #7fbf7f; text-decoration-color: #7fbf7f\">│   </span><span style=\"color: #008000; text-decoration-color: #008000\">'ham'</span>\n",
       "<span style=\"font-weight: bold\">]</span>\n",
       "</pre>\n"
      ],
      "text/plain": [
       "\u001b[1m[\u001b[0m\n",
       "\u001b[2;32m│   \u001b[0m\u001b[32m'eggs'\u001b[0m,\n",
       "\u001b[2;32m│   \u001b[0m\u001b[32m'ham'\u001b[0m\n",
       "\u001b[1m]\u001b[0m\n"
      ]
     },
     "metadata": {},
     "output_type": "display_data"
    }
   ],
   "source": [
    "pprint([\"eggs\", \"ham\"], expand_all=True)"
   ]
  },
  {
   "cell_type": "code",
   "execution_count": 183,
   "id": "d896551c",
   "metadata": {},
   "outputs": [
    {
     "data": {
      "text/html": [
       "<pre style=\"white-space:pre;overflow-x:auto;line-height:normal;font-family:Menlo,'DejaVu Sans Mono',consolas,'Courier New',monospace\"><span style=\"font-weight: bold\">{</span>\n",
       "<span style=\"color: #7fbf7f; text-decoration-color: #7fbf7f\">│   </span><span style=\"color: #008000; text-decoration-color: #008000\">'__name__'</span>: <span style=\"color: #008000; text-decoration-color: #008000\">'__main__'</span>,\n",
       "<span style=\"color: #7fbf7f; text-decoration-color: #7fbf7f\">│   </span><span style=\"color: #008000; text-decoration-color: #008000\">'__doc__'</span>: <span style=\"color: #008000; text-decoration-color: #008000\">'Automatically created module for IPython interactive environment'</span>,\n",
       "<span style=\"color: #7fbf7f; text-decoration-color: #7fbf7f\">│   </span><span style=\"color: #008000; text-decoration-color: #008000\">'__package__'</span>: <span style=\"color: #800080; text-decoration-color: #800080; font-style: italic\">None</span>,\n",
       "<span style=\"color: #7fbf7f; text-decoration-color: #7fbf7f\">│   </span><span style=\"color: #008000; text-decoration-color: #008000\">'__loader__'</span>: <span style=\"color: #800080; text-decoration-color: #800080; font-style: italic\">None</span>,\n",
       "<span style=\"color: #7fbf7f; text-decoration-color: #7fbf7f\">│   </span><span style=\"color: #808000; text-decoration-color: #808000\">...</span> +<span style=\"color: #008080; text-decoration-color: #008080; font-weight: bold\">341</span>\n",
       "<span style=\"font-weight: bold\">}</span>\n",
       "</pre>\n"
      ],
      "text/plain": [
       "\u001b[1m{\u001b[0m\n",
       "\u001b[2;32m│   \u001b[0m\u001b[32m'__name__'\u001b[0m: \u001b[32m'__main__'\u001b[0m,\n",
       "\u001b[2;32m│   \u001b[0m\u001b[32m'__doc__'\u001b[0m: \u001b[32m'Automatically created module for IPython interactive environment'\u001b[0m,\n",
       "\u001b[2;32m│   \u001b[0m\u001b[32m'__package__'\u001b[0m: \u001b[3;35mNone\u001b[0m,\n",
       "\u001b[2;32m│   \u001b[0m\u001b[32m'__loader__'\u001b[0m: \u001b[3;35mNone\u001b[0m,\n",
       "\u001b[2;32m│   \u001b[0m\u001b[33m...\u001b[0m +\u001b[1;36m341\u001b[0m\n",
       "\u001b[1m}\u001b[0m\n"
      ]
     },
     "metadata": {},
     "output_type": "display_data"
    }
   ],
   "source": [
    "pprint(locals(), max_length=4)"
   ]
  },
  {
   "cell_type": "code",
   "execution_count": 184,
   "id": "6f2941c0",
   "metadata": {},
   "outputs": [],
   "source": [
    "from rich.pretty import Pretty\n",
    "t = Table('name', 'value')\n",
    "t.add_row('locals', Pretty(locals(), max_length=4))"
   ]
  },
  {
   "cell_type": "code",
   "execution_count": 185,
   "id": "68c11bf7",
   "metadata": {},
   "outputs": [
    {
     "data": {
      "text/html": [
       "<pre style=\"white-space:pre;overflow-x:auto;line-height:normal;font-family:Menlo,'DejaVu Sans Mono',consolas,'Courier New',monospace\">┏━━━━━━━━┳━━━━━━━━━━━━━━━━━━━━━━━━━━━━━━━━━━━━━━━━━━━━━━━━━━━━━━━━━━━━━━━━━━━━━━━━━━━━━━━━━━┓\n",
       "┃<span style=\"font-weight: bold\"> name   </span>┃<span style=\"font-weight: bold\"> value                                                                            </span>┃\n",
       "┡━━━━━━━━╇━━━━━━━━━━━━━━━━━━━━━━━━━━━━━━━━━━━━━━━━━━━━━━━━━━━━━━━━━━━━━━━━━━━━━━━━━━━━━━━━━━┩\n",
       "│ locals │ <span style=\"font-weight: bold\">{</span>                                                                                │\n",
       "│        │     <span style=\"color: #008000; text-decoration-color: #008000\">'__name__'</span>: <span style=\"color: #008000; text-decoration-color: #008000\">'__main__'</span>,                                                      │\n",
       "│        │     <span style=\"color: #008000; text-decoration-color: #008000\">'__doc__'</span>: <span style=\"color: #008000; text-decoration-color: #008000\">'Automatically created module for IPython interactive </span>            │\n",
       "│        │ <span style=\"color: #008000; text-decoration-color: #008000\">environment'</span>,                                                                    │\n",
       "│        │     <span style=\"color: #008000; text-decoration-color: #008000\">'__package__'</span>: <span style=\"color: #800080; text-decoration-color: #800080; font-style: italic\">None</span>,                                                         │\n",
       "│        │     <span style=\"color: #008000; text-decoration-color: #008000\">'__loader__'</span>: <span style=\"color: #800080; text-decoration-color: #800080; font-style: italic\">None</span>,                                                          │\n",
       "│        │     <span style=\"color: #808000; text-decoration-color: #808000\">...</span> +<span style=\"color: #008080; text-decoration-color: #008080; font-weight: bold\">344</span>                                                                     │\n",
       "│        │ <span style=\"font-weight: bold\">}</span>                                                                                │\n",
       "└────────┴──────────────────────────────────────────────────────────────────────────────────┘\n",
       "</pre>\n"
      ],
      "text/plain": [
       "┏━━━━━━━━┳━━━━━━━━━━━━━━━━━━━━━━━━━━━━━━━━━━━━━━━━━━━━━━━━━━━━━━━━━━━━━━━━━━━━━━━━━━━━━━━━━━┓\n",
       "┃\u001b[1m \u001b[0m\u001b[1mname  \u001b[0m\u001b[1m \u001b[0m┃\u001b[1m \u001b[0m\u001b[1mvalue                                                                           \u001b[0m\u001b[1m \u001b[0m┃\n",
       "┡━━━━━━━━╇━━━━━━━━━━━━━━━━━━━━━━━━━━━━━━━━━━━━━━━━━━━━━━━━━━━━━━━━━━━━━━━━━━━━━━━━━━━━━━━━━━┩\n",
       "│ locals │ \u001b[1m{\u001b[0m                                                                                │\n",
       "│        │     \u001b[32m'__name__'\u001b[0m: \u001b[32m'__main__'\u001b[0m,                                                      │\n",
       "│        │     \u001b[32m'__doc__'\u001b[0m: \u001b[32m'Automatically created module for IPython interactive \u001b[0m            │\n",
       "│        │ \u001b[32menvironment'\u001b[0m,                                                                    │\n",
       "│        │     \u001b[32m'__package__'\u001b[0m: \u001b[3;35mNone\u001b[0m,                                                         │\n",
       "│        │     \u001b[32m'__loader__'\u001b[0m: \u001b[3;35mNone\u001b[0m,                                                          │\n",
       "│        │     \u001b[33m...\u001b[0m +\u001b[1;36m344\u001b[0m                                                                     │\n",
       "│        │ \u001b[1m}\u001b[0m                                                                                │\n",
       "└────────┴──────────────────────────────────────────────────────────────────────────────────┘\n"
      ]
     },
     "execution_count": 185,
     "metadata": {},
     "output_type": "execute_result"
    }
   ],
   "source": [
    "t"
   ]
  },
  {
   "cell_type": "code",
   "execution_count": 186,
   "id": "96d0458e",
   "metadata": {},
   "outputs": [
    {
     "data": {
      "text/html": [
       "<pre style=\"white-space:pre;overflow-x:auto;line-height:normal;font-family:Menlo,'DejaVu Sans Mono',consolas,'Courier New',monospace\">╭───────────────────────────────────────────────────────────────────────────────────────────╮\n",
       "│ <span style=\"font-weight: bold\">{</span>                                                                                         │\n",
       "│     <span style=\"color: #008000; text-decoration-color: #008000\">'__name__'</span>: <span style=\"color: #008000; text-decoration-color: #008000\">'__main__'</span>,                                                               │\n",
       "│     <span style=\"color: #008000; text-decoration-color: #008000\">'__doc__'</span>: <span style=\"color: #008000; text-decoration-color: #008000\">'Automatically created module for IPython interactive environment'</span>,        │\n",
       "│     <span style=\"color: #008000; text-decoration-color: #008000\">'__package__'</span>: <span style=\"color: #800080; text-decoration-color: #800080; font-style: italic\">None</span>,                                                                  │\n",
       "│     <span style=\"color: #008000; text-decoration-color: #008000\">'__loader__'</span>: <span style=\"color: #800080; text-decoration-color: #800080; font-style: italic\">None</span>,                                                                   │\n",
       "│     <span style=\"color: #808000; text-decoration-color: #808000\">...</span> +<span style=\"color: #008080; text-decoration-color: #008080; font-weight: bold\">346</span>                                                                              │\n",
       "│ <span style=\"font-weight: bold\">}</span>                                                                                         │\n",
       "╰───────────────────────────────────────────────────────────────────────────────────────────╯\n",
       "</pre>\n"
      ],
      "text/plain": [
       "╭───────────────────────────────────────────────────────────────────────────────────────────╮\n",
       "│ \u001b[1m{\u001b[0m                                                                                         │\n",
       "│     \u001b[32m'__name__'\u001b[0m: \u001b[32m'__main__'\u001b[0m,                                                               │\n",
       "│     \u001b[32m'__doc__'\u001b[0m: \u001b[32m'Automatically created module for IPython interactive environment'\u001b[0m,        │\n",
       "│     \u001b[32m'__package__'\u001b[0m: \u001b[3;35mNone\u001b[0m,                                                                  │\n",
       "│     \u001b[32m'__loader__'\u001b[0m: \u001b[3;35mNone\u001b[0m,                                                                   │\n",
       "│     \u001b[33m...\u001b[0m +\u001b[1;36m346\u001b[0m                                                                              │\n",
       "│ \u001b[1m}\u001b[0m                                                                                         │\n",
       "╰───────────────────────────────────────────────────────────────────────────────────────────╯\n"
      ]
     },
     "execution_count": 186,
     "metadata": {},
     "output_type": "execute_result"
    }
   ],
   "source": [
    "Panel(Pretty(locals(), max_length=4))"
   ]
  },
  {
   "cell_type": "markdown",
   "id": "86401c14",
   "metadata": {},
   "source": [
    "---\n",
    "#### `__rich_repr__`\n",
    "---"
   ]
  },
  {
   "cell_type": "code",
   "execution_count": 225,
   "id": "d32bf3ce",
   "metadata": {},
   "outputs": [],
   "source": [
    "t = Table(show_header=False, box=box.HEAVY, show_lines=True)"
   ]
  },
  {
   "cell_type": "code",
   "execution_count": 226,
   "id": "576cb1e9",
   "metadata": {},
   "outputs": [],
   "source": [
    "txt = Text(' ', style='blue on blue')"
   ]
  },
  {
   "cell_type": "code",
   "execution_count": 227,
   "id": "0998e973",
   "metadata": {},
   "outputs": [],
   "source": [
    "t.add_row(*'abc')\n",
    "t.add_row('a', txt, 'c')\n",
    "t.add_row(*'abc')"
   ]
  },
  {
   "cell_type": "code",
   "execution_count": 228,
   "id": "81f7f3ad",
   "metadata": {},
   "outputs": [
    {
     "data": {
      "text/html": [
       "<pre style=\"white-space:pre;overflow-x:auto;line-height:normal;font-family:Menlo,'DejaVu Sans Mono',consolas,'Courier New',monospace\">┏━━━┳━━━┳━━━┓\n",
       "┃ a ┃ b ┃ c ┃\n",
       "┣━━━╋━━━╋━━━┫\n",
       "┃ a ┃ <span style=\"color: #000080; text-decoration-color: #000080; background-color: #000080\"> </span> ┃ c ┃\n",
       "┣━━━╋━━━╋━━━┫\n",
       "┃ a ┃ b ┃ c ┃\n",
       "┗━━━┻━━━┻━━━┛\n",
       "</pre>\n"
      ],
      "text/plain": [
       "┏━━━┳━━━┳━━━┓\n",
       "┃ a ┃ b ┃ c ┃\n",
       "┣━━━╋━━━╋━━━┫\n",
       "┃ a ┃ \u001b[34;44m \u001b[0m ┃ c ┃\n",
       "┣━━━╋━━━╋━━━┫\n",
       "┃ a ┃ b ┃ c ┃\n",
       "┗━━━┻━━━┻━━━┛\n"
      ]
     },
     "execution_count": 228,
     "metadata": {},
     "output_type": "execute_result"
    }
   ],
   "source": [
    "t"
   ]
  },
  {
   "cell_type": "code",
   "execution_count": 262,
   "id": "e5947a98",
   "metadata": {},
   "outputs": [
    {
     "data": {
      "text/html": [
       "<pre style=\"white-space:pre;overflow-x:auto;line-height:normal;font-family:Menlo,'DejaVu Sans Mono',consolas,'Courier New',monospace\"><span style=\"color: #800080; text-decoration-color: #800080; font-weight: bold\">Car</span><span style=\"font-weight: bold\">(</span><span style=\"color: #808000; text-decoration-color: #808000\">make</span>=<span style=\"color: #008000; text-decoration-color: #008000\">'Ford'</span>, <span style=\"color: #808000; text-decoration-color: #808000\">model</span>=<span style=\"color: #008000; text-decoration-color: #008000\">'Fiesta'</span>, <span style=\"color: #808000; text-decoration-color: #808000\">current</span>=<span style=\"color: #ff0000; text-decoration-color: #ff0000; font-style: italic\">False</span><span style=\"font-weight: bold\">)</span>\n",
       "<span style=\"color: #800080; text-decoration-color: #800080; font-weight: bold\">Car</span><span style=\"font-weight: bold\">(</span><span style=\"color: #808000; text-decoration-color: #808000\">make</span>=<span style=\"color: #008000; text-decoration-color: #008000\">'Tesla'</span>, <span style=\"color: #808000; text-decoration-color: #808000\">model</span>=<span style=\"color: #008000; text-decoration-color: #008000\">'Model Y'</span>, <span style=\"color: #808000; text-decoration-color: #808000\">engine</span>=<span style=\"color: #008000; text-decoration-color: #008000\">'electric'</span><span style=\"font-weight: bold\">)</span>\n",
       "</pre>\n"
      ],
      "text/plain": [
       "\u001b[1;35mCar\u001b[0m\u001b[1m(\u001b[0m\u001b[33mmake\u001b[0m=\u001b[32m'Ford'\u001b[0m, \u001b[33mmodel\u001b[0m=\u001b[32m'Fiesta'\u001b[0m, \u001b[33mcurrent\u001b[0m=\u001b[3;91mFalse\u001b[0m\u001b[1m)\u001b[0m\n",
       "\u001b[1;35mCar\u001b[0m\u001b[1m(\u001b[0m\u001b[33mmake\u001b[0m=\u001b[32m'Tesla'\u001b[0m, \u001b[33mmodel\u001b[0m=\u001b[32m'Model Y'\u001b[0m, \u001b[33mengine\u001b[0m=\u001b[32m'electric'\u001b[0m\u001b[1m)\u001b[0m\n"
      ]
     },
     "metadata": {},
     "output_type": "display_data"
    }
   ],
   "source": [
    "from dataclasses import dataclass\n",
    "from typing import Literal\n",
    "@dataclass\n",
    "class Car:\n",
    "    make: str\n",
    "    model: str\n",
    "    engine: Literal['ice', 'electric'] = 'ice'\n",
    "    current: bool = True\n",
    "        \n",
    "    def __rich_repr__(self):\n",
    "        yield 'make', self.make\n",
    "        yield 'model', self.model\n",
    "        yield 'engine', self.engine, 'ice'\n",
    "        yield 'current', self.current, True\n",
    "\n",
    "fiesta = Car('Ford', 'Fiesta', 'ice', False)\n",
    "my = Car('Tesla', 'Model Y', 'electric')\n",
    "print(fiesta, my)"
   ]
  },
  {
   "cell_type": "code",
   "execution_count": 263,
   "id": "3d569225",
   "metadata": {},
   "outputs": [],
   "source": [
    "# with rich repr auto"
   ]
  },
  {
   "cell_type": "code",
   "execution_count": 264,
   "id": "90bb7616",
   "metadata": {},
   "outputs": [],
   "source": [
    "import rich.repr"
   ]
  },
  {
   "cell_type": "code",
   "execution_count": 274,
   "id": "d5db3b15",
   "metadata": {},
   "outputs": [],
   "source": [
    "@rich.repr.auto\n",
    "@dataclass\n",
    "class Car2:\n",
    "    make: str\n",
    "    model: str\n",
    "    engine: Literal['ice', 'electric'] = 'electric'\n",
    "    current: bool = False"
   ]
  },
  {
   "cell_type": "code",
   "execution_count": 275,
   "id": "88263d9b",
   "metadata": {},
   "outputs": [
    {
     "data": {
      "text/html": [
       "<pre style=\"white-space:pre;overflow-x:auto;line-height:normal;font-family:Menlo,'DejaVu Sans Mono',consolas,'Courier New',monospace\"><span style=\"color: #800080; text-decoration-color: #800080; font-weight: bold\">Car2</span><span style=\"font-weight: bold\">(</span><span style=\"color: #008000; text-decoration-color: #008000\">'Ford'</span>, <span style=\"color: #008000; text-decoration-color: #008000\">'Fiesta'</span>, <span style=\"color: #808000; text-decoration-color: #808000\">engine</span>=<span style=\"color: #008000; text-decoration-color: #008000\">'ice'</span><span style=\"font-weight: bold\">)</span>\n",
       "<span style=\"color: #800080; text-decoration-color: #800080; font-weight: bold\">Car2</span><span style=\"font-weight: bold\">(</span><span style=\"color: #008000; text-decoration-color: #008000\">'Tesla'</span>, <span style=\"color: #008000; text-decoration-color: #008000\">'Model Y'</span>, <span style=\"color: #808000; text-decoration-color: #808000\">current</span>=<span style=\"color: #00ff00; text-decoration-color: #00ff00; font-style: italic\">True</span><span style=\"font-weight: bold\">)</span>\n",
       "</pre>\n"
      ],
      "text/plain": [
       "\u001b[1;35mCar2\u001b[0m\u001b[1m(\u001b[0m\u001b[32m'Ford'\u001b[0m, \u001b[32m'Fiesta'\u001b[0m, \u001b[33mengine\u001b[0m=\u001b[32m'ice'\u001b[0m\u001b[1m)\u001b[0m\n",
       "\u001b[1;35mCar2\u001b[0m\u001b[1m(\u001b[0m\u001b[32m'Tesla'\u001b[0m, \u001b[32m'Model Y'\u001b[0m, \u001b[33mcurrent\u001b[0m=\u001b[3;92mTrue\u001b[0m\u001b[1m)\u001b[0m\n"
      ]
     },
     "metadata": {},
     "output_type": "display_data"
    }
   ],
   "source": [
    "fiesta = Car2('Ford', 'Fiesta', 'ice', False)\n",
    "my = Car2('Tesla', 'Model Y', 'electric', True)\n",
    "print(fiesta, my)"
   ]
  },
  {
   "cell_type": "code",
   "execution_count": null,
   "id": "94c1ccda",
   "metadata": {},
   "outputs": [],
   "source": []
  },
  {
   "cell_type": "markdown",
   "id": "6d807a3d",
   "metadata": {},
   "source": [
    "---\n",
    "### [Logging](https://rich.readthedocs.io/en/stable/logging.html)\n",
    "---"
   ]
  },
  {
   "cell_type": "code",
   "execution_count": 280,
   "id": "0fba5318",
   "metadata": {},
   "outputs": [],
   "source": [
    "# don't care much about logging but there's a link ^"
   ]
  },
  {
   "cell_type": "markdown",
   "id": "608dbaea",
   "metadata": {},
   "source": [
    "---\n",
    "### [Traceback](https://rich.readthedocs.io/en/stable/traceback.html)\n",
    "---"
   ]
  },
  {
   "cell_type": "markdown",
   "id": "06a7631c",
   "metadata": {},
   "source": [
    "to have rich tracebacks for an entire venv, do the following:\n",
    "\n",
    "add \n",
    "```python\n",
    "from rich.traceback import install\n",
    "install(show_locals=True)\n",
    "```\n",
    "\n",
    "to\n",
    "\n",
    "`./.venv/lib/python3.9/site-packages/sitecustomize.py`"
   ]
  },
  {
   "cell_type": "code",
   "execution_count": 328,
   "id": "9dd54596",
   "metadata": {},
   "outputs": [
    {
     "data": {
      "text/html": [
       "<pre style=\"white-space:pre;overflow-x:auto;line-height:normal;font-family:Menlo,'DejaVu Sans Mono',consolas,'Courier New',monospace\"><span style=\"font-weight: bold\">&lt;</span><span style=\"color: #ff00ff; text-decoration-color: #ff00ff; font-weight: bold\">bound</span><span style=\"color: #000000; text-decoration-color: #000000\"> method InteractiveShell.excepthook of &lt;ipykernel.zmqshell.ZMQInteractiveShell object at </span><span style=\"color: #008080; text-decoration-color: #008080; font-weight: bold\">0x7fed28206190</span><span style=\"font-weight: bold\">&gt;</span>&gt;\n",
       "</pre>\n"
      ],
      "text/plain": [
       "\u001b[1m<\u001b[0m\u001b[1;95mbound\u001b[0m\u001b[39m method InteractiveShell.excepthook of <ipykernel.zmqshell.ZMQInteractiveShell object at \u001b[0m\u001b[1;36m0x7fed28206190\u001b[0m\u001b[1m>\u001b[0m>\n"
      ]
     },
     "metadata": {},
     "output_type": "display_data"
    }
   ],
   "source": [
    "from rich.traceback import install\n",
    "install(show_locals=False)"
   ]
  },
  {
   "cell_type": "code",
   "execution_count": 329,
   "id": "4bade44d",
   "metadata": {},
   "outputs": [
    {
     "data": {
      "text/html": [
       "<pre style=\"white-space:pre;overflow-x:auto;line-height:normal;font-family:Menlo,'DejaVu Sans Mono',consolas,'Courier New',monospace\"><span style=\"color: #800000; text-decoration-color: #800000\">╭──────────────────────────── </span><span style=\"color: #800000; text-decoration-color: #800000; font-weight: bold\">Traceback </span><span style=\"color: #bf7f7f; text-decoration-color: #bf7f7f; font-weight: bold\">(most recent call last)</span><span style=\"color: #800000; text-decoration-color: #800000\"> ────────────────────────────╮</span>\n",
       "<span style=\"color: #800000; text-decoration-color: #800000\">│</span>                                                                                           <span style=\"color: #800000; text-decoration-color: #800000\">│</span>\n",
       "<span style=\"color: #800000; text-decoration-color: #800000\">│</span> <span style=\"color: #bfbf7f; text-decoration-color: #bfbf7f\">/var/folders/wf/cc_l12j97vl5mhxy8wxn69p40000gn/T/ipykernel_45575/</span><span style=\"color: #808000; text-decoration-color: #808000; font-weight: bold\">4134724724.py</span>:<span style=\"color: #0000ff; text-decoration-color: #0000ff\">1</span> in       <span style=\"color: #800000; text-decoration-color: #800000\">│</span>\n",
       "<span style=\"color: #800000; text-decoration-color: #800000\">│</span> <span style=\"color: #00ff00; text-decoration-color: #00ff00\">&lt;module&gt;</span>                                                                                  <span style=\"color: #800000; text-decoration-color: #800000\">│</span>\n",
       "<span style=\"color: #800000; text-decoration-color: #800000\">│</span>                                                                                           <span style=\"color: #800000; text-decoration-color: #800000\">│</span>\n",
       "<span style=\"color: #800000; text-decoration-color: #800000\">│</span> <span style=\"color: #800000; text-decoration-color: #800000; font-style: italic\">[Errno 2] No such file or directory: </span>                                                     <span style=\"color: #800000; text-decoration-color: #800000\">│</span>\n",
       "<span style=\"color: #800000; text-decoration-color: #800000\">│</span> <span style=\"color: #800000; text-decoration-color: #800000; font-style: italic\">'/var/folders/wf/cc_l12j97vl5mhxy8wxn69p40000gn/T/ipykernel_45575/4134724724.py'</span>          <span style=\"color: #800000; text-decoration-color: #800000\">│</span>\n",
       "<span style=\"color: #800000; text-decoration-color: #800000\">╰───────────────────────────────────────────────────────────────────────────────────────────╯</span>\n",
       "<span style=\"color: #ff0000; text-decoration-color: #ff0000; font-weight: bold\">Exception: </span>hello\n",
       "</pre>\n"
      ],
      "text/plain": [
       "\u001b[31m╭─\u001b[0m\u001b[31m─────────────────────────── \u001b[0m\u001b[1;31mTraceback \u001b[0m\u001b[1;2;31m(most recent call last)\u001b[0m\u001b[31m ───────────────────────────\u001b[0m\u001b[31m─╮\u001b[0m\n",
       "\u001b[31m│\u001b[0m                                                                                           \u001b[31m│\u001b[0m\n",
       "\u001b[31m│\u001b[0m \u001b[2;33m/var/folders/wf/cc_l12j97vl5mhxy8wxn69p40000gn/T/ipykernel_45575/\u001b[0m\u001b[1;33m4134724724.py\u001b[0m:\u001b[94m1\u001b[0m in       \u001b[31m│\u001b[0m\n",
       "\u001b[31m│\u001b[0m \u001b[92m<module>\u001b[0m                                                                                  \u001b[31m│\u001b[0m\n",
       "\u001b[31m│\u001b[0m                                                                                           \u001b[31m│\u001b[0m\n",
       "\u001b[31m│\u001b[0m \u001b[3;31m[Errno 2] No such file or directory: \u001b[0m                                                     \u001b[31m│\u001b[0m\n",
       "\u001b[31m│\u001b[0m \u001b[3;31m'/var/folders/wf/cc_l12j97vl5mhxy8wxn69p40000gn/T/ipykernel_45575/4134724724.py'\u001b[0m          \u001b[31m│\u001b[0m\n",
       "\u001b[31m╰───────────────────────────────────────────────────────────────────────────────────────────╯\u001b[0m\n",
       "\u001b[1;91mException: \u001b[0mhello\n"
      ]
     },
     "metadata": {},
     "output_type": "display_data"
    }
   ],
   "source": [
    "raise Exception('hello')"
   ]
  },
  {
   "cell_type": "code",
   "execution_count": null,
   "id": "138a00f8",
   "metadata": {},
   "outputs": [],
   "source": []
  },
  {
   "cell_type": "code",
   "execution_count": null,
   "id": "a94d90a7",
   "metadata": {},
   "outputs": [],
   "source": []
  },
  {
   "cell_type": "markdown",
   "id": "0fb9bd6b",
   "metadata": {},
   "source": [
    "---\n",
    "### [Prompt](https://rich.readthedocs.io/en/stable/prompt.html)\n",
    "---"
   ]
  },
  {
   "cell_type": "code",
   "execution_count": 284,
   "id": "aed652c7",
   "metadata": {},
   "outputs": [],
   "source": [
    "from rich.prompt import Prompt, IntPrompt, FloatPrompt, Confirm"
   ]
  },
  {
   "cell_type": "code",
   "execution_count": 282,
   "id": "aaafa2d6",
   "metadata": {},
   "outputs": [
    {
     "data": {
      "text/html": [
       "<pre style=\"white-space:pre;overflow-x:auto;line-height:normal;font-family:Menlo,'DejaVu Sans Mono',consolas,'Courier New',monospace\"></pre>\n"
      ],
      "text/plain": []
     },
     "metadata": {},
     "output_type": "display_data"
    },
    {
     "name": "stdout",
     "output_type": "stream",
     "text": [
      "name [jeb/tuse]: oooh\n"
     ]
    },
    {
     "data": {
      "text/html": [
       "<pre style=\"white-space:pre;overflow-x:auto;line-height:normal;font-family:Menlo,'DejaVu Sans Mono',consolas,'Courier New',monospace\"><span style=\"color: #800000; text-decoration-color: #800000\">Please select one of the available options</span>\n",
       "</pre>\n"
      ],
      "text/plain": [
       "\u001b[31mPlease select one of the available options\u001b[0m\n"
      ]
     },
     "metadata": {},
     "output_type": "display_data"
    },
    {
     "data": {
      "text/html": [
       "<pre style=\"white-space:pre;overflow-x:auto;line-height:normal;font-family:Menlo,'DejaVu Sans Mono',consolas,'Courier New',monospace\"></pre>\n"
      ],
      "text/plain": []
     },
     "metadata": {},
     "output_type": "display_data"
    },
    {
     "name": "stdout",
     "output_type": "stream",
     "text": [
      "name [jeb/tuse]: jeb\n"
     ]
    }
   ],
   "source": [
    "name = Prompt.ask('name', choices='jeb tuse'.split())"
   ]
  },
  {
   "cell_type": "code",
   "execution_count": 291,
   "id": "6f4c76c3",
   "metadata": {},
   "outputs": [
    {
     "data": {
      "text/html": [
       "<pre style=\"white-space:pre;overflow-x:auto;line-height:normal;font-family:Menlo,'DejaVu Sans Mono',consolas,'Courier New',monospace\"><span style=\"color: #00ff00; text-decoration-color: #00ff00\">──────────────────────────────────────── </span>confusing!<span style=\"color: #00ff00; text-decoration-color: #00ff00\"> ─────────────────────────────────────────</span>\n",
       "</pre>\n"
      ],
      "text/plain": [
       "\u001b[92m──────────────────────────────────────── \u001b[0mconfusing!\u001b[92m ─────────────────────────────────────────\u001b[0m\n"
      ]
     },
     "metadata": {},
     "output_type": "display_data"
    },
    {
     "data": {
      "text/html": [
       "<pre style=\"white-space:pre;overflow-x:auto;line-height:normal;font-family:Menlo,'DejaVu Sans Mono',consolas,'Courier New',monospace\"></pre>\n"
      ],
      "text/plain": []
     },
     "metadata": {},
     "output_type": "display_data"
    },
    {
     "name": "stdout",
     "output_type": "stream",
     "text": [
      "do the thing?? [y/n] (y): \n"
     ]
    },
    {
     "data": {
      "text/html": [
       "<pre style=\"white-space:pre;overflow-x:auto;line-height:normal;font-family:Menlo,'DejaVu Sans Mono',consolas,'Courier New',monospace\">n\n",
       "</pre>\n"
      ],
      "text/plain": [
       "n\n"
      ]
     },
     "metadata": {},
     "output_type": "display_data"
    }
   ],
   "source": [
    "c.rule('confusing!')\n",
    "print(Confirm.ask('[red on yellow]do the thing??', default='n'))"
   ]
  },
  {
   "cell_type": "code",
   "execution_count": null,
   "id": "4c98f570",
   "metadata": {},
   "outputs": [],
   "source": []
  },
  {
   "cell_type": "markdown",
   "id": "dba99316",
   "metadata": {},
   "source": [
    "---\n",
    "### [Columns](https://rich.readthedocs.io/en/stable/columns.html)\n",
    "---"
   ]
  },
  {
   "cell_type": "code",
   "execution_count": 306,
   "id": "f0056738",
   "metadata": {},
   "outputs": [],
   "source": [
    "from rich.columns import Columns"
   ]
  },
  {
   "cell_type": "code",
   "execution_count": 314,
   "id": "365312ce",
   "metadata": {
    "scrolled": false
   },
   "outputs": [
    {
     "data": {
      "text/html": [
       "<pre style=\"white-space:pre;overflow-x:auto;line-height:normal;font-family:Menlo,'DejaVu Sans Mono',consolas,'Courier New',monospace\"><span style=\"color: #00ff00; text-decoration-color: #00ff00\">──────────────────────────────────────────── </span><span style=\"font-weight: bold\">{}</span><span style=\"color: #00ff00; text-decoration-color: #00ff00\"> ─────────────────────────────────────────────</span>\n",
       "</pre>\n"
      ],
      "text/plain": [
       "\u001b[92m──────────────────────────────────────────── \u001b[0m\u001b[1m{\u001b[0m\u001b[1m}\u001b[0m\u001b[92m ─────────────────────────────────────────────\u001b[0m\n"
      ]
     },
     "metadata": {},
     "output_type": "display_data"
    },
    {
     "data": {
      "text/html": [
       "<pre style=\"white-space:pre;overflow-x:auto;line-height:normal;font-family:Menlo,'DejaVu Sans Mono',consolas,'Courier New',monospace\">msu-target-CZIjOzOv com.apple.launchd.7EOWZ5Pg5H powerlog    qtyp_xwords.html t      \n",
       "theme               xwords.html                  textuse.txt <span style=\"color: #008080; text-decoration-color: #008080; font-weight: bold\">0000000000735446</span> .pydata\n",
       "silas_xwords.html   tmplx4kbiehcacert.pem                                            \n",
       "</pre>\n"
      ],
      "text/plain": [
       "msu-target-CZIjOzOv com.apple.launchd.7EOWZ5Pg5H powerlog    qtyp_xwords.html t      \n",
       "theme               xwords.html                  textuse.txt \u001b[1;36m0000000000735446\u001b[0m .pydata\n",
       "silas_xwords.html   tmplx4kbiehcacert.pem                                            \n"
      ]
     },
     "metadata": {},
     "output_type": "display_data"
    },
    {
     "data": {
      "text/html": [
       "<pre style=\"white-space:pre;overflow-x:auto;line-height:normal;font-family:Menlo,'DejaVu Sans Mono',consolas,'Courier New',monospace\"><span style=\"color: #00ff00; text-decoration-color: #00ff00\">────────────────────────────────────── </span><span style=\"font-weight: bold\">{</span><span style=\"color: #008000; text-decoration-color: #008000\">'equal'</span>: <span style=\"color: #00ff00; text-decoration-color: #00ff00; font-style: italic\">True</span><span style=\"font-weight: bold\">}</span><span style=\"color: #00ff00; text-decoration-color: #00ff00\"> ──────────────────────────────────────</span>\n",
       "</pre>\n"
      ],
      "text/plain": [
       "\u001b[92m────────────────────────────────────── \u001b[0m\u001b[1m{\u001b[0m\u001b[32m'equal'\u001b[0m: \u001b[3;92mTrue\u001b[0m\u001b[1m}\u001b[0m\u001b[92m ──────────────────────────────────────\u001b[0m\n"
      ]
     },
     "metadata": {},
     "output_type": "display_data"
    },
    {
     "data": {
      "text/html": [
       "<pre style=\"white-space:pre;overflow-x:auto;line-height:normal;font-family:Menlo,'DejaVu Sans Mono',consolas,'Courier New',monospace\">msu-target-CZIjOzOv com.apple.launchd.7EOWZ5Pg5H powerlog             \n",
       "qtyp_xwords.html    t                            theme                \n",
       "xwords.html         textuse.txt                  <span style=\"color: #008080; text-decoration-color: #008080; font-weight: bold\">0000000000735446</span>     \n",
       ".pydata             silas_xwords.html            tmplx4kbiehcacert.pem\n",
       "</pre>\n"
      ],
      "text/plain": [
       "msu-target-CZIjOzOv com.apple.launchd.7EOWZ5Pg5H powerlog             \n",
       "qtyp_xwords.html    t                            theme                \n",
       "xwords.html         textuse.txt                  \u001b[1;36m0000000000735446\u001b[0m     \n",
       ".pydata             silas_xwords.html            tmplx4kbiehcacert.pem\n"
      ]
     },
     "metadata": {},
     "output_type": "display_data"
    },
    {
     "data": {
      "text/html": [
       "<pre style=\"white-space:pre;overflow-x:auto;line-height:normal;font-family:Menlo,'DejaVu Sans Mono',consolas,'Courier New',monospace\"><span style=\"color: #00ff00; text-decoration-color: #00ff00\">───────────────────────────────────── </span><span style=\"font-weight: bold\">{</span><span style=\"color: #008000; text-decoration-color: #008000\">'expand'</span>: <span style=\"color: #00ff00; text-decoration-color: #00ff00; font-style: italic\">True</span><span style=\"font-weight: bold\">}</span><span style=\"color: #00ff00; text-decoration-color: #00ff00\"> ──────────────────────────────────────</span>\n",
       "</pre>\n"
      ],
      "text/plain": [
       "\u001b[92m───────────────────────────────────── \u001b[0m\u001b[1m{\u001b[0m\u001b[32m'expand'\u001b[0m: \u001b[3;92mTrue\u001b[0m\u001b[1m}\u001b[0m\u001b[92m ──────────────────────────────────────\u001b[0m\n"
      ]
     },
     "metadata": {},
     "output_type": "display_data"
    },
    {
     "data": {
      "text/html": [
       "<pre style=\"white-space:pre;overflow-x:auto;line-height:normal;font-family:Menlo,'DejaVu Sans Mono',consolas,'Courier New',monospace\">msu-target-CZIjOzOv   com.apple.launchd.7EOWZ5Pg5H    powerlog     qtyp_xwords.html   t      \n",
       "theme                 xwords.html                     textuse.txt  <span style=\"color: #008080; text-decoration-color: #008080; font-weight: bold\">0000000000735446</span>   .pydata\n",
       "silas_xwords.html     tmplx4kbiehcacert.pem                                                  \n",
       "</pre>\n"
      ],
      "text/plain": [
       "msu-target-CZIjOzOv   com.apple.launchd.7EOWZ5Pg5H    powerlog     qtyp_xwords.html   t      \n",
       "theme                 xwords.html                     textuse.txt  \u001b[1;36m0000000000735446\u001b[0m   .pydata\n",
       "silas_xwords.html     tmplx4kbiehcacert.pem                                                  \n"
      ]
     },
     "metadata": {},
     "output_type": "display_data"
    },
    {
     "data": {
      "text/html": [
       "<pre style=\"white-space:pre;overflow-x:auto;line-height:normal;font-family:Menlo,'DejaVu Sans Mono',consolas,'Courier New',monospace\"><span style=\"color: #00ff00; text-decoration-color: #00ff00\">────────────────────────────── </span><span style=\"font-weight: bold\">{</span><span style=\"color: #008000; text-decoration-color: #008000\">'equal'</span>: <span style=\"color: #00ff00; text-decoration-color: #00ff00; font-style: italic\">True</span>, <span style=\"color: #008000; text-decoration-color: #008000\">'expand'</span>: <span style=\"color: #00ff00; text-decoration-color: #00ff00; font-style: italic\">True</span><span style=\"font-weight: bold\">}</span><span style=\"color: #00ff00; text-decoration-color: #00ff00\"> ──────────────────────────────</span>\n",
       "</pre>\n"
      ],
      "text/plain": [
       "\u001b[92m────────────────────────────── \u001b[0m\u001b[1m{\u001b[0m\u001b[32m'equal'\u001b[0m: \u001b[3;92mTrue\u001b[0m, \u001b[32m'expand'\u001b[0m: \u001b[3;92mTrue\u001b[0m\u001b[1m}\u001b[0m\u001b[92m ──────────────────────────────\u001b[0m\n"
      ]
     },
     "metadata": {},
     "output_type": "display_data"
    },
    {
     "data": {
      "text/html": [
       "<pre style=\"white-space:pre;overflow-x:auto;line-height:normal;font-family:Menlo,'DejaVu Sans Mono',consolas,'Courier New',monospace\">msu-target-CZIjOzOv        com.apple.launchd.7EOWZ5Pg5H           powerlog                   \n",
       "qtyp_xwords.html           t                                      theme                      \n",
       "xwords.html                textuse.txt                            <span style=\"color: #008080; text-decoration-color: #008080; font-weight: bold\">0000000000735446</span>           \n",
       ".pydata                    silas_xwords.html                      tmplx4kbiehcacert.pem      \n",
       "</pre>\n"
      ],
      "text/plain": [
       "msu-target-CZIjOzOv        com.apple.launchd.7EOWZ5Pg5H           powerlog                   \n",
       "qtyp_xwords.html           t                                      theme                      \n",
       "xwords.html                textuse.txt                            \u001b[1;36m0000000000735446\u001b[0m           \n",
       ".pydata                    silas_xwords.html                      tmplx4kbiehcacert.pem      \n"
      ]
     },
     "metadata": {},
     "output_type": "display_data"
    },
    {
     "data": {
      "text/html": [
       "<pre style=\"white-space:pre;overflow-x:auto;line-height:normal;font-family:Menlo,'DejaVu Sans Mono',consolas,'Courier New',monospace\"><span style=\"color: #00ff00; text-decoration-color: #00ff00\">────────────────────────────────── </span><span style=\"font-weight: bold\">{</span><span style=\"color: #008000; text-decoration-color: #008000\">'column_first'</span>: <span style=\"color: #00ff00; text-decoration-color: #00ff00; font-style: italic\">True</span><span style=\"font-weight: bold\">}</span><span style=\"color: #00ff00; text-decoration-color: #00ff00\"> ───────────────────────────────────</span>\n",
       "</pre>\n"
      ],
      "text/plain": [
       "\u001b[92m────────────────────────────────── \u001b[0m\u001b[1m{\u001b[0m\u001b[32m'column_first'\u001b[0m: \u001b[3;92mTrue\u001b[0m\u001b[1m}\u001b[0m\u001b[92m ───────────────────────────────────\u001b[0m\n"
      ]
     },
     "metadata": {},
     "output_type": "display_data"
    },
    {
     "data": {
      "text/html": [
       "<pre style=\"white-space:pre;overflow-x:auto;line-height:normal;font-family:Menlo,'DejaVu Sans Mono',consolas,'Courier New',monospace\">msu-target-CZIjOzOv          qtyp_xwords.html xwords.html      .pydata              \n",
       "com.apple.launchd.7EOWZ5Pg5H t                textuse.txt      silas_xwords.html    \n",
       "powerlog                     theme            <span style=\"color: #008080; text-decoration-color: #008080; font-weight: bold\">0000000000735446</span> tmplx4kbiehcacert.pem\n",
       "</pre>\n"
      ],
      "text/plain": [
       "msu-target-CZIjOzOv          qtyp_xwords.html xwords.html      .pydata              \n",
       "com.apple.launchd.7EOWZ5Pg5H t                textuse.txt      silas_xwords.html    \n",
       "powerlog                     theme            \u001b[1;36m0000000000735446\u001b[0m tmplx4kbiehcacert.pem\n"
      ]
     },
     "metadata": {},
     "output_type": "display_data"
    },
    {
     "data": {
      "text/html": [
       "<pre style=\"white-space:pre;overflow-x:auto;line-height:normal;font-family:Menlo,'DejaVu Sans Mono',consolas,'Courier New',monospace\"><span style=\"color: #00ff00; text-decoration-color: #00ff00\">─────────────────────────────────── </span><span style=\"font-weight: bold\">{</span><span style=\"color: #008000; text-decoration-color: #008000\">'title'</span>: <span style=\"color: #008000; text-decoration-color: #008000\">'i am jeb'</span><span style=\"font-weight: bold\">}</span><span style=\"color: #00ff00; text-decoration-color: #00ff00\"> ───────────────────────────────────</span>\n",
       "</pre>\n"
      ],
      "text/plain": [
       "\u001b[92m─────────────────────────────────── \u001b[0m\u001b[1m{\u001b[0m\u001b[32m'title'\u001b[0m: \u001b[32m'i am jeb'\u001b[0m\u001b[1m}\u001b[0m\u001b[92m ───────────────────────────────────\u001b[0m\n"
      ]
     },
     "metadata": {},
     "output_type": "display_data"
    },
    {
     "data": {
      "text/html": [
       "<pre style=\"white-space:pre;overflow-x:auto;line-height:normal;font-family:Menlo,'DejaVu Sans Mono',consolas,'Courier New',monospace\"><span style=\"font-style: italic\">                                      i am jeb                                       </span>\n",
       "msu-target-CZIjOzOv com.apple.launchd.7EOWZ5Pg5H powerlog    qtyp_xwords.html t      \n",
       "theme               xwords.html                  textuse.txt <span style=\"color: #008080; text-decoration-color: #008080; font-weight: bold\">0000000000735446</span> .pydata\n",
       "silas_xwords.html   tmplx4kbiehcacert.pem                                            \n",
       "</pre>\n"
      ],
      "text/plain": [
       "\u001b[3m                                      i am jeb                                       \u001b[0m\n",
       "msu-target-CZIjOzOv com.apple.launchd.7EOWZ5Pg5H powerlog    qtyp_xwords.html t      \n",
       "theme               xwords.html                  textuse.txt \u001b[1;36m0000000000735446\u001b[0m .pydata\n",
       "silas_xwords.html   tmplx4kbiehcacert.pem                                            \n"
      ]
     },
     "metadata": {},
     "output_type": "display_data"
    },
    {
     "data": {
      "text/html": [
       "<pre style=\"white-space:pre;overflow-x:auto;line-height:normal;font-family:Menlo,'DejaVu Sans Mono',consolas,'Courier New',monospace\"><span style=\"color: #00ff00; text-decoration-color: #00ff00\">──────────────────────────────────── </span><span style=\"font-weight: bold\">{</span><span style=\"color: #008000; text-decoration-color: #008000\">'align'</span>: <span style=\"color: #008000; text-decoration-color: #008000\">'center'</span><span style=\"font-weight: bold\">}</span><span style=\"color: #00ff00; text-decoration-color: #00ff00\"> ────────────────────────────────────</span>\n",
       "</pre>\n"
      ],
      "text/plain": [
       "\u001b[92m──────────────────────────────────── \u001b[0m\u001b[1m{\u001b[0m\u001b[32m'align'\u001b[0m: \u001b[32m'center'\u001b[0m\u001b[1m}\u001b[0m\u001b[92m ────────────────────────────────────\u001b[0m\n"
      ]
     },
     "metadata": {},
     "output_type": "display_data"
    },
    {
     "data": {
      "text/html": [
       "<pre style=\"white-space:pre;overflow-x:auto;line-height:normal;font-family:Menlo,'DejaVu Sans Mono',consolas,'Courier New',monospace\">msu-target-CZIjOzOv com.apple.launchd.7EOWZ5Pg5H  powerlog   qtyp_xwords.html    t   \n",
       "       theme                xwords.html          textuse.txt <span style=\"color: #008080; text-decoration-color: #008080; font-weight: bold\">0000000000735446</span> .pydata\n",
       " silas_xwords.html     tmplx4kbiehcacert.pem                                         \n",
       "</pre>\n"
      ],
      "text/plain": [
       "msu-target-CZIjOzOv com.apple.launchd.7EOWZ5Pg5H  powerlog   qtyp_xwords.html    t   \n",
       "       theme                xwords.html          textuse.txt \u001b[1;36m0000000000735446\u001b[0m .pydata\n",
       " silas_xwords.html     tmplx4kbiehcacert.pem                                         \n"
      ]
     },
     "metadata": {},
     "output_type": "display_data"
    },
    {
     "data": {
      "text/html": [
       "<pre style=\"white-space:pre;overflow-x:auto;line-height:normal;font-family:Menlo,'DejaVu Sans Mono',consolas,'Courier New',monospace\"><span style=\"color: #00ff00; text-decoration-color: #00ff00\">─────────────────────────────────────── </span><span style=\"font-weight: bold\">{</span><span style=\"color: #008000; text-decoration-color: #008000\">'width'</span>: <span style=\"color: #008080; text-decoration-color: #008080; font-weight: bold\">1</span><span style=\"font-weight: bold\">}</span><span style=\"color: #00ff00; text-decoration-color: #00ff00\"> ────────────────────────────────────────</span>\n",
       "</pre>\n"
      ],
      "text/plain": [
       "\u001b[92m─────────────────────────────────────── \u001b[0m\u001b[1m{\u001b[0m\u001b[32m'width'\u001b[0m: \u001b[1;36m1\u001b[0m\u001b[1m}\u001b[0m\u001b[92m ────────────────────────────────────────\u001b[0m\n"
      ]
     },
     "metadata": {},
     "output_type": "display_data"
    },
    {
     "data": {
      "text/html": [
       "<pre style=\"white-space:pre;overflow-x:auto;line-height:normal;font-family:Menlo,'DejaVu Sans Mono',consolas,'Courier New',monospace\">m… … … … t … … … <span style=\"color: #008080; text-decoration-color: #008080; font-weight: bold\">…</span> … … …                                                                     \n",
       "</pre>\n"
      ],
      "text/plain": [
       "m… … … … t … … … \u001b[1;36m…\u001b[0m … … …                                                                     \n"
      ]
     },
     "metadata": {},
     "output_type": "display_data"
    }
   ],
   "source": [
    "# ls-like util\n",
    "import os\n",
    "dirs = os.listdir('/tmp')\n",
    "\n",
    "def _display(**kwargs):\n",
    "    c.rule(str(kwargs))\n",
    "    print(Columns(dirs, **kwargs))\n",
    "_display()\n",
    "_display(equal=True)\n",
    "_display(expand=True)\n",
    "_display(equal=True, expand=True)\n",
    "_display(column_first=True)  # go down columns first\n",
    "_display(title='i am jeb')\n",
    "_display(align='center')\n",
    "_display(width=1)\n"
   ]
  },
  {
   "cell_type": "code",
   "execution_count": null,
   "id": "f4f1c1fa",
   "metadata": {},
   "outputs": [],
   "source": []
  },
  {
   "cell_type": "markdown",
   "id": "0bf986c6",
   "metadata": {},
   "source": [
    "---\n",
    "### [Group](https://rich.readthedocs.io/en/stable/group.html)\n",
    "\n",
    "group renderables together\n",
    "\n",
    "---"
   ]
  },
  {
   "cell_type": "code",
   "execution_count": 315,
   "id": "da605a80",
   "metadata": {},
   "outputs": [],
   "source": [
    "from rich.console import Group, group\n",
    "from rich.panel import Panel"
   ]
  },
  {
   "cell_type": "code",
   "execution_count": 316,
   "id": "94ce3497",
   "metadata": {},
   "outputs": [
    {
     "data": {
      "text/html": [
       "<pre style=\"white-space:pre;overflow-x:auto;line-height:normal;font-family:Menlo,'DejaVu Sans Mono',consolas,'Courier New',monospace\">╭───────────────────────────────────────────────────────────────────────────────────────────╮\n",
       "│ ╭───────────────────────────────────────────────────────────────────────────────────────╮ │\n",
       "│ │ <span style=\"background-color: #000080\">my name is</span>                                                                            │ │\n",
       "│ ╰───────────────────────────────────────────────────────────────────────────────────────╯ │\n",
       "│ ╭───────────────────────────────────────────────────────────────────────────────────────╮ │\n",
       "│ │ <span style=\"background-color: #800000\">JEB</span>                                                                                   │ │\n",
       "│ ╰───────────────────────────────────────────────────────────────────────────────────────╯ │\n",
       "╰───────────────────────────────────────────────────────────────────────────────────────────╯\n",
       "</pre>\n"
      ],
      "text/plain": [
       "╭───────────────────────────────────────────────────────────────────────────────────────────╮\n",
       "│ ╭───────────────────────────────────────────────────────────────────────────────────────╮ │\n",
       "│ │ \u001b[44mmy name is\u001b[0m                                                                            │ │\n",
       "│ ╰───────────────────────────────────────────────────────────────────────────────────────╯ │\n",
       "│ ╭───────────────────────────────────────────────────────────────────────────────────────╮ │\n",
       "│ │ \u001b[41mJEB\u001b[0m                                                                                   │ │\n",
       "│ ╰───────────────────────────────────────────────────────────────────────────────────────╯ │\n",
       "╰───────────────────────────────────────────────────────────────────────────────────────────╯\n"
      ]
     },
     "metadata": {},
     "output_type": "display_data"
    }
   ],
   "source": [
    "panel_group = Group(\n",
    "    Panel('[on blue]my name is'),\n",
    "    Panel('[on red]JEB')\n",
    ")\n",
    "print(Panel(panel_group))"
   ]
  },
  {
   "cell_type": "code",
   "execution_count": 342,
   "id": "b10e7f1d",
   "metadata": {},
   "outputs": [
    {
     "data": {
      "text/html": [
       "<pre style=\"white-space:pre;overflow-x:auto;line-height:normal;font-family:Menlo,'DejaVu Sans Mono',consolas,'Courier New',monospace\">┏━━━━━━━━━━━━━━━━━━━━━━━━━━━━━━━┳━━━━━━━━━━━━━━━━┓\n",
       "┃<span style=\"font-weight: bold\"> col a                         </span>┃<span style=\"font-weight: bold\"> col b          </span>┃\n",
       "┡━━━━━━━━━━━━━━━━━━━━━━━━━━━━━━━╇━━━━━━━━━━━━━━━━┩\n",
       "│ ╭───────────────────────────╮ │ sick table bro │\n",
       "│ │ <span style=\"color: #800000; text-decoration-color: #800000; font-weight: bold\">let us see how this works</span> │ │                │\n",
       "│ ╰───────────────────────────╯ │                │\n",
       "│ hmmmmm                        │                │\n",
       "│ ┏━━━┓                         │                │\n",
       "│ ┃<span style=\"font-weight: bold\"> h </span>┃                         │                │\n",
       "│ ┡━━━┩                         │                │\n",
       "│ └───┘                         │                │\n",
       "└───────────────────────────────┴────────────────┘\n",
       "</pre>\n"
      ],
      "text/plain": [
       "┏━━━━━━━━━━━━━━━━━━━━━━━━━━━━━━━┳━━━━━━━━━━━━━━━━┓\n",
       "┃\u001b[1m \u001b[0m\u001b[1mcol a                        \u001b[0m\u001b[1m \u001b[0m┃\u001b[1m \u001b[0m\u001b[1mcol b         \u001b[0m\u001b[1m \u001b[0m┃\n",
       "┡━━━━━━━━━━━━━━━━━━━━━━━━━━━━━━━╇━━━━━━━━━━━━━━━━┩\n",
       "│ ╭───────────────────────────╮ │ sick table bro │\n",
       "│ │ \u001b[1;31mlet us see how this works\u001b[0m │ │                │\n",
       "│ ╰───────────────────────────╯ │                │\n",
       "│ hmmmmm                        │                │\n",
       "│ ┏━━━┓                         │                │\n",
       "│ ┃\u001b[1m \u001b[0m\u001b[1mh\u001b[0m\u001b[1m \u001b[0m┃                         │                │\n",
       "│ ┡━━━┩                         │                │\n",
       "│ └───┘                         │                │\n",
       "└───────────────────────────────┴────────────────┘\n"
      ]
     },
     "metadata": {},
     "output_type": "display_data"
    }
   ],
   "source": [
    "@group()\n",
    "def objs():\n",
    "    yield Panel('[bold red]let us see how this works')\n",
    "    yield Text('hmmmmm')\n",
    "    yield Table('h')\n",
    "t = Table('col a', 'col b', show_header=True)\n",
    "t.add_row(objs(), 'sick table bro')\n",
    "print(t)"
   ]
  },
  {
   "cell_type": "code",
   "execution_count": 352,
   "id": "5c1890b7",
   "metadata": {},
   "outputs": [
    {
     "data": {
      "text/html": [
       "<pre style=\"white-space:pre;overflow-x:auto;line-height:normal;font-family:Menlo,'DejaVu Sans Mono',consolas,'Courier New',monospace\">┏━━━┳━━━━━━━━━━━━━━━━━━━━━━━━━━━━━━━━━━━━━━━━━━━━━━━━━━━━━━━━━━━━┓\n",
       "┃ i ┃ ┏━━━━┳━━━━━━━━━━━━━━━━━━━━━━━━━━━━━━━━━━━━━━━━━━━━━━━━━━━┓ ┃\n",
       "┃   ┃ ┃ am ┃ ┏━━━━━┳━━━━━━━━━━━━━━━━━━━━━━━━━━━━━━━━━━━━━━━━━┓ ┃ ┃\n",
       "┃   ┃ ┃    ┃ ┃ the ┃ ┏━━━━━━┳━━━━━━━━━━━━━━━━━━━━━━━━━━━━━━┓ ┃ ┃ ┃\n",
       "┃   ┃ ┃    ┃ ┃     ┃ ┃ very ┃ ┏━━━━━━━┳━━━━━━━━━━━━━━━━━━┓ ┃ ┃ ┃ ┃\n",
       "┃   ┃ ┃    ┃ ┃     ┃ ┃      ┃ ┃ model ┃ ┏━━━━┳━━━━━━━━━┓ ┃ ┃ ┃ ┃ ┃\n",
       "┃   ┃ ┃    ┃ ┃     ┃ ┃      ┃ ┃       ┃ ┃ of ┃ ┏━━━━━┓ ┃ ┃ ┃ ┃ ┃ ┃\n",
       "┃   ┃ ┃    ┃ ┃     ┃ ┃      ┃ ┃       ┃ ┃    ┃ ┃ the ┃ ┃ ┃ ┃ ┃ ┃ ┃\n",
       "┃   ┃ ┃    ┃ ┃     ┃ ┃      ┃ ┃       ┃ ┃    ┃ └─────┘ ┃ ┃ ┃ ┃ ┃ ┃\n",
       "┃   ┃ ┃    ┃ ┃     ┃ ┃      ┃ ┃       ┃ └────┴─────────┘ ┃ ┃ ┃ ┃ ┃\n",
       "┃   ┃ ┃    ┃ ┃     ┃ ┃      ┃ └───────┴──────────────────┘ ┃ ┃ ┃ ┃\n",
       "┃   ┃ ┃    ┃ ┃     ┃ └──────┴──────────────────────────────┘ ┃ ┃ ┃\n",
       "┃   ┃ ┃    ┃ └─────┴─────────────────────────────────────────┘ ┃ ┃\n",
       "┃   ┃ └────┴───────────────────────────────────────────────────┘ ┃\n",
       "└───┴────────────────────────────────────────────────────────────┘\n",
       "</pre>\n"
      ],
      "text/plain": [
       "┏━━━┳━━━━━━━━━━━━━━━━━━━━━━━━━━━━━━━━━━━━━━━━━━━━━━━━━━━━━━━━━━━━┓\n",
       "┃ i ┃ ┏━━━━┳━━━━━━━━━━━━━━━━━━━━━━━━━━━━━━━━━━━━━━━━━━━━━━━━━━━┓ ┃\n",
       "┃   ┃ ┃ am ┃ ┏━━━━━┳━━━━━━━━━━━━━━━━━━━━━━━━━━━━━━━━━━━━━━━━━┓ ┃ ┃\n",
       "┃   ┃ ┃    ┃ ┃ the ┃ ┏━━━━━━┳━━━━━━━━━━━━━━━━━━━━━━━━━━━━━━┓ ┃ ┃ ┃\n",
       "┃   ┃ ┃    ┃ ┃     ┃ ┃ very ┃ ┏━━━━━━━┳━━━━━━━━━━━━━━━━━━┓ ┃ ┃ ┃ ┃\n",
       "┃   ┃ ┃    ┃ ┃     ┃ ┃      ┃ ┃ model ┃ ┏━━━━┳━━━━━━━━━┓ ┃ ┃ ┃ ┃ ┃\n",
       "┃   ┃ ┃    ┃ ┃     ┃ ┃      ┃ ┃       ┃ ┃ of ┃ ┏━━━━━┓ ┃ ┃ ┃ ┃ ┃ ┃\n",
       "┃   ┃ ┃    ┃ ┃     ┃ ┃      ┃ ┃       ┃ ┃    ┃ ┃ the ┃ ┃ ┃ ┃ ┃ ┃ ┃\n",
       "┃   ┃ ┃    ┃ ┃     ┃ ┃      ┃ ┃       ┃ ┃    ┃ └─────┘ ┃ ┃ ┃ ┃ ┃ ┃\n",
       "┃   ┃ ┃    ┃ ┃     ┃ ┃      ┃ ┃       ┃ └────┴─────────┘ ┃ ┃ ┃ ┃ ┃\n",
       "┃   ┃ ┃    ┃ ┃     ┃ ┃      ┃ └───────┴──────────────────┘ ┃ ┃ ┃ ┃\n",
       "┃   ┃ ┃    ┃ ┃     ┃ └──────┴──────────────────────────────┘ ┃ ┃ ┃\n",
       "┃   ┃ ┃    ┃ └─────┴─────────────────────────────────────────┘ ┃ ┃\n",
       "┃   ┃ └────┴───────────────────────────────────────────────────┘ ┃\n",
       "└───┴────────────────────────────────────────────────────────────┘\n"
      ]
     },
     "metadata": {},
     "output_type": "display_data"
    }
   ],
   "source": [
    "def recursive_table(*texts):\n",
    "    if not texts:\n",
    "        return\n",
    "    first, *rest = texts\n",
    "    \n",
    "    t = Table(show_header=False)\n",
    "    if rem := recursive_table(*rest):\n",
    "        t.add_row(first, rem)\n",
    "    else:\n",
    "        t.add_row(first)\n",
    "    \n",
    "    return t\n",
    "\n",
    "print(recursive_table(*'i am the very model of the'.split()))"
   ]
  },
  {
   "cell_type": "markdown",
   "id": "b39dde1a",
   "metadata": {},
   "source": [
    "---\n",
    "### [Markdown](https://rich.readthedocs.io/en/stable/markdown.html)\n",
    "---"
   ]
  },
  {
   "cell_type": "code",
   "execution_count": 330,
   "id": "b937d6b1",
   "metadata": {},
   "outputs": [],
   "source": [
    "from rich.markdown import Markdown"
   ]
  },
  {
   "cell_type": "code",
   "execution_count": 341,
   "id": "18a085fd",
   "metadata": {},
   "outputs": [
    {
     "data": {
      "text/html": [
       "<pre style=\"white-space:pre;overflow-x:auto;line-height:normal;font-family:Menlo,'DejaVu Sans Mono',consolas,'Courier New',monospace\">╔═══════════════════════════════════════════════════════════════════════════════════════════╗\n",
       "║                                       <span style=\"font-weight: bold\">This is an h1</span>                                       ║\n",
       "╚═══════════════════════════════════════════════════════════════════════════════════════════╝\n",
       "\n",
       "Rich can do a pretty <span style=\"font-style: italic\">decent</span> job of rendering markdown.                                       \n",
       "\n",
       "<span style=\"color: #808000; text-decoration-color: #808000; font-weight: bold\"> 1 </span>This is a list item                                                                       \n",
       "<span style=\"color: #808000; text-decoration-color: #808000; font-weight: bold\"> 2 </span>This is another list item                                                                 \n",
       "\n",
       "<span style=\"color: #808000; text-decoration-color: #808000; font-weight: bold\"> • </span>bullet                                                                                    \n",
       "<span style=\"color: #808000; text-decoration-color: #808000; font-weight: bold\"> • </span>list                                                                                      \n",
       "<span style=\"color: #808000; text-decoration-color: #808000; font-weight: bold\"> • </span>here                                                                                      \n",
       "\n",
       "<span style=\"color: #800080; text-decoration-color: #800080\">▌ quote time who knows what will happen                                                    </span>\n",
       "\n",
       "<span style=\"font-weight: bold\">jeb</span> tuse <span style=\"font-style: italic\">mo</span>                                                                                  \n",
       "</pre>\n"
      ],
      "text/plain": [
       "╔═══════════════════════════════════════════════════════════════════════════════════════════╗\n",
       "║                                       \u001b[1mThis is an h1\u001b[0m                                       ║\n",
       "╚═══════════════════════════════════════════════════════════════════════════════════════════╝\n",
       "\n",
       "Rich can do a pretty \u001b[3mdecent\u001b[0m job of rendering markdown.                                       \n",
       "\n",
       "\u001b[1;33m 1 \u001b[0mThis is a list item                                                                       \n",
       "\u001b[1;33m 2 \u001b[0mThis is another list item                                                                 \n",
       "\n",
       "\u001b[1;33m • \u001b[0mbullet                                                                                    \n",
       "\u001b[1;33m • \u001b[0mlist                                                                                      \n",
       "\u001b[1;33m • \u001b[0mhere                                                                                      \n",
       "\n",
       "\u001b[35m▌ \u001b[0m\u001b[35mquote time\u001b[0m\u001b[35m \u001b[0m\u001b[35mwho knows what will happen\u001b[0m\u001b[35m                                                    \u001b[0m\n",
       "\n",
       "\u001b[1mjeb\u001b[0m tuse \u001b[3mmo\u001b[0m                                                                                  \n"
      ]
     },
     "metadata": {},
     "output_type": "display_data"
    }
   ],
   "source": [
    "md = Markdown(\"\"\"\n",
    "# This is an h1\n",
    "\n",
    "Rich can do a pretty *decent* job of rendering markdown.\n",
    "\n",
    "1. This is a list item\n",
    "1. This is another list item\n",
    "\n",
    "- bullet\n",
    "- list\n",
    "- here\n",
    "\n",
    "> quote time\n",
    "who knows what will happen\n",
    "\n",
    "**jeb** tuse *mo*\n",
    "\"\"\")\n",
    "print(md)"
   ]
  },
  {
   "cell_type": "code",
   "execution_count": null,
   "id": "35107145",
   "metadata": {},
   "outputs": [],
   "source": []
  },
  {
   "cell_type": "markdown",
   "id": "1a9f6d84",
   "metadata": {},
   "source": [
    "---\n",
    "### [Padding](https://rich.readthedocs.io/en/stable/padding.html) and [Panel](https://rich.readthedocs.io/en/stable/panel.html)\n",
    "---"
   ]
  },
  {
   "cell_type": "code",
   "execution_count": 354,
   "id": "57128ba3",
   "metadata": {},
   "outputs": [],
   "source": [
    "from rich.padding import Padding"
   ]
  },
  {
   "cell_type": "code",
   "execution_count": 370,
   "id": "b78afc5d",
   "metadata": {},
   "outputs": [
    {
     "data": {
      "text/html": [
       "<pre style=\"white-space:pre;overflow-x:auto;line-height:normal;font-family:Menlo,'DejaVu Sans Mono',consolas,'Courier New',monospace\"><span style=\"color: #00ff00; text-decoration-color: #00ff00\">─────────────────────────────────── </span><span style=\"font-weight: bold\">{</span><span style=\"color: #008000; text-decoration-color: #008000\">'pad'</span>: <span style=\"font-weight: bold\">(</span><span style=\"color: #008080; text-decoration-color: #008080; font-weight: bold\">1</span>, <span style=\"color: #008080; text-decoration-color: #008080; font-weight: bold\">0</span>, <span style=\"color: #008080; text-decoration-color: #008080; font-weight: bold\">0</span>, <span style=\"color: #008080; text-decoration-color: #008080; font-weight: bold\">0</span><span style=\"font-weight: bold\">)}</span><span style=\"color: #00ff00; text-decoration-color: #00ff00\"> ───────────────────────────────────</span>\n",
       "</pre>\n"
      ],
      "text/plain": [
       "\u001b[92m─────────────────────────────────── \u001b[0m\u001b[1m{\u001b[0m\u001b[32m'pad'\u001b[0m: \u001b[1m(\u001b[0m\u001b[1;36m1\u001b[0m, \u001b[1;36m0\u001b[0m, \u001b[1;36m0\u001b[0m, \u001b[1;36m0\u001b[0m\u001b[1m)\u001b[0m\u001b[1m}\u001b[0m\u001b[92m ───────────────────────────────────\u001b[0m\n"
      ]
     },
     "metadata": {},
     "output_type": "display_data"
    },
    {
     "data": {
      "text/html": [
       "<pre style=\"white-space:pre;overflow-x:auto;line-height:normal;font-family:Menlo,'DejaVu Sans Mono',consolas,'Courier New',monospace\">╭─ oh yeah ─╮\n",
       "│ <span style=\"background-color: #000080\">         </span> │\n",
       "│ <span style=\"color: #af00ff; text-decoration-color: #af00ff; background-color: #000080\">hello</span><span style=\"background-color: #000080\">    </span> │\n",
       "╰─ i am sub─╯\n",
       "</pre>\n"
      ],
      "text/plain": [
       "╭─ oh yeah ─╮\n",
       "│ \u001b[44m         \u001b[0m │\n",
       "│ \u001b[38;5;129;44mhello\u001b[0m\u001b[44m    \u001b[0m │\n",
       "╰─ i am sub─╯\n"
      ]
     },
     "metadata": {},
     "output_type": "display_data"
    },
    {
     "data": {
      "text/html": [
       "<pre style=\"white-space:pre;overflow-x:auto;line-height:normal;font-family:Menlo,'DejaVu Sans Mono',consolas,'Courier New',monospace\"><span style=\"color: #00ff00; text-decoration-color: #00ff00\">────────────────────────────────────── </span><span style=\"font-weight: bold\">{</span><span style=\"color: #008000; text-decoration-color: #008000\">'pad'</span>: <span style=\"font-weight: bold\">(</span><span style=\"color: #008080; text-decoration-color: #008080; font-weight: bold\">2</span>, <span style=\"color: #008080; text-decoration-color: #008080; font-weight: bold\">4</span><span style=\"font-weight: bold\">)}</span><span style=\"color: #00ff00; text-decoration-color: #00ff00\"> ──────────────────────────────────────</span>\n",
       "</pre>\n"
      ],
      "text/plain": [
       "\u001b[92m────────────────────────────────────── \u001b[0m\u001b[1m{\u001b[0m\u001b[32m'pad'\u001b[0m: \u001b[1m(\u001b[0m\u001b[1;36m2\u001b[0m, \u001b[1;36m4\u001b[0m\u001b[1m)\u001b[0m\u001b[1m}\u001b[0m\u001b[92m ──────────────────────────────────────\u001b[0m\n"
      ]
     },
     "metadata": {},
     "output_type": "display_data"
    },
    {
     "data": {
      "text/html": [
       "<pre style=\"white-space:pre;overflow-x:auto;line-height:normal;font-family:Menlo,'DejaVu Sans Mono',consolas,'Courier New',monospace\">╭─── oh yeah ───╮\n",
       "│ <span style=\"background-color: #000080\">             </span> │\n",
       "│ <span style=\"background-color: #000080\">             </span> │\n",
       "│ <span style=\"background-color: #000080\">    </span><span style=\"color: #af00ff; text-decoration-color: #af00ff; background-color: #000080\">hello</span><span style=\"background-color: #000080\">    </span> │\n",
       "│ <span style=\"background-color: #000080\">             </span> │\n",
       "│ <span style=\"background-color: #000080\">             </span> │\n",
       "╰─ i am subtitl─╯\n",
       "</pre>\n"
      ],
      "text/plain": [
       "╭─── oh yeah ───╮\n",
       "│ \u001b[44m             \u001b[0m │\n",
       "│ \u001b[44m             \u001b[0m │\n",
       "│ \u001b[44m    \u001b[0m\u001b[38;5;129;44mhello\u001b[0m\u001b[44m    \u001b[0m │\n",
       "│ \u001b[44m             \u001b[0m │\n",
       "│ \u001b[44m             \u001b[0m │\n",
       "╰─ i am subtitl─╯\n"
      ]
     },
     "metadata": {},
     "output_type": "display_data"
    },
    {
     "data": {
      "text/html": [
       "<pre style=\"white-space:pre;overflow-x:auto;line-height:normal;font-family:Menlo,'DejaVu Sans Mono',consolas,'Courier New',monospace\"><span style=\"color: #00ff00; text-decoration-color: #00ff00\">────────────────────────────────── </span><span style=\"font-weight: bold\">{</span><span style=\"color: #008000; text-decoration-color: #008000\">'pad'</span>: <span style=\"font-weight: bold\">(</span><span style=\"color: #008080; text-decoration-color: #008080; font-weight: bold\">3</span>, <span style=\"color: #008080; text-decoration-color: #008080; font-weight: bold\">6</span>, <span style=\"color: #008080; text-decoration-color: #008080; font-weight: bold\">9</span>, <span style=\"color: #008080; text-decoration-color: #008080; font-weight: bold\">12</span><span style=\"font-weight: bold\">)}</span><span style=\"color: #00ff00; text-decoration-color: #00ff00\"> ───────────────────────────────────</span>\n",
       "</pre>\n"
      ],
      "text/plain": [
       "\u001b[92m────────────────────────────────── \u001b[0m\u001b[1m{\u001b[0m\u001b[32m'pad'\u001b[0m: \u001b[1m(\u001b[0m\u001b[1;36m3\u001b[0m, \u001b[1;36m6\u001b[0m, \u001b[1;36m9\u001b[0m, \u001b[1;36m12\u001b[0m\u001b[1m)\u001b[0m\u001b[1m}\u001b[0m\u001b[92m ───────────────────────────────────\u001b[0m\n"
      ]
     },
     "metadata": {},
     "output_type": "display_data"
    },
    {
     "data": {
      "text/html": [
       "<pre style=\"white-space:pre;overflow-x:auto;line-height:normal;font-family:Menlo,'DejaVu Sans Mono',consolas,'Courier New',monospace\">╭──────── oh yeah ────────╮\n",
       "│ <span style=\"background-color: #000080\">                       </span> │\n",
       "│ <span style=\"background-color: #000080\">                       </span> │\n",
       "│ <span style=\"background-color: #000080\">                       </span> │\n",
       "│ <span style=\"background-color: #000080\">            </span><span style=\"color: #af00ff; text-decoration-color: #af00ff; background-color: #000080\">hello</span><span style=\"background-color: #000080\">      </span> │\n",
       "│ <span style=\"background-color: #000080\">                       </span> │\n",
       "│ <span style=\"background-color: #000080\">                       </span> │\n",
       "│ <span style=\"background-color: #000080\">                       </span> │\n",
       "│ <span style=\"background-color: #000080\">                       </span> │\n",
       "│ <span style=\"background-color: #000080\">                       </span> │\n",
       "│ <span style=\"background-color: #000080\">                       </span> │\n",
       "│ <span style=\"background-color: #000080\">                       </span> │\n",
       "│ <span style=\"background-color: #000080\">                       </span> │\n",
       "│ <span style=\"background-color: #000080\">                       </span> │\n",
       "╰───── i am subtitle ─────╯\n",
       "</pre>\n"
      ],
      "text/plain": [
       "╭──────── oh yeah ────────╮\n",
       "│ \u001b[44m                       \u001b[0m │\n",
       "│ \u001b[44m                       \u001b[0m │\n",
       "│ \u001b[44m                       \u001b[0m │\n",
       "│ \u001b[44m            \u001b[0m\u001b[38;5;129;44mhello\u001b[0m\u001b[44m      \u001b[0m │\n",
       "│ \u001b[44m                       \u001b[0m │\n",
       "│ \u001b[44m                       \u001b[0m │\n",
       "│ \u001b[44m                       \u001b[0m │\n",
       "│ \u001b[44m                       \u001b[0m │\n",
       "│ \u001b[44m                       \u001b[0m │\n",
       "│ \u001b[44m                       \u001b[0m │\n",
       "│ \u001b[44m                       \u001b[0m │\n",
       "│ \u001b[44m                       \u001b[0m │\n",
       "│ \u001b[44m                       \u001b[0m │\n",
       "╰───── i am subtitle ─────╯\n"
      ]
     },
     "metadata": {},
     "output_type": "display_data"
    }
   ],
   "source": [
    "def _display(style='on blue', **kwargs):\n",
    "    c.rule(str(kwargs))\n",
    "    print(Panel(Padding('[purple]hello', **kwargs, style=style), expand=False, subtitle='i am subtitle', title='oh yeah'))\n",
    "_display(pad=(1,0, 0, 0))\n",
    "_display(pad=(2,4))\n",
    "_display(pad=(3,6,9,12))"
   ]
  },
  {
   "cell_type": "code",
   "execution_count": 377,
   "id": "7992b213",
   "metadata": {},
   "outputs": [
    {
     "data": {
      "text/html": [
       "<pre style=\"white-space:pre;overflow-x:auto;line-height:normal;font-family:Menlo,'DejaVu Sans Mono',consolas,'Courier New',monospace\"># equavalent to <span style=\"color: #ffffff; text-decoration-color: #ffffff; background-color: #000000\">expand=False</span>                                                                 \n",
       "</pre>\n"
      ],
      "text/plain": [
       "# equavalent to \u001b[97;40mexpand=False\u001b[0m                                                                 \n"
      ]
     },
     "metadata": {},
     "output_type": "display_data"
    },
    {
     "data": {
      "text/html": [
       "<pre style=\"white-space:pre;overflow-x:auto;line-height:normal;font-family:Menlo,'DejaVu Sans Mono',consolas,'Courier New',monospace\">╭───────────────────────────────╮\n",
       "│ <span style=\"background-color: #808000\">                             </span> │\n",
       "│ <span style=\"background-color: #808000\">                             </span> │\n",
       "│ <span style=\"background-color: #808000\">                             </span> │\n",
       "│ <span style=\"background-color: #808000\">            hello            </span> │\n",
       "│ <span style=\"background-color: #808000\">                             </span> │\n",
       "│ <span style=\"background-color: #808000\">                             </span> │\n",
       "│ <span style=\"background-color: #808000\">                             </span> │\n",
       "╰───────────────────────────────╯\n",
       "</pre>\n"
      ],
      "text/plain": [
       "╭───────────────────────────────╮\n",
       "│ \u001b[43m                             \u001b[0m │\n",
       "│ \u001b[43m                             \u001b[0m │\n",
       "│ \u001b[43m                             \u001b[0m │\n",
       "│ \u001b[43m            \u001b[0m\u001b[43mhello\u001b[0m\u001b[43m            \u001b[0m │\n",
       "│ \u001b[43m                             \u001b[0m │\n",
       "│ \u001b[43m                             \u001b[0m │\n",
       "│ \u001b[43m                             \u001b[0m │\n",
       "╰───────────────────────────────╯\n"
      ]
     },
     "execution_count": 377,
     "metadata": {},
     "output_type": "execute_result"
    }
   ],
   "source": [
    "print(Markdown('\\# equavalent to `expand=False`'))\n",
    "Panel.fit(Padding('hello', (3, 12), style='on yellow')) "
   ]
  },
  {
   "cell_type": "code",
   "execution_count": null,
   "id": "70e1d1d6",
   "metadata": {},
   "outputs": [],
   "source": []
  }
 ],
 "metadata": {
  "kernelspec": {
   "display_name": "Python 3 (ipykernel)",
   "language": "python",
   "name": "python3"
  },
  "language_info": {
   "codemirror_mode": {
    "name": "ipython",
    "version": 3
   },
   "file_extension": ".py",
   "mimetype": "text/x-python",
   "name": "python",
   "nbconvert_exporter": "python",
   "pygments_lexer": "ipython3",
   "version": "3.9.10"
  }
 },
 "nbformat": 4,
 "nbformat_minor": 5
}
